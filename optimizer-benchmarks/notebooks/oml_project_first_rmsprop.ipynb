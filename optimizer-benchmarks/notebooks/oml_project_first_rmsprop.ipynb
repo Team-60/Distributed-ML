{
  "nbformat": 4,
  "nbformat_minor": 0,
  "metadata": {
    "colab": {
      "name": "oml-project-first-rmsprop.ipynb",
      "provenance": [],
      "collapsed_sections": []
    },
    "kernelspec": {
      "name": "python3",
      "display_name": "Python 3"
    },
    "language_info": {
      "name": "python"
    },
    "accelerator": "GPU"
  },
  "cells": [
    {
      "cell_type": "markdown",
      "metadata": {
        "id": "tLRs9OhtPjNo"
      },
      "source": [
        "## Setting up\n",
        "- Notebook: `RMSprop(model.parameters(), lr=0.01, alpha=0.99)` "
      ]
    },
    {
      "cell_type": "code",
      "metadata": {
        "colab": {
          "base_uri": "https://localhost:8080/"
        },
        "id": "64fLZZQA7dp0",
        "outputId": "bd0e8be5-d7c0-4cc5-cb31-2f35bccd6076"
      },
      "source": [
        "from google.colab import drive\n",
        "drive.mount('/content/drive')"
      ],
      "execution_count": null,
      "outputs": [
        {
          "output_type": "stream",
          "name": "stdout",
          "text": [
            "Mounted at /content/drive\n"
          ]
        }
      ]
    },
    {
      "cell_type": "code",
      "metadata": {
        "colab": {
          "base_uri": "https://localhost:8080/"
        },
        "id": "LGYnUUYvK3i0",
        "outputId": "3252fee1-8d6a-4538-da81-2b8a3c9844a6"
      },
      "source": [
        "%cd /content/drive/\"My Drive\"/\"Data Colab\"/oml-project"
      ],
      "execution_count": null,
      "outputs": [
        {
          "output_type": "stream",
          "name": "stdout",
          "text": [
            "/content/drive/My Drive/Data Colab/oml-project\n"
          ]
        }
      ]
    },
    {
      "cell_type": "code",
      "metadata": {
        "id": "6WbA1SvJMQ4E"
      },
      "source": [
        "import torch\n",
        "import torchvision\n",
        "import torchvision.transforms as transforms\n",
        "import matplotlib.pyplot as plt\n",
        "import torch.nn as nn\n",
        "import numpy as np\n",
        "from tqdm import tqdm"
      ],
      "execution_count": null,
      "outputs": []
    },
    {
      "cell_type": "code",
      "metadata": {
        "colab": {
          "base_uri": "https://localhost:8080/"
        },
        "id": "n_lbasYxiKiq",
        "outputId": "5b9c60c6-bd50-4ead-9cf0-d1a08cb7ff76"
      },
      "source": [
        "device = torch.device(\"cuda:0\" if torch.cuda.is_available() else \"cpu\")\n",
        "device"
      ],
      "execution_count": null,
      "outputs": [
        {
          "output_type": "execute_result",
          "data": {
            "text/plain": [
              "device(type='cuda', index=0)"
            ]
          },
          "metadata": {},
          "execution_count": 4
        }
      ]
    },
    {
      "cell_type": "code",
      "metadata": {
        "id": "X3E720ochraB"
      },
      "source": [
        "# hyperparameters\n",
        "BATCH_SIZE = 64"
      ],
      "execution_count": null,
      "outputs": []
    },
    {
      "cell_type": "code",
      "metadata": {
        "id": "_oHZPC12Myqw",
        "colab": {
          "base_uri": "https://localhost:8080/"
        },
        "outputId": "f6de51f0-1425-4ff1-8f67-475743399430"
      },
      "source": [
        "train_set = torchvision.datasets.CIFAR10('./data', download=True, train=True, transform=transforms.Compose([transforms.ToTensor()]))"
      ],
      "execution_count": null,
      "outputs": [
        {
          "output_type": "stream",
          "name": "stdout",
          "text": [
            "Files already downloaded and verified\n"
          ]
        }
      ]
    },
    {
      "cell_type": "code",
      "metadata": {
        "id": "3fheO57gNYFu",
        "colab": {
          "base_uri": "https://localhost:8080/"
        },
        "outputId": "79e9f051-3180-4a76-be18-2e31c5cf4284"
      },
      "source": [
        "test_set = torchvision.datasets.CIFAR10(\"./data\", download=True, train=False, transform=transforms.Compose([transforms.ToTensor()])) "
      ],
      "execution_count": null,
      "outputs": [
        {
          "output_type": "stream",
          "name": "stdout",
          "text": [
            "Files already downloaded and verified\n"
          ]
        }
      ]
    },
    {
      "cell_type": "code",
      "metadata": {
        "colab": {
          "base_uri": "https://localhost:8080/"
        },
        "id": "y2qZz-iUeqon",
        "outputId": "547ca759-e8d5-46fa-9d13-43e4aebdeb0c"
      },
      "source": [
        "# sampling for smaller dataset: train\n",
        "TRAIN_SAMPLES = int(len(train_set) / (10 * 2))\n",
        "train_class_seen = dict([(i, 0) for i in range(10)])\n",
        "train_indices = []\n",
        "for i, (_, l) in enumerate(train_set):\n",
        "  if train_class_seen[l] >= TRAIN_SAMPLES:\n",
        "    continue\n",
        "  train_class_seen[l] += 1\n",
        "  train_indices.append(i)\n",
        "train_subset = torch.utils.data.Subset(train_set, train_indices)\n",
        "len(train_subset)"
      ],
      "execution_count": null,
      "outputs": [
        {
          "output_type": "execute_result",
          "data": {
            "text/plain": [
              "25000"
            ]
          },
          "metadata": {},
          "execution_count": 8
        }
      ]
    },
    {
      "cell_type": "code",
      "metadata": {
        "colab": {
          "base_uri": "https://localhost:8080/"
        },
        "id": "IJJY43pUg9AY",
        "outputId": "08eb62ad-cac0-41d8-b279-04519a8cd906"
      },
      "source": [
        "# sampling for smaller dataset: test\n",
        "TEST_SAMPLES = int(len(test_set) / (10 * 3))\n",
        "test_class_seen = dict([(i, 0) for i in range(10)])\n",
        "test_indices = []\n",
        "for i, (_, l) in enumerate(test_set):\n",
        "  if test_class_seen[l] >= TEST_SAMPLES:\n",
        "    continue\n",
        "  test_class_seen[l] += 1\n",
        "  test_indices.append(i)\n",
        "test_subset = torch.utils.data.Subset(test_set, test_indices)\n",
        "# store the test set as a single tensor\n",
        "test_X, test_Y = [], []\n",
        "for s, l in test_subset:\n",
        "  test_X.append(s)\n",
        "  test_Y.append(l)\n",
        "test_X = torch.stack(test_X).float()\n",
        "test_Y = torch.tensor(test_Y).long()\n",
        "test_X, test_Y = test_X.to(device), test_Y.to(device)\n",
        "test_X.shape, test_Y.shape"
      ],
      "execution_count": null,
      "outputs": [
        {
          "output_type": "execute_result",
          "data": {
            "text/plain": [
              "(torch.Size([3330, 3, 32, 32]), torch.Size([3330]))"
            ]
          },
          "metadata": {},
          "execution_count": 9
        }
      ]
    },
    {
      "cell_type": "code",
      "metadata": {
        "id": "LdUrDW0ohICt"
      },
      "source": [
        "train_loader = torch.utils.data.DataLoader(train_subset, batch_size=BATCH_SIZE, shuffle=True, num_workers=2)"
      ],
      "execution_count": null,
      "outputs": []
    },
    {
      "cell_type": "markdown",
      "metadata": {
        "id": "dJ0HrjaQPme8"
      },
      "source": [
        "## Analysis"
      ]
    },
    {
      "cell_type": "code",
      "metadata": {
        "id": "FSgQ8mxiNup-"
      },
      "source": [
        "sample_image, sample_label = train_set[100]"
      ],
      "execution_count": null,
      "outputs": []
    },
    {
      "cell_type": "code",
      "metadata": {
        "colab": {
          "base_uri": "https://localhost:8080/"
        },
        "id": "3ZBTqsoTdQPg",
        "outputId": "46648bc3-ee03-4431-d225-89a7fa8507c8"
      },
      "source": [
        "sample_image.shape"
      ],
      "execution_count": null,
      "outputs": [
        {
          "output_type": "execute_result",
          "data": {
            "text/plain": [
              "torch.Size([3, 32, 32])"
            ]
          },
          "metadata": {},
          "execution_count": 12
        }
      ]
    },
    {
      "cell_type": "code",
      "metadata": {
        "colab": {
          "base_uri": "https://localhost:8080/",
          "height": 266
        },
        "id": "f5DSLrXmYzzA",
        "outputId": "f25c3b6d-b135-47bd-8561-423045c5ed01"
      },
      "source": [
        "plt.imshow(np.transpose(sample_image.numpy(), (1, 2, 0)))\n",
        "plt.show()"
      ],
      "execution_count": null,
      "outputs": [
        {
          "output_type": "display_data",
          "data": {
            "image/png": "[encoded data removed]",
            "text/plain": [
              "<Figure size 432x288 with 1 Axes>"
            ]
          },
          "metadata": {
            "needs_background": "light"
          }
        }
      ]
    },
    {
      "cell_type": "code",
      "metadata": {
        "colab": {
          "base_uri": "https://localhost:8080/"
        },
        "id": "A2JUccoHdJ-b",
        "outputId": "2f7518a1-4f7e-4ab0-a86c-c0ff683e793f"
      },
      "source": [
        "len(train_set), len(test_set)"
      ],
      "execution_count": null,
      "outputs": [
        {
          "output_type": "execute_result",
          "data": {
            "text/plain": [
              "(50000, 10000)"
            ]
          },
          "metadata": {},
          "execution_count": 14
        }
      ]
    },
    {
      "cell_type": "code",
      "metadata": {
        "colab": {
          "base_uri": "https://localhost:8080/"
        },
        "id": "bSMtF-EJL3OS",
        "outputId": "05849413-4cd3-4d0e-f584-ce95d90fbbe7"
      },
      "source": [
        "sample_batch = next(iter(train_loader))\n",
        "sample_batch = sample_batch[0].to(device), sample_batch[1].to(device)\n",
        "sample_batch[0].shape, sample_batch[1].shape"
      ],
      "execution_count": null,
      "outputs": [
        {
          "output_type": "execute_result",
          "data": {
            "text/plain": [
              "(torch.Size([64, 3, 32, 32]), torch.Size([64]))"
            ]
          },
          "metadata": {},
          "execution_count": 15
        }
      ]
    },
    {
      "cell_type": "markdown",
      "metadata": {
        "id": "_midlfWidVDG"
      },
      "source": [
        "## Model"
      ]
    },
    {
      "cell_type": "code",
      "metadata": {
        "id": "GW2ovC5cdTrk",
        "colab": {
          "base_uri": "https://localhost:8080/"
        },
        "outputId": "edca4f48-2ac1-46d5-a4f4-9d8246b1df2a"
      },
      "source": [
        "class CNN(nn.Module):\n",
        "  def __init__(self):\n",
        "    super().__init__()\n",
        "    self.conv = nn.Sequential(\n",
        "      nn.Conv2d(in_channels=3, out_channels=32, kernel_size=3),\n",
        "      nn.MaxPool2d(kernel_size=2),\n",
        "      nn.ReLU(),\n",
        "    )\n",
        "    self.lin = nn.Sequential(\n",
        "        nn.Linear(in_features=32*15*15, out_features=600),\n",
        "        nn.ReLU(),\n",
        "        nn.Linear(in_features=600, out_features=120),\n",
        "        nn.ReLU(),\n",
        "        nn.Linear(in_features=120, out_features=10)\n",
        "    )\n",
        "    self.softmax = nn.LogSoftmax(dim=1)\n",
        "  def forward(self, x):\n",
        "    out = self.conv(x)\n",
        "    out = out.view(out.size(0), -1)\n",
        "    out = self.lin(out)\n",
        "    out = self.softmax(out)\n",
        "    return out\n",
        "model = CNN()\n",
        "model.to(device)"
      ],
      "execution_count": null,
      "outputs": [
        {
          "output_type": "execute_result",
          "data": {
            "text/plain": [
              "CNN(\n",
              "  (conv): Sequential(\n",
              "    (0): Conv2d(3, 32, kernel_size=(3, 3), stride=(1, 1))\n",
              "    (1): MaxPool2d(kernel_size=2, stride=2, padding=0, dilation=1, ceil_mode=False)\n",
              "    (2): ReLU()\n",
              "  )\n",
              "  (lin): Sequential(\n",
              "    (0): Linear(in_features=7200, out_features=600, bias=True)\n",
              "    (1): ReLU()\n",
              "    (2): Linear(in_features=600, out_features=120, bias=True)\n",
              "    (3): ReLU()\n",
              "    (4): Linear(in_features=120, out_features=10, bias=True)\n",
              "  )\n",
              "  (softmax): LogSoftmax(dim=1)\n",
              ")"
            ]
          },
          "metadata": {},
          "execution_count": 16
        }
      ]
    },
    {
      "cell_type": "code",
      "metadata": {
        "id": "IICsH3NmmqEZ"
      },
      "source": [
        "# hyperparameters\n",
        "NUM_EPOCHS = 100"
      ],
      "execution_count": null,
      "outputs": []
    },
    {
      "cell_type": "code",
      "metadata": {
        "id": "8ugQ9BLlfrjj"
      },
      "source": [
        "error = nn.NLLLoss()\n",
        "optimizer = torch.optim.RMSprop(model.parameters(), lr=0.01)"
      ],
      "execution_count": null,
      "outputs": []
    },
    {
      "cell_type": "markdown",
      "metadata": {
        "id": "nClIdnNkRMjL"
      },
      "source": [
        "## Training"
      ]
    },
    {
      "cell_type": "code",
      "metadata": {
        "colab": {
          "base_uri": "https://localhost:8080/"
        },
        "id": "su22Cmi2gpeI",
        "outputId": "2bc4a600-e644-4529-a254-3b268de74b91"
      },
      "source": [
        "DISPLAY_INTERVAL = 1\n",
        "train_loss, test_loss = [], [] # denotes the mean loss over all samples\n",
        "train_acc, test_acc = [], []\n",
        "for epoch in range(1, NUM_EPOCHS + 1):\n",
        "  total_loss = 0\n",
        "  correct, total = 0, 0\n",
        "  for images, labels in tqdm(train_loader):\n",
        "    # forward + backward + step\n",
        "    optimizer.zero_grad()\n",
        "    images, labels = images.to(device), labels.to(device)\n",
        "    outputs = model(images)\n",
        "    loss = error(outputs, labels)\n",
        "    total_loss += loss.item() * len(outputs)\n",
        "    loss.backward()\n",
        "    optimizer.step()\n",
        "    # accuracy calculation\n",
        "    correct += (torch.argmax(outputs, dim=1) == labels).sum()\n",
        "    total += len(labels)\n",
        "  train_loss.append(total_loss / total)\n",
        "  train_acc.append(correct / total)\n",
        "  # testing loss\n",
        "  with torch.no_grad():\n",
        "    predicted = model(test_X)\n",
        "    loss = error(predicted, test_Y)\n",
        "    test_loss.append(loss.item())\n",
        "    test_acc.append((torch.argmax(predicted, dim=1) == test_Y).sum() / len(test_Y))\n",
        "\n",
        "  if epoch % DISPLAY_INTERVAL == 0:\n",
        "      print(f'Performace at epoch {epoch}')\n",
        "      print(f'Train Loss: {train_loss[-1]:.5f} ; Train Acc: {train_acc[-1]:.5f}')\n",
        "      print(f'Test Loss: {test_loss[-1]:.5f} ; Test Acc: {test_acc[-1]:.5f}')\n",
        "      print('==============')"
      ],
      "execution_count": null,
      "outputs": [
        {
          "output_type": "stream",
          "name": "stderr",
          "text": [
            "100%|██████████| 391/391 [00:06<00:00, 57.40it/s]\n"
          ]
        },
        {
          "output_type": "stream",
          "name": "stdout",
          "text": [
            "Performace at epoch 1\n",
            "Train Loss: 30.27067 ; Train Acc: 0.20996\n",
            "Test Loss: 2.01282 ; Test Acc: 0.25105\n",
            "==============\n"
          ]
        },
        {
          "output_type": "stream",
          "name": "stderr",
          "text": [
            "100%|██████████| 391/391 [00:06<00:00, 59.07it/s]\n"
          ]
        },
        {
          "output_type": "stream",
          "name": "stdout",
          "text": [
            "Performace at epoch 2\n",
            "Train Loss: 1.93180 ; Train Acc: 0.28932\n",
            "Test Loss: 1.87885 ; Test Acc: 0.29610\n",
            "==============\n"
          ]
        },
        {
          "output_type": "stream",
          "name": "stderr",
          "text": [
            "100%|██████████| 391/391 [00:06<00:00, 58.49it/s]\n"
          ]
        },
        {
          "output_type": "stream",
          "name": "stdout",
          "text": [
            "Performace at epoch 3\n",
            "Train Loss: 1.91078 ; Train Acc: 0.30880\n",
            "Test Loss: 2.32329 ; Test Acc: 0.10000\n",
            "==============\n"
          ]
        },
        {
          "output_type": "stream",
          "name": "stderr",
          "text": [
            "100%|██████████| 391/391 [00:06<00:00, 59.57it/s]\n"
          ]
        },
        {
          "output_type": "stream",
          "name": "stdout",
          "text": [
            "Performace at epoch 4\n",
            "Train Loss: 2.30473 ; Train Acc: 0.10356\n",
            "Test Loss: 2.30317 ; Test Acc: 0.10000\n",
            "==============\n"
          ]
        },
        {
          "output_type": "stream",
          "name": "stderr",
          "text": [
            "100%|██████████| 391/391 [00:06<00:00, 57.59it/s]\n"
          ]
        },
        {
          "output_type": "stream",
          "name": "stdout",
          "text": [
            "Performace at epoch 5\n",
            "Train Loss: 2.30370 ; Train Acc: 0.09880\n",
            "Test Loss: 2.30446 ; Test Acc: 0.10000\n",
            "==============\n"
          ]
        },
        {
          "output_type": "stream",
          "name": "stderr",
          "text": [
            "100%|██████████| 391/391 [00:06<00:00, 58.33it/s]\n"
          ]
        },
        {
          "output_type": "stream",
          "name": "stdout",
          "text": [
            "Performace at epoch 6\n",
            "Train Loss: 2.30401 ; Train Acc: 0.09568\n",
            "Test Loss: 2.30306 ; Test Acc: 0.10000\n",
            "==============\n"
          ]
        },
        {
          "output_type": "stream",
          "name": "stderr",
          "text": [
            "100%|██████████| 391/391 [00:06<00:00, 57.23it/s]\n"
          ]
        },
        {
          "output_type": "stream",
          "name": "stdout",
          "text": [
            "Performace at epoch 7\n",
            "Train Loss: 2.30361 ; Train Acc: 0.09836\n",
            "Test Loss: 2.30369 ; Test Acc: 0.10000\n",
            "==============\n"
          ]
        },
        {
          "output_type": "stream",
          "name": "stderr",
          "text": [
            "100%|██████████| 391/391 [00:06<00:00, 58.05it/s]\n"
          ]
        },
        {
          "output_type": "stream",
          "name": "stdout",
          "text": [
            "Performace at epoch 8\n",
            "Train Loss: 2.30379 ; Train Acc: 0.09596\n",
            "Test Loss: 2.30371 ; Test Acc: 0.10000\n",
            "==============\n"
          ]
        },
        {
          "output_type": "stream",
          "name": "stderr",
          "text": [
            "100%|██████████| 391/391 [00:06<00:00, 57.79it/s]\n"
          ]
        },
        {
          "output_type": "stream",
          "name": "stdout",
          "text": [
            "Performace at epoch 9\n",
            "Train Loss: 2.30362 ; Train Acc: 0.09960\n",
            "Test Loss: 2.30308 ; Test Acc: 0.10000\n",
            "==============\n"
          ]
        },
        {
          "output_type": "stream",
          "name": "stderr",
          "text": [
            "100%|██████████| 391/391 [00:06<00:00, 55.97it/s]\n"
          ]
        },
        {
          "output_type": "stream",
          "name": "stdout",
          "text": [
            "Performace at epoch 10\n",
            "Train Loss: 2.30373 ; Train Acc: 0.09744\n",
            "Test Loss: 2.30313 ; Test Acc: 0.10000\n",
            "==============\n"
          ]
        },
        {
          "output_type": "stream",
          "name": "stderr",
          "text": [
            "100%|██████████| 391/391 [00:07<00:00, 55.47it/s]\n"
          ]
        },
        {
          "output_type": "stream",
          "name": "stdout",
          "text": [
            "Performace at epoch 11\n",
            "Train Loss: 2.30393 ; Train Acc: 0.09552\n",
            "Test Loss: 2.30300 ; Test Acc: 0.10000\n",
            "==============\n"
          ]
        },
        {
          "output_type": "stream",
          "name": "stderr",
          "text": [
            "100%|██████████| 391/391 [00:07<00:00, 55.85it/s]\n"
          ]
        },
        {
          "output_type": "stream",
          "name": "stdout",
          "text": [
            "Performace at epoch 12\n",
            "Train Loss: 2.30359 ; Train Acc: 0.10008\n",
            "Test Loss: 2.30348 ; Test Acc: 0.10000\n",
            "==============\n"
          ]
        },
        {
          "output_type": "stream",
          "name": "stderr",
          "text": [
            "100%|██████████| 391/391 [00:06<00:00, 55.97it/s]\n"
          ]
        },
        {
          "output_type": "stream",
          "name": "stdout",
          "text": [
            "Performace at epoch 13\n",
            "Train Loss: 2.30377 ; Train Acc: 0.09996\n",
            "Test Loss: 2.30350 ; Test Acc: 0.10000\n",
            "==============\n"
          ]
        },
        {
          "output_type": "stream",
          "name": "stderr",
          "text": [
            "100%|██████████| 391/391 [00:06<00:00, 56.23it/s]\n"
          ]
        },
        {
          "output_type": "stream",
          "name": "stdout",
          "text": [
            "Performace at epoch 14\n",
            "Train Loss: 2.30380 ; Train Acc: 0.09956\n",
            "Test Loss: 2.30332 ; Test Acc: 0.10000\n",
            "==============\n"
          ]
        },
        {
          "output_type": "stream",
          "name": "stderr",
          "text": [
            "100%|██████████| 391/391 [00:06<00:00, 56.56it/s]\n"
          ]
        },
        {
          "output_type": "stream",
          "name": "stdout",
          "text": [
            "Performace at epoch 15\n",
            "Train Loss: 2.30381 ; Train Acc: 0.09644\n",
            "Test Loss: 2.30301 ; Test Acc: 0.10000\n",
            "==============\n"
          ]
        },
        {
          "output_type": "stream",
          "name": "stderr",
          "text": [
            "100%|██████████| 391/391 [00:07<00:00, 54.97it/s]\n"
          ]
        },
        {
          "output_type": "stream",
          "name": "stdout",
          "text": [
            "Performace at epoch 16\n",
            "Train Loss: 2.30371 ; Train Acc: 0.09868\n",
            "Test Loss: 2.30317 ; Test Acc: 0.10000\n",
            "==============\n"
          ]
        },
        {
          "output_type": "stream",
          "name": "stderr",
          "text": [
            "100%|██████████| 391/391 [00:06<00:00, 57.02it/s]\n"
          ]
        },
        {
          "output_type": "stream",
          "name": "stdout",
          "text": [
            "Performace at epoch 17\n",
            "Train Loss: 2.30354 ; Train Acc: 0.09824\n",
            "Test Loss: 2.30397 ; Test Acc: 0.10000\n",
            "==============\n"
          ]
        },
        {
          "output_type": "stream",
          "name": "stderr",
          "text": [
            "100%|██████████| 391/391 [00:06<00:00, 57.28it/s]\n"
          ]
        },
        {
          "output_type": "stream",
          "name": "stdout",
          "text": [
            "Performace at epoch 18\n",
            "Train Loss: 2.30349 ; Train Acc: 0.10184\n",
            "Test Loss: 2.30419 ; Test Acc: 0.10000\n",
            "==============\n"
          ]
        },
        {
          "output_type": "stream",
          "name": "stderr",
          "text": [
            "100%|██████████| 391/391 [00:06<00:00, 57.07it/s]\n"
          ]
        },
        {
          "output_type": "stream",
          "name": "stdout",
          "text": [
            "Performace at epoch 19\n",
            "Train Loss: 2.30363 ; Train Acc: 0.09756\n",
            "Test Loss: 2.30375 ; Test Acc: 0.10000\n",
            "==============\n"
          ]
        },
        {
          "output_type": "stream",
          "name": "stderr",
          "text": [
            "100%|██████████| 391/391 [00:06<00:00, 57.45it/s]\n"
          ]
        },
        {
          "output_type": "stream",
          "name": "stdout",
          "text": [
            "Performace at epoch 20\n",
            "Train Loss: 2.30377 ; Train Acc: 0.09888\n",
            "Test Loss: 2.30270 ; Test Acc: 0.10000\n",
            "==============\n"
          ]
        },
        {
          "output_type": "stream",
          "name": "stderr",
          "text": [
            "100%|██████████| 391/391 [00:06<00:00, 57.53it/s]\n"
          ]
        },
        {
          "output_type": "stream",
          "name": "stdout",
          "text": [
            "Performace at epoch 21\n",
            "Train Loss: 2.30357 ; Train Acc: 0.09772\n",
            "Test Loss: 2.30321 ; Test Acc: 0.10000\n",
            "==============\n"
          ]
        },
        {
          "output_type": "stream",
          "name": "stderr",
          "text": [
            "100%|██████████| 391/391 [00:06<00:00, 58.22it/s]\n"
          ]
        },
        {
          "output_type": "stream",
          "name": "stdout",
          "text": [
            "Performace at epoch 22\n",
            "Train Loss: 2.30375 ; Train Acc: 0.10012\n",
            "Test Loss: 2.30381 ; Test Acc: 0.10000\n",
            "==============\n"
          ]
        },
        {
          "output_type": "stream",
          "name": "stderr",
          "text": [
            "100%|██████████| 391/391 [00:06<00:00, 58.68it/s]\n"
          ]
        },
        {
          "output_type": "stream",
          "name": "stdout",
          "text": [
            "Performace at epoch 23\n",
            "Train Loss: 2.30376 ; Train Acc: 0.09796\n",
            "Test Loss: 2.30341 ; Test Acc: 0.10000\n",
            "==============\n"
          ]
        },
        {
          "output_type": "stream",
          "name": "stderr",
          "text": [
            "100%|██████████| 391/391 [00:06<00:00, 59.57it/s]\n"
          ]
        },
        {
          "output_type": "stream",
          "name": "stdout",
          "text": [
            "Performace at epoch 24\n",
            "Train Loss: 2.30355 ; Train Acc: 0.10160\n",
            "Test Loss: 2.30322 ; Test Acc: 0.10000\n",
            "==============\n"
          ]
        },
        {
          "output_type": "stream",
          "name": "stderr",
          "text": [
            "100%|██████████| 391/391 [00:06<00:00, 59.05it/s]\n"
          ]
        },
        {
          "output_type": "stream",
          "name": "stdout",
          "text": [
            "Performace at epoch 25\n",
            "Train Loss: 2.30392 ; Train Acc: 0.09692\n",
            "Test Loss: 2.30323 ; Test Acc: 0.10000\n",
            "==============\n"
          ]
        },
        {
          "output_type": "stream",
          "name": "stderr",
          "text": [
            "100%|██████████| 391/391 [00:06<00:00, 58.10it/s]\n"
          ]
        },
        {
          "output_type": "stream",
          "name": "stdout",
          "text": [
            "Performace at epoch 26\n",
            "Train Loss: 2.30380 ; Train Acc: 0.10004\n",
            "Test Loss: 2.30326 ; Test Acc: 0.10000\n",
            "==============\n"
          ]
        },
        {
          "output_type": "stream",
          "name": "stderr",
          "text": [
            "100%|██████████| 391/391 [00:06<00:00, 58.71it/s]\n"
          ]
        },
        {
          "output_type": "stream",
          "name": "stdout",
          "text": [
            "Performace at epoch 27\n",
            "Train Loss: 2.30356 ; Train Acc: 0.10212\n",
            "Test Loss: 2.30357 ; Test Acc: 0.10000\n",
            "==============\n"
          ]
        },
        {
          "output_type": "stream",
          "name": "stderr",
          "text": [
            "100%|██████████| 391/391 [00:06<00:00, 58.23it/s]\n"
          ]
        },
        {
          "output_type": "stream",
          "name": "stdout",
          "text": [
            "Performace at epoch 28\n",
            "Train Loss: 2.30366 ; Train Acc: 0.10020\n",
            "Test Loss: 2.30325 ; Test Acc: 0.10000\n",
            "==============\n"
          ]
        },
        {
          "output_type": "stream",
          "name": "stderr",
          "text": [
            "100%|██████████| 391/391 [00:06<00:00, 58.51it/s]\n"
          ]
        },
        {
          "output_type": "stream",
          "name": "stdout",
          "text": [
            "Performace at epoch 29\n",
            "Train Loss: 2.30399 ; Train Acc: 0.09560\n",
            "Test Loss: 2.30318 ; Test Acc: 0.10000\n",
            "==============\n"
          ]
        },
        {
          "output_type": "stream",
          "name": "stderr",
          "text": [
            "100%|██████████| 391/391 [00:06<00:00, 58.07it/s]\n"
          ]
        },
        {
          "output_type": "stream",
          "name": "stdout",
          "text": [
            "Performace at epoch 30\n",
            "Train Loss: 2.30381 ; Train Acc: 0.09692\n",
            "Test Loss: 2.30315 ; Test Acc: 0.10000\n",
            "==============\n"
          ]
        },
        {
          "output_type": "stream",
          "name": "stderr",
          "text": [
            "100%|██████████| 391/391 [00:06<00:00, 58.73it/s]\n"
          ]
        },
        {
          "output_type": "stream",
          "name": "stdout",
          "text": [
            "Performace at epoch 31\n",
            "Train Loss: 2.30364 ; Train Acc: 0.09992\n",
            "Test Loss: 2.30290 ; Test Acc: 0.10000\n",
            "==============\n"
          ]
        },
        {
          "output_type": "stream",
          "name": "stderr",
          "text": [
            "100%|██████████| 391/391 [00:06<00:00, 59.54it/s]\n"
          ]
        },
        {
          "output_type": "stream",
          "name": "stdout",
          "text": [
            "Performace at epoch 32\n",
            "Train Loss: 2.30356 ; Train Acc: 0.09620\n",
            "Test Loss: 2.30383 ; Test Acc: 0.10000\n",
            "==============\n"
          ]
        },
        {
          "output_type": "stream",
          "name": "stderr",
          "text": [
            "100%|██████████| 391/391 [00:06<00:00, 59.08it/s]\n"
          ]
        },
        {
          "output_type": "stream",
          "name": "stdout",
          "text": [
            "Performace at epoch 33\n",
            "Train Loss: 2.30386 ; Train Acc: 0.09500\n",
            "Test Loss: 2.30303 ; Test Acc: 0.10000\n",
            "==============\n"
          ]
        },
        {
          "output_type": "stream",
          "name": "stderr",
          "text": [
            "100%|██████████| 391/391 [00:06<00:00, 57.74it/s]\n"
          ]
        },
        {
          "output_type": "stream",
          "name": "stdout",
          "text": [
            "Performace at epoch 34\n",
            "Train Loss: 2.30385 ; Train Acc: 0.09856\n",
            "Test Loss: 2.30322 ; Test Acc: 0.10000\n",
            "==============\n"
          ]
        },
        {
          "output_type": "stream",
          "name": "stderr",
          "text": [
            "100%|██████████| 391/391 [00:06<00:00, 58.69it/s]\n"
          ]
        },
        {
          "output_type": "stream",
          "name": "stdout",
          "text": [
            "Performace at epoch 35\n",
            "Train Loss: 2.30378 ; Train Acc: 0.09892\n",
            "Test Loss: 2.30333 ; Test Acc: 0.10000\n",
            "==============\n"
          ]
        },
        {
          "output_type": "stream",
          "name": "stderr",
          "text": [
            "100%|██████████| 391/391 [00:06<00:00, 57.48it/s]\n"
          ]
        },
        {
          "output_type": "stream",
          "name": "stdout",
          "text": [
            "Performace at epoch 36\n",
            "Train Loss: 2.30367 ; Train Acc: 0.10012\n",
            "Test Loss: 2.30384 ; Test Acc: 0.10000\n",
            "==============\n"
          ]
        },
        {
          "output_type": "stream",
          "name": "stderr",
          "text": [
            "100%|██████████| 391/391 [00:06<00:00, 57.24it/s]\n"
          ]
        },
        {
          "output_type": "stream",
          "name": "stdout",
          "text": [
            "Performace at epoch 37\n",
            "Train Loss: 2.30361 ; Train Acc: 0.09936\n",
            "Test Loss: 2.30378 ; Test Acc: 0.10000\n",
            "==============\n"
          ]
        },
        {
          "output_type": "stream",
          "name": "stderr",
          "text": [
            "100%|██████████| 391/391 [00:06<00:00, 59.08it/s]\n"
          ]
        },
        {
          "output_type": "stream",
          "name": "stdout",
          "text": [
            "Performace at epoch 38\n",
            "Train Loss: 2.30356 ; Train Acc: 0.10140\n",
            "Test Loss: 2.30344 ; Test Acc: 0.10000\n",
            "==============\n"
          ]
        },
        {
          "output_type": "stream",
          "name": "stderr",
          "text": [
            "100%|██████████| 391/391 [00:06<00:00, 58.05it/s]\n"
          ]
        },
        {
          "output_type": "stream",
          "name": "stdout",
          "text": [
            "Performace at epoch 39\n",
            "Train Loss: 2.30370 ; Train Acc: 0.09836\n",
            "Test Loss: 2.30289 ; Test Acc: 0.10000\n",
            "==============\n"
          ]
        },
        {
          "output_type": "stream",
          "name": "stderr",
          "text": [
            "100%|██████████| 391/391 [00:06<00:00, 57.68it/s]\n"
          ]
        },
        {
          "output_type": "stream",
          "name": "stdout",
          "text": [
            "Performace at epoch 40\n",
            "Train Loss: 2.30371 ; Train Acc: 0.09864\n",
            "Test Loss: 2.30337 ; Test Acc: 0.10000\n",
            "==============\n"
          ]
        },
        {
          "output_type": "stream",
          "name": "stderr",
          "text": [
            "100%|██████████| 391/391 [00:06<00:00, 56.73it/s]\n"
          ]
        },
        {
          "output_type": "stream",
          "name": "stdout",
          "text": [
            "Performace at epoch 41\n",
            "Train Loss: 2.30377 ; Train Acc: 0.09928\n",
            "Test Loss: 2.30317 ; Test Acc: 0.10000\n",
            "==============\n"
          ]
        },
        {
          "output_type": "stream",
          "name": "stderr",
          "text": [
            "100%|██████████| 391/391 [00:06<00:00, 57.34it/s]\n"
          ]
        },
        {
          "output_type": "stream",
          "name": "stdout",
          "text": [
            "Performace at epoch 42\n",
            "Train Loss: 2.30371 ; Train Acc: 0.09540\n",
            "Test Loss: 2.30313 ; Test Acc: 0.10000\n",
            "==============\n"
          ]
        },
        {
          "output_type": "stream",
          "name": "stderr",
          "text": [
            "100%|██████████| 391/391 [00:06<00:00, 58.52it/s]\n"
          ]
        },
        {
          "output_type": "stream",
          "name": "stdout",
          "text": [
            "Performace at epoch 43\n",
            "Train Loss: 2.30341 ; Train Acc: 0.09836\n",
            "Test Loss: 2.30441 ; Test Acc: 0.10000\n",
            "==============\n"
          ]
        },
        {
          "output_type": "stream",
          "name": "stderr",
          "text": [
            "100%|██████████| 391/391 [00:06<00:00, 58.06it/s]\n"
          ]
        },
        {
          "output_type": "stream",
          "name": "stdout",
          "text": [
            "Performace at epoch 44\n",
            "Train Loss: 2.30390 ; Train Acc: 0.09832\n",
            "Test Loss: 2.30298 ; Test Acc: 0.10000\n",
            "==============\n"
          ]
        },
        {
          "output_type": "stream",
          "name": "stderr",
          "text": [
            "100%|██████████| 391/391 [00:06<00:00, 57.61it/s]\n"
          ]
        },
        {
          "output_type": "stream",
          "name": "stdout",
          "text": [
            "Performace at epoch 45\n",
            "Train Loss: 2.30364 ; Train Acc: 0.10108\n",
            "Test Loss: 2.30348 ; Test Acc: 0.10000\n",
            "==============\n"
          ]
        },
        {
          "output_type": "stream",
          "name": "stderr",
          "text": [
            "100%|██████████| 391/391 [00:06<00:00, 57.61it/s]\n"
          ]
        },
        {
          "output_type": "stream",
          "name": "stdout",
          "text": [
            "Performace at epoch 46\n",
            "Train Loss: 2.30367 ; Train Acc: 0.09848\n",
            "Test Loss: 2.30358 ; Test Acc: 0.10000\n",
            "==============\n"
          ]
        },
        {
          "output_type": "stream",
          "name": "stderr",
          "text": [
            "100%|██████████| 391/391 [00:06<00:00, 58.16it/s]\n"
          ]
        },
        {
          "output_type": "stream",
          "name": "stdout",
          "text": [
            "Performace at epoch 47\n",
            "Train Loss: 2.30364 ; Train Acc: 0.09720\n",
            "Test Loss: 2.30348 ; Test Acc: 0.10000\n",
            "==============\n"
          ]
        },
        {
          "output_type": "stream",
          "name": "stderr",
          "text": [
            "100%|██████████| 391/391 [00:06<00:00, 58.33it/s]\n"
          ]
        },
        {
          "output_type": "stream",
          "name": "stdout",
          "text": [
            "Performace at epoch 48\n",
            "Train Loss: 2.30387 ; Train Acc: 0.09804\n",
            "Test Loss: 2.30304 ; Test Acc: 0.10000\n",
            "==============\n"
          ]
        },
        {
          "output_type": "stream",
          "name": "stderr",
          "text": [
            "100%|██████████| 391/391 [00:06<00:00, 58.04it/s]\n"
          ]
        },
        {
          "output_type": "stream",
          "name": "stdout",
          "text": [
            "Performace at epoch 49\n",
            "Train Loss: 2.30374 ; Train Acc: 0.09964\n",
            "Test Loss: 2.30275 ; Test Acc: 0.10000\n",
            "==============\n"
          ]
        },
        {
          "output_type": "stream",
          "name": "stderr",
          "text": [
            "100%|██████████| 391/391 [00:06<00:00, 57.39it/s]\n"
          ]
        },
        {
          "output_type": "stream",
          "name": "stdout",
          "text": [
            "Performace at epoch 50\n",
            "Train Loss: 2.30380 ; Train Acc: 0.09804\n",
            "Test Loss: 2.30363 ; Test Acc: 0.10000\n",
            "==============\n"
          ]
        },
        {
          "output_type": "stream",
          "name": "stderr",
          "text": [
            "100%|██████████| 391/391 [00:06<00:00, 56.68it/s]\n"
          ]
        },
        {
          "output_type": "stream",
          "name": "stdout",
          "text": [
            "Performace at epoch 51\n",
            "Train Loss: 2.30363 ; Train Acc: 0.09792\n",
            "Test Loss: 2.30316 ; Test Acc: 0.10000\n",
            "==============\n"
          ]
        },
        {
          "output_type": "stream",
          "name": "stderr",
          "text": [
            "100%|██████████| 391/391 [00:06<00:00, 58.85it/s]\n"
          ]
        },
        {
          "output_type": "stream",
          "name": "stdout",
          "text": [
            "Performace at epoch 52\n",
            "Train Loss: 2.30365 ; Train Acc: 0.10008\n",
            "Test Loss: 2.30323 ; Test Acc: 0.10000\n",
            "==============\n"
          ]
        },
        {
          "output_type": "stream",
          "name": "stderr",
          "text": [
            "100%|██████████| 391/391 [00:06<00:00, 58.50it/s]\n"
          ]
        },
        {
          "output_type": "stream",
          "name": "stdout",
          "text": [
            "Performace at epoch 53\n",
            "Train Loss: 2.30363 ; Train Acc: 0.10088\n",
            "Test Loss: 2.30370 ; Test Acc: 0.10000\n",
            "==============\n"
          ]
        },
        {
          "output_type": "stream",
          "name": "stderr",
          "text": [
            "100%|██████████| 391/391 [00:06<00:00, 57.82it/s]\n"
          ]
        },
        {
          "output_type": "stream",
          "name": "stdout",
          "text": [
            "Performace at epoch 54\n",
            "Train Loss: 2.30357 ; Train Acc: 0.09840\n",
            "Test Loss: 2.30391 ; Test Acc: 0.10000\n",
            "==============\n"
          ]
        },
        {
          "output_type": "stream",
          "name": "stderr",
          "text": [
            "100%|██████████| 391/391 [00:06<00:00, 57.43it/s]\n"
          ]
        },
        {
          "output_type": "stream",
          "name": "stdout",
          "text": [
            "Performace at epoch 55\n",
            "Train Loss: 2.30359 ; Train Acc: 0.09976\n",
            "Test Loss: 2.30313 ; Test Acc: 0.10000\n",
            "==============\n"
          ]
        },
        {
          "output_type": "stream",
          "name": "stderr",
          "text": [
            "100%|██████████| 391/391 [00:06<00:00, 58.95it/s]\n"
          ]
        },
        {
          "output_type": "stream",
          "name": "stdout",
          "text": [
            "Performace at epoch 56\n",
            "Train Loss: 2.30345 ; Train Acc: 0.10004\n",
            "Test Loss: 2.30446 ; Test Acc: 0.10000\n",
            "==============\n"
          ]
        },
        {
          "output_type": "stream",
          "name": "stderr",
          "text": [
            "100%|██████████| 391/391 [00:06<00:00, 57.50it/s]\n"
          ]
        },
        {
          "output_type": "stream",
          "name": "stdout",
          "text": [
            "Performace at epoch 57\n",
            "Train Loss: 2.30390 ; Train Acc: 0.09660\n",
            "Test Loss: 2.30312 ; Test Acc: 0.10000\n",
            "==============\n"
          ]
        },
        {
          "output_type": "stream",
          "name": "stderr",
          "text": [
            "100%|██████████| 391/391 [00:06<00:00, 58.15it/s]\n"
          ]
        },
        {
          "output_type": "stream",
          "name": "stdout",
          "text": [
            "Performace at epoch 58\n",
            "Train Loss: 2.30360 ; Train Acc: 0.09944\n",
            "Test Loss: 2.30274 ; Test Acc: 0.10000\n",
            "==============\n"
          ]
        },
        {
          "output_type": "stream",
          "name": "stderr",
          "text": [
            "100%|██████████| 391/391 [00:06<00:00, 57.09it/s]\n"
          ]
        },
        {
          "output_type": "stream",
          "name": "stdout",
          "text": [
            "Performace at epoch 59\n",
            "Train Loss: 2.30369 ; Train Acc: 0.09808\n",
            "Test Loss: 2.30294 ; Test Acc: 0.10000\n",
            "==============\n"
          ]
        },
        {
          "output_type": "stream",
          "name": "stderr",
          "text": [
            "100%|██████████| 391/391 [00:06<00:00, 58.10it/s]\n"
          ]
        },
        {
          "output_type": "stream",
          "name": "stdout",
          "text": [
            "Performace at epoch 60\n",
            "Train Loss: 2.30384 ; Train Acc: 0.09824\n",
            "Test Loss: 2.30315 ; Test Acc: 0.10000\n",
            "==============\n"
          ]
        },
        {
          "output_type": "stream",
          "name": "stderr",
          "text": [
            "100%|██████████| 391/391 [00:06<00:00, 57.62it/s]\n"
          ]
        },
        {
          "output_type": "stream",
          "name": "stdout",
          "text": [
            "Performace at epoch 61\n",
            "Train Loss: 2.30391 ; Train Acc: 0.09688\n",
            "Test Loss: 2.30290 ; Test Acc: 0.10000\n",
            "==============\n"
          ]
        },
        {
          "output_type": "stream",
          "name": "stderr",
          "text": [
            "100%|██████████| 391/391 [00:06<00:00, 58.55it/s]\n"
          ]
        },
        {
          "output_type": "stream",
          "name": "stdout",
          "text": [
            "Performace at epoch 62\n",
            "Train Loss: 2.30366 ; Train Acc: 0.09856\n",
            "Test Loss: 2.30360 ; Test Acc: 0.10000\n",
            "==============\n"
          ]
        },
        {
          "output_type": "stream",
          "name": "stderr",
          "text": [
            "100%|██████████| 391/391 [00:06<00:00, 57.71it/s]\n"
          ]
        },
        {
          "output_type": "stream",
          "name": "stdout",
          "text": [
            "Performace at epoch 63\n",
            "Train Loss: 2.30370 ; Train Acc: 0.09924\n",
            "Test Loss: 2.30394 ; Test Acc: 0.10000\n",
            "==============\n"
          ]
        },
        {
          "output_type": "stream",
          "name": "stderr",
          "text": [
            "100%|██████████| 391/391 [00:06<00:00, 56.97it/s]\n"
          ]
        },
        {
          "output_type": "stream",
          "name": "stdout",
          "text": [
            "Performace at epoch 64\n",
            "Train Loss: 2.30374 ; Train Acc: 0.09612\n",
            "Test Loss: 2.30362 ; Test Acc: 0.10000\n",
            "==============\n"
          ]
        },
        {
          "output_type": "stream",
          "name": "stderr",
          "text": [
            "100%|██████████| 391/391 [00:06<00:00, 57.04it/s]\n"
          ]
        },
        {
          "output_type": "stream",
          "name": "stdout",
          "text": [
            "Performace at epoch 65\n",
            "Train Loss: 2.30352 ; Train Acc: 0.10192\n",
            "Test Loss: 2.30450 ; Test Acc: 0.10000\n",
            "==============\n"
          ]
        },
        {
          "output_type": "stream",
          "name": "stderr",
          "text": [
            "100%|██████████| 391/391 [00:06<00:00, 57.18it/s]\n"
          ]
        },
        {
          "output_type": "stream",
          "name": "stdout",
          "text": [
            "Performace at epoch 66\n",
            "Train Loss: 2.30370 ; Train Acc: 0.09816\n",
            "Test Loss: 2.30376 ; Test Acc: 0.10000\n",
            "==============\n"
          ]
        },
        {
          "output_type": "stream",
          "name": "stderr",
          "text": [
            "100%|██████████| 391/391 [00:06<00:00, 57.59it/s]\n"
          ]
        },
        {
          "output_type": "stream",
          "name": "stdout",
          "text": [
            "Performace at epoch 67\n",
            "Train Loss: 2.30373 ; Train Acc: 0.09672\n",
            "Test Loss: 2.30321 ; Test Acc: 0.10000\n",
            "==============\n"
          ]
        },
        {
          "output_type": "stream",
          "name": "stderr",
          "text": [
            "100%|██████████| 391/391 [00:06<00:00, 57.40it/s]\n"
          ]
        },
        {
          "output_type": "stream",
          "name": "stdout",
          "text": [
            "Performace at epoch 68\n",
            "Train Loss: 2.30381 ; Train Acc: 0.09604\n",
            "Test Loss: 2.30351 ; Test Acc: 0.10000\n",
            "==============\n"
          ]
        },
        {
          "output_type": "stream",
          "name": "stderr",
          "text": [
            "100%|██████████| 391/391 [00:06<00:00, 56.52it/s]\n"
          ]
        },
        {
          "output_type": "stream",
          "name": "stdout",
          "text": [
            "Performace at epoch 69\n",
            "Train Loss: 2.30376 ; Train Acc: 0.09872\n",
            "Test Loss: 2.30397 ; Test Acc: 0.10000\n",
            "==============\n"
          ]
        },
        {
          "output_type": "stream",
          "name": "stderr",
          "text": [
            "100%|██████████| 391/391 [00:06<00:00, 57.23it/s]\n"
          ]
        },
        {
          "output_type": "stream",
          "name": "stdout",
          "text": [
            "Performace at epoch 70\n",
            "Train Loss: 2.30374 ; Train Acc: 0.10012\n",
            "Test Loss: 2.30302 ; Test Acc: 0.10000\n",
            "==============\n"
          ]
        },
        {
          "output_type": "stream",
          "name": "stderr",
          "text": [
            "100%|██████████| 391/391 [00:06<00:00, 56.57it/s]\n"
          ]
        },
        {
          "output_type": "stream",
          "name": "stdout",
          "text": [
            "Performace at epoch 71\n",
            "Train Loss: 2.30346 ; Train Acc: 0.10048\n",
            "Test Loss: 2.30289 ; Test Acc: 0.10000\n",
            "==============\n"
          ]
        },
        {
          "output_type": "stream",
          "name": "stderr",
          "text": [
            "100%|██████████| 391/391 [00:06<00:00, 56.28it/s]\n"
          ]
        },
        {
          "output_type": "stream",
          "name": "stdout",
          "text": [
            "Performace at epoch 72\n",
            "Train Loss: 2.30361 ; Train Acc: 0.09956\n",
            "Test Loss: 2.30342 ; Test Acc: 0.10000\n",
            "==============\n"
          ]
        },
        {
          "output_type": "stream",
          "name": "stderr",
          "text": [
            "100%|██████████| 391/391 [00:06<00:00, 56.87it/s]\n"
          ]
        },
        {
          "output_type": "stream",
          "name": "stdout",
          "text": [
            "Performace at epoch 73\n",
            "Train Loss: 2.30364 ; Train Acc: 0.09928\n",
            "Test Loss: 2.30324 ; Test Acc: 0.10000\n",
            "==============\n"
          ]
        },
        {
          "output_type": "stream",
          "name": "stderr",
          "text": [
            "100%|██████████| 391/391 [00:06<00:00, 56.81it/s]\n"
          ]
        },
        {
          "output_type": "stream",
          "name": "stdout",
          "text": [
            "Performace at epoch 74\n",
            "Train Loss: 2.30364 ; Train Acc: 0.10012\n",
            "Test Loss: 2.30376 ; Test Acc: 0.10000\n",
            "==============\n"
          ]
        },
        {
          "output_type": "stream",
          "name": "stderr",
          "text": [
            "100%|██████████| 391/391 [00:06<00:00, 58.63it/s]\n"
          ]
        },
        {
          "output_type": "stream",
          "name": "stdout",
          "text": [
            "Performace at epoch 75\n",
            "Train Loss: 2.30345 ; Train Acc: 0.10192\n",
            "Test Loss: 2.30307 ; Test Acc: 0.10000\n",
            "==============\n"
          ]
        },
        {
          "output_type": "stream",
          "name": "stderr",
          "text": [
            "100%|██████████| 391/391 [00:06<00:00, 55.91it/s]\n"
          ]
        },
        {
          "output_type": "stream",
          "name": "stdout",
          "text": [
            "Performace at epoch 76\n",
            "Train Loss: 2.30360 ; Train Acc: 0.10100\n",
            "Test Loss: 2.30351 ; Test Acc: 0.10000\n",
            "==============\n"
          ]
        },
        {
          "output_type": "stream",
          "name": "stderr",
          "text": [
            "100%|██████████| 391/391 [00:06<00:00, 57.97it/s]\n"
          ]
        },
        {
          "output_type": "stream",
          "name": "stdout",
          "text": [
            "Performace at epoch 77\n",
            "Train Loss: 2.30377 ; Train Acc: 0.09544\n",
            "Test Loss: 2.30322 ; Test Acc: 0.10000\n",
            "==============\n"
          ]
        },
        {
          "output_type": "stream",
          "name": "stderr",
          "text": [
            "100%|██████████| 391/391 [00:06<00:00, 58.00it/s]\n"
          ]
        },
        {
          "output_type": "stream",
          "name": "stdout",
          "text": [
            "Performace at epoch 78\n",
            "Train Loss: 2.30341 ; Train Acc: 0.09932\n",
            "Test Loss: 2.30319 ; Test Acc: 0.10000\n",
            "==============\n"
          ]
        },
        {
          "output_type": "stream",
          "name": "stderr",
          "text": [
            "100%|██████████| 391/391 [00:06<00:00, 56.94it/s]\n"
          ]
        },
        {
          "output_type": "stream",
          "name": "stdout",
          "text": [
            "Performace at epoch 79\n",
            "Train Loss: 2.30357 ; Train Acc: 0.10184\n",
            "Test Loss: 2.30347 ; Test Acc: 0.10000\n",
            "==============\n"
          ]
        },
        {
          "output_type": "stream",
          "name": "stderr",
          "text": [
            "100%|██████████| 391/391 [00:06<00:00, 56.58it/s]\n"
          ]
        },
        {
          "output_type": "stream",
          "name": "stdout",
          "text": [
            "Performace at epoch 80\n",
            "Train Loss: 2.30373 ; Train Acc: 0.10124\n",
            "Test Loss: 2.30323 ; Test Acc: 0.10000\n",
            "==============\n"
          ]
        },
        {
          "output_type": "stream",
          "name": "stderr",
          "text": [
            "100%|██████████| 391/391 [00:06<00:00, 57.82it/s]\n"
          ]
        },
        {
          "output_type": "stream",
          "name": "stdout",
          "text": [
            "Performace at epoch 81\n",
            "Train Loss: 2.30354 ; Train Acc: 0.09736\n",
            "Test Loss: 2.30423 ; Test Acc: 0.10000\n",
            "==============\n"
          ]
        },
        {
          "output_type": "stream",
          "name": "stderr",
          "text": [
            "100%|██████████| 391/391 [00:06<00:00, 56.77it/s]\n"
          ]
        },
        {
          "output_type": "stream",
          "name": "stdout",
          "text": [
            "Performace at epoch 82\n",
            "Train Loss: 2.30379 ; Train Acc: 0.09952\n",
            "Test Loss: 2.30351 ; Test Acc: 0.10000\n",
            "==============\n"
          ]
        },
        {
          "output_type": "stream",
          "name": "stderr",
          "text": [
            "100%|██████████| 391/391 [00:06<00:00, 56.58it/s]\n"
          ]
        },
        {
          "output_type": "stream",
          "name": "stdout",
          "text": [
            "Performace at epoch 83\n",
            "Train Loss: 2.30369 ; Train Acc: 0.09940\n",
            "Test Loss: 2.30292 ; Test Acc: 0.10000\n",
            "==============\n"
          ]
        },
        {
          "output_type": "stream",
          "name": "stderr",
          "text": [
            "100%|██████████| 391/391 [00:06<00:00, 57.09it/s]\n"
          ]
        },
        {
          "output_type": "stream",
          "name": "stdout",
          "text": [
            "Performace at epoch 84\n",
            "Train Loss: 2.30363 ; Train Acc: 0.09992\n",
            "Test Loss: 2.30355 ; Test Acc: 0.10000\n",
            "==============\n"
          ]
        },
        {
          "output_type": "stream",
          "name": "stderr",
          "text": [
            "100%|██████████| 391/391 [00:06<00:00, 57.14it/s]\n"
          ]
        },
        {
          "output_type": "stream",
          "name": "stdout",
          "text": [
            "Performace at epoch 85\n",
            "Train Loss: 2.30390 ; Train Acc: 0.09864\n",
            "Test Loss: 2.30326 ; Test Acc: 0.10000\n",
            "==============\n"
          ]
        },
        {
          "output_type": "stream",
          "name": "stderr",
          "text": [
            "100%|██████████| 391/391 [00:06<00:00, 58.27it/s]\n"
          ]
        },
        {
          "output_type": "stream",
          "name": "stdout",
          "text": [
            "Performace at epoch 86\n",
            "Train Loss: 2.30390 ; Train Acc: 0.09820\n",
            "Test Loss: 2.30327 ; Test Acc: 0.10000\n",
            "==============\n"
          ]
        },
        {
          "output_type": "stream",
          "name": "stderr",
          "text": [
            "100%|██████████| 391/391 [00:06<00:00, 57.63it/s]\n"
          ]
        },
        {
          "output_type": "stream",
          "name": "stdout",
          "text": [
            "Performace at epoch 87\n",
            "Train Loss: 2.30379 ; Train Acc: 0.09592\n",
            "Test Loss: 2.30301 ; Test Acc: 0.10000\n",
            "==============\n"
          ]
        },
        {
          "output_type": "stream",
          "name": "stderr",
          "text": [
            "100%|██████████| 391/391 [00:06<00:00, 57.16it/s]\n"
          ]
        },
        {
          "output_type": "stream",
          "name": "stdout",
          "text": [
            "Performace at epoch 88\n",
            "Train Loss: 2.30367 ; Train Acc: 0.10072\n",
            "Test Loss: 2.30333 ; Test Acc: 0.10000\n",
            "==============\n"
          ]
        },
        {
          "output_type": "stream",
          "name": "stderr",
          "text": [
            "100%|██████████| 391/391 [00:06<00:00, 56.24it/s]\n"
          ]
        },
        {
          "output_type": "stream",
          "name": "stdout",
          "text": [
            "Performace at epoch 89\n",
            "Train Loss: 2.30376 ; Train Acc: 0.09676\n",
            "Test Loss: 2.30329 ; Test Acc: 0.10000\n",
            "==============\n"
          ]
        },
        {
          "output_type": "stream",
          "name": "stderr",
          "text": [
            "100%|██████████| 391/391 [00:06<00:00, 57.52it/s]\n"
          ]
        },
        {
          "output_type": "stream",
          "name": "stdout",
          "text": [
            "Performace at epoch 90\n",
            "Train Loss: 2.30385 ; Train Acc: 0.09504\n",
            "Test Loss: 2.30315 ; Test Acc: 0.10000\n",
            "==============\n"
          ]
        },
        {
          "output_type": "stream",
          "name": "stderr",
          "text": [
            "100%|██████████| 391/391 [00:06<00:00, 56.80it/s]\n"
          ]
        },
        {
          "output_type": "stream",
          "name": "stdout",
          "text": [
            "Performace at epoch 91\n",
            "Train Loss: 2.30381 ; Train Acc: 0.09780\n",
            "Test Loss: 2.30336 ; Test Acc: 0.10000\n",
            "==============\n"
          ]
        },
        {
          "output_type": "stream",
          "name": "stderr",
          "text": [
            "100%|██████████| 391/391 [00:06<00:00, 56.25it/s]\n"
          ]
        },
        {
          "output_type": "stream",
          "name": "stdout",
          "text": [
            "Performace at epoch 92\n",
            "Train Loss: 2.30388 ; Train Acc: 0.09772\n",
            "Test Loss: 2.30293 ; Test Acc: 0.10000\n",
            "==============\n"
          ]
        },
        {
          "output_type": "stream",
          "name": "stderr",
          "text": [
            "100%|██████████| 391/391 [00:07<00:00, 55.24it/s]\n"
          ]
        },
        {
          "output_type": "stream",
          "name": "stdout",
          "text": [
            "Performace at epoch 93\n",
            "Train Loss: 2.30398 ; Train Acc: 0.09488\n",
            "Test Loss: 2.30298 ; Test Acc: 0.10000\n",
            "==============\n"
          ]
        },
        {
          "output_type": "stream",
          "name": "stderr",
          "text": [
            "100%|██████████| 391/391 [00:06<00:00, 57.22it/s]\n"
          ]
        },
        {
          "output_type": "stream",
          "name": "stdout",
          "text": [
            "Performace at epoch 94\n",
            "Train Loss: 2.30372 ; Train Acc: 0.09936\n",
            "Test Loss: 2.30360 ; Test Acc: 0.10000\n",
            "==============\n"
          ]
        },
        {
          "output_type": "stream",
          "name": "stderr",
          "text": [
            "100%|██████████| 391/391 [00:06<00:00, 58.93it/s]\n"
          ]
        },
        {
          "output_type": "stream",
          "name": "stdout",
          "text": [
            "Performace at epoch 95\n",
            "Train Loss: 2.30364 ; Train Acc: 0.09932\n",
            "Test Loss: 2.30285 ; Test Acc: 0.10000\n",
            "==============\n"
          ]
        },
        {
          "output_type": "stream",
          "name": "stderr",
          "text": [
            "100%|██████████| 391/391 [00:06<00:00, 57.84it/s]\n"
          ]
        },
        {
          "output_type": "stream",
          "name": "stdout",
          "text": [
            "Performace at epoch 96\n",
            "Train Loss: 2.30376 ; Train Acc: 0.09864\n",
            "Test Loss: 2.30337 ; Test Acc: 0.10000\n",
            "==============\n"
          ]
        },
        {
          "output_type": "stream",
          "name": "stderr",
          "text": [
            "100%|██████████| 391/391 [00:06<00:00, 57.73it/s]\n"
          ]
        },
        {
          "output_type": "stream",
          "name": "stdout",
          "text": [
            "Performace at epoch 97\n",
            "Train Loss: 2.30368 ; Train Acc: 0.10008\n",
            "Test Loss: 2.30373 ; Test Acc: 0.10000\n",
            "==============\n"
          ]
        },
        {
          "output_type": "stream",
          "name": "stderr",
          "text": [
            "100%|██████████| 391/391 [00:06<00:00, 57.20it/s]\n"
          ]
        },
        {
          "output_type": "stream",
          "name": "stdout",
          "text": [
            "Performace at epoch 98\n",
            "Train Loss: 2.30358 ; Train Acc: 0.09976\n",
            "Test Loss: 2.30323 ; Test Acc: 0.10000\n",
            "==============\n"
          ]
        },
        {
          "output_type": "stream",
          "name": "stderr",
          "text": [
            "100%|██████████| 391/391 [00:06<00:00, 56.84it/s]\n"
          ]
        },
        {
          "output_type": "stream",
          "name": "stdout",
          "text": [
            "Performace at epoch 99\n",
            "Train Loss: 2.30379 ; Train Acc: 0.09740\n",
            "Test Loss: 2.30297 ; Test Acc: 0.10000\n",
            "==============\n"
          ]
        },
        {
          "output_type": "stream",
          "name": "stderr",
          "text": [
            "100%|██████████| 391/391 [00:06<00:00, 57.16it/s]\n"
          ]
        },
        {
          "output_type": "stream",
          "name": "stdout",
          "text": [
            "Performace at epoch 100\n",
            "Train Loss: 2.30385 ; Train Acc: 0.09708\n",
            "Test Loss: 2.30295 ; Test Acc: 0.10000\n",
            "==============\n"
          ]
        }
      ]
    },
    {
      "cell_type": "code",
      "metadata": {
        "colab": {
          "base_uri": "https://localhost:8080/",
          "height": 295
        },
        "id": "JJvQ6ygniNng",
        "outputId": "135b9d96-40b3-458e-c36d-b3749b922f63"
      },
      "source": [
        "# plot loss\n",
        "plt.plot(range(1, len(train_loss) + 1), train_loss, label='train loss')\n",
        "plt.plot(range(1, len(test_loss) + 1), test_loss, label='test loss')\n",
        "plt.xlabel('epochs')\n",
        "plt.ylabel('loss')\n",
        "plt.title('loss vs epochs')\n",
        "plt.legend()\n",
        "plt.show()"
      ],
      "execution_count": null,
      "outputs": [
        {
          "output_type": "display_data",
          "data": {
            "image/png": "[encoded data removed]",
            "text/plain": [
              "<Figure size 432x288 with 1 Axes>"
            ]
          },
          "metadata": {
            "needs_background": "light"
          }
        }
      ]
    },
    {
      "cell_type": "code",
      "metadata": {
        "colab": {
          "base_uri": "https://localhost:8080/",
          "height": 295
        },
        "id": "VWhk3gJomc7Q",
        "outputId": "1829e5ef-acdc-4233-99d7-a74bdf9ab49d"
      },
      "source": [
        "# plot acc\n",
        "plt.plot(range(1, NUM_EPOCHS + 1), train_acc, label='train acc')\n",
        "plt.plot(range(1, NUM_EPOCHS + 1), test_acc, label='test acc')\n",
        "plt.xlabel('epochs')\n",
        "plt.ylabel('acc')\n",
        "plt.title('acc vs epochs')\n",
        "plt.legend()\n",
        "plt.show()"
      ],
      "execution_count": null,
      "outputs": [
        {
          "output_type": "display_data",
          "data": {
            "image/png": "[encoded data removed]",
            "text/plain": [
              "<Figure size 432x288 with 1 Axes>"
            ]
          },
          "metadata": {
            "needs_background": "light"
          }
        }
      ]
    },
    {
      "cell_type": "markdown",
      "source": [
        "## Hyperparameter tuning\n",
        "- For a set of hyperparameters, various trials with different models are trained based on randomly-sampled or exhaustive hyperparameters upto a certain number of epochs (dependent on lr). Finally the best set of hyperparameters are chosen which correspond to the minimum testing loss after training."
      ],
      "metadata": {
        "id": "TuhVK0AHYP3D"
      }
    },
    {
      "cell_type": "code",
      "source": [
        "import decimal"
      ],
      "metadata": {
        "id": "u-BoKXl_YRi3"
      },
      "execution_count": null,
      "outputs": []
    },
    {
      "cell_type": "code",
      "source": [
        "HYPERPARAMS = {\n",
        "    'lr': [0.1, 0.05, 0.01, 0.005, 0.001, 0.0001],\n",
        "    'alpha': [0.9, 0.99, 0.999],\n",
        "    'eps': [1e-7, 1e-8, 1e-9],\n",
        "    'weight_decay': [1e-4, 1e-5, 1e-6]\n",
        "}\n",
        "TRIALS = 10\n",
        "\n",
        "def get_epochs(lr):\n",
        "    '''\n",
        "    returns number of epochs for a given learning rate while tuning\n",
        "    '''\n",
        "    d = decimal.Decimal(str(lr))\n",
        "    pow = d.as_tuple().exponent\n",
        "    if pow >= -1:\n",
        "        return 10\n",
        "    elif pow >= -2:\n",
        "        return 15\n",
        "    elif pow >= -3:\n",
        "        return 20\n",
        "    else:\n",
        "        return 25"
      ],
      "metadata": {
        "id": "Mhw2xK8BYSxJ"
      },
      "execution_count": null,
      "outputs": []
    },
    {
      "cell_type": "code",
      "source": [
        "best_params, min_loss = None, np.inf\n",
        "for t in range(TRIALS):\n",
        "    print(f'\\n> Starting trial {t+1}')\n",
        "    ## choose a set of hyperparameters\n",
        "    chosen = {}\n",
        "    for h in HYPERPARAMS:\n",
        "        chosen[h] = np.random.choice(HYPERPARAMS[h])\n",
        "    print(f'Chosen hyperparams: {chosen}')\n",
        "    print()\n",
        "    ## model, loss & optimizer\n",
        "    model = CNN()\n",
        "    model.to(device)\n",
        "    error = nn.NLLLoss()\n",
        "    optimizer = torch.optim.RMSprop(model.parameters(), lr=chosen['lr'], alpha=chosen['alpha'], eps=chosen['eps'], weight_decay=chosen['weight_decay'])\n",
        "    ## training\n",
        "    EPOCHS_TEST = get_epochs(chosen['lr'])\n",
        "    for epoch in range(1, EPOCHS_TEST + 1):\n",
        "        total_loss = 0; total = 0\n",
        "        for images, labels in tqdm(train_loader):\n",
        "            # forward + backward + step\n",
        "            optimizer.zero_grad()\n",
        "            images, labels = images.to(device), labels.to(device)\n",
        "            outputs = model(images)\n",
        "            loss = error(outputs, labels)\n",
        "            total_loss += loss.item() * len(outputs)\n",
        "            loss.backward() \n",
        "            optimizer.step() \n",
        "            total += len(labels)\n",
        "        total_loss /= total\n",
        "        print(f'Training loss at epoch {epoch}: {total_loss:.5f}')\n",
        "    ## calculate testing loss\n",
        "    with torch.no_grad():\n",
        "        predicted = model(test_X)\n",
        "        testing_loss = error(predicted, test_Y).item()\n",
        "    print(f'* Testing loss: {testing_loss:.5f}')\n",
        "    ## check final total loss\n",
        "    if testing_loss < min_loss:\n",
        "        min_loss = testing_loss\n",
        "        best_params = chosen\n",
        "        print()\n",
        "        print(f'* Best params updated!: {best_params}')\n",
        "    print('==============')"
      ],
      "metadata": {
        "id": "RdrJLcwKYZh_",
        "colab": {
          "base_uri": "https://localhost:8080/"
        },
        "outputId": "f0f63b28-a402-40ba-e5cc-33e9ed4bc6d7"
      },
      "execution_count": null,
      "outputs": [
        {
          "output_type": "stream",
          "name": "stdout",
          "text": [
            "\n",
            "> Starting trial 1\n",
            "Chosen hyperparams: {'lr': 0.005, 'alpha': 0.99, 'eps': 1e-07, 'weight_decay': 1e-05}\n",
            "\n"
          ]
        },
        {
          "output_type": "stream",
          "name": "stderr",
          "text": [
            "100%|██████████| 391/391 [00:06<00:00, 59.10it/s]\n"
          ]
        },
        {
          "output_type": "stream",
          "name": "stdout",
          "text": [
            "Training loss at epoch 1: 3.61928\n"
          ]
        },
        {
          "output_type": "stream",
          "name": "stderr",
          "text": [
            "100%|██████████| 391/391 [00:06<00:00, 56.99it/s]\n"
          ]
        },
        {
          "output_type": "stream",
          "name": "stdout",
          "text": [
            "Training loss at epoch 2: 1.54714\n"
          ]
        },
        {
          "output_type": "stream",
          "name": "stderr",
          "text": [
            "100%|██████████| 391/391 [00:06<00:00, 57.89it/s]\n"
          ]
        },
        {
          "output_type": "stream",
          "name": "stdout",
          "text": [
            "Training loss at epoch 3: 1.34346\n"
          ]
        },
        {
          "output_type": "stream",
          "name": "stderr",
          "text": [
            "100%|██████████| 391/391 [00:06<00:00, 57.37it/s]\n"
          ]
        },
        {
          "output_type": "stream",
          "name": "stdout",
          "text": [
            "Training loss at epoch 4: 1.22199\n"
          ]
        },
        {
          "output_type": "stream",
          "name": "stderr",
          "text": [
            "100%|██████████| 391/391 [00:06<00:00, 57.18it/s]\n"
          ]
        },
        {
          "output_type": "stream",
          "name": "stdout",
          "text": [
            "Training loss at epoch 5: 1.07018\n"
          ]
        },
        {
          "output_type": "stream",
          "name": "stderr",
          "text": [
            "100%|██████████| 391/391 [00:06<00:00, 57.75it/s]\n"
          ]
        },
        {
          "output_type": "stream",
          "name": "stdout",
          "text": [
            "Training loss at epoch 6: 0.93133\n"
          ]
        },
        {
          "output_type": "stream",
          "name": "stderr",
          "text": [
            "100%|██████████| 391/391 [00:06<00:00, 55.97it/s]\n"
          ]
        },
        {
          "output_type": "stream",
          "name": "stdout",
          "text": [
            "Training loss at epoch 7: 0.80538\n"
          ]
        },
        {
          "output_type": "stream",
          "name": "stderr",
          "text": [
            "100%|██████████| 391/391 [00:06<00:00, 57.77it/s]\n"
          ]
        },
        {
          "output_type": "stream",
          "name": "stdout",
          "text": [
            "Training loss at epoch 8: 0.68120\n"
          ]
        },
        {
          "output_type": "stream",
          "name": "stderr",
          "text": [
            "100%|██████████| 391/391 [00:06<00:00, 58.74it/s]\n"
          ]
        },
        {
          "output_type": "stream",
          "name": "stdout",
          "text": [
            "Training loss at epoch 9: 0.58251\n"
          ]
        },
        {
          "output_type": "stream",
          "name": "stderr",
          "text": [
            "100%|██████████| 391/391 [00:06<00:00, 57.89it/s]\n"
          ]
        },
        {
          "output_type": "stream",
          "name": "stdout",
          "text": [
            "Training loss at epoch 10: 0.49699\n"
          ]
        },
        {
          "output_type": "stream",
          "name": "stderr",
          "text": [
            "100%|██████████| 391/391 [00:06<00:00, 56.99it/s]\n"
          ]
        },
        {
          "output_type": "stream",
          "name": "stdout",
          "text": [
            "Training loss at epoch 11: 0.43679\n"
          ]
        },
        {
          "output_type": "stream",
          "name": "stderr",
          "text": [
            "100%|██████████| 391/391 [00:06<00:00, 56.74it/s]\n"
          ]
        },
        {
          "output_type": "stream",
          "name": "stdout",
          "text": [
            "Training loss at epoch 12: 0.37828\n"
          ]
        },
        {
          "output_type": "stream",
          "name": "stderr",
          "text": [
            "100%|██████████| 391/391 [00:06<00:00, 57.77it/s]\n"
          ]
        },
        {
          "output_type": "stream",
          "name": "stdout",
          "text": [
            "Training loss at epoch 13: 0.33866\n"
          ]
        },
        {
          "output_type": "stream",
          "name": "stderr",
          "text": [
            "100%|██████████| 391/391 [00:06<00:00, 58.10it/s]\n"
          ]
        },
        {
          "output_type": "stream",
          "name": "stdout",
          "text": [
            "Training loss at epoch 14: 0.30836\n"
          ]
        },
        {
          "output_type": "stream",
          "name": "stderr",
          "text": [
            "100%|██████████| 391/391 [00:06<00:00, 58.06it/s]\n"
          ]
        },
        {
          "output_type": "stream",
          "name": "stdout",
          "text": [
            "Training loss at epoch 15: 0.28884\n"
          ]
        },
        {
          "output_type": "stream",
          "name": "stderr",
          "text": [
            "100%|██████████| 391/391 [00:06<00:00, 56.73it/s]\n"
          ]
        },
        {
          "output_type": "stream",
          "name": "stdout",
          "text": [
            "Training loss at epoch 16: 0.27279\n"
          ]
        },
        {
          "output_type": "stream",
          "name": "stderr",
          "text": [
            "100%|██████████| 391/391 [00:06<00:00, 56.92it/s]\n"
          ]
        },
        {
          "output_type": "stream",
          "name": "stdout",
          "text": [
            "Training loss at epoch 17: 0.25232\n"
          ]
        },
        {
          "output_type": "stream",
          "name": "stderr",
          "text": [
            "100%|██████████| 391/391 [00:06<00:00, 57.55it/s]\n"
          ]
        },
        {
          "output_type": "stream",
          "name": "stdout",
          "text": [
            "Training loss at epoch 18: 0.23824\n"
          ]
        },
        {
          "output_type": "stream",
          "name": "stderr",
          "text": [
            "100%|██████████| 391/391 [00:06<00:00, 57.93it/s]\n"
          ]
        },
        {
          "output_type": "stream",
          "name": "stdout",
          "text": [
            "Training loss at epoch 19: 0.22861\n"
          ]
        },
        {
          "output_type": "stream",
          "name": "stderr",
          "text": [
            "100%|██████████| 391/391 [00:06<00:00, 57.53it/s]\n"
          ]
        },
        {
          "output_type": "stream",
          "name": "stdout",
          "text": [
            "Training loss at epoch 20: 0.21769\n",
            "* Testing loss: 3.24636\n",
            "\n",
            "* Best params updated!: {'lr': 0.005, 'alpha': 0.99, 'eps': 1e-07, 'weight_decay': 1e-05}\n",
            "==============\n",
            "\n",
            "> Starting trial 2\n",
            "Chosen hyperparams: {'lr': 0.001, 'alpha': 0.999, 'eps': 1e-09, 'weight_decay': 1e-06}\n",
            "\n"
          ]
        },
        {
          "output_type": "stream",
          "name": "stderr",
          "text": [
            "100%|██████████| 391/391 [00:06<00:00, 57.59it/s]\n"
          ]
        },
        {
          "output_type": "stream",
          "name": "stdout",
          "text": [
            "Training loss at epoch 1: 2.21244\n"
          ]
        },
        {
          "output_type": "stream",
          "name": "stderr",
          "text": [
            "100%|██████████| 391/391 [00:06<00:00, 56.98it/s]\n"
          ]
        },
        {
          "output_type": "stream",
          "name": "stdout",
          "text": [
            "Training loss at epoch 2: 1.39197\n"
          ]
        },
        {
          "output_type": "stream",
          "name": "stderr",
          "text": [
            "100%|██████████| 391/391 [00:06<00:00, 58.55it/s]\n"
          ]
        },
        {
          "output_type": "stream",
          "name": "stdout",
          "text": [
            "Training loss at epoch 3: 1.20280\n"
          ]
        },
        {
          "output_type": "stream",
          "name": "stderr",
          "text": [
            "100%|██████████| 391/391 [00:06<00:00, 58.42it/s]\n"
          ]
        },
        {
          "output_type": "stream",
          "name": "stdout",
          "text": [
            "Training loss at epoch 4: 1.06394\n"
          ]
        },
        {
          "output_type": "stream",
          "name": "stderr",
          "text": [
            "100%|██████████| 391/391 [00:06<00:00, 57.95it/s]\n"
          ]
        },
        {
          "output_type": "stream",
          "name": "stdout",
          "text": [
            "Training loss at epoch 5: 0.94214\n"
          ]
        },
        {
          "output_type": "stream",
          "name": "stderr",
          "text": [
            "100%|██████████| 391/391 [00:06<00:00, 57.57it/s]\n"
          ]
        },
        {
          "output_type": "stream",
          "name": "stdout",
          "text": [
            "Training loss at epoch 6: 0.82384\n"
          ]
        },
        {
          "output_type": "stream",
          "name": "stderr",
          "text": [
            "100%|██████████| 391/391 [00:06<00:00, 58.27it/s]\n"
          ]
        },
        {
          "output_type": "stream",
          "name": "stdout",
          "text": [
            "Training loss at epoch 7: 0.71803\n"
          ]
        },
        {
          "output_type": "stream",
          "name": "stderr",
          "text": [
            "100%|██████████| 391/391 [00:06<00:00, 58.72it/s]\n"
          ]
        },
        {
          "output_type": "stream",
          "name": "stdout",
          "text": [
            "Training loss at epoch 8: 0.60077\n"
          ]
        },
        {
          "output_type": "stream",
          "name": "stderr",
          "text": [
            "100%|██████████| 391/391 [00:07<00:00, 55.44it/s]\n"
          ]
        },
        {
          "output_type": "stream",
          "name": "stdout",
          "text": [
            "Training loss at epoch 9: 0.49725\n"
          ]
        },
        {
          "output_type": "stream",
          "name": "stderr",
          "text": [
            "100%|██████████| 391/391 [00:06<00:00, 57.11it/s]\n"
          ]
        },
        {
          "output_type": "stream",
          "name": "stdout",
          "text": [
            "Training loss at epoch 10: 0.39765\n"
          ]
        },
        {
          "output_type": "stream",
          "name": "stderr",
          "text": [
            "100%|██████████| 391/391 [00:06<00:00, 56.76it/s]\n"
          ]
        },
        {
          "output_type": "stream",
          "name": "stdout",
          "text": [
            "Training loss at epoch 11: 0.30996\n"
          ]
        },
        {
          "output_type": "stream",
          "name": "stderr",
          "text": [
            "100%|██████████| 391/391 [00:06<00:00, 56.93it/s]\n"
          ]
        },
        {
          "output_type": "stream",
          "name": "stdout",
          "text": [
            "Training loss at epoch 12: 0.24010\n"
          ]
        },
        {
          "output_type": "stream",
          "name": "stderr",
          "text": [
            "100%|██████████| 391/391 [00:06<00:00, 58.56it/s]\n"
          ]
        },
        {
          "output_type": "stream",
          "name": "stdout",
          "text": [
            "Training loss at epoch 13: 0.16014\n"
          ]
        },
        {
          "output_type": "stream",
          "name": "stderr",
          "text": [
            "100%|██████████| 391/391 [00:06<00:00, 57.93it/s]\n"
          ]
        },
        {
          "output_type": "stream",
          "name": "stdout",
          "text": [
            "Training loss at epoch 14: 0.13870\n"
          ]
        },
        {
          "output_type": "stream",
          "name": "stderr",
          "text": [
            "100%|██████████| 391/391 [00:06<00:00, 57.54it/s]\n"
          ]
        },
        {
          "output_type": "stream",
          "name": "stdout",
          "text": [
            "Training loss at epoch 15: 0.10153\n"
          ]
        },
        {
          "output_type": "stream",
          "name": "stderr",
          "text": [
            "100%|██████████| 391/391 [00:06<00:00, 57.65it/s]\n"
          ]
        },
        {
          "output_type": "stream",
          "name": "stdout",
          "text": [
            "Training loss at epoch 16: 0.06835\n"
          ]
        },
        {
          "output_type": "stream",
          "name": "stderr",
          "text": [
            "100%|██████████| 391/391 [00:06<00:00, 58.23it/s]\n"
          ]
        },
        {
          "output_type": "stream",
          "name": "stdout",
          "text": [
            "Training loss at epoch 17: 0.08040\n"
          ]
        },
        {
          "output_type": "stream",
          "name": "stderr",
          "text": [
            "100%|██████████| 391/391 [00:06<00:00, 57.66it/s]\n"
          ]
        },
        {
          "output_type": "stream",
          "name": "stdout",
          "text": [
            "Training loss at epoch 18: 0.16076\n"
          ]
        },
        {
          "output_type": "stream",
          "name": "stderr",
          "text": [
            "100%|██████████| 391/391 [00:06<00:00, 58.25it/s]\n"
          ]
        },
        {
          "output_type": "stream",
          "name": "stdout",
          "text": [
            "Training loss at epoch 19: 0.02610\n"
          ]
        },
        {
          "output_type": "stream",
          "name": "stderr",
          "text": [
            "100%|██████████| 391/391 [00:06<00:00, 58.38it/s]\n"
          ]
        },
        {
          "output_type": "stream",
          "name": "stdout",
          "text": [
            "Training loss at epoch 20: 0.04915\n",
            "* Testing loss: 2.91909\n",
            "\n",
            "* Best params updated!: {'lr': 0.001, 'alpha': 0.999, 'eps': 1e-09, 'weight_decay': 1e-06}\n",
            "==============\n",
            "\n",
            "> Starting trial 3\n",
            "Chosen hyperparams: {'lr': 0.0001, 'alpha': 0.9, 'eps': 1e-07, 'weight_decay': 1e-06}\n",
            "\n"
          ]
        },
        {
          "output_type": "stream",
          "name": "stderr",
          "text": [
            "100%|██████████| 391/391 [00:06<00:00, 58.64it/s]\n"
          ]
        },
        {
          "output_type": "stream",
          "name": "stdout",
          "text": [
            "Training loss at epoch 1: 1.94873\n"
          ]
        },
        {
          "output_type": "stream",
          "name": "stderr",
          "text": [
            "100%|██████████| 391/391 [00:06<00:00, 58.65it/s]\n"
          ]
        },
        {
          "output_type": "stream",
          "name": "stdout",
          "text": [
            "Training loss at epoch 2: 1.68533\n"
          ]
        },
        {
          "output_type": "stream",
          "name": "stderr",
          "text": [
            "100%|██████████| 391/391 [00:06<00:00, 57.93it/s]\n"
          ]
        },
        {
          "output_type": "stream",
          "name": "stdout",
          "text": [
            "Training loss at epoch 3: 1.56351\n"
          ]
        },
        {
          "output_type": "stream",
          "name": "stderr",
          "text": [
            "100%|██████████| 391/391 [00:06<00:00, 58.82it/s]\n"
          ]
        },
        {
          "output_type": "stream",
          "name": "stdout",
          "text": [
            "Training loss at epoch 4: 1.48225\n"
          ]
        },
        {
          "output_type": "stream",
          "name": "stderr",
          "text": [
            "100%|██████████| 391/391 [00:06<00:00, 58.39it/s]\n"
          ]
        },
        {
          "output_type": "stream",
          "name": "stdout",
          "text": [
            "Training loss at epoch 5: 1.42240\n"
          ]
        },
        {
          "output_type": "stream",
          "name": "stderr",
          "text": [
            "100%|██████████| 391/391 [00:06<00:00, 58.22it/s]\n"
          ]
        },
        {
          "output_type": "stream",
          "name": "stdout",
          "text": [
            "Training loss at epoch 6: 1.36958\n"
          ]
        },
        {
          "output_type": "stream",
          "name": "stderr",
          "text": [
            "100%|██████████| 391/391 [00:06<00:00, 58.75it/s]\n"
          ]
        },
        {
          "output_type": "stream",
          "name": "stdout",
          "text": [
            "Training loss at epoch 7: 1.32224\n"
          ]
        },
        {
          "output_type": "stream",
          "name": "stderr",
          "text": [
            "100%|██████████| 391/391 [00:06<00:00, 57.51it/s]\n"
          ]
        },
        {
          "output_type": "stream",
          "name": "stdout",
          "text": [
            "Training loss at epoch 8: 1.28051\n"
          ]
        },
        {
          "output_type": "stream",
          "name": "stderr",
          "text": [
            "100%|██████████| 391/391 [00:06<00:00, 57.45it/s]\n"
          ]
        },
        {
          "output_type": "stream",
          "name": "stdout",
          "text": [
            "Training loss at epoch 9: 1.24383\n"
          ]
        },
        {
          "output_type": "stream",
          "name": "stderr",
          "text": [
            "100%|██████████| 391/391 [00:06<00:00, 58.38it/s]\n"
          ]
        },
        {
          "output_type": "stream",
          "name": "stdout",
          "text": [
            "Training loss at epoch 10: 1.20981\n"
          ]
        },
        {
          "output_type": "stream",
          "name": "stderr",
          "text": [
            "100%|██████████| 391/391 [00:06<00:00, 57.27it/s]\n"
          ]
        },
        {
          "output_type": "stream",
          "name": "stdout",
          "text": [
            "Training loss at epoch 11: 1.18150\n"
          ]
        },
        {
          "output_type": "stream",
          "name": "stderr",
          "text": [
            "100%|██████████| 391/391 [00:06<00:00, 56.27it/s]\n"
          ]
        },
        {
          "output_type": "stream",
          "name": "stdout",
          "text": [
            "Training loss at epoch 12: 1.14954\n"
          ]
        },
        {
          "output_type": "stream",
          "name": "stderr",
          "text": [
            "100%|██████████| 391/391 [00:06<00:00, 56.53it/s]\n"
          ]
        },
        {
          "output_type": "stream",
          "name": "stdout",
          "text": [
            "Training loss at epoch 13: 1.12396\n"
          ]
        },
        {
          "output_type": "stream",
          "name": "stderr",
          "text": [
            "100%|██████████| 391/391 [00:06<00:00, 57.75it/s]\n"
          ]
        },
        {
          "output_type": "stream",
          "name": "stdout",
          "text": [
            "Training loss at epoch 14: 1.09615\n"
          ]
        },
        {
          "output_type": "stream",
          "name": "stderr",
          "text": [
            "100%|██████████| 391/391 [00:06<00:00, 57.45it/s]\n"
          ]
        },
        {
          "output_type": "stream",
          "name": "stdout",
          "text": [
            "Training loss at epoch 15: 1.07018\n"
          ]
        },
        {
          "output_type": "stream",
          "name": "stderr",
          "text": [
            "100%|██████████| 391/391 [00:07<00:00, 54.72it/s]\n"
          ]
        },
        {
          "output_type": "stream",
          "name": "stdout",
          "text": [
            "Training loss at epoch 16: 1.04529\n"
          ]
        },
        {
          "output_type": "stream",
          "name": "stderr",
          "text": [
            "100%|██████████| 391/391 [00:07<00:00, 54.74it/s]\n"
          ]
        },
        {
          "output_type": "stream",
          "name": "stdout",
          "text": [
            "Training loss at epoch 17: 1.01855\n"
          ]
        },
        {
          "output_type": "stream",
          "name": "stderr",
          "text": [
            "100%|██████████| 391/391 [00:06<00:00, 56.73it/s]\n"
          ]
        },
        {
          "output_type": "stream",
          "name": "stdout",
          "text": [
            "Training loss at epoch 18: 0.99550\n"
          ]
        },
        {
          "output_type": "stream",
          "name": "stderr",
          "text": [
            "100%|██████████| 391/391 [00:06<00:00, 56.97it/s]\n"
          ]
        },
        {
          "output_type": "stream",
          "name": "stdout",
          "text": [
            "Training loss at epoch 19: 0.96981\n"
          ]
        },
        {
          "output_type": "stream",
          "name": "stderr",
          "text": [
            "100%|██████████| 391/391 [00:06<00:00, 57.47it/s]\n"
          ]
        },
        {
          "output_type": "stream",
          "name": "stdout",
          "text": [
            "Training loss at epoch 20: 0.94874\n"
          ]
        },
        {
          "output_type": "stream",
          "name": "stderr",
          "text": [
            "100%|██████████| 391/391 [00:06<00:00, 58.08it/s]\n"
          ]
        },
        {
          "output_type": "stream",
          "name": "stdout",
          "text": [
            "Training loss at epoch 21: 0.92380\n"
          ]
        },
        {
          "output_type": "stream",
          "name": "stderr",
          "text": [
            "100%|██████████| 391/391 [00:06<00:00, 58.14it/s]\n"
          ]
        },
        {
          "output_type": "stream",
          "name": "stdout",
          "text": [
            "Training loss at epoch 22: 0.90017\n"
          ]
        },
        {
          "output_type": "stream",
          "name": "stderr",
          "text": [
            "100%|██████████| 391/391 [00:06<00:00, 57.71it/s]\n"
          ]
        },
        {
          "output_type": "stream",
          "name": "stdout",
          "text": [
            "Training loss at epoch 23: 0.87749\n"
          ]
        },
        {
          "output_type": "stream",
          "name": "stderr",
          "text": [
            "100%|██████████| 391/391 [00:06<00:00, 56.86it/s]\n"
          ]
        },
        {
          "output_type": "stream",
          "name": "stdout",
          "text": [
            "Training loss at epoch 24: 0.85433\n"
          ]
        },
        {
          "output_type": "stream",
          "name": "stderr",
          "text": [
            "100%|██████████| 391/391 [00:06<00:00, 56.36it/s]\n"
          ]
        },
        {
          "output_type": "stream",
          "name": "stdout",
          "text": [
            "Training loss at epoch 25: 0.83023\n",
            "* Testing loss: 1.17216\n",
            "\n",
            "* Best params updated!: {'lr': 0.0001, 'alpha': 0.9, 'eps': 1e-07, 'weight_decay': 1e-06}\n",
            "==============\n",
            "\n",
            "> Starting trial 4\n",
            "Chosen hyperparams: {'lr': 0.05, 'alpha': 0.99, 'eps': 1e-07, 'weight_decay': 0.0001}\n",
            "\n"
          ]
        },
        {
          "output_type": "stream",
          "name": "stderr",
          "text": [
            "100%|██████████| 391/391 [00:06<00:00, 56.48it/s]\n"
          ]
        },
        {
          "output_type": "stream",
          "name": "stdout",
          "text": [
            "Training loss at epoch 1: 23448.63970\n"
          ]
        },
        {
          "output_type": "stream",
          "name": "stderr",
          "text": [
            "100%|██████████| 391/391 [00:07<00:00, 54.39it/s]\n"
          ]
        },
        {
          "output_type": "stream",
          "name": "stdout",
          "text": [
            "Training loss at epoch 2: 2.42435\n"
          ]
        },
        {
          "output_type": "stream",
          "name": "stderr",
          "text": [
            "100%|██████████| 391/391 [00:07<00:00, 54.99it/s]\n"
          ]
        },
        {
          "output_type": "stream",
          "name": "stdout",
          "text": [
            "Training loss at epoch 3: 3.10791\n"
          ]
        },
        {
          "output_type": "stream",
          "name": "stderr",
          "text": [
            "100%|██████████| 391/391 [00:07<00:00, 54.83it/s]\n"
          ]
        },
        {
          "output_type": "stream",
          "name": "stdout",
          "text": [
            "Training loss at epoch 4: 2.31374\n"
          ]
        },
        {
          "output_type": "stream",
          "name": "stderr",
          "text": [
            "100%|██████████| 391/391 [00:06<00:00, 56.11it/s]\n"
          ]
        },
        {
          "output_type": "stream",
          "name": "stdout",
          "text": [
            "Training loss at epoch 5: 3.77943\n"
          ]
        },
        {
          "output_type": "stream",
          "name": "stderr",
          "text": [
            "100%|██████████| 391/391 [00:06<00:00, 57.55it/s]\n"
          ]
        },
        {
          "output_type": "stream",
          "name": "stdout",
          "text": [
            "Training loss at epoch 6: 2.31228\n"
          ]
        },
        {
          "output_type": "stream",
          "name": "stderr",
          "text": [
            "100%|██████████| 391/391 [00:07<00:00, 55.78it/s]\n"
          ]
        },
        {
          "output_type": "stream",
          "name": "stdout",
          "text": [
            "Training loss at epoch 7: 2.31167\n"
          ]
        },
        {
          "output_type": "stream",
          "name": "stderr",
          "text": [
            "100%|██████████| 391/391 [00:06<00:00, 56.12it/s]\n"
          ]
        },
        {
          "output_type": "stream",
          "name": "stdout",
          "text": [
            "Training loss at epoch 8: 2.37446\n"
          ]
        },
        {
          "output_type": "stream",
          "name": "stderr",
          "text": [
            "100%|██████████| 391/391 [00:06<00:00, 56.64it/s]\n"
          ]
        },
        {
          "output_type": "stream",
          "name": "stdout",
          "text": [
            "Training loss at epoch 9: 2.30816\n"
          ]
        },
        {
          "output_type": "stream",
          "name": "stderr",
          "text": [
            "100%|██████████| 391/391 [00:06<00:00, 57.90it/s]\n"
          ]
        },
        {
          "output_type": "stream",
          "name": "stdout",
          "text": [
            "Training loss at epoch 10: 2.30760\n"
          ]
        },
        {
          "output_type": "stream",
          "name": "stderr",
          "text": [
            "100%|██████████| 391/391 [00:06<00:00, 58.34it/s]\n"
          ]
        },
        {
          "output_type": "stream",
          "name": "stdout",
          "text": [
            "Training loss at epoch 11: 3.07560\n"
          ]
        },
        {
          "output_type": "stream",
          "name": "stderr",
          "text": [
            "100%|██████████| 391/391 [00:06<00:00, 59.36it/s]\n"
          ]
        },
        {
          "output_type": "stream",
          "name": "stdout",
          "text": [
            "Training loss at epoch 12: 2.31021\n"
          ]
        },
        {
          "output_type": "stream",
          "name": "stderr",
          "text": [
            "100%|██████████| 391/391 [00:06<00:00, 59.00it/s]\n"
          ]
        },
        {
          "output_type": "stream",
          "name": "stdout",
          "text": [
            "Training loss at epoch 13: 2.30818\n"
          ]
        },
        {
          "output_type": "stream",
          "name": "stderr",
          "text": [
            "100%|██████████| 391/391 [00:06<00:00, 58.99it/s]\n"
          ]
        },
        {
          "output_type": "stream",
          "name": "stdout",
          "text": [
            "Training loss at epoch 14: 2.30673\n"
          ]
        },
        {
          "output_type": "stream",
          "name": "stderr",
          "text": [
            "100%|██████████| 391/391 [00:06<00:00, 57.70it/s]\n"
          ]
        },
        {
          "output_type": "stream",
          "name": "stdout",
          "text": [
            "Training loss at epoch 15: 2.30786\n",
            "* Testing loss: 2.30743\n",
            "==============\n",
            "\n",
            "> Starting trial 5\n",
            "Chosen hyperparams: {'lr': 0.01, 'alpha': 0.99, 'eps': 1e-09, 'weight_decay': 0.0001}\n",
            "\n"
          ]
        },
        {
          "output_type": "stream",
          "name": "stderr",
          "text": [
            "100%|██████████| 391/391 [00:06<00:00, 57.55it/s]\n"
          ]
        },
        {
          "output_type": "stream",
          "name": "stdout",
          "text": [
            "Training loss at epoch 1: 53.80359\n"
          ]
        },
        {
          "output_type": "stream",
          "name": "stderr",
          "text": [
            "100%|██████████| 391/391 [00:06<00:00, 58.35it/s]\n"
          ]
        },
        {
          "output_type": "stream",
          "name": "stdout",
          "text": [
            "Training loss at epoch 2: 2.18661\n"
          ]
        },
        {
          "output_type": "stream",
          "name": "stderr",
          "text": [
            "100%|██████████| 391/391 [00:06<00:00, 56.18it/s]\n"
          ]
        },
        {
          "output_type": "stream",
          "name": "stdout",
          "text": [
            "Training loss at epoch 3: 1.88120\n"
          ]
        },
        {
          "output_type": "stream",
          "name": "stderr",
          "text": [
            "100%|██████████| 391/391 [00:06<00:00, 56.84it/s]\n"
          ]
        },
        {
          "output_type": "stream",
          "name": "stdout",
          "text": [
            "Training loss at epoch 4: 1.72371\n"
          ]
        },
        {
          "output_type": "stream",
          "name": "stderr",
          "text": [
            "100%|██████████| 391/391 [00:06<00:00, 57.20it/s]\n"
          ]
        },
        {
          "output_type": "stream",
          "name": "stdout",
          "text": [
            "Training loss at epoch 5: 1.61523\n"
          ]
        },
        {
          "output_type": "stream",
          "name": "stderr",
          "text": [
            "100%|██████████| 391/391 [00:06<00:00, 57.44it/s]\n"
          ]
        },
        {
          "output_type": "stream",
          "name": "stdout",
          "text": [
            "Training loss at epoch 6: 1.54672\n"
          ]
        },
        {
          "output_type": "stream",
          "name": "stderr",
          "text": [
            "100%|██████████| 391/391 [00:06<00:00, 56.96it/s]\n"
          ]
        },
        {
          "output_type": "stream",
          "name": "stdout",
          "text": [
            "Training loss at epoch 7: 1.49642\n"
          ]
        },
        {
          "output_type": "stream",
          "name": "stderr",
          "text": [
            "100%|██████████| 391/391 [00:06<00:00, 57.03it/s]\n"
          ]
        },
        {
          "output_type": "stream",
          "name": "stdout",
          "text": [
            "Training loss at epoch 8: 1.43204\n"
          ]
        },
        {
          "output_type": "stream",
          "name": "stderr",
          "text": [
            "100%|██████████| 391/391 [00:06<00:00, 56.18it/s]\n"
          ]
        },
        {
          "output_type": "stream",
          "name": "stdout",
          "text": [
            "Training loss at epoch 9: 1.66871\n"
          ]
        },
        {
          "output_type": "stream",
          "name": "stderr",
          "text": [
            "100%|██████████| 391/391 [00:06<00:00, 56.32it/s]\n"
          ]
        },
        {
          "output_type": "stream",
          "name": "stdout",
          "text": [
            "Training loss at epoch 10: 3.82865\n"
          ]
        },
        {
          "output_type": "stream",
          "name": "stderr",
          "text": [
            "100%|██████████| 391/391 [00:06<00:00, 56.30it/s]\n"
          ]
        },
        {
          "output_type": "stream",
          "name": "stdout",
          "text": [
            "Training loss at epoch 11: 2.40374\n"
          ]
        },
        {
          "output_type": "stream",
          "name": "stderr",
          "text": [
            "100%|██████████| 391/391 [00:07<00:00, 55.71it/s]\n"
          ]
        },
        {
          "output_type": "stream",
          "name": "stdout",
          "text": [
            "Training loss at epoch 12: 1.43461\n"
          ]
        },
        {
          "output_type": "stream",
          "name": "stderr",
          "text": [
            "100%|██████████| 391/391 [00:07<00:00, 55.66it/s]\n"
          ]
        },
        {
          "output_type": "stream",
          "name": "stdout",
          "text": [
            "Training loss at epoch 13: 1.35600\n"
          ]
        },
        {
          "output_type": "stream",
          "name": "stderr",
          "text": [
            "100%|██████████| 391/391 [00:06<00:00, 57.10it/s]\n"
          ]
        },
        {
          "output_type": "stream",
          "name": "stdout",
          "text": [
            "Training loss at epoch 14: 1.33408\n"
          ]
        },
        {
          "output_type": "stream",
          "name": "stderr",
          "text": [
            "100%|██████████| 391/391 [00:06<00:00, 57.40it/s]\n"
          ]
        },
        {
          "output_type": "stream",
          "name": "stdout",
          "text": [
            "Training loss at epoch 15: 1.27418\n",
            "* Testing loss: 1.62534\n",
            "==============\n",
            "\n",
            "> Starting trial 6\n",
            "Chosen hyperparams: {'lr': 0.0001, 'alpha': 0.999, 'eps': 1e-08, 'weight_decay': 1e-06}\n",
            "\n"
          ]
        },
        {
          "output_type": "stream",
          "name": "stderr",
          "text": [
            "100%|██████████| 391/391 [00:06<00:00, 56.57it/s]\n"
          ]
        },
        {
          "output_type": "stream",
          "name": "stdout",
          "text": [
            "Training loss at epoch 1: 1.82667\n"
          ]
        },
        {
          "output_type": "stream",
          "name": "stderr",
          "text": [
            "100%|██████████| 391/391 [00:06<00:00, 57.53it/s]\n"
          ]
        },
        {
          "output_type": "stream",
          "name": "stdout",
          "text": [
            "Training loss at epoch 2: 1.57868\n"
          ]
        },
        {
          "output_type": "stream",
          "name": "stderr",
          "text": [
            "100%|██████████| 391/391 [00:06<00:00, 57.08it/s]\n"
          ]
        },
        {
          "output_type": "stream",
          "name": "stdout",
          "text": [
            "Training loss at epoch 3: 1.49190\n"
          ]
        },
        {
          "output_type": "stream",
          "name": "stderr",
          "text": [
            "100%|██████████| 391/391 [00:06<00:00, 55.91it/s]\n"
          ]
        },
        {
          "output_type": "stream",
          "name": "stdout",
          "text": [
            "Training loss at epoch 4: 1.42748\n"
          ]
        },
        {
          "output_type": "stream",
          "name": "stderr",
          "text": [
            "100%|██████████| 391/391 [00:06<00:00, 56.34it/s]\n"
          ]
        },
        {
          "output_type": "stream",
          "name": "stdout",
          "text": [
            "Training loss at epoch 5: 1.37424\n"
          ]
        },
        {
          "output_type": "stream",
          "name": "stderr",
          "text": [
            "100%|██████████| 391/391 [00:06<00:00, 55.99it/s]\n"
          ]
        },
        {
          "output_type": "stream",
          "name": "stdout",
          "text": [
            "Training loss at epoch 6: 1.32769\n"
          ]
        },
        {
          "output_type": "stream",
          "name": "stderr",
          "text": [
            "100%|██████████| 391/391 [00:06<00:00, 56.09it/s]\n"
          ]
        },
        {
          "output_type": "stream",
          "name": "stdout",
          "text": [
            "Training loss at epoch 7: 1.28666\n"
          ]
        },
        {
          "output_type": "stream",
          "name": "stderr",
          "text": [
            "100%|██████████| 391/391 [00:06<00:00, 57.22it/s]\n"
          ]
        },
        {
          "output_type": "stream",
          "name": "stdout",
          "text": [
            "Training loss at epoch 8: 1.25199\n"
          ]
        },
        {
          "output_type": "stream",
          "name": "stderr",
          "text": [
            "100%|██████████| 391/391 [00:06<00:00, 56.82it/s]\n"
          ]
        },
        {
          "output_type": "stream",
          "name": "stdout",
          "text": [
            "Training loss at epoch 9: 1.21885\n"
          ]
        },
        {
          "output_type": "stream",
          "name": "stderr",
          "text": [
            "100%|██████████| 391/391 [00:06<00:00, 57.49it/s]\n"
          ]
        },
        {
          "output_type": "stream",
          "name": "stdout",
          "text": [
            "Training loss at epoch 10: 1.18833\n"
          ]
        },
        {
          "output_type": "stream",
          "name": "stderr",
          "text": [
            "100%|██████████| 391/391 [00:06<00:00, 59.24it/s]\n"
          ]
        },
        {
          "output_type": "stream",
          "name": "stdout",
          "text": [
            "Training loss at epoch 11: 1.16254\n"
          ]
        },
        {
          "output_type": "stream",
          "name": "stderr",
          "text": [
            "100%|██████████| 391/391 [00:06<00:00, 58.65it/s]\n"
          ]
        },
        {
          "output_type": "stream",
          "name": "stdout",
          "text": [
            "Training loss at epoch 12: 1.13559\n"
          ]
        },
        {
          "output_type": "stream",
          "name": "stderr",
          "text": [
            "100%|██████████| 391/391 [00:06<00:00, 59.51it/s]\n"
          ]
        },
        {
          "output_type": "stream",
          "name": "stdout",
          "text": [
            "Training loss at epoch 13: 1.11309\n"
          ]
        },
        {
          "output_type": "stream",
          "name": "stderr",
          "text": [
            "100%|██████████| 391/391 [00:06<00:00, 58.28it/s]\n"
          ]
        },
        {
          "output_type": "stream",
          "name": "stdout",
          "text": [
            "Training loss at epoch 14: 1.08790\n"
          ]
        },
        {
          "output_type": "stream",
          "name": "stderr",
          "text": [
            "100%|██████████| 391/391 [00:06<00:00, 57.68it/s]\n"
          ]
        },
        {
          "output_type": "stream",
          "name": "stdout",
          "text": [
            "Training loss at epoch 15: 1.06651\n"
          ]
        },
        {
          "output_type": "stream",
          "name": "stderr",
          "text": [
            "100%|██████████| 391/391 [00:06<00:00, 57.26it/s]\n"
          ]
        },
        {
          "output_type": "stream",
          "name": "stdout",
          "text": [
            "Training loss at epoch 16: 1.04525\n"
          ]
        },
        {
          "output_type": "stream",
          "name": "stderr",
          "text": [
            "100%|██████████| 391/391 [00:06<00:00, 57.42it/s]\n"
          ]
        },
        {
          "output_type": "stream",
          "name": "stdout",
          "text": [
            "Training loss at epoch 17: 1.02503\n"
          ]
        },
        {
          "output_type": "stream",
          "name": "stderr",
          "text": [
            "100%|██████████| 391/391 [00:06<00:00, 57.43it/s]\n"
          ]
        },
        {
          "output_type": "stream",
          "name": "stdout",
          "text": [
            "Training loss at epoch 18: 1.00604\n"
          ]
        },
        {
          "output_type": "stream",
          "name": "stderr",
          "text": [
            "100%|██████████| 391/391 [00:06<00:00, 57.14it/s]\n"
          ]
        },
        {
          "output_type": "stream",
          "name": "stdout",
          "text": [
            "Training loss at epoch 19: 0.98694\n"
          ]
        },
        {
          "output_type": "stream",
          "name": "stderr",
          "text": [
            "100%|██████████| 391/391 [00:06<00:00, 57.79it/s]\n"
          ]
        },
        {
          "output_type": "stream",
          "name": "stdout",
          "text": [
            "Training loss at epoch 20: 0.96547\n"
          ]
        },
        {
          "output_type": "stream",
          "name": "stderr",
          "text": [
            "100%|██████████| 391/391 [00:06<00:00, 58.03it/s]\n"
          ]
        },
        {
          "output_type": "stream",
          "name": "stdout",
          "text": [
            "Training loss at epoch 21: 0.94813\n"
          ]
        },
        {
          "output_type": "stream",
          "name": "stderr",
          "text": [
            "100%|██████████| 391/391 [00:06<00:00, 58.30it/s]\n"
          ]
        },
        {
          "output_type": "stream",
          "name": "stdout",
          "text": [
            "Training loss at epoch 22: 0.93207\n"
          ]
        },
        {
          "output_type": "stream",
          "name": "stderr",
          "text": [
            "100%|██████████| 391/391 [00:06<00:00, 56.60it/s]\n"
          ]
        },
        {
          "output_type": "stream",
          "name": "stdout",
          "text": [
            "Training loss at epoch 23: 0.90979\n"
          ]
        },
        {
          "output_type": "stream",
          "name": "stderr",
          "text": [
            "100%|██████████| 391/391 [00:06<00:00, 57.81it/s]\n"
          ]
        },
        {
          "output_type": "stream",
          "name": "stdout",
          "text": [
            "Training loss at epoch 24: 0.89220\n"
          ]
        },
        {
          "output_type": "stream",
          "name": "stderr",
          "text": [
            "100%|██████████| 391/391 [00:06<00:00, 56.27it/s]\n"
          ]
        },
        {
          "output_type": "stream",
          "name": "stdout",
          "text": [
            "Training loss at epoch 25: 0.87627\n",
            "* Testing loss: 1.11949\n",
            "\n",
            "* Best params updated!: {'lr': 0.0001, 'alpha': 0.999, 'eps': 1e-08, 'weight_decay': 1e-06}\n",
            "==============\n",
            "\n",
            "> Starting trial 7\n",
            "Chosen hyperparams: {'lr': 0.001, 'alpha': 0.999, 'eps': 1e-09, 'weight_decay': 1e-06}\n",
            "\n"
          ]
        },
        {
          "output_type": "stream",
          "name": "stderr",
          "text": [
            "100%|██████████| 391/391 [00:06<00:00, 57.32it/s]\n"
          ]
        },
        {
          "output_type": "stream",
          "name": "stdout",
          "text": [
            "Training loss at epoch 1: 3.00385\n"
          ]
        },
        {
          "output_type": "stream",
          "name": "stderr",
          "text": [
            "100%|██████████| 391/391 [00:06<00:00, 56.95it/s]\n"
          ]
        },
        {
          "output_type": "stream",
          "name": "stdout",
          "text": [
            "Training loss at epoch 2: 1.53995\n"
          ]
        },
        {
          "output_type": "stream",
          "name": "stderr",
          "text": [
            "100%|██████████| 391/391 [00:06<00:00, 56.79it/s]\n"
          ]
        },
        {
          "output_type": "stream",
          "name": "stdout",
          "text": [
            "Training loss at epoch 3: 1.34854\n"
          ]
        },
        {
          "output_type": "stream",
          "name": "stderr",
          "text": [
            "100%|██████████| 391/391 [00:06<00:00, 56.30it/s]\n"
          ]
        },
        {
          "output_type": "stream",
          "name": "stdout",
          "text": [
            "Training loss at epoch 4: 1.22412\n"
          ]
        },
        {
          "output_type": "stream",
          "name": "stderr",
          "text": [
            "100%|██████████| 391/391 [00:06<00:00, 56.97it/s]\n"
          ]
        },
        {
          "output_type": "stream",
          "name": "stdout",
          "text": [
            "Training loss at epoch 5: 1.11942\n"
          ]
        },
        {
          "output_type": "stream",
          "name": "stderr",
          "text": [
            "100%|██████████| 391/391 [00:06<00:00, 56.50it/s]\n"
          ]
        },
        {
          "output_type": "stream",
          "name": "stdout",
          "text": [
            "Training loss at epoch 6: 1.03009\n"
          ]
        },
        {
          "output_type": "stream",
          "name": "stderr",
          "text": [
            "100%|██████████| 391/391 [00:06<00:00, 56.04it/s]\n"
          ]
        },
        {
          "output_type": "stream",
          "name": "stdout",
          "text": [
            "Training loss at epoch 7: 0.94357\n"
          ]
        },
        {
          "output_type": "stream",
          "name": "stderr",
          "text": [
            "100%|██████████| 391/391 [00:07<00:00, 55.82it/s]\n"
          ]
        },
        {
          "output_type": "stream",
          "name": "stdout",
          "text": [
            "Training loss at epoch 8: 0.85895\n"
          ]
        },
        {
          "output_type": "stream",
          "name": "stderr",
          "text": [
            "100%|██████████| 391/391 [00:06<00:00, 56.30it/s]\n"
          ]
        },
        {
          "output_type": "stream",
          "name": "stdout",
          "text": [
            "Training loss at epoch 9: 0.77726\n"
          ]
        },
        {
          "output_type": "stream",
          "name": "stderr",
          "text": [
            "100%|██████████| 391/391 [00:06<00:00, 55.96it/s]\n"
          ]
        },
        {
          "output_type": "stream",
          "name": "stdout",
          "text": [
            "Training loss at epoch 10: 0.69472\n"
          ]
        },
        {
          "output_type": "stream",
          "name": "stderr",
          "text": [
            "100%|██████████| 391/391 [00:06<00:00, 57.42it/s]\n"
          ]
        },
        {
          "output_type": "stream",
          "name": "stdout",
          "text": [
            "Training loss at epoch 11: 0.61771\n"
          ]
        },
        {
          "output_type": "stream",
          "name": "stderr",
          "text": [
            "100%|██████████| 391/391 [00:06<00:00, 57.13it/s]\n"
          ]
        },
        {
          "output_type": "stream",
          "name": "stdout",
          "text": [
            "Training loss at epoch 12: 0.52835\n"
          ]
        },
        {
          "output_type": "stream",
          "name": "stderr",
          "text": [
            "100%|██████████| 391/391 [00:06<00:00, 57.07it/s]\n"
          ]
        },
        {
          "output_type": "stream",
          "name": "stdout",
          "text": [
            "Training loss at epoch 13: 0.44803\n"
          ]
        },
        {
          "output_type": "stream",
          "name": "stderr",
          "text": [
            "100%|██████████| 391/391 [00:06<00:00, 56.94it/s]\n"
          ]
        },
        {
          "output_type": "stream",
          "name": "stdout",
          "text": [
            "Training loss at epoch 14: 0.37366\n"
          ]
        },
        {
          "output_type": "stream",
          "name": "stderr",
          "text": [
            "100%|██████████| 391/391 [00:06<00:00, 56.38it/s]\n"
          ]
        },
        {
          "output_type": "stream",
          "name": "stdout",
          "text": [
            "Training loss at epoch 15: 0.30825\n"
          ]
        },
        {
          "output_type": "stream",
          "name": "stderr",
          "text": [
            "100%|██████████| 391/391 [00:06<00:00, 57.18it/s]\n"
          ]
        },
        {
          "output_type": "stream",
          "name": "stdout",
          "text": [
            "Training loss at epoch 16: 0.24186\n"
          ]
        },
        {
          "output_type": "stream",
          "name": "stderr",
          "text": [
            "100%|██████████| 391/391 [00:06<00:00, 56.91it/s]\n"
          ]
        },
        {
          "output_type": "stream",
          "name": "stdout",
          "text": [
            "Training loss at epoch 17: 0.19760\n"
          ]
        },
        {
          "output_type": "stream",
          "name": "stderr",
          "text": [
            "100%|██████████| 391/391 [00:06<00:00, 56.34it/s]\n"
          ]
        },
        {
          "output_type": "stream",
          "name": "stdout",
          "text": [
            "Training loss at epoch 18: 0.16027\n"
          ]
        },
        {
          "output_type": "stream",
          "name": "stderr",
          "text": [
            "100%|██████████| 391/391 [00:06<00:00, 57.55it/s]\n"
          ]
        },
        {
          "output_type": "stream",
          "name": "stdout",
          "text": [
            "Training loss at epoch 19: 0.11233\n"
          ]
        },
        {
          "output_type": "stream",
          "name": "stderr",
          "text": [
            "100%|██████████| 391/391 [00:06<00:00, 57.21it/s]\n"
          ]
        },
        {
          "output_type": "stream",
          "name": "stdout",
          "text": [
            "Training loss at epoch 20: 0.12757\n",
            "* Testing loss: 2.73554\n",
            "==============\n",
            "\n",
            "> Starting trial 8\n",
            "Chosen hyperparams: {'lr': 0.1, 'alpha': 0.999, 'eps': 1e-09, 'weight_decay': 1e-06}\n",
            "\n"
          ]
        },
        {
          "output_type": "stream",
          "name": "stderr",
          "text": [
            "100%|██████████| 391/391 [00:06<00:00, 57.32it/s]\n"
          ]
        },
        {
          "output_type": "stream",
          "name": "stdout",
          "text": [
            "Training loss at epoch 1: 23651645.03499\n"
          ]
        },
        {
          "output_type": "stream",
          "name": "stderr",
          "text": [
            "100%|██████████| 391/391 [00:06<00:00, 57.61it/s]\n"
          ]
        },
        {
          "output_type": "stream",
          "name": "stdout",
          "text": [
            "Training loss at epoch 2: 2.31422\n"
          ]
        },
        {
          "output_type": "stream",
          "name": "stderr",
          "text": [
            "100%|██████████| 391/391 [00:06<00:00, 56.70it/s]\n"
          ]
        },
        {
          "output_type": "stream",
          "name": "stdout",
          "text": [
            "Training loss at epoch 3: 2.31214\n"
          ]
        },
        {
          "output_type": "stream",
          "name": "stderr",
          "text": [
            "100%|██████████| 391/391 [00:06<00:00, 57.30it/s]\n"
          ]
        },
        {
          "output_type": "stream",
          "name": "stdout",
          "text": [
            "Training loss at epoch 4: 5.24244\n"
          ]
        },
        {
          "output_type": "stream",
          "name": "stderr",
          "text": [
            "100%|██████████| 391/391 [00:06<00:00, 56.85it/s]\n"
          ]
        },
        {
          "output_type": "stream",
          "name": "stdout",
          "text": [
            "Training loss at epoch 5: 2.33488\n"
          ]
        },
        {
          "output_type": "stream",
          "name": "stderr",
          "text": [
            "100%|██████████| 391/391 [00:06<00:00, 56.74it/s]\n"
          ]
        },
        {
          "output_type": "stream",
          "name": "stdout",
          "text": [
            "Training loss at epoch 6: 2.31445\n"
          ]
        },
        {
          "output_type": "stream",
          "name": "stderr",
          "text": [
            "100%|██████████| 391/391 [00:07<00:00, 55.56it/s]\n"
          ]
        },
        {
          "output_type": "stream",
          "name": "stdout",
          "text": [
            "Training loss at epoch 7: 2.31135\n"
          ]
        },
        {
          "output_type": "stream",
          "name": "stderr",
          "text": [
            "100%|██████████| 391/391 [00:06<00:00, 57.03it/s]\n"
          ]
        },
        {
          "output_type": "stream",
          "name": "stdout",
          "text": [
            "Training loss at epoch 8: 2.33861\n"
          ]
        },
        {
          "output_type": "stream",
          "name": "stderr",
          "text": [
            "100%|██████████| 391/391 [00:06<00:00, 56.60it/s]\n"
          ]
        },
        {
          "output_type": "stream",
          "name": "stdout",
          "text": [
            "Training loss at epoch 9: 2.31571\n"
          ]
        },
        {
          "output_type": "stream",
          "name": "stderr",
          "text": [
            "100%|██████████| 391/391 [00:06<00:00, 58.28it/s]\n"
          ]
        },
        {
          "output_type": "stream",
          "name": "stdout",
          "text": [
            "Training loss at epoch 10: 2.71086\n",
            "* Testing loss: 2.31030\n",
            "==============\n",
            "\n",
            "> Starting trial 9\n",
            "Chosen hyperparams: {'lr': 0.05, 'alpha': 0.99, 'eps': 1e-08, 'weight_decay': 0.0001}\n",
            "\n"
          ]
        },
        {
          "output_type": "stream",
          "name": "stderr",
          "text": [
            "100%|██████████| 391/391 [00:06<00:00, 57.24it/s]\n"
          ]
        },
        {
          "output_type": "stream",
          "name": "stdout",
          "text": [
            "Training loss at epoch 1: 10791.48919\n"
          ]
        },
        {
          "output_type": "stream",
          "name": "stderr",
          "text": [
            "100%|██████████| 391/391 [00:06<00:00, 56.93it/s]\n"
          ]
        },
        {
          "output_type": "stream",
          "name": "stdout",
          "text": [
            "Training loss at epoch 2: 10.18817\n"
          ]
        },
        {
          "output_type": "stream",
          "name": "stderr",
          "text": [
            "100%|██████████| 391/391 [00:06<00:00, 56.45it/s]\n"
          ]
        },
        {
          "output_type": "stream",
          "name": "stdout",
          "text": [
            "Training loss at epoch 3: 2.32314\n"
          ]
        },
        {
          "output_type": "stream",
          "name": "stderr",
          "text": [
            "100%|██████████| 391/391 [00:06<00:00, 56.61it/s]\n"
          ]
        },
        {
          "output_type": "stream",
          "name": "stdout",
          "text": [
            "Training loss at epoch 4: 2.31936\n"
          ]
        },
        {
          "output_type": "stream",
          "name": "stderr",
          "text": [
            "100%|██████████| 391/391 [00:06<00:00, 56.18it/s]\n"
          ]
        },
        {
          "output_type": "stream",
          "name": "stdout",
          "text": [
            "Training loss at epoch 5: 2.36033\n"
          ]
        },
        {
          "output_type": "stream",
          "name": "stderr",
          "text": [
            "100%|██████████| 391/391 [00:07<00:00, 55.40it/s]\n"
          ]
        },
        {
          "output_type": "stream",
          "name": "stdout",
          "text": [
            "Training loss at epoch 6: 2.33082\n"
          ]
        },
        {
          "output_type": "stream",
          "name": "stderr",
          "text": [
            "100%|██████████| 391/391 [00:07<00:00, 55.35it/s]\n"
          ]
        },
        {
          "output_type": "stream",
          "name": "stdout",
          "text": [
            "Training loss at epoch 7: 2.37360\n"
          ]
        },
        {
          "output_type": "stream",
          "name": "stderr",
          "text": [
            "100%|██████████| 391/391 [00:07<00:00, 55.30it/s]\n"
          ]
        },
        {
          "output_type": "stream",
          "name": "stdout",
          "text": [
            "Training loss at epoch 8: 2.31110\n"
          ]
        },
        {
          "output_type": "stream",
          "name": "stderr",
          "text": [
            "100%|██████████| 391/391 [00:07<00:00, 55.61it/s]\n"
          ]
        },
        {
          "output_type": "stream",
          "name": "stdout",
          "text": [
            "Training loss at epoch 9: 2.30728\n"
          ]
        },
        {
          "output_type": "stream",
          "name": "stderr",
          "text": [
            "100%|██████████| 391/391 [00:07<00:00, 55.09it/s]\n"
          ]
        },
        {
          "output_type": "stream",
          "name": "stdout",
          "text": [
            "Training loss at epoch 10: 2.30748\n"
          ]
        },
        {
          "output_type": "stream",
          "name": "stderr",
          "text": [
            "100%|██████████| 391/391 [00:07<00:00, 55.47it/s]\n"
          ]
        },
        {
          "output_type": "stream",
          "name": "stdout",
          "text": [
            "Training loss at epoch 11: 2.30749\n"
          ]
        },
        {
          "output_type": "stream",
          "name": "stderr",
          "text": [
            "100%|██████████| 391/391 [00:06<00:00, 56.46it/s]\n"
          ]
        },
        {
          "output_type": "stream",
          "name": "stdout",
          "text": [
            "Training loss at epoch 12: 2.30736\n"
          ]
        },
        {
          "output_type": "stream",
          "name": "stderr",
          "text": [
            "100%|██████████| 391/391 [00:06<00:00, 57.50it/s]\n"
          ]
        },
        {
          "output_type": "stream",
          "name": "stdout",
          "text": [
            "Training loss at epoch 13: 2.30785\n"
          ]
        },
        {
          "output_type": "stream",
          "name": "stderr",
          "text": [
            "100%|██████████| 391/391 [00:06<00:00, 58.09it/s]\n"
          ]
        },
        {
          "output_type": "stream",
          "name": "stdout",
          "text": [
            "Training loss at epoch 14: 2.30728\n"
          ]
        },
        {
          "output_type": "stream",
          "name": "stderr",
          "text": [
            "100%|██████████| 391/391 [00:06<00:00, 55.92it/s]\n"
          ]
        },
        {
          "output_type": "stream",
          "name": "stdout",
          "text": [
            "Training loss at epoch 15: 2.30687\n",
            "* Testing loss: 2.31170\n",
            "==============\n",
            "\n",
            "> Starting trial 10\n",
            "Chosen hyperparams: {'lr': 0.005, 'alpha': 0.99, 'eps': 1e-07, 'weight_decay': 1e-06}\n",
            "\n"
          ]
        },
        {
          "output_type": "stream",
          "name": "stderr",
          "text": [
            "100%|██████████| 391/391 [00:07<00:00, 55.63it/s]\n"
          ]
        },
        {
          "output_type": "stream",
          "name": "stdout",
          "text": [
            "Training loss at epoch 1: 5.31396\n"
          ]
        },
        {
          "output_type": "stream",
          "name": "stderr",
          "text": [
            "100%|██████████| 391/391 [00:06<00:00, 56.53it/s]\n"
          ]
        },
        {
          "output_type": "stream",
          "name": "stdout",
          "text": [
            "Training loss at epoch 2: 1.73827\n"
          ]
        },
        {
          "output_type": "stream",
          "name": "stderr",
          "text": [
            "100%|██████████| 391/391 [00:06<00:00, 57.05it/s]\n"
          ]
        },
        {
          "output_type": "stream",
          "name": "stdout",
          "text": [
            "Training loss at epoch 3: 1.53533\n"
          ]
        },
        {
          "output_type": "stream",
          "name": "stderr",
          "text": [
            "100%|██████████| 391/391 [00:06<00:00, 56.72it/s]\n"
          ]
        },
        {
          "output_type": "stream",
          "name": "stdout",
          "text": [
            "Training loss at epoch 4: 1.38910\n"
          ]
        },
        {
          "output_type": "stream",
          "name": "stderr",
          "text": [
            "100%|██████████| 391/391 [00:06<00:00, 57.31it/s]\n"
          ]
        },
        {
          "output_type": "stream",
          "name": "stdout",
          "text": [
            "Training loss at epoch 5: 1.25448\n"
          ]
        },
        {
          "output_type": "stream",
          "name": "stderr",
          "text": [
            "100%|██████████| 391/391 [00:06<00:00, 58.56it/s]\n"
          ]
        },
        {
          "output_type": "stream",
          "name": "stdout",
          "text": [
            "Training loss at epoch 6: 1.13461\n"
          ]
        },
        {
          "output_type": "stream",
          "name": "stderr",
          "text": [
            "100%|██████████| 391/391 [00:06<00:00, 57.32it/s]\n"
          ]
        },
        {
          "output_type": "stream",
          "name": "stdout",
          "text": [
            "Training loss at epoch 7: 1.02383\n"
          ]
        },
        {
          "output_type": "stream",
          "name": "stderr",
          "text": [
            "100%|██████████| 391/391 [00:06<00:00, 57.82it/s]\n"
          ]
        },
        {
          "output_type": "stream",
          "name": "stdout",
          "text": [
            "Training loss at epoch 8: 0.90996\n"
          ]
        },
        {
          "output_type": "stream",
          "name": "stderr",
          "text": [
            "100%|██████████| 391/391 [00:06<00:00, 56.03it/s]\n"
          ]
        },
        {
          "output_type": "stream",
          "name": "stdout",
          "text": [
            "Training loss at epoch 9: 0.81585\n"
          ]
        },
        {
          "output_type": "stream",
          "name": "stderr",
          "text": [
            "100%|██████████| 391/391 [00:06<00:00, 56.55it/s]\n"
          ]
        },
        {
          "output_type": "stream",
          "name": "stdout",
          "text": [
            "Training loss at epoch 10: 0.70968\n"
          ]
        },
        {
          "output_type": "stream",
          "name": "stderr",
          "text": [
            "100%|██████████| 391/391 [00:06<00:00, 56.27it/s]\n"
          ]
        },
        {
          "output_type": "stream",
          "name": "stdout",
          "text": [
            "Training loss at epoch 11: 0.62275\n"
          ]
        },
        {
          "output_type": "stream",
          "name": "stderr",
          "text": [
            "100%|██████████| 391/391 [00:06<00:00, 56.41it/s]\n"
          ]
        },
        {
          "output_type": "stream",
          "name": "stdout",
          "text": [
            "Training loss at epoch 12: 0.54762\n"
          ]
        },
        {
          "output_type": "stream",
          "name": "stderr",
          "text": [
            "100%|██████████| 391/391 [00:06<00:00, 55.88it/s]\n"
          ]
        },
        {
          "output_type": "stream",
          "name": "stdout",
          "text": [
            "Training loss at epoch 13: 0.48379\n"
          ]
        },
        {
          "output_type": "stream",
          "name": "stderr",
          "text": [
            "100%|██████████| 391/391 [00:06<00:00, 56.32it/s]\n"
          ]
        },
        {
          "output_type": "stream",
          "name": "stdout",
          "text": [
            "Training loss at epoch 14: 0.42529\n"
          ]
        },
        {
          "output_type": "stream",
          "name": "stderr",
          "text": [
            "100%|██████████| 391/391 [00:06<00:00, 56.91it/s]\n"
          ]
        },
        {
          "output_type": "stream",
          "name": "stdout",
          "text": [
            "Training loss at epoch 15: 0.38288\n"
          ]
        },
        {
          "output_type": "stream",
          "name": "stderr",
          "text": [
            "100%|██████████| 391/391 [00:06<00:00, 56.57it/s]\n"
          ]
        },
        {
          "output_type": "stream",
          "name": "stdout",
          "text": [
            "Training loss at epoch 16: 0.33923\n"
          ]
        },
        {
          "output_type": "stream",
          "name": "stderr",
          "text": [
            "100%|██████████| 391/391 [00:06<00:00, 56.92it/s]\n"
          ]
        },
        {
          "output_type": "stream",
          "name": "stdout",
          "text": [
            "Training loss at epoch 17: 0.30646\n"
          ]
        },
        {
          "output_type": "stream",
          "name": "stderr",
          "text": [
            "100%|██████████| 391/391 [00:07<00:00, 55.79it/s]\n"
          ]
        },
        {
          "output_type": "stream",
          "name": "stdout",
          "text": [
            "Training loss at epoch 18: 0.29114\n"
          ]
        },
        {
          "output_type": "stream",
          "name": "stderr",
          "text": [
            "100%|██████████| 391/391 [00:06<00:00, 56.07it/s]\n"
          ]
        },
        {
          "output_type": "stream",
          "name": "stdout",
          "text": [
            "Training loss at epoch 19: 0.24890\n"
          ]
        },
        {
          "output_type": "stream",
          "name": "stderr",
          "text": [
            "100%|██████████| 391/391 [00:06<00:00, 57.32it/s]"
          ]
        },
        {
          "output_type": "stream",
          "name": "stdout",
          "text": [
            "Training loss at epoch 20: 0.24121\n",
            "* Testing loss: 2.96365\n",
            "==============\n"
          ]
        },
        {
          "output_type": "stream",
          "name": "stderr",
          "text": [
            "\n"
          ]
        }
      ]
    },
    {
      "cell_type": "markdown",
      "source": [
        "### Training with the best hyperparameters"
      ],
      "metadata": {
        "id": "WZHnjkrCYkyc"
      }
    },
    {
      "cell_type": "code",
      "source": [
        "best_params"
      ],
      "metadata": {
        "id": "mRz0R9TlYijo",
        "colab": {
          "base_uri": "https://localhost:8080/"
        },
        "outputId": "070172f6-e12c-48d9-96e8-e88d693cc6ff"
      },
      "execution_count": null,
      "outputs": [
        {
          "output_type": "execute_result",
          "data": {
            "text/plain": [
              "{'alpha': 0.999, 'eps': 1e-08, 'lr': 0.0001, 'weight_decay': 1e-06}"
            ]
          },
          "metadata": {},
          "execution_count": 25
        }
      ]
    },
    {
      "cell_type": "code",
      "source": [
        "model = CNN()\n",
        "model.to(device)\n",
        "error = nn.NLLLoss()\n",
        "optimizer = torch.optim.RMSprop(model.parameters(), lr=best_params['lr'], alpha=best_params['alpha'], eps=best_params['eps'], weight_decay=best_params['weight_decay'])"
      ],
      "metadata": {
        "id": "zDt9-wymYnSz"
      },
      "execution_count": null,
      "outputs": []
    },
    {
      "cell_type": "code",
      "source": [
        "DISPLAY_INTERVAL = 1\n",
        "train_loss, test_loss = [], [] # denotes the mean loss over all samples\n",
        "train_acc, test_acc = [], []\n",
        "for epoch in range(1, NUM_EPOCHS + 1):\n",
        "  total_loss = 0\n",
        "  correct, total = 0, 0\n",
        "  for images, labels in tqdm(train_loader):\n",
        "    # forward + backward + step\n",
        "    optimizer.zero_grad()\n",
        "    images, labels = images.to(device), labels.to(device)\n",
        "    outputs = model(images)\n",
        "    loss = error(outputs, labels)\n",
        "    total_loss += loss.item() * len(outputs)\n",
        "    loss.backward()\n",
        "    optimizer.step()\n",
        "    # accuracy calculation\n",
        "    correct += (torch.argmax(outputs, dim=1) == labels).sum()\n",
        "    total += len(labels)\n",
        "  train_loss.append(total_loss / total)\n",
        "  train_acc.append(correct / total)\n",
        "  # testing loss\n",
        "  with torch.no_grad():\n",
        "    predicted = model(test_X)\n",
        "    loss = error(predicted, test_Y)\n",
        "    test_loss.append(loss.item())\n",
        "    test_acc.append((torch.argmax(predicted, dim=1) == test_Y).sum() / len(test_Y))\n",
        "\n",
        "  if epoch % DISPLAY_INTERVAL == 0:\n",
        "      print(f'Performace at epoch {epoch}')\n",
        "      print(f'Train Loss: {train_loss[-1]:.5f} ; Train Acc: {train_acc[-1]:.5f}')\n",
        "      print(f'Test Loss: {test_loss[-1]:.5f} ; Test Acc: {test_acc[-1]:.5f}')\n",
        "      print('==============')"
      ],
      "metadata": {
        "id": "XX495Mg_Yv2K",
        "colab": {
          "base_uri": "https://localhost:8080/"
        },
        "outputId": "d5b26511-089d-4407-b14a-971fc874c86e"
      },
      "execution_count": null,
      "outputs": [
        {
          "output_type": "stream",
          "name": "stderr",
          "text": [
            "100%|██████████| 391/391 [00:06<00:00, 57.22it/s]\n"
          ]
        },
        {
          "output_type": "stream",
          "name": "stdout",
          "text": [
            "Performace at epoch 1\n",
            "Train Loss: 1.90131 ; Train Acc: 0.31000\n",
            "Test Loss: 1.72702 ; Test Acc: 0.38288\n",
            "==============\n"
          ]
        },
        {
          "output_type": "stream",
          "name": "stderr",
          "text": [
            "100%|██████████| 391/391 [00:06<00:00, 57.40it/s]\n"
          ]
        },
        {
          "output_type": "stream",
          "name": "stdout",
          "text": [
            "Performace at epoch 2\n",
            "Train Loss: 1.63001 ; Train Acc: 0.41352\n",
            "Test Loss: 1.57014 ; Test Acc: 0.43544\n",
            "==============\n"
          ]
        },
        {
          "output_type": "stream",
          "name": "stderr",
          "text": [
            "100%|██████████| 391/391 [00:06<00:00, 57.87it/s]\n"
          ]
        },
        {
          "output_type": "stream",
          "name": "stdout",
          "text": [
            "Performace at epoch 3\n",
            "Train Loss: 1.51938 ; Train Acc: 0.45648\n",
            "Test Loss: 1.50859 ; Test Acc: 0.44955\n",
            "==============\n"
          ]
        },
        {
          "output_type": "stream",
          "name": "stderr",
          "text": [
            "100%|██████████| 391/391 [00:06<00:00, 56.96it/s]\n"
          ]
        },
        {
          "output_type": "stream",
          "name": "stdout",
          "text": [
            "Performace at epoch 4\n",
            "Train Loss: 1.44764 ; Train Acc: 0.47996\n",
            "Test Loss: 1.43937 ; Test Acc: 0.48048\n",
            "==============\n"
          ]
        },
        {
          "output_type": "stream",
          "name": "stderr",
          "text": [
            "100%|██████████| 391/391 [00:06<00:00, 57.81it/s]\n"
          ]
        },
        {
          "output_type": "stream",
          "name": "stdout",
          "text": [
            "Performace at epoch 5\n",
            "Train Loss: 1.39743 ; Train Acc: 0.49860\n",
            "Test Loss: 1.39842 ; Test Acc: 0.49910\n",
            "==============\n"
          ]
        },
        {
          "output_type": "stream",
          "name": "stderr",
          "text": [
            "100%|██████████| 391/391 [00:06<00:00, 56.18it/s]\n"
          ]
        },
        {
          "output_type": "stream",
          "name": "stdout",
          "text": [
            "Performace at epoch 6\n",
            "Train Loss: 1.35444 ; Train Acc: 0.51496\n",
            "Test Loss: 1.40793 ; Test Acc: 0.48799\n",
            "==============\n"
          ]
        },
        {
          "output_type": "stream",
          "name": "stderr",
          "text": [
            "100%|██████████| 391/391 [00:06<00:00, 56.66it/s]\n"
          ]
        },
        {
          "output_type": "stream",
          "name": "stdout",
          "text": [
            "Performace at epoch 7\n",
            "Train Loss: 1.31614 ; Train Acc: 0.52728\n",
            "Test Loss: 1.35399 ; Test Acc: 0.50991\n",
            "==============\n"
          ]
        },
        {
          "output_type": "stream",
          "name": "stderr",
          "text": [
            "100%|██████████| 391/391 [00:06<00:00, 57.50it/s]\n"
          ]
        },
        {
          "output_type": "stream",
          "name": "stdout",
          "text": [
            "Performace at epoch 8\n",
            "Train Loss: 1.29101 ; Train Acc: 0.53964\n",
            "Test Loss: 1.30375 ; Test Acc: 0.53243\n",
            "==============\n"
          ]
        },
        {
          "output_type": "stream",
          "name": "stderr",
          "text": [
            "100%|██████████| 391/391 [00:06<00:00, 57.66it/s]\n"
          ]
        },
        {
          "output_type": "stream",
          "name": "stdout",
          "text": [
            "Performace at epoch 9\n",
            "Train Loss: 1.26262 ; Train Acc: 0.54956\n",
            "Test Loss: 1.31777 ; Test Acc: 0.52613\n",
            "==============\n"
          ]
        },
        {
          "output_type": "stream",
          "name": "stderr",
          "text": [
            "100%|██████████| 391/391 [00:06<00:00, 57.33it/s]\n"
          ]
        },
        {
          "output_type": "stream",
          "name": "stdout",
          "text": [
            "Performace at epoch 10\n",
            "Train Loss: 1.23782 ; Train Acc: 0.55856\n",
            "Test Loss: 1.29752 ; Test Acc: 0.53874\n",
            "==============\n"
          ]
        },
        {
          "output_type": "stream",
          "name": "stderr",
          "text": [
            "100%|██████████| 391/391 [00:06<00:00, 56.59it/s]\n"
          ]
        },
        {
          "output_type": "stream",
          "name": "stdout",
          "text": [
            "Performace at epoch 11\n",
            "Train Loss: 1.21623 ; Train Acc: 0.56856\n",
            "Test Loss: 1.27008 ; Test Acc: 0.54625\n",
            "==============\n"
          ]
        },
        {
          "output_type": "stream",
          "name": "stderr",
          "text": [
            "100%|██████████| 391/391 [00:06<00:00, 57.29it/s]\n"
          ]
        },
        {
          "output_type": "stream",
          "name": "stdout",
          "text": [
            "Performace at epoch 12\n",
            "Train Loss: 1.19561 ; Train Acc: 0.57552\n",
            "Test Loss: 1.24619 ; Test Acc: 0.56036\n",
            "==============\n"
          ]
        },
        {
          "output_type": "stream",
          "name": "stderr",
          "text": [
            "100%|██████████| 391/391 [00:06<00:00, 56.80it/s]\n"
          ]
        },
        {
          "output_type": "stream",
          "name": "stdout",
          "text": [
            "Performace at epoch 13\n",
            "Train Loss: 1.17398 ; Train Acc: 0.58584\n",
            "Test Loss: 1.25797 ; Test Acc: 0.54384\n",
            "==============\n"
          ]
        },
        {
          "output_type": "stream",
          "name": "stderr",
          "text": [
            "100%|██████████| 391/391 [00:06<00:00, 57.28it/s]\n"
          ]
        },
        {
          "output_type": "stream",
          "name": "stdout",
          "text": [
            "Performace at epoch 14\n",
            "Train Loss: 1.15733 ; Train Acc: 0.58976\n",
            "Test Loss: 1.29439 ; Test Acc: 0.54535\n",
            "==============\n"
          ]
        },
        {
          "output_type": "stream",
          "name": "stderr",
          "text": [
            "100%|██████████| 391/391 [00:06<00:00, 57.21it/s]\n"
          ]
        },
        {
          "output_type": "stream",
          "name": "stdout",
          "text": [
            "Performace at epoch 15\n",
            "Train Loss: 1.13982 ; Train Acc: 0.59724\n",
            "Test Loss: 1.20644 ; Test Acc: 0.57387\n",
            "==============\n"
          ]
        },
        {
          "output_type": "stream",
          "name": "stderr",
          "text": [
            "100%|██████████| 391/391 [00:06<00:00, 56.78it/s]\n"
          ]
        },
        {
          "output_type": "stream",
          "name": "stdout",
          "text": [
            "Performace at epoch 16\n",
            "Train Loss: 1.12469 ; Train Acc: 0.60352\n",
            "Test Loss: 1.20731 ; Test Acc: 0.57508\n",
            "==============\n"
          ]
        },
        {
          "output_type": "stream",
          "name": "stderr",
          "text": [
            "100%|██████████| 391/391 [00:06<00:00, 57.32it/s]\n"
          ]
        },
        {
          "output_type": "stream",
          "name": "stdout",
          "text": [
            "Performace at epoch 17\n",
            "Train Loss: 1.10603 ; Train Acc: 0.61104\n",
            "Test Loss: 1.18049 ; Test Acc: 0.57387\n",
            "==============\n"
          ]
        },
        {
          "output_type": "stream",
          "name": "stderr",
          "text": [
            "100%|██████████| 391/391 [00:06<00:00, 57.88it/s]\n"
          ]
        },
        {
          "output_type": "stream",
          "name": "stdout",
          "text": [
            "Performace at epoch 18\n",
            "Train Loss: 1.08917 ; Train Acc: 0.61732\n",
            "Test Loss: 1.25078 ; Test Acc: 0.55315\n",
            "==============\n"
          ]
        },
        {
          "output_type": "stream",
          "name": "stderr",
          "text": [
            "100%|██████████| 391/391 [00:06<00:00, 57.55it/s]\n"
          ]
        },
        {
          "output_type": "stream",
          "name": "stdout",
          "text": [
            "Performace at epoch 19\n",
            "Train Loss: 1.07346 ; Train Acc: 0.62372\n",
            "Test Loss: 1.17929 ; Test Acc: 0.57718\n",
            "==============\n"
          ]
        },
        {
          "output_type": "stream",
          "name": "stderr",
          "text": [
            "100%|██████████| 391/391 [00:06<00:00, 56.73it/s]\n"
          ]
        },
        {
          "output_type": "stream",
          "name": "stdout",
          "text": [
            "Performace at epoch 20\n",
            "Train Loss: 1.05814 ; Train Acc: 0.62724\n",
            "Test Loss: 1.16105 ; Test Acc: 0.58408\n",
            "==============\n"
          ]
        },
        {
          "output_type": "stream",
          "name": "stderr",
          "text": [
            "100%|██████████| 391/391 [00:06<00:00, 57.45it/s]\n"
          ]
        },
        {
          "output_type": "stream",
          "name": "stdout",
          "text": [
            "Performace at epoch 21\n",
            "Train Loss: 1.04180 ; Train Acc: 0.63388\n",
            "Test Loss: 1.16266 ; Test Acc: 0.59189\n",
            "==============\n"
          ]
        },
        {
          "output_type": "stream",
          "name": "stderr",
          "text": [
            "100%|██████████| 391/391 [00:06<00:00, 57.32it/s]\n"
          ]
        },
        {
          "output_type": "stream",
          "name": "stdout",
          "text": [
            "Performace at epoch 22\n",
            "Train Loss: 1.02688 ; Train Acc: 0.63984\n",
            "Test Loss: 1.14652 ; Test Acc: 0.59159\n",
            "==============\n"
          ]
        },
        {
          "output_type": "stream",
          "name": "stderr",
          "text": [
            "100%|██████████| 391/391 [00:06<00:00, 57.84it/s]\n"
          ]
        },
        {
          "output_type": "stream",
          "name": "stdout",
          "text": [
            "Performace at epoch 23\n",
            "Train Loss: 1.01544 ; Train Acc: 0.64448\n",
            "Test Loss: 1.14120 ; Test Acc: 0.59730\n",
            "==============\n"
          ]
        },
        {
          "output_type": "stream",
          "name": "stderr",
          "text": [
            "100%|██████████| 391/391 [00:06<00:00, 57.76it/s]\n"
          ]
        },
        {
          "output_type": "stream",
          "name": "stdout",
          "text": [
            "Performace at epoch 24\n",
            "Train Loss: 0.99870 ; Train Acc: 0.64972\n",
            "Test Loss: 1.14684 ; Test Acc: 0.58829\n",
            "==============\n"
          ]
        },
        {
          "output_type": "stream",
          "name": "stderr",
          "text": [
            "100%|██████████| 391/391 [00:06<00:00, 57.37it/s]\n"
          ]
        },
        {
          "output_type": "stream",
          "name": "stdout",
          "text": [
            "Performace at epoch 25\n",
            "Train Loss: 0.98343 ; Train Acc: 0.65404\n",
            "Test Loss: 1.16775 ; Test Acc: 0.59099\n",
            "==============\n"
          ]
        },
        {
          "output_type": "stream",
          "name": "stderr",
          "text": [
            "100%|██████████| 391/391 [00:06<00:00, 57.18it/s]\n"
          ]
        },
        {
          "output_type": "stream",
          "name": "stdout",
          "text": [
            "Performace at epoch 26\n",
            "Train Loss: 0.97023 ; Train Acc: 0.65952\n",
            "Test Loss: 1.17848 ; Test Acc: 0.57928\n",
            "==============\n"
          ]
        },
        {
          "output_type": "stream",
          "name": "stderr",
          "text": [
            "100%|██████████| 391/391 [00:07<00:00, 55.60it/s]\n"
          ]
        },
        {
          "output_type": "stream",
          "name": "stdout",
          "text": [
            "Performace at epoch 27\n",
            "Train Loss: 0.95670 ; Train Acc: 0.66448\n",
            "Test Loss: 1.13740 ; Test Acc: 0.60060\n",
            "==============\n"
          ]
        },
        {
          "output_type": "stream",
          "name": "stderr",
          "text": [
            "100%|██████████| 391/391 [00:06<00:00, 55.97it/s]\n"
          ]
        },
        {
          "output_type": "stream",
          "name": "stdout",
          "text": [
            "Performace at epoch 28\n",
            "Train Loss: 0.94260 ; Train Acc: 0.67004\n",
            "Test Loss: 1.23223 ; Test Acc: 0.56396\n",
            "==============\n"
          ]
        },
        {
          "output_type": "stream",
          "name": "stderr",
          "text": [
            "100%|██████████| 391/391 [00:06<00:00, 56.22it/s]\n"
          ]
        },
        {
          "output_type": "stream",
          "name": "stdout",
          "text": [
            "Performace at epoch 29\n",
            "Train Loss: 0.92717 ; Train Acc: 0.67816\n",
            "Test Loss: 1.18253 ; Test Acc: 0.58078\n",
            "==============\n"
          ]
        },
        {
          "output_type": "stream",
          "name": "stderr",
          "text": [
            "100%|██████████| 391/391 [00:06<00:00, 56.87it/s]\n"
          ]
        },
        {
          "output_type": "stream",
          "name": "stdout",
          "text": [
            "Performace at epoch 30\n",
            "Train Loss: 0.91553 ; Train Acc: 0.68060\n",
            "Test Loss: 1.13242 ; Test Acc: 0.60240\n",
            "==============\n"
          ]
        },
        {
          "output_type": "stream",
          "name": "stderr",
          "text": [
            "100%|██████████| 391/391 [00:06<00:00, 56.42it/s]\n"
          ]
        },
        {
          "output_type": "stream",
          "name": "stdout",
          "text": [
            "Performace at epoch 31\n",
            "Train Loss: 0.90295 ; Train Acc: 0.68676\n",
            "Test Loss: 1.12724 ; Test Acc: 0.59580\n",
            "==============\n"
          ]
        },
        {
          "output_type": "stream",
          "name": "stderr",
          "text": [
            "100%|██████████| 391/391 [00:06<00:00, 57.74it/s]\n"
          ]
        },
        {
          "output_type": "stream",
          "name": "stdout",
          "text": [
            "Performace at epoch 32\n",
            "Train Loss: 0.88891 ; Train Acc: 0.68948\n",
            "Test Loss: 1.18941 ; Test Acc: 0.58499\n",
            "==============\n"
          ]
        },
        {
          "output_type": "stream",
          "name": "stderr",
          "text": [
            "100%|██████████| 391/391 [00:06<00:00, 56.78it/s]\n"
          ]
        },
        {
          "output_type": "stream",
          "name": "stdout",
          "text": [
            "Performace at epoch 33\n",
            "Train Loss: 0.87548 ; Train Acc: 0.69244\n",
            "Test Loss: 1.11248 ; Test Acc: 0.61291\n",
            "==============\n"
          ]
        },
        {
          "output_type": "stream",
          "name": "stderr",
          "text": [
            "100%|██████████| 391/391 [00:06<00:00, 57.54it/s]\n"
          ]
        },
        {
          "output_type": "stream",
          "name": "stdout",
          "text": [
            "Performace at epoch 34\n",
            "Train Loss: 0.86516 ; Train Acc: 0.70028\n",
            "Test Loss: 1.12401 ; Test Acc: 0.60601\n",
            "==============\n"
          ]
        },
        {
          "output_type": "stream",
          "name": "stderr",
          "text": [
            "100%|██████████| 391/391 [00:06<00:00, 56.86it/s]\n"
          ]
        },
        {
          "output_type": "stream",
          "name": "stdout",
          "text": [
            "Performace at epoch 35\n",
            "Train Loss: 0.85188 ; Train Acc: 0.70416\n",
            "Test Loss: 1.13784 ; Test Acc: 0.60000\n",
            "==============\n"
          ]
        },
        {
          "output_type": "stream",
          "name": "stderr",
          "text": [
            "100%|██████████| 391/391 [00:06<00:00, 57.94it/s]\n"
          ]
        },
        {
          "output_type": "stream",
          "name": "stdout",
          "text": [
            "Performace at epoch 36\n",
            "Train Loss: 0.83635 ; Train Acc: 0.70756\n",
            "Test Loss: 1.11153 ; Test Acc: 0.60961\n",
            "==============\n"
          ]
        },
        {
          "output_type": "stream",
          "name": "stderr",
          "text": [
            "100%|██████████| 391/391 [00:06<00:00, 58.13it/s]\n"
          ]
        },
        {
          "output_type": "stream",
          "name": "stdout",
          "text": [
            "Performace at epoch 37\n",
            "Train Loss: 0.82235 ; Train Acc: 0.71420\n",
            "Test Loss: 1.10962 ; Test Acc: 0.61231\n",
            "==============\n"
          ]
        },
        {
          "output_type": "stream",
          "name": "stderr",
          "text": [
            "100%|██████████| 391/391 [00:06<00:00, 57.26it/s]\n"
          ]
        },
        {
          "output_type": "stream",
          "name": "stdout",
          "text": [
            "Performace at epoch 38\n",
            "Train Loss: 0.80858 ; Train Acc: 0.72260\n",
            "Test Loss: 1.12771 ; Test Acc: 0.60901\n",
            "==============\n"
          ]
        },
        {
          "output_type": "stream",
          "name": "stderr",
          "text": [
            "100%|██████████| 391/391 [00:06<00:00, 56.43it/s]\n"
          ]
        },
        {
          "output_type": "stream",
          "name": "stdout",
          "text": [
            "Performace at epoch 39\n",
            "Train Loss: 0.79687 ; Train Acc: 0.72272\n",
            "Test Loss: 1.11361 ; Test Acc: 0.60931\n",
            "==============\n"
          ]
        },
        {
          "output_type": "stream",
          "name": "stderr",
          "text": [
            "100%|██████████| 391/391 [00:07<00:00, 55.52it/s]\n"
          ]
        },
        {
          "output_type": "stream",
          "name": "stdout",
          "text": [
            "Performace at epoch 40\n",
            "Train Loss: 0.78098 ; Train Acc: 0.73228\n",
            "Test Loss: 1.10367 ; Test Acc: 0.60661\n",
            "==============\n"
          ]
        },
        {
          "output_type": "stream",
          "name": "stderr",
          "text": [
            "100%|██████████| 391/391 [00:06<00:00, 56.31it/s]\n"
          ]
        },
        {
          "output_type": "stream",
          "name": "stdout",
          "text": [
            "Performace at epoch 41\n",
            "Train Loss: 0.76542 ; Train Acc: 0.73588\n",
            "Test Loss: 1.11304 ; Test Acc: 0.61411\n",
            "==============\n"
          ]
        },
        {
          "output_type": "stream",
          "name": "stderr",
          "text": [
            "100%|██████████| 391/391 [00:06<00:00, 56.20it/s]\n"
          ]
        },
        {
          "output_type": "stream",
          "name": "stdout",
          "text": [
            "Performace at epoch 42\n",
            "Train Loss: 0.75321 ; Train Acc: 0.74040\n",
            "Test Loss: 1.09215 ; Test Acc: 0.61892\n",
            "==============\n"
          ]
        },
        {
          "output_type": "stream",
          "name": "stderr",
          "text": [
            "100%|██████████| 391/391 [00:06<00:00, 57.26it/s]\n"
          ]
        },
        {
          "output_type": "stream",
          "name": "stdout",
          "text": [
            "Performace at epoch 43\n",
            "Train Loss: 0.73865 ; Train Acc: 0.74672\n",
            "Test Loss: 1.13636 ; Test Acc: 0.60631\n",
            "==============\n"
          ]
        },
        {
          "output_type": "stream",
          "name": "stderr",
          "text": [
            "100%|██████████| 391/391 [00:06<00:00, 57.65it/s]\n"
          ]
        },
        {
          "output_type": "stream",
          "name": "stdout",
          "text": [
            "Performace at epoch 44\n",
            "Train Loss: 0.72740 ; Train Acc: 0.75044\n",
            "Test Loss: 1.09885 ; Test Acc: 0.61291\n",
            "==============\n"
          ]
        },
        {
          "output_type": "stream",
          "name": "stderr",
          "text": [
            "100%|██████████| 391/391 [00:06<00:00, 57.64it/s]\n"
          ]
        },
        {
          "output_type": "stream",
          "name": "stdout",
          "text": [
            "Performace at epoch 45\n",
            "Train Loss: 0.71049 ; Train Acc: 0.75564\n",
            "Test Loss: 1.11479 ; Test Acc: 0.62042\n",
            "==============\n"
          ]
        },
        {
          "output_type": "stream",
          "name": "stderr",
          "text": [
            "100%|██████████| 391/391 [00:06<00:00, 56.97it/s]\n"
          ]
        },
        {
          "output_type": "stream",
          "name": "stdout",
          "text": [
            "Performace at epoch 46\n",
            "Train Loss: 0.69547 ; Train Acc: 0.76176\n",
            "Test Loss: 1.11411 ; Test Acc: 0.61712\n",
            "==============\n"
          ]
        },
        {
          "output_type": "stream",
          "name": "stderr",
          "text": [
            "100%|██████████| 391/391 [00:06<00:00, 56.51it/s]\n"
          ]
        },
        {
          "output_type": "stream",
          "name": "stdout",
          "text": [
            "Performace at epoch 47\n",
            "Train Loss: 0.68109 ; Train Acc: 0.76568\n",
            "Test Loss: 1.11445 ; Test Acc: 0.61532\n",
            "==============\n"
          ]
        },
        {
          "output_type": "stream",
          "name": "stderr",
          "text": [
            "100%|██████████| 391/391 [00:06<00:00, 56.15it/s]\n"
          ]
        },
        {
          "output_type": "stream",
          "name": "stdout",
          "text": [
            "Performace at epoch 48\n",
            "Train Loss: 0.66562 ; Train Acc: 0.77324\n",
            "Test Loss: 1.10525 ; Test Acc: 0.62102\n",
            "==============\n"
          ]
        },
        {
          "output_type": "stream",
          "name": "stderr",
          "text": [
            "100%|██████████| 391/391 [00:06<00:00, 56.08it/s]\n"
          ]
        },
        {
          "output_type": "stream",
          "name": "stdout",
          "text": [
            "Performace at epoch 49\n",
            "Train Loss: 0.64956 ; Train Acc: 0.77688\n",
            "Test Loss: 1.16441 ; Test Acc: 0.60601\n",
            "==============\n"
          ]
        },
        {
          "output_type": "stream",
          "name": "stderr",
          "text": [
            "100%|██████████| 391/391 [00:07<00:00, 55.55it/s]\n"
          ]
        },
        {
          "output_type": "stream",
          "name": "stdout",
          "text": [
            "Performace at epoch 50\n",
            "Train Loss: 0.63488 ; Train Acc: 0.78656\n",
            "Test Loss: 1.16604 ; Test Acc: 0.60841\n",
            "==============\n"
          ]
        },
        {
          "output_type": "stream",
          "name": "stderr",
          "text": [
            "100%|██████████| 391/391 [00:06<00:00, 56.31it/s]\n"
          ]
        },
        {
          "output_type": "stream",
          "name": "stdout",
          "text": [
            "Performace at epoch 51\n",
            "Train Loss: 0.62067 ; Train Acc: 0.78796\n",
            "Test Loss: 1.12103 ; Test Acc: 0.62492\n",
            "==============\n"
          ]
        },
        {
          "output_type": "stream",
          "name": "stderr",
          "text": [
            "100%|██████████| 391/391 [00:06<00:00, 55.91it/s]\n"
          ]
        },
        {
          "output_type": "stream",
          "name": "stdout",
          "text": [
            "Performace at epoch 52\n",
            "Train Loss: 0.60389 ; Train Acc: 0.79468\n",
            "Test Loss: 1.13556 ; Test Acc: 0.62192\n",
            "==============\n"
          ]
        },
        {
          "output_type": "stream",
          "name": "stderr",
          "text": [
            "100%|██████████| 391/391 [00:06<00:00, 56.57it/s]\n"
          ]
        },
        {
          "output_type": "stream",
          "name": "stdout",
          "text": [
            "Performace at epoch 53\n",
            "Train Loss: 0.58978 ; Train Acc: 0.80296\n",
            "Test Loss: 1.13761 ; Test Acc: 0.61532\n",
            "==============\n"
          ]
        },
        {
          "output_type": "stream",
          "name": "stderr",
          "text": [
            "100%|██████████| 391/391 [00:06<00:00, 56.17it/s]\n"
          ]
        },
        {
          "output_type": "stream",
          "name": "stdout",
          "text": [
            "Performace at epoch 54\n",
            "Train Loss: 0.57510 ; Train Acc: 0.80696\n",
            "Test Loss: 1.17296 ; Test Acc: 0.61291\n",
            "==============\n"
          ]
        },
        {
          "output_type": "stream",
          "name": "stderr",
          "text": [
            "100%|██████████| 391/391 [00:06<00:00, 56.40it/s]\n"
          ]
        },
        {
          "output_type": "stream",
          "name": "stdout",
          "text": [
            "Performace at epoch 55\n",
            "Train Loss: 0.55697 ; Train Acc: 0.81460\n",
            "Test Loss: 1.14687 ; Test Acc: 0.61952\n",
            "==============\n"
          ]
        },
        {
          "output_type": "stream",
          "name": "stderr",
          "text": [
            "100%|██████████| 391/391 [00:06<00:00, 57.05it/s]\n"
          ]
        },
        {
          "output_type": "stream",
          "name": "stdout",
          "text": [
            "Performace at epoch 56\n",
            "Train Loss: 0.54370 ; Train Acc: 0.81928\n",
            "Test Loss: 1.15290 ; Test Acc: 0.62012\n",
            "==============\n"
          ]
        },
        {
          "output_type": "stream",
          "name": "stderr",
          "text": [
            "100%|██████████| 391/391 [00:06<00:00, 56.22it/s]\n"
          ]
        },
        {
          "output_type": "stream",
          "name": "stdout",
          "text": [
            "Performace at epoch 57\n",
            "Train Loss: 0.52942 ; Train Acc: 0.82544\n",
            "Test Loss: 1.15585 ; Test Acc: 0.62252\n",
            "==============\n"
          ]
        },
        {
          "output_type": "stream",
          "name": "stderr",
          "text": [
            "100%|██████████| 391/391 [00:06<00:00, 56.35it/s]\n"
          ]
        },
        {
          "output_type": "stream",
          "name": "stdout",
          "text": [
            "Performace at epoch 58\n",
            "Train Loss: 0.50924 ; Train Acc: 0.83376\n",
            "Test Loss: 1.16158 ; Test Acc: 0.62613\n",
            "==============\n"
          ]
        },
        {
          "output_type": "stream",
          "name": "stderr",
          "text": [
            "100%|██████████| 391/391 [00:07<00:00, 55.48it/s]\n"
          ]
        },
        {
          "output_type": "stream",
          "name": "stdout",
          "text": [
            "Performace at epoch 59\n",
            "Train Loss: 0.49257 ; Train Acc: 0.83896\n",
            "Test Loss: 1.16521 ; Test Acc: 0.62823\n",
            "==============\n"
          ]
        },
        {
          "output_type": "stream",
          "name": "stderr",
          "text": [
            "100%|██████████| 391/391 [00:06<00:00, 56.14it/s]\n"
          ]
        },
        {
          "output_type": "stream",
          "name": "stdout",
          "text": [
            "Performace at epoch 60\n",
            "Train Loss: 0.47828 ; Train Acc: 0.84660\n",
            "Test Loss: 1.18541 ; Test Acc: 0.62613\n",
            "==============\n"
          ]
        },
        {
          "output_type": "stream",
          "name": "stderr",
          "text": [
            "100%|██████████| 391/391 [00:06<00:00, 57.24it/s]\n"
          ]
        },
        {
          "output_type": "stream",
          "name": "stdout",
          "text": [
            "Performace at epoch 61\n",
            "Train Loss: 0.46477 ; Train Acc: 0.85204\n",
            "Test Loss: 1.23111 ; Test Acc: 0.61712\n",
            "==============\n"
          ]
        },
        {
          "output_type": "stream",
          "name": "stderr",
          "text": [
            "100%|██████████| 391/391 [00:06<00:00, 57.26it/s]\n"
          ]
        },
        {
          "output_type": "stream",
          "name": "stdout",
          "text": [
            "Performace at epoch 62\n",
            "Train Loss: 0.44682 ; Train Acc: 0.85992\n",
            "Test Loss: 1.21313 ; Test Acc: 0.61982\n",
            "==============\n"
          ]
        },
        {
          "output_type": "stream",
          "name": "stderr",
          "text": [
            "100%|██████████| 391/391 [00:06<00:00, 55.86it/s]\n"
          ]
        },
        {
          "output_type": "stream",
          "name": "stdout",
          "text": [
            "Performace at epoch 63\n",
            "Train Loss: 0.43171 ; Train Acc: 0.86276\n",
            "Test Loss: 1.26045 ; Test Acc: 0.61171\n",
            "==============\n"
          ]
        },
        {
          "output_type": "stream",
          "name": "stderr",
          "text": [
            "100%|██████████| 391/391 [00:06<00:00, 56.40it/s]\n"
          ]
        },
        {
          "output_type": "stream",
          "name": "stdout",
          "text": [
            "Performace at epoch 64\n",
            "Train Loss: 0.41746 ; Train Acc: 0.86944\n",
            "Test Loss: 1.27841 ; Test Acc: 0.60240\n",
            "==============\n"
          ]
        },
        {
          "output_type": "stream",
          "name": "stderr",
          "text": [
            "100%|██████████| 391/391 [00:06<00:00, 55.87it/s]\n"
          ]
        },
        {
          "output_type": "stream",
          "name": "stdout",
          "text": [
            "Performace at epoch 65\n",
            "Train Loss: 0.40074 ; Train Acc: 0.87580\n",
            "Test Loss: 1.21636 ; Test Acc: 0.62342\n",
            "==============\n"
          ]
        },
        {
          "output_type": "stream",
          "name": "stderr",
          "text": [
            "100%|██████████| 391/391 [00:06<00:00, 56.26it/s]\n"
          ]
        },
        {
          "output_type": "stream",
          "name": "stdout",
          "text": [
            "Performace at epoch 66\n",
            "Train Loss: 0.38786 ; Train Acc: 0.88144\n",
            "Test Loss: 1.23659 ; Test Acc: 0.62432\n",
            "==============\n"
          ]
        },
        {
          "output_type": "stream",
          "name": "stderr",
          "text": [
            "100%|██████████| 391/391 [00:06<00:00, 55.97it/s]\n"
          ]
        },
        {
          "output_type": "stream",
          "name": "stdout",
          "text": [
            "Performace at epoch 67\n",
            "Train Loss: 0.37203 ; Train Acc: 0.88636\n",
            "Test Loss: 1.24706 ; Test Acc: 0.62613\n",
            "==============\n"
          ]
        },
        {
          "output_type": "stream",
          "name": "stderr",
          "text": [
            "100%|██████████| 391/391 [00:06<00:00, 56.14it/s]\n"
          ]
        },
        {
          "output_type": "stream",
          "name": "stdout",
          "text": [
            "Performace at epoch 68\n",
            "Train Loss: 0.35304 ; Train Acc: 0.89488\n",
            "Test Loss: 1.25821 ; Test Acc: 0.61802\n",
            "==============\n"
          ]
        },
        {
          "output_type": "stream",
          "name": "stderr",
          "text": [
            "100%|██████████| 391/391 [00:06<00:00, 56.47it/s]\n"
          ]
        },
        {
          "output_type": "stream",
          "name": "stdout",
          "text": [
            "Performace at epoch 69\n",
            "Train Loss: 0.34271 ; Train Acc: 0.89948\n",
            "Test Loss: 1.29789 ; Test Acc: 0.62583\n",
            "==============\n"
          ]
        },
        {
          "output_type": "stream",
          "name": "stderr",
          "text": [
            "100%|██████████| 391/391 [00:06<00:00, 57.51it/s]\n"
          ]
        },
        {
          "output_type": "stream",
          "name": "stdout",
          "text": [
            "Performace at epoch 70\n",
            "Train Loss: 0.33005 ; Train Acc: 0.90356\n",
            "Test Loss: 1.28576 ; Test Acc: 0.62372\n",
            "==============\n"
          ]
        },
        {
          "output_type": "stream",
          "name": "stderr",
          "text": [
            "100%|██████████| 391/391 [00:06<00:00, 56.23it/s]\n"
          ]
        },
        {
          "output_type": "stream",
          "name": "stdout",
          "text": [
            "Performace at epoch 71\n",
            "Train Loss: 0.31419 ; Train Acc: 0.90784\n",
            "Test Loss: 1.32532 ; Test Acc: 0.61862\n",
            "==============\n"
          ]
        },
        {
          "output_type": "stream",
          "name": "stderr",
          "text": [
            "100%|██████████| 391/391 [00:06<00:00, 56.77it/s]\n"
          ]
        },
        {
          "output_type": "stream",
          "name": "stdout",
          "text": [
            "Performace at epoch 72\n",
            "Train Loss: 0.29885 ; Train Acc: 0.91440\n",
            "Test Loss: 1.33135 ; Test Acc: 0.61562\n",
            "==============\n"
          ]
        },
        {
          "output_type": "stream",
          "name": "stderr",
          "text": [
            "100%|██████████| 391/391 [00:06<00:00, 56.65it/s]\n"
          ]
        },
        {
          "output_type": "stream",
          "name": "stdout",
          "text": [
            "Performace at epoch 73\n",
            "Train Loss: 0.28489 ; Train Acc: 0.92024\n",
            "Test Loss: 1.36916 ; Test Acc: 0.60811\n",
            "==============\n"
          ]
        },
        {
          "output_type": "stream",
          "name": "stderr",
          "text": [
            "100%|██████████| 391/391 [00:06<00:00, 56.55it/s]\n"
          ]
        },
        {
          "output_type": "stream",
          "name": "stdout",
          "text": [
            "Performace at epoch 74\n",
            "Train Loss: 0.27166 ; Train Acc: 0.92368\n",
            "Test Loss: 1.34194 ; Test Acc: 0.62012\n",
            "==============\n"
          ]
        },
        {
          "output_type": "stream",
          "name": "stderr",
          "text": [
            "100%|██████████| 391/391 [00:06<00:00, 55.96it/s]\n"
          ]
        },
        {
          "output_type": "stream",
          "name": "stdout",
          "text": [
            "Performace at epoch 75\n",
            "Train Loss: 0.26044 ; Train Acc: 0.92916\n",
            "Test Loss: 1.39732 ; Test Acc: 0.61982\n",
            "==============\n"
          ]
        },
        {
          "output_type": "stream",
          "name": "stderr",
          "text": [
            "100%|██████████| 391/391 [00:07<00:00, 55.57it/s]\n"
          ]
        },
        {
          "output_type": "stream",
          "name": "stdout",
          "text": [
            "Performace at epoch 76\n",
            "Train Loss: 0.24671 ; Train Acc: 0.93492\n",
            "Test Loss: 1.42778 ; Test Acc: 0.61411\n",
            "==============\n"
          ]
        },
        {
          "output_type": "stream",
          "name": "stderr",
          "text": [
            "100%|██████████| 391/391 [00:07<00:00, 55.14it/s]\n"
          ]
        },
        {
          "output_type": "stream",
          "name": "stdout",
          "text": [
            "Performace at epoch 77\n",
            "Train Loss: 0.23178 ; Train Acc: 0.94112\n",
            "Test Loss: 1.41985 ; Test Acc: 0.61081\n",
            "==============\n"
          ]
        },
        {
          "output_type": "stream",
          "name": "stderr",
          "text": [
            "100%|██████████| 391/391 [00:07<00:00, 55.12it/s]\n"
          ]
        },
        {
          "output_type": "stream",
          "name": "stdout",
          "text": [
            "Performace at epoch 78\n",
            "Train Loss: 0.22275 ; Train Acc: 0.94144\n",
            "Test Loss: 1.44274 ; Test Acc: 0.61562\n",
            "==============\n"
          ]
        },
        {
          "output_type": "stream",
          "name": "stderr",
          "text": [
            "100%|██████████| 391/391 [00:06<00:00, 56.05it/s]\n"
          ]
        },
        {
          "output_type": "stream",
          "name": "stdout",
          "text": [
            "Performace at epoch 79\n",
            "Train Loss: 0.21017 ; Train Acc: 0.94752\n",
            "Test Loss: 1.43947 ; Test Acc: 0.61291\n",
            "==============\n"
          ]
        },
        {
          "output_type": "stream",
          "name": "stderr",
          "text": [
            "100%|██████████| 391/391 [00:06<00:00, 56.32it/s]\n"
          ]
        },
        {
          "output_type": "stream",
          "name": "stdout",
          "text": [
            "Performace at epoch 80\n",
            "Train Loss: 0.19856 ; Train Acc: 0.95092\n",
            "Test Loss: 1.50499 ; Test Acc: 0.61321\n",
            "==============\n"
          ]
        },
        {
          "output_type": "stream",
          "name": "stderr",
          "text": [
            "100%|██████████| 391/391 [00:06<00:00, 56.32it/s]\n"
          ]
        },
        {
          "output_type": "stream",
          "name": "stdout",
          "text": [
            "Performace at epoch 81\n",
            "Train Loss: 0.19057 ; Train Acc: 0.95288\n",
            "Test Loss: 1.50051 ; Test Acc: 0.61111\n",
            "==============\n"
          ]
        },
        {
          "output_type": "stream",
          "name": "stderr",
          "text": [
            "100%|██████████| 391/391 [00:06<00:00, 56.57it/s]\n"
          ]
        },
        {
          "output_type": "stream",
          "name": "stdout",
          "text": [
            "Performace at epoch 82\n",
            "Train Loss: 0.17673 ; Train Acc: 0.95840\n",
            "Test Loss: 1.48489 ; Test Acc: 0.61622\n",
            "==============\n"
          ]
        },
        {
          "output_type": "stream",
          "name": "stderr",
          "text": [
            "100%|██████████| 391/391 [00:07<00:00, 55.30it/s]\n"
          ]
        },
        {
          "output_type": "stream",
          "name": "stdout",
          "text": [
            "Performace at epoch 83\n",
            "Train Loss: 0.16519 ; Train Acc: 0.96128\n",
            "Test Loss: 1.79137 ; Test Acc: 0.57718\n",
            "==============\n"
          ]
        },
        {
          "output_type": "stream",
          "name": "stderr",
          "text": [
            "100%|██████████| 391/391 [00:07<00:00, 54.87it/s]\n"
          ]
        },
        {
          "output_type": "stream",
          "name": "stdout",
          "text": [
            "Performace at epoch 84\n",
            "Train Loss: 0.15912 ; Train Acc: 0.96300\n",
            "Test Loss: 1.57523 ; Test Acc: 0.61261\n",
            "==============\n"
          ]
        },
        {
          "output_type": "stream",
          "name": "stderr",
          "text": [
            "100%|██████████| 391/391 [00:07<00:00, 55.43it/s]\n"
          ]
        },
        {
          "output_type": "stream",
          "name": "stdout",
          "text": [
            "Performace at epoch 85\n",
            "Train Loss: 0.14753 ; Train Acc: 0.96956\n",
            "Test Loss: 1.66168 ; Test Acc: 0.59970\n",
            "==============\n"
          ]
        },
        {
          "output_type": "stream",
          "name": "stderr",
          "text": [
            "100%|██████████| 391/391 [00:07<00:00, 55.44it/s]\n"
          ]
        },
        {
          "output_type": "stream",
          "name": "stdout",
          "text": [
            "Performace at epoch 86\n",
            "Train Loss: 0.14047 ; Train Acc: 0.96872\n",
            "Test Loss: 1.60056 ; Test Acc: 0.61321\n",
            "==============\n"
          ]
        },
        {
          "output_type": "stream",
          "name": "stderr",
          "text": [
            "100%|██████████| 391/391 [00:06<00:00, 56.57it/s]\n"
          ]
        },
        {
          "output_type": "stream",
          "name": "stdout",
          "text": [
            "Performace at epoch 87\n",
            "Train Loss: 0.12524 ; Train Acc: 0.97584\n",
            "Test Loss: 1.65164 ; Test Acc: 0.60330\n",
            "==============\n"
          ]
        },
        {
          "output_type": "stream",
          "name": "stderr",
          "text": [
            "100%|██████████| 391/391 [00:07<00:00, 54.25it/s]\n"
          ]
        },
        {
          "output_type": "stream",
          "name": "stdout",
          "text": [
            "Performace at epoch 88\n",
            "Train Loss: 0.12347 ; Train Acc: 0.97400\n",
            "Test Loss: 1.62310 ; Test Acc: 0.61411\n",
            "==============\n"
          ]
        },
        {
          "output_type": "stream",
          "name": "stderr",
          "text": [
            "100%|██████████| 391/391 [00:07<00:00, 55.15it/s]\n"
          ]
        },
        {
          "output_type": "stream",
          "name": "stdout",
          "text": [
            "Performace at epoch 89\n",
            "Train Loss: 0.12603 ; Train Acc: 0.97576\n",
            "Test Loss: 1.65473 ; Test Acc: 0.61532\n",
            "==============\n"
          ]
        },
        {
          "output_type": "stream",
          "name": "stderr",
          "text": [
            "100%|██████████| 391/391 [00:07<00:00, 55.57it/s]\n"
          ]
        },
        {
          "output_type": "stream",
          "name": "stdout",
          "text": [
            "Performace at epoch 90\n",
            "Train Loss: 0.10526 ; Train Acc: 0.98116\n",
            "Test Loss: 1.70152 ; Test Acc: 0.61381\n",
            "==============\n"
          ]
        },
        {
          "output_type": "stream",
          "name": "stderr",
          "text": [
            "100%|██████████| 391/391 [00:07<00:00, 54.54it/s]\n"
          ]
        },
        {
          "output_type": "stream",
          "name": "stdout",
          "text": [
            "Performace at epoch 91\n",
            "Train Loss: 0.10099 ; Train Acc: 0.98148\n",
            "Test Loss: 1.69282 ; Test Acc: 0.61712\n",
            "==============\n"
          ]
        },
        {
          "output_type": "stream",
          "name": "stderr",
          "text": [
            "100%|██████████| 391/391 [00:07<00:00, 54.80it/s]\n"
          ]
        },
        {
          "output_type": "stream",
          "name": "stdout",
          "text": [
            "Performace at epoch 92\n",
            "Train Loss: 0.10777 ; Train Acc: 0.98148\n",
            "Test Loss: 1.71502 ; Test Acc: 0.61682\n",
            "==============\n"
          ]
        },
        {
          "output_type": "stream",
          "name": "stderr",
          "text": [
            "100%|██████████| 391/391 [00:07<00:00, 54.29it/s]\n"
          ]
        },
        {
          "output_type": "stream",
          "name": "stdout",
          "text": [
            "Performace at epoch 93\n",
            "Train Loss: 0.09486 ; Train Acc: 0.98348\n",
            "Test Loss: 1.74440 ; Test Acc: 0.60871\n",
            "==============\n"
          ]
        },
        {
          "output_type": "stream",
          "name": "stderr",
          "text": [
            "100%|██████████| 391/391 [00:07<00:00, 55.14it/s]\n"
          ]
        },
        {
          "output_type": "stream",
          "name": "stdout",
          "text": [
            "Performace at epoch 94\n",
            "Train Loss: 0.07436 ; Train Acc: 0.99048\n",
            "Test Loss: 1.75202 ; Test Acc: 0.61772\n",
            "==============\n"
          ]
        },
        {
          "output_type": "stream",
          "name": "stderr",
          "text": [
            "100%|██████████| 391/391 [00:06<00:00, 56.25it/s]\n"
          ]
        },
        {
          "output_type": "stream",
          "name": "stdout",
          "text": [
            "Performace at epoch 95\n",
            "Train Loss: 0.07449 ; Train Acc: 0.98844\n",
            "Test Loss: 1.77813 ; Test Acc: 0.61802\n",
            "==============\n"
          ]
        },
        {
          "output_type": "stream",
          "name": "stderr",
          "text": [
            "100%|██████████| 391/391 [00:07<00:00, 55.48it/s]\n"
          ]
        },
        {
          "output_type": "stream",
          "name": "stdout",
          "text": [
            "Performace at epoch 96\n",
            "Train Loss: 0.08319 ; Train Acc: 0.98728\n",
            "Test Loss: 1.80192 ; Test Acc: 0.61231\n",
            "==============\n"
          ]
        },
        {
          "output_type": "stream",
          "name": "stderr",
          "text": [
            "100%|██████████| 391/391 [00:07<00:00, 55.83it/s]\n"
          ]
        },
        {
          "output_type": "stream",
          "name": "stdout",
          "text": [
            "Performace at epoch 97\n",
            "Train Loss: 0.06160 ; Train Acc: 0.99260\n",
            "Test Loss: 1.84136 ; Test Acc: 0.61622\n",
            "==============\n"
          ]
        },
        {
          "output_type": "stream",
          "name": "stderr",
          "text": [
            "100%|██████████| 391/391 [00:07<00:00, 54.97it/s]\n"
          ]
        },
        {
          "output_type": "stream",
          "name": "stdout",
          "text": [
            "Performace at epoch 98\n",
            "Train Loss: 0.09588 ; Train Acc: 0.98472\n",
            "Test Loss: 1.82270 ; Test Acc: 0.60721\n",
            "==============\n"
          ]
        },
        {
          "output_type": "stream",
          "name": "stderr",
          "text": [
            "100%|██████████| 391/391 [00:07<00:00, 54.84it/s]\n"
          ]
        },
        {
          "output_type": "stream",
          "name": "stdout",
          "text": [
            "Performace at epoch 99\n",
            "Train Loss: 0.04977 ; Train Acc: 0.99560\n",
            "Test Loss: 1.93242 ; Test Acc: 0.61051\n",
            "==============\n"
          ]
        },
        {
          "output_type": "stream",
          "name": "stderr",
          "text": [
            "100%|██████████| 391/391 [00:07<00:00, 55.02it/s]\n"
          ]
        },
        {
          "output_type": "stream",
          "name": "stdout",
          "text": [
            "Performace at epoch 100\n",
            "Train Loss: 0.07214 ; Train Acc: 0.98788\n",
            "Test Loss: 1.86969 ; Test Acc: 0.61351\n",
            "==============\n"
          ]
        }
      ]
    },
    {
      "cell_type": "code",
      "source": [
        "# plot loss\n",
        "plt.plot(range(1, len(train_loss) + 1), train_loss, label='train loss')\n",
        "plt.plot(range(1, len(test_loss) + 1), test_loss, label='test loss')\n",
        "plt.xlabel('epochs')\n",
        "plt.ylabel('loss')\n",
        "plt.title('loss vs epochs')\n",
        "plt.legend()\n",
        "plt.show()"
      ],
      "metadata": {
        "id": "Yb3Ugz7AYw9d",
        "colab": {
          "base_uri": "https://localhost:8080/",
          "height": 295
        },
        "outputId": "10513a4e-8090-4b09-ed32-fdceb3bd9615"
      },
      "execution_count": null,
      "outputs": [
        {
          "output_type": "display_data",
          "data": {
            "image/png": "[encoded data removed]",
            "text/plain": [
              "<Figure size 432x288 with 1 Axes>"
            ]
          },
          "metadata": {
            "needs_background": "light"
          }
        }
      ]
    },
    {
      "cell_type": "code",
      "source": [
        "# plot acc\n",
        "plt.plot(range(1, NUM_EPOCHS + 1), train_acc, label='train acc')\n",
        "plt.plot(range(1, NUM_EPOCHS + 1), test_acc, label='test acc')\n",
        "plt.xlabel('epochs')\n",
        "plt.ylabel('acc')\n",
        "plt.title('acc vs epochs')\n",
        "plt.legend()\n",
        "plt.show()"
      ],
      "metadata": {
        "id": "kGbrAiO8YzjH",
        "colab": {
          "base_uri": "https://localhost:8080/",
          "height": 295
        },
        "outputId": "26c48c67-1b8e-431a-e457-42ca7364c6be"
      },
      "execution_count": null,
      "outputs": [
        {
          "output_type": "display_data",
          "data": {
            "image/png": "[encoded data removed]",
            "text/plain": [
              "<Figure size 432x288 with 1 Axes>"
            ]
          },
          "metadata": {
            "needs_background": "light"
          }
        }
      ]
    }
  ]
}