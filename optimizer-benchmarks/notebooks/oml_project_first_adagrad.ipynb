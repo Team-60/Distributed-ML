{
  "nbformat": 4,
  "nbformat_minor": 0,
  "metadata": {
    "colab": {
      "name": "oml-project-first-adagrad.ipynb",
      "provenance": [],
      "collapsed_sections": []
    },
    "kernelspec": {
      "name": "python3",
      "display_name": "Python 3"
    },
    "language_info": {
      "name": "python"
    },
    "accelerator": "GPU"
  },
  "cells": [
    {
      "cell_type": "markdown",
      "metadata": {
        "id": "tLRs9OhtPjNo"
      },
      "source": [
        "## Setting up\n",
        "- Notebook: `Adagrad(model.parameters(), lr=0.01, eps=1e-8)` "
      ]
    },
    {
      "cell_type": "code",
      "metadata": {
        "colab": {
          "base_uri": "https://localhost:8080/"
        },
        "id": "64fLZZQA7dp0",
        "outputId": "73a420d4-603e-42a9-f3d2-26870014e241"
      },
      "source": [
        "from google.colab import drive\n",
        "drive.mount('/content/drive')"
      ],
      "execution_count": null,
      "outputs": [
        {
          "output_type": "stream",
          "name": "stdout",
          "text": [
            "Mounted at /content/drive\n"
          ]
        }
      ]
    },
    {
      "cell_type": "code",
      "metadata": {
        "colab": {
          "base_uri": "https://localhost:8080/"
        },
        "id": "LGYnUUYvK3i0",
        "outputId": "30986cef-d3e6-4fa0-8c2c-33e8a2e3dd88"
      },
      "source": [
        "%cd /content/drive/\"My Drive\"/\"Data Colab\"/oml-project"
      ],
      "execution_count": null,
      "outputs": [
        {
          "output_type": "stream",
          "name": "stdout",
          "text": [
            "/content/drive/My Drive/Data Colab/oml-project\n"
          ]
        }
      ]
    },
    {
      "cell_type": "code",
      "metadata": {
        "id": "6WbA1SvJMQ4E"
      },
      "source": [
        "import torch\n",
        "import torchvision\n",
        "import torchvision.transforms as transforms\n",
        "import matplotlib.pyplot as plt\n",
        "import torch.nn as nn\n",
        "import numpy as np\n",
        "from tqdm import tqdm"
      ],
      "execution_count": null,
      "outputs": []
    },
    {
      "cell_type": "code",
      "metadata": {
        "colab": {
          "base_uri": "https://localhost:8080/"
        },
        "id": "n_lbasYxiKiq",
        "outputId": "b0501ced-557a-4d17-b855-6500db87a908"
      },
      "source": [
        "device = torch.device(\"cuda:0\" if torch.cuda.is_available() else \"cpu\")\n",
        "device"
      ],
      "execution_count": null,
      "outputs": [
        {
          "output_type": "execute_result",
          "data": {
            "text/plain": [
              "device(type='cuda', index=0)"
            ]
          },
          "metadata": {},
          "execution_count": 4
        }
      ]
    },
    {
      "cell_type": "code",
      "metadata": {
        "id": "X3E720ochraB"
      },
      "source": [
        "# hyperparameters\n",
        "BATCH_SIZE = 64"
      ],
      "execution_count": null,
      "outputs": []
    },
    {
      "cell_type": "code",
      "metadata": {
        "id": "_oHZPC12Myqw",
        "colab": {
          "base_uri": "https://localhost:8080/"
        },
        "outputId": "a3b427e9-bb50-4b80-b7e8-9666a87d6ff3"
      },
      "source": [
        "train_set = torchvision.datasets.CIFAR10('./data', download=True, train=True, transform=transforms.Compose([transforms.ToTensor()]))"
      ],
      "execution_count": null,
      "outputs": [
        {
          "output_type": "stream",
          "name": "stdout",
          "text": [
            "Files already downloaded and verified\n"
          ]
        }
      ]
    },
    {
      "cell_type": "code",
      "metadata": {
        "id": "3fheO57gNYFu",
        "colab": {
          "base_uri": "https://localhost:8080/"
        },
        "outputId": "1680e2e9-9276-4df3-fd7e-b99d84ead162"
      },
      "source": [
        "test_set = torchvision.datasets.CIFAR10(\"./data\", download=True, train=False, transform=transforms.Compose([transforms.ToTensor()])) "
      ],
      "execution_count": null,
      "outputs": [
        {
          "output_type": "stream",
          "name": "stdout",
          "text": [
            "Files already downloaded and verified\n"
          ]
        }
      ]
    },
    {
      "cell_type": "code",
      "metadata": {
        "colab": {
          "base_uri": "https://localhost:8080/"
        },
        "id": "y2qZz-iUeqon",
        "outputId": "3006a14c-7a73-4b78-b257-024426105485"
      },
      "source": [
        "# sampling for smaller dataset: train\n",
        "TRAIN_SAMPLES = int(len(train_set) / (10 * 2))\n",
        "train_class_seen = dict([(i, 0) for i in range(10)])\n",
        "train_indices = []\n",
        "for i, (_, l) in enumerate(train_set):\n",
        "  if train_class_seen[l] >= TRAIN_SAMPLES:\n",
        "    continue\n",
        "  train_class_seen[l] += 1\n",
        "  train_indices.append(i)\n",
        "train_subset = torch.utils.data.Subset(train_set, train_indices)\n",
        "len(train_subset)"
      ],
      "execution_count": null,
      "outputs": [
        {
          "output_type": "execute_result",
          "data": {
            "text/plain": [
              "25000"
            ]
          },
          "metadata": {},
          "execution_count": 8
        }
      ]
    },
    {
      "cell_type": "code",
      "metadata": {
        "colab": {
          "base_uri": "https://localhost:8080/"
        },
        "id": "IJJY43pUg9AY",
        "outputId": "16f6f978-14ae-4bb1-ac53-bc82ab363120"
      },
      "source": [
        "# sampling for smaller dataset: test\n",
        "TEST_SAMPLES = int(len(test_set) / (10 * 3))\n",
        "test_class_seen = dict([(i, 0) for i in range(10)])\n",
        "test_indices = []\n",
        "for i, (_, l) in enumerate(test_set):\n",
        "  if test_class_seen[l] >= TEST_SAMPLES:\n",
        "    continue\n",
        "  test_class_seen[l] += 1\n",
        "  test_indices.append(i)\n",
        "test_subset = torch.utils.data.Subset(test_set, test_indices)\n",
        "# store the test set as a single tensor\n",
        "test_X, test_Y = [], []\n",
        "for s, l in test_subset:\n",
        "  test_X.append(s)\n",
        "  test_Y.append(l)\n",
        "test_X = torch.stack(test_X).float()\n",
        "test_Y = torch.tensor(test_Y).long()\n",
        "test_X, test_Y = test_X.to(device), test_Y.to(device)\n",
        "test_X.shape, test_Y.shape"
      ],
      "execution_count": null,
      "outputs": [
        {
          "output_type": "execute_result",
          "data": {
            "text/plain": [
              "(torch.Size([3330, 3, 32, 32]), torch.Size([3330]))"
            ]
          },
          "metadata": {},
          "execution_count": 9
        }
      ]
    },
    {
      "cell_type": "code",
      "metadata": {
        "id": "LdUrDW0ohICt"
      },
      "source": [
        "train_loader = torch.utils.data.DataLoader(train_subset, batch_size=BATCH_SIZE, shuffle=True, num_workers=2)"
      ],
      "execution_count": null,
      "outputs": []
    },
    {
      "cell_type": "markdown",
      "metadata": {
        "id": "dJ0HrjaQPme8"
      },
      "source": [
        "## Analysis"
      ]
    },
    {
      "cell_type": "code",
      "metadata": {
        "id": "FSgQ8mxiNup-"
      },
      "source": [
        "sample_image, sample_label = train_set[100]"
      ],
      "execution_count": null,
      "outputs": []
    },
    {
      "cell_type": "code",
      "metadata": {
        "colab": {
          "base_uri": "https://localhost:8080/"
        },
        "id": "3ZBTqsoTdQPg",
        "outputId": "21ab94bc-e946-412d-8ec4-270629f9b0e9"
      },
      "source": [
        "sample_image.shape"
      ],
      "execution_count": null,
      "outputs": [
        {
          "output_type": "execute_result",
          "data": {
            "text/plain": [
              "torch.Size([3, 32, 32])"
            ]
          },
          "metadata": {},
          "execution_count": 12
        }
      ]
    },
    {
      "cell_type": "code",
      "metadata": {
        "colab": {
          "base_uri": "https://localhost:8080/",
          "height": 266
        },
        "id": "f5DSLrXmYzzA",
        "outputId": "1c05d07e-b96c-497f-d2ac-ddb2d09c2068"
      },
      "source": [
        "plt.imshow(np.transpose(sample_image.numpy(), (1, 2, 0)))\n",
        "plt.show()"
      ],
      "execution_count": null,
      "outputs": [
        {
          "output_type": "display_data",
          "data": {
            "image/png": "[encoded data removed]",
            "text/plain": [
              "<Figure size 432x288 with 1 Axes>"
            ]
          },
          "metadata": {
            "needs_background": "light"
          }
        }
      ]
    },
    {
      "cell_type": "code",
      "metadata": {
        "colab": {
          "base_uri": "https://localhost:8080/"
        },
        "id": "A2JUccoHdJ-b",
        "outputId": "ce64ffad-63e1-4f09-ea7b-b13040e7e2f6"
      },
      "source": [
        "len(train_set), len(test_set)"
      ],
      "execution_count": null,
      "outputs": [
        {
          "output_type": "execute_result",
          "data": {
            "text/plain": [
              "(50000, 10000)"
            ]
          },
          "metadata": {},
          "execution_count": 14
        }
      ]
    },
    {
      "cell_type": "code",
      "metadata": {
        "colab": {
          "base_uri": "https://localhost:8080/"
        },
        "id": "bSMtF-EJL3OS",
        "outputId": "c673e3f5-2d63-4a62-e672-2e36583d4441"
      },
      "source": [
        "sample_batch = next(iter(train_loader))\n",
        "sample_batch = sample_batch[0].to(device), sample_batch[1].to(device)\n",
        "sample_batch[0].shape, sample_batch[1].shape"
      ],
      "execution_count": null,
      "outputs": [
        {
          "output_type": "execute_result",
          "data": {
            "text/plain": [
              "(torch.Size([64, 3, 32, 32]), torch.Size([64]))"
            ]
          },
          "metadata": {},
          "execution_count": 15
        }
      ]
    },
    {
      "cell_type": "markdown",
      "metadata": {
        "id": "_midlfWidVDG"
      },
      "source": [
        "## Model"
      ]
    },
    {
      "cell_type": "code",
      "metadata": {
        "id": "GW2ovC5cdTrk",
        "colab": {
          "base_uri": "https://localhost:8080/"
        },
        "outputId": "d06853fd-4e0a-4a37-caca-04311bdecef1"
      },
      "source": [
        "class CNN(nn.Module):\n",
        "  def __init__(self):\n",
        "    super().__init__()\n",
        "    self.conv = nn.Sequential(\n",
        "      nn.Conv2d(in_channels=3, out_channels=32, kernel_size=3),\n",
        "      nn.MaxPool2d(kernel_size=2),\n",
        "      nn.ReLU(),\n",
        "    )\n",
        "    self.lin = nn.Sequential(\n",
        "        nn.Linear(in_features=32*15*15, out_features=600),\n",
        "        nn.ReLU(),\n",
        "        nn.Linear(in_features=600, out_features=120),\n",
        "        nn.ReLU(),\n",
        "        nn.Linear(in_features=120, out_features=10)\n",
        "    )\n",
        "    self.softmax = nn.LogSoftmax(dim=1)\n",
        "  def forward(self, x):\n",
        "    out = self.conv(x)\n",
        "    out = out.view(out.size(0), -1)\n",
        "    out = self.lin(out)\n",
        "    out = self.softmax(out)\n",
        "    return out\n",
        "model = CNN()\n",
        "model.to(device)"
      ],
      "execution_count": null,
      "outputs": [
        {
          "output_type": "execute_result",
          "data": {
            "text/plain": [
              "CNN(\n",
              "  (conv): Sequential(\n",
              "    (0): Conv2d(3, 32, kernel_size=(3, 3), stride=(1, 1))\n",
              "    (1): MaxPool2d(kernel_size=2, stride=2, padding=0, dilation=1, ceil_mode=False)\n",
              "    (2): ReLU()\n",
              "  )\n",
              "  (lin): Sequential(\n",
              "    (0): Linear(in_features=7200, out_features=600, bias=True)\n",
              "    (1): ReLU()\n",
              "    (2): Linear(in_features=600, out_features=120, bias=True)\n",
              "    (3): ReLU()\n",
              "    (4): Linear(in_features=120, out_features=10, bias=True)\n",
              "  )\n",
              "  (softmax): LogSoftmax(dim=1)\n",
              ")"
            ]
          },
          "metadata": {},
          "execution_count": 16
        }
      ]
    },
    {
      "cell_type": "code",
      "metadata": {
        "id": "IICsH3NmmqEZ"
      },
      "source": [
        "# hyperparameters\n",
        "NUM_EPOCHS = 100"
      ],
      "execution_count": null,
      "outputs": []
    },
    {
      "cell_type": "code",
      "metadata": {
        "id": "8ugQ9BLlfrjj"
      },
      "source": [
        "error = nn.NLLLoss()\n",
        "optimizer = torch.optim.Adagrad(model.parameters(), lr=0.01, eps=1e-8)"
      ],
      "execution_count": null,
      "outputs": []
    },
    {
      "cell_type": "markdown",
      "metadata": {
        "id": "nClIdnNkRMjL"
      },
      "source": [
        "## Training"
      ]
    },
    {
      "cell_type": "code",
      "metadata": {
        "colab": {
          "base_uri": "https://localhost:8080/"
        },
        "id": "su22Cmi2gpeI",
        "outputId": "f8605518-45f9-4f97-a615-63386e54c34d"
      },
      "source": [
        "DISPLAY_INTERVAL = 1\n",
        "train_loss, test_loss = [], [] # denotes the mean loss over all samples\n",
        "train_acc, test_acc = [], []\n",
        "for epoch in range(1, NUM_EPOCHS + 1):\n",
        "  total_loss = 0\n",
        "  correct, total = 0, 0\n",
        "  for images, labels in tqdm(train_loader):\n",
        "    # forward + backward + step\n",
        "    optimizer.zero_grad()\n",
        "    images, labels = images.to(device), labels.to(device)\n",
        "    outputs = model(images)\n",
        "    loss = error(outputs, labels)\n",
        "    total_loss += loss.item() * len(outputs)\n",
        "    loss.backward()\n",
        "    optimizer.step()\n",
        "    # accuracy calculation\n",
        "    correct += (torch.argmax(outputs, dim=1) == labels).sum()\n",
        "    total += len(labels)\n",
        "  train_loss.append(total_loss / total)\n",
        "  train_acc.append(correct / total)\n",
        "  # testing loss\n",
        "  with torch.no_grad():\n",
        "    predicted = model(test_X)\n",
        "    loss = error(predicted, test_Y)\n",
        "    test_loss.append(loss.item())\n",
        "    test_acc.append((torch.argmax(predicted, dim=1) == test_Y).sum() / len(test_Y))\n",
        "\n",
        "  if epoch % DISPLAY_INTERVAL == 0:\n",
        "      print(f'Performace at epoch {epoch}')\n",
        "      print(f'Train Loss: {train_loss[-1]:.5f} ; Train Acc: {train_acc[-1]:.5f}')\n",
        "      print(f'Test Loss: {test_loss[-1]:.5f} ; Test Acc: {test_acc[-1]:.5f}')\n",
        "      print('==============')"
      ],
      "execution_count": null,
      "outputs": [
        {
          "output_type": "stream",
          "name": "stderr",
          "text": [
            "100%|██████████| 391/391 [00:06<00:00, 60.54it/s]\n"
          ]
        },
        {
          "output_type": "stream",
          "name": "stdout",
          "text": [
            "Performace at epoch 1\n",
            "Train Loss: 1.93641 ; Train Acc: 0.33148\n",
            "Test Loss: 1.62354 ; Test Acc: 0.41201\n",
            "==============\n"
          ]
        },
        {
          "output_type": "stream",
          "name": "stderr",
          "text": [
            "100%|██████████| 391/391 [00:06<00:00, 60.80it/s]\n"
          ]
        },
        {
          "output_type": "stream",
          "name": "stdout",
          "text": [
            "Performace at epoch 2\n",
            "Train Loss: 1.49577 ; Train Acc: 0.45820\n",
            "Test Loss: 1.44872 ; Test Acc: 0.46817\n",
            "==============\n"
          ]
        },
        {
          "output_type": "stream",
          "name": "stderr",
          "text": [
            "100%|██████████| 391/391 [00:06<00:00, 59.96it/s]\n"
          ]
        },
        {
          "output_type": "stream",
          "name": "stdout",
          "text": [
            "Performace at epoch 3\n",
            "Train Loss: 1.37087 ; Train Acc: 0.50616\n",
            "Test Loss: 1.35918 ; Test Acc: 0.51441\n",
            "==============\n"
          ]
        },
        {
          "output_type": "stream",
          "name": "stderr",
          "text": [
            "100%|██████████| 391/391 [00:06<00:00, 60.47it/s]\n"
          ]
        },
        {
          "output_type": "stream",
          "name": "stdout",
          "text": [
            "Performace at epoch 4\n",
            "Train Loss: 1.29125 ; Train Acc: 0.53864\n",
            "Test Loss: 1.32807 ; Test Acc: 0.52072\n",
            "==============\n"
          ]
        },
        {
          "output_type": "stream",
          "name": "stderr",
          "text": [
            "100%|██████████| 391/391 [00:06<00:00, 61.08it/s]\n"
          ]
        },
        {
          "output_type": "stream",
          "name": "stdout",
          "text": [
            "Performace at epoch 5\n",
            "Train Loss: 1.23263 ; Train Acc: 0.55796\n",
            "Test Loss: 1.26546 ; Test Acc: 0.54174\n",
            "==============\n"
          ]
        },
        {
          "output_type": "stream",
          "name": "stderr",
          "text": [
            "100%|██████████| 391/391 [00:06<00:00, 61.71it/s]\n"
          ]
        },
        {
          "output_type": "stream",
          "name": "stdout",
          "text": [
            "Performace at epoch 6\n",
            "Train Loss: 1.18286 ; Train Acc: 0.57720\n",
            "Test Loss: 1.25954 ; Test Acc: 0.55075\n",
            "==============\n"
          ]
        },
        {
          "output_type": "stream",
          "name": "stderr",
          "text": [
            "100%|██████████| 391/391 [00:06<00:00, 60.04it/s]\n"
          ]
        },
        {
          "output_type": "stream",
          "name": "stdout",
          "text": [
            "Performace at epoch 7\n",
            "Train Loss: 1.14150 ; Train Acc: 0.59084\n",
            "Test Loss: 1.22722 ; Test Acc: 0.56306\n",
            "==============\n"
          ]
        },
        {
          "output_type": "stream",
          "name": "stderr",
          "text": [
            "100%|██████████| 391/391 [00:06<00:00, 61.01it/s]\n"
          ]
        },
        {
          "output_type": "stream",
          "name": "stdout",
          "text": [
            "Performace at epoch 8\n",
            "Train Loss: 1.10362 ; Train Acc: 0.60624\n",
            "Test Loss: 1.23755 ; Test Acc: 0.55075\n",
            "==============\n"
          ]
        },
        {
          "output_type": "stream",
          "name": "stderr",
          "text": [
            "100%|██████████| 391/391 [00:06<00:00, 61.10it/s]\n"
          ]
        },
        {
          "output_type": "stream",
          "name": "stdout",
          "text": [
            "Performace at epoch 9\n",
            "Train Loss: 1.07097 ; Train Acc: 0.62156\n",
            "Test Loss: 1.20016 ; Test Acc: 0.57538\n",
            "==============\n"
          ]
        },
        {
          "output_type": "stream",
          "name": "stderr",
          "text": [
            "100%|██████████| 391/391 [00:06<00:00, 61.60it/s]\n"
          ]
        },
        {
          "output_type": "stream",
          "name": "stdout",
          "text": [
            "Performace at epoch 10\n",
            "Train Loss: 1.03976 ; Train Acc: 0.63208\n",
            "Test Loss: 1.20577 ; Test Acc: 0.56907\n",
            "==============\n"
          ]
        },
        {
          "output_type": "stream",
          "name": "stderr",
          "text": [
            "100%|██████████| 391/391 [00:06<00:00, 61.65it/s]\n"
          ]
        },
        {
          "output_type": "stream",
          "name": "stdout",
          "text": [
            "Performace at epoch 11\n",
            "Train Loss: 1.00771 ; Train Acc: 0.64640\n",
            "Test Loss: 1.16922 ; Test Acc: 0.57838\n",
            "==============\n"
          ]
        },
        {
          "output_type": "stream",
          "name": "stderr",
          "text": [
            "100%|██████████| 391/391 [00:06<00:00, 61.01it/s]\n"
          ]
        },
        {
          "output_type": "stream",
          "name": "stdout",
          "text": [
            "Performace at epoch 12\n",
            "Train Loss: 0.98050 ; Train Acc: 0.65524\n",
            "Test Loss: 1.15963 ; Test Acc: 0.59369\n",
            "==============\n"
          ]
        },
        {
          "output_type": "stream",
          "name": "stderr",
          "text": [
            "100%|██████████| 391/391 [00:06<00:00, 61.30it/s]\n"
          ]
        },
        {
          "output_type": "stream",
          "name": "stdout",
          "text": [
            "Performace at epoch 13\n",
            "Train Loss: 0.95496 ; Train Acc: 0.66428\n",
            "Test Loss: 1.15059 ; Test Acc: 0.59580\n",
            "==============\n"
          ]
        },
        {
          "output_type": "stream",
          "name": "stderr",
          "text": [
            "100%|██████████| 391/391 [00:06<00:00, 60.29it/s]\n"
          ]
        },
        {
          "output_type": "stream",
          "name": "stdout",
          "text": [
            "Performace at epoch 14\n",
            "Train Loss: 0.93028 ; Train Acc: 0.67304\n",
            "Test Loss: 1.14274 ; Test Acc: 0.60330\n",
            "==============\n"
          ]
        },
        {
          "output_type": "stream",
          "name": "stderr",
          "text": [
            "100%|██████████| 391/391 [00:06<00:00, 60.69it/s]\n"
          ]
        },
        {
          "output_type": "stream",
          "name": "stdout",
          "text": [
            "Performace at epoch 15\n",
            "Train Loss: 0.90817 ; Train Acc: 0.68128\n",
            "Test Loss: 1.13326 ; Test Acc: 0.59520\n",
            "==============\n"
          ]
        },
        {
          "output_type": "stream",
          "name": "stderr",
          "text": [
            "100%|██████████| 391/391 [00:06<00:00, 61.59it/s]\n"
          ]
        },
        {
          "output_type": "stream",
          "name": "stdout",
          "text": [
            "Performace at epoch 16\n",
            "Train Loss: 0.88344 ; Train Acc: 0.69344\n",
            "Test Loss: 1.16660 ; Test Acc: 0.59129\n",
            "==============\n"
          ]
        },
        {
          "output_type": "stream",
          "name": "stderr",
          "text": [
            "100%|██████████| 391/391 [00:06<00:00, 59.96it/s]\n"
          ]
        },
        {
          "output_type": "stream",
          "name": "stdout",
          "text": [
            "Performace at epoch 17\n",
            "Train Loss: 0.86147 ; Train Acc: 0.70040\n",
            "Test Loss: 1.13141 ; Test Acc: 0.59940\n",
            "==============\n"
          ]
        },
        {
          "output_type": "stream",
          "name": "stderr",
          "text": [
            "100%|██████████| 391/391 [00:06<00:00, 61.03it/s]\n"
          ]
        },
        {
          "output_type": "stream",
          "name": "stdout",
          "text": [
            "Performace at epoch 18\n",
            "Train Loss: 0.83974 ; Train Acc: 0.70856\n",
            "Test Loss: 1.13943 ; Test Acc: 0.60150\n",
            "==============\n"
          ]
        },
        {
          "output_type": "stream",
          "name": "stderr",
          "text": [
            "100%|██████████| 391/391 [00:06<00:00, 60.60it/s]\n"
          ]
        },
        {
          "output_type": "stream",
          "name": "stdout",
          "text": [
            "Performace at epoch 19\n",
            "Train Loss: 0.81831 ; Train Acc: 0.71572\n",
            "Test Loss: 1.13303 ; Test Acc: 0.59580\n",
            "==============\n"
          ]
        },
        {
          "output_type": "stream",
          "name": "stderr",
          "text": [
            "100%|██████████| 391/391 [00:06<00:00, 60.49it/s]\n"
          ]
        },
        {
          "output_type": "stream",
          "name": "stdout",
          "text": [
            "Performace at epoch 20\n",
            "Train Loss: 0.79906 ; Train Acc: 0.72188\n",
            "Test Loss: 1.14138 ; Test Acc: 0.60420\n",
            "==============\n"
          ]
        },
        {
          "output_type": "stream",
          "name": "stderr",
          "text": [
            "100%|██████████| 391/391 [00:06<00:00, 60.59it/s]\n"
          ]
        },
        {
          "output_type": "stream",
          "name": "stdout",
          "text": [
            "Performace at epoch 21\n",
            "Train Loss: 0.77790 ; Train Acc: 0.73056\n",
            "Test Loss: 1.14230 ; Test Acc: 0.60751\n",
            "==============\n"
          ]
        },
        {
          "output_type": "stream",
          "name": "stderr",
          "text": [
            "100%|██████████| 391/391 [00:06<00:00, 60.21it/s]\n"
          ]
        },
        {
          "output_type": "stream",
          "name": "stdout",
          "text": [
            "Performace at epoch 22\n",
            "Train Loss: 0.76154 ; Train Acc: 0.73700\n",
            "Test Loss: 1.13135 ; Test Acc: 0.60781\n",
            "==============\n"
          ]
        },
        {
          "output_type": "stream",
          "name": "stderr",
          "text": [
            "100%|██████████| 391/391 [00:06<00:00, 61.23it/s]\n"
          ]
        },
        {
          "output_type": "stream",
          "name": "stdout",
          "text": [
            "Performace at epoch 23\n",
            "Train Loss: 0.74206 ; Train Acc: 0.74632\n",
            "Test Loss: 1.12067 ; Test Acc: 0.61381\n",
            "==============\n"
          ]
        },
        {
          "output_type": "stream",
          "name": "stderr",
          "text": [
            "100%|██████████| 391/391 [00:06<00:00, 60.40it/s]\n"
          ]
        },
        {
          "output_type": "stream",
          "name": "stdout",
          "text": [
            "Performace at epoch 24\n",
            "Train Loss: 0.72417 ; Train Acc: 0.75000\n",
            "Test Loss: 1.14495 ; Test Acc: 0.60511\n",
            "==============\n"
          ]
        },
        {
          "output_type": "stream",
          "name": "stderr",
          "text": [
            "100%|██████████| 391/391 [00:06<00:00, 61.10it/s]\n"
          ]
        },
        {
          "output_type": "stream",
          "name": "stdout",
          "text": [
            "Performace at epoch 25\n",
            "Train Loss: 0.70597 ; Train Acc: 0.75608\n",
            "Test Loss: 1.13217 ; Test Acc: 0.61291\n",
            "==============\n"
          ]
        },
        {
          "output_type": "stream",
          "name": "stderr",
          "text": [
            "100%|██████████| 391/391 [00:06<00:00, 60.42it/s]\n"
          ]
        },
        {
          "output_type": "stream",
          "name": "stdout",
          "text": [
            "Performace at epoch 26\n",
            "Train Loss: 0.68842 ; Train Acc: 0.76468\n",
            "Test Loss: 1.14615 ; Test Acc: 0.61171\n",
            "==============\n"
          ]
        },
        {
          "output_type": "stream",
          "name": "stderr",
          "text": [
            "100%|██████████| 391/391 [00:06<00:00, 59.69it/s]\n"
          ]
        },
        {
          "output_type": "stream",
          "name": "stdout",
          "text": [
            "Performace at epoch 27\n",
            "Train Loss: 0.67365 ; Train Acc: 0.76836\n",
            "Test Loss: 1.14010 ; Test Acc: 0.61622\n",
            "==============\n"
          ]
        },
        {
          "output_type": "stream",
          "name": "stderr",
          "text": [
            "100%|██████████| 391/391 [00:06<00:00, 60.78it/s]\n"
          ]
        },
        {
          "output_type": "stream",
          "name": "stdout",
          "text": [
            "Performace at epoch 28\n",
            "Train Loss: 0.65459 ; Train Acc: 0.77772\n",
            "Test Loss: 1.16133 ; Test Acc: 0.61291\n",
            "==============\n"
          ]
        },
        {
          "output_type": "stream",
          "name": "stderr",
          "text": [
            "100%|██████████| 391/391 [00:06<00:00, 59.82it/s]\n"
          ]
        },
        {
          "output_type": "stream",
          "name": "stdout",
          "text": [
            "Performace at epoch 29\n",
            "Train Loss: 0.63886 ; Train Acc: 0.78144\n",
            "Test Loss: 1.13785 ; Test Acc: 0.61832\n",
            "==============\n"
          ]
        },
        {
          "output_type": "stream",
          "name": "stderr",
          "text": [
            "100%|██████████| 391/391 [00:06<00:00, 60.13it/s]\n"
          ]
        },
        {
          "output_type": "stream",
          "name": "stdout",
          "text": [
            "Performace at epoch 30\n",
            "Train Loss: 0.62281 ; Train Acc: 0.78920\n",
            "Test Loss: 1.17108 ; Test Acc: 0.60841\n",
            "==============\n"
          ]
        },
        {
          "output_type": "stream",
          "name": "stderr",
          "text": [
            "100%|██████████| 391/391 [00:06<00:00, 60.55it/s]\n"
          ]
        },
        {
          "output_type": "stream",
          "name": "stdout",
          "text": [
            "Performace at epoch 31\n",
            "Train Loss: 0.60823 ; Train Acc: 0.79444\n",
            "Test Loss: 1.16374 ; Test Acc: 0.61862\n",
            "==============\n"
          ]
        },
        {
          "output_type": "stream",
          "name": "stderr",
          "text": [
            "100%|██████████| 391/391 [00:06<00:00, 60.93it/s]\n"
          ]
        },
        {
          "output_type": "stream",
          "name": "stdout",
          "text": [
            "Performace at epoch 32\n",
            "Train Loss: 0.59293 ; Train Acc: 0.79968\n",
            "Test Loss: 1.15865 ; Test Acc: 0.61502\n",
            "==============\n"
          ]
        },
        {
          "output_type": "stream",
          "name": "stderr",
          "text": [
            "100%|██████████| 391/391 [00:06<00:00, 60.59it/s]\n"
          ]
        },
        {
          "output_type": "stream",
          "name": "stdout",
          "text": [
            "Performace at epoch 33\n",
            "Train Loss: 0.57891 ; Train Acc: 0.80584\n",
            "Test Loss: 1.16466 ; Test Acc: 0.61922\n",
            "==============\n"
          ]
        },
        {
          "output_type": "stream",
          "name": "stderr",
          "text": [
            "100%|██████████| 391/391 [00:06<00:00, 60.50it/s]\n"
          ]
        },
        {
          "output_type": "stream",
          "name": "stdout",
          "text": [
            "Performace at epoch 34\n",
            "Train Loss: 0.56575 ; Train Acc: 0.80944\n",
            "Test Loss: 1.16247 ; Test Acc: 0.62042\n",
            "==============\n"
          ]
        },
        {
          "output_type": "stream",
          "name": "stderr",
          "text": [
            "100%|██████████| 391/391 [00:06<00:00, 60.79it/s]\n"
          ]
        },
        {
          "output_type": "stream",
          "name": "stdout",
          "text": [
            "Performace at epoch 35\n",
            "Train Loss: 0.54930 ; Train Acc: 0.81660\n",
            "Test Loss: 1.17589 ; Test Acc: 0.61712\n",
            "==============\n"
          ]
        },
        {
          "output_type": "stream",
          "name": "stderr",
          "text": [
            "100%|██████████| 391/391 [00:06<00:00, 61.03it/s]\n"
          ]
        },
        {
          "output_type": "stream",
          "name": "stdout",
          "text": [
            "Performace at epoch 36\n",
            "Train Loss: 0.53594 ; Train Acc: 0.82260\n",
            "Test Loss: 1.18644 ; Test Acc: 0.61922\n",
            "==============\n"
          ]
        },
        {
          "output_type": "stream",
          "name": "stderr",
          "text": [
            "100%|██████████| 391/391 [00:06<00:00, 61.24it/s]\n"
          ]
        },
        {
          "output_type": "stream",
          "name": "stdout",
          "text": [
            "Performace at epoch 37\n",
            "Train Loss: 0.52195 ; Train Acc: 0.82912\n",
            "Test Loss: 1.17136 ; Test Acc: 0.61772\n",
            "==============\n"
          ]
        },
        {
          "output_type": "stream",
          "name": "stderr",
          "text": [
            "100%|██████████| 391/391 [00:06<00:00, 61.57it/s]\n"
          ]
        },
        {
          "output_type": "stream",
          "name": "stdout",
          "text": [
            "Performace at epoch 38\n",
            "Train Loss: 0.50990 ; Train Acc: 0.83328\n",
            "Test Loss: 1.18722 ; Test Acc: 0.61922\n",
            "==============\n"
          ]
        },
        {
          "output_type": "stream",
          "name": "stderr",
          "text": [
            "100%|██████████| 391/391 [00:06<00:00, 60.53it/s]\n"
          ]
        },
        {
          "output_type": "stream",
          "name": "stdout",
          "text": [
            "Performace at epoch 39\n",
            "Train Loss: 0.49574 ; Train Acc: 0.83736\n",
            "Test Loss: 1.22608 ; Test Acc: 0.61351\n",
            "==============\n"
          ]
        },
        {
          "output_type": "stream",
          "name": "stderr",
          "text": [
            "100%|██████████| 391/391 [00:06<00:00, 59.37it/s]\n"
          ]
        },
        {
          "output_type": "stream",
          "name": "stdout",
          "text": [
            "Performace at epoch 40\n",
            "Train Loss: 0.48317 ; Train Acc: 0.84336\n",
            "Test Loss: 1.19878 ; Test Acc: 0.61562\n",
            "==============\n"
          ]
        },
        {
          "output_type": "stream",
          "name": "stderr",
          "text": [
            "100%|██████████| 391/391 [00:06<00:00, 61.22it/s]\n"
          ]
        },
        {
          "output_type": "stream",
          "name": "stdout",
          "text": [
            "Performace at epoch 41\n",
            "Train Loss: 0.47122 ; Train Acc: 0.84632\n",
            "Test Loss: 1.22272 ; Test Acc: 0.61682\n",
            "==============\n"
          ]
        },
        {
          "output_type": "stream",
          "name": "stderr",
          "text": [
            "100%|██████████| 391/391 [00:06<00:00, 59.21it/s]\n"
          ]
        },
        {
          "output_type": "stream",
          "name": "stdout",
          "text": [
            "Performace at epoch 42\n",
            "Train Loss: 0.45903 ; Train Acc: 0.85220\n",
            "Test Loss: 1.22637 ; Test Acc: 0.61892\n",
            "==============\n"
          ]
        },
        {
          "output_type": "stream",
          "name": "stderr",
          "text": [
            "100%|██████████| 391/391 [00:06<00:00, 60.22it/s]\n"
          ]
        },
        {
          "output_type": "stream",
          "name": "stdout",
          "text": [
            "Performace at epoch 43\n",
            "Train Loss: 0.44797 ; Train Acc: 0.85576\n",
            "Test Loss: 1.22819 ; Test Acc: 0.61802\n",
            "==============\n"
          ]
        },
        {
          "output_type": "stream",
          "name": "stderr",
          "text": [
            "100%|██████████| 391/391 [00:06<00:00, 59.02it/s]\n"
          ]
        },
        {
          "output_type": "stream",
          "name": "stdout",
          "text": [
            "Performace at epoch 44\n",
            "Train Loss: 0.43662 ; Train Acc: 0.86072\n",
            "Test Loss: 1.23396 ; Test Acc: 0.61562\n",
            "==============\n"
          ]
        },
        {
          "output_type": "stream",
          "name": "stderr",
          "text": [
            "100%|██████████| 391/391 [00:06<00:00, 59.49it/s]\n"
          ]
        },
        {
          "output_type": "stream",
          "name": "stdout",
          "text": [
            "Performace at epoch 45\n",
            "Train Loss: 0.42512 ; Train Acc: 0.86424\n",
            "Test Loss: 1.23818 ; Test Acc: 0.62072\n",
            "==============\n"
          ]
        },
        {
          "output_type": "stream",
          "name": "stderr",
          "text": [
            "100%|██████████| 391/391 [00:06<00:00, 59.68it/s]\n"
          ]
        },
        {
          "output_type": "stream",
          "name": "stdout",
          "text": [
            "Performace at epoch 46\n",
            "Train Loss: 0.41460 ; Train Acc: 0.86952\n",
            "Test Loss: 1.24935 ; Test Acc: 0.61532\n",
            "==============\n"
          ]
        },
        {
          "output_type": "stream",
          "name": "stderr",
          "text": [
            "100%|██████████| 391/391 [00:06<00:00, 60.36it/s]\n"
          ]
        },
        {
          "output_type": "stream",
          "name": "stdout",
          "text": [
            "Performace at epoch 47\n",
            "Train Loss: 0.40202 ; Train Acc: 0.87516\n",
            "Test Loss: 1.26734 ; Test Acc: 0.61532\n",
            "==============\n"
          ]
        },
        {
          "output_type": "stream",
          "name": "stderr",
          "text": [
            "100%|██████████| 391/391 [00:06<00:00, 59.94it/s]\n"
          ]
        },
        {
          "output_type": "stream",
          "name": "stdout",
          "text": [
            "Performace at epoch 48\n",
            "Train Loss: 0.39326 ; Train Acc: 0.87968\n",
            "Test Loss: 1.28371 ; Test Acc: 0.61381\n",
            "==============\n"
          ]
        },
        {
          "output_type": "stream",
          "name": "stderr",
          "text": [
            "100%|██████████| 391/391 [00:06<00:00, 60.01it/s]\n"
          ]
        },
        {
          "output_type": "stream",
          "name": "stdout",
          "text": [
            "Performace at epoch 49\n",
            "Train Loss: 0.38318 ; Train Acc: 0.88380\n",
            "Test Loss: 1.28558 ; Test Acc: 0.61231\n",
            "==============\n"
          ]
        },
        {
          "output_type": "stream",
          "name": "stderr",
          "text": [
            "100%|██████████| 391/391 [00:06<00:00, 59.43it/s]\n"
          ]
        },
        {
          "output_type": "stream",
          "name": "stdout",
          "text": [
            "Performace at epoch 50\n",
            "Train Loss: 0.37255 ; Train Acc: 0.88544\n",
            "Test Loss: 1.30556 ; Test Acc: 0.61201\n",
            "==============\n"
          ]
        },
        {
          "output_type": "stream",
          "name": "stderr",
          "text": [
            "100%|██████████| 391/391 [00:06<00:00, 60.44it/s]\n"
          ]
        },
        {
          "output_type": "stream",
          "name": "stdout",
          "text": [
            "Performace at epoch 51\n",
            "Train Loss: 0.36191 ; Train Acc: 0.89112\n",
            "Test Loss: 1.29515 ; Test Acc: 0.61201\n",
            "==============\n"
          ]
        },
        {
          "output_type": "stream",
          "name": "stderr",
          "text": [
            "100%|██████████| 391/391 [00:06<00:00, 60.52it/s]\n"
          ]
        },
        {
          "output_type": "stream",
          "name": "stdout",
          "text": [
            "Performace at epoch 52\n",
            "Train Loss: 0.35235 ; Train Acc: 0.89512\n",
            "Test Loss: 1.30988 ; Test Acc: 0.61261\n",
            "==============\n"
          ]
        },
        {
          "output_type": "stream",
          "name": "stderr",
          "text": [
            "100%|██████████| 391/391 [00:06<00:00, 60.94it/s]\n"
          ]
        },
        {
          "output_type": "stream",
          "name": "stdout",
          "text": [
            "Performace at epoch 53\n",
            "Train Loss: 0.34304 ; Train Acc: 0.89728\n",
            "Test Loss: 1.31384 ; Test Acc: 0.61201\n",
            "==============\n"
          ]
        },
        {
          "output_type": "stream",
          "name": "stderr",
          "text": [
            "100%|██████████| 391/391 [00:06<00:00, 59.50it/s]\n"
          ]
        },
        {
          "output_type": "stream",
          "name": "stdout",
          "text": [
            "Performace at epoch 54\n",
            "Train Loss: 0.33387 ; Train Acc: 0.90392\n",
            "Test Loss: 1.31724 ; Test Acc: 0.61231\n",
            "==============\n"
          ]
        },
        {
          "output_type": "stream",
          "name": "stderr",
          "text": [
            "100%|██████████| 391/391 [00:06<00:00, 59.43it/s]\n"
          ]
        },
        {
          "output_type": "stream",
          "name": "stdout",
          "text": [
            "Performace at epoch 55\n",
            "Train Loss: 0.32429 ; Train Acc: 0.90684\n",
            "Test Loss: 1.32081 ; Test Acc: 0.61141\n",
            "==============\n"
          ]
        },
        {
          "output_type": "stream",
          "name": "stderr",
          "text": [
            "100%|██████████| 391/391 [00:06<00:00, 60.70it/s]\n"
          ]
        },
        {
          "output_type": "stream",
          "name": "stdout",
          "text": [
            "Performace at epoch 56\n",
            "Train Loss: 0.31524 ; Train Acc: 0.90968\n",
            "Test Loss: 1.34935 ; Test Acc: 0.61441\n",
            "==============\n"
          ]
        },
        {
          "output_type": "stream",
          "name": "stderr",
          "text": [
            "100%|██████████| 391/391 [00:06<00:00, 59.00it/s]\n"
          ]
        },
        {
          "output_type": "stream",
          "name": "stdout",
          "text": [
            "Performace at epoch 57\n",
            "Train Loss: 0.30740 ; Train Acc: 0.91232\n",
            "Test Loss: 1.37379 ; Test Acc: 0.60901\n",
            "==============\n"
          ]
        },
        {
          "output_type": "stream",
          "name": "stderr",
          "text": [
            "100%|██████████| 391/391 [00:06<00:00, 60.52it/s]\n"
          ]
        },
        {
          "output_type": "stream",
          "name": "stdout",
          "text": [
            "Performace at epoch 58\n",
            "Train Loss: 0.29747 ; Train Acc: 0.91648\n",
            "Test Loss: 1.37040 ; Test Acc: 0.61021\n",
            "==============\n"
          ]
        },
        {
          "output_type": "stream",
          "name": "stderr",
          "text": [
            "100%|██████████| 391/391 [00:06<00:00, 60.21it/s]\n"
          ]
        },
        {
          "output_type": "stream",
          "name": "stdout",
          "text": [
            "Performace at epoch 59\n",
            "Train Loss: 0.28970 ; Train Acc: 0.92012\n",
            "Test Loss: 1.36451 ; Test Acc: 0.61231\n",
            "==============\n"
          ]
        },
        {
          "output_type": "stream",
          "name": "stderr",
          "text": [
            "100%|██████████| 391/391 [00:06<00:00, 57.95it/s]\n"
          ]
        },
        {
          "output_type": "stream",
          "name": "stdout",
          "text": [
            "Performace at epoch 60\n",
            "Train Loss: 0.28125 ; Train Acc: 0.92440\n",
            "Test Loss: 1.37877 ; Test Acc: 0.61291\n",
            "==============\n"
          ]
        },
        {
          "output_type": "stream",
          "name": "stderr",
          "text": [
            "100%|██████████| 391/391 [00:06<00:00, 59.50it/s]\n"
          ]
        },
        {
          "output_type": "stream",
          "name": "stdout",
          "text": [
            "Performace at epoch 61\n",
            "Train Loss: 0.27459 ; Train Acc: 0.92620\n",
            "Test Loss: 1.39198 ; Test Acc: 0.60991\n",
            "==============\n"
          ]
        },
        {
          "output_type": "stream",
          "name": "stderr",
          "text": [
            "100%|██████████| 391/391 [00:06<00:00, 58.70it/s]\n"
          ]
        },
        {
          "output_type": "stream",
          "name": "stdout",
          "text": [
            "Performace at epoch 62\n",
            "Train Loss: 0.26581 ; Train Acc: 0.92948\n",
            "Test Loss: 1.39617 ; Test Acc: 0.61502\n",
            "==============\n"
          ]
        },
        {
          "output_type": "stream",
          "name": "stderr",
          "text": [
            "100%|██████████| 391/391 [00:06<00:00, 59.06it/s]\n"
          ]
        },
        {
          "output_type": "stream",
          "name": "stdout",
          "text": [
            "Performace at epoch 63\n",
            "Train Loss: 0.25897 ; Train Acc: 0.93208\n",
            "Test Loss: 1.41384 ; Test Acc: 0.61351\n",
            "==============\n"
          ]
        },
        {
          "output_type": "stream",
          "name": "stderr",
          "text": [
            "100%|██████████| 391/391 [00:06<00:00, 58.82it/s]\n"
          ]
        },
        {
          "output_type": "stream",
          "name": "stdout",
          "text": [
            "Performace at epoch 64\n",
            "Train Loss: 0.25086 ; Train Acc: 0.93540\n",
            "Test Loss: 1.43423 ; Test Acc: 0.60420\n",
            "==============\n"
          ]
        },
        {
          "output_type": "stream",
          "name": "stderr",
          "text": [
            "100%|██████████| 391/391 [00:06<00:00, 59.15it/s]\n"
          ]
        },
        {
          "output_type": "stream",
          "name": "stdout",
          "text": [
            "Performace at epoch 65\n",
            "Train Loss: 0.24321 ; Train Acc: 0.93812\n",
            "Test Loss: 1.44543 ; Test Acc: 0.60961\n",
            "==============\n"
          ]
        },
        {
          "output_type": "stream",
          "name": "stderr",
          "text": [
            "100%|██████████| 391/391 [00:06<00:00, 59.81it/s]\n"
          ]
        },
        {
          "output_type": "stream",
          "name": "stdout",
          "text": [
            "Performace at epoch 66\n",
            "Train Loss: 0.23652 ; Train Acc: 0.94088\n",
            "Test Loss: 1.45667 ; Test Acc: 0.60901\n",
            "==============\n"
          ]
        },
        {
          "output_type": "stream",
          "name": "stderr",
          "text": [
            "100%|██████████| 391/391 [00:06<00:00, 59.57it/s]\n"
          ]
        },
        {
          "output_type": "stream",
          "name": "stdout",
          "text": [
            "Performace at epoch 67\n",
            "Train Loss: 0.22972 ; Train Acc: 0.94284\n",
            "Test Loss: 1.44939 ; Test Acc: 0.61261\n",
            "==============\n"
          ]
        },
        {
          "output_type": "stream",
          "name": "stderr",
          "text": [
            "100%|██████████| 391/391 [00:06<00:00, 59.11it/s]\n"
          ]
        },
        {
          "output_type": "stream",
          "name": "stdout",
          "text": [
            "Performace at epoch 68\n",
            "Train Loss: 0.22327 ; Train Acc: 0.94572\n",
            "Test Loss: 1.49380 ; Test Acc: 0.60931\n",
            "==============\n"
          ]
        },
        {
          "output_type": "stream",
          "name": "stderr",
          "text": [
            "100%|██████████| 391/391 [00:06<00:00, 58.46it/s]\n"
          ]
        },
        {
          "output_type": "stream",
          "name": "stdout",
          "text": [
            "Performace at epoch 69\n",
            "Train Loss: 0.21655 ; Train Acc: 0.94816\n",
            "Test Loss: 1.49550 ; Test Acc: 0.60541\n",
            "==============\n"
          ]
        },
        {
          "output_type": "stream",
          "name": "stderr",
          "text": [
            "100%|██████████| 391/391 [00:06<00:00, 58.99it/s]\n"
          ]
        },
        {
          "output_type": "stream",
          "name": "stdout",
          "text": [
            "Performace at epoch 70\n",
            "Train Loss: 0.21084 ; Train Acc: 0.95008\n",
            "Test Loss: 1.48203 ; Test Acc: 0.61201\n",
            "==============\n"
          ]
        },
        {
          "output_type": "stream",
          "name": "stderr",
          "text": [
            "100%|██████████| 391/391 [00:06<00:00, 60.55it/s]\n"
          ]
        },
        {
          "output_type": "stream",
          "name": "stdout",
          "text": [
            "Performace at epoch 71\n",
            "Train Loss: 0.20360 ; Train Acc: 0.95196\n",
            "Test Loss: 1.50020 ; Test Acc: 0.60841\n",
            "==============\n"
          ]
        },
        {
          "output_type": "stream",
          "name": "stderr",
          "text": [
            "100%|██████████| 391/391 [00:06<00:00, 59.87it/s]\n"
          ]
        },
        {
          "output_type": "stream",
          "name": "stdout",
          "text": [
            "Performace at epoch 72\n",
            "Train Loss: 0.19754 ; Train Acc: 0.95508\n",
            "Test Loss: 1.51329 ; Test Acc: 0.60450\n",
            "==============\n"
          ]
        },
        {
          "output_type": "stream",
          "name": "stderr",
          "text": [
            "100%|██████████| 391/391 [00:06<00:00, 59.37it/s]\n"
          ]
        },
        {
          "output_type": "stream",
          "name": "stdout",
          "text": [
            "Performace at epoch 73\n",
            "Train Loss: 0.19243 ; Train Acc: 0.95548\n",
            "Test Loss: 1.52117 ; Test Acc: 0.61141\n",
            "==============\n"
          ]
        },
        {
          "output_type": "stream",
          "name": "stderr",
          "text": [
            "100%|██████████| 391/391 [00:06<00:00, 59.40it/s]\n"
          ]
        },
        {
          "output_type": "stream",
          "name": "stdout",
          "text": [
            "Performace at epoch 74\n",
            "Train Loss: 0.18669 ; Train Acc: 0.95896\n",
            "Test Loss: 1.53388 ; Test Acc: 0.60871\n",
            "==============\n"
          ]
        },
        {
          "output_type": "stream",
          "name": "stderr",
          "text": [
            "100%|██████████| 391/391 [00:06<00:00, 59.17it/s]\n"
          ]
        },
        {
          "output_type": "stream",
          "name": "stdout",
          "text": [
            "Performace at epoch 75\n",
            "Train Loss: 0.18150 ; Train Acc: 0.96032\n",
            "Test Loss: 1.57416 ; Test Acc: 0.60811\n",
            "==============\n"
          ]
        },
        {
          "output_type": "stream",
          "name": "stderr",
          "text": [
            "100%|██████████| 391/391 [00:06<00:00, 59.18it/s]\n"
          ]
        },
        {
          "output_type": "stream",
          "name": "stdout",
          "text": [
            "Performace at epoch 76\n",
            "Train Loss: 0.17615 ; Train Acc: 0.96124\n",
            "Test Loss: 1.55565 ; Test Acc: 0.61231\n",
            "==============\n"
          ]
        },
        {
          "output_type": "stream",
          "name": "stderr",
          "text": [
            "100%|██████████| 391/391 [00:06<00:00, 58.62it/s]\n"
          ]
        },
        {
          "output_type": "stream",
          "name": "stdout",
          "text": [
            "Performace at epoch 77\n",
            "Train Loss: 0.17081 ; Train Acc: 0.96388\n",
            "Test Loss: 1.56287 ; Test Acc: 0.60601\n",
            "==============\n"
          ]
        },
        {
          "output_type": "stream",
          "name": "stderr",
          "text": [
            "100%|██████████| 391/391 [00:06<00:00, 58.92it/s]\n"
          ]
        },
        {
          "output_type": "stream",
          "name": "stdout",
          "text": [
            "Performace at epoch 78\n",
            "Train Loss: 0.16558 ; Train Acc: 0.96556\n",
            "Test Loss: 1.58912 ; Test Acc: 0.61021\n",
            "==============\n"
          ]
        },
        {
          "output_type": "stream",
          "name": "stderr",
          "text": [
            "100%|██████████| 391/391 [00:06<00:00, 59.07it/s]\n"
          ]
        },
        {
          "output_type": "stream",
          "name": "stdout",
          "text": [
            "Performace at epoch 79\n",
            "Train Loss: 0.16061 ; Train Acc: 0.96696\n",
            "Test Loss: 1.57422 ; Test Acc: 0.60841\n",
            "==============\n"
          ]
        },
        {
          "output_type": "stream",
          "name": "stderr",
          "text": [
            "100%|██████████| 391/391 [00:06<00:00, 57.20it/s]\n"
          ]
        },
        {
          "output_type": "stream",
          "name": "stdout",
          "text": [
            "Performace at epoch 80\n",
            "Train Loss: 0.15570 ; Train Acc: 0.96936\n",
            "Test Loss: 1.60125 ; Test Acc: 0.60991\n",
            "==============\n"
          ]
        },
        {
          "output_type": "stream",
          "name": "stderr",
          "text": [
            "100%|██████████| 391/391 [00:06<00:00, 58.37it/s]\n"
          ]
        },
        {
          "output_type": "stream",
          "name": "stdout",
          "text": [
            "Performace at epoch 81\n",
            "Train Loss: 0.15142 ; Train Acc: 0.97000\n",
            "Test Loss: 1.61718 ; Test Acc: 0.60240\n",
            "==============\n"
          ]
        },
        {
          "output_type": "stream",
          "name": "stderr",
          "text": [
            "100%|██████████| 391/391 [00:06<00:00, 59.73it/s]\n"
          ]
        },
        {
          "output_type": "stream",
          "name": "stdout",
          "text": [
            "Performace at epoch 82\n",
            "Train Loss: 0.14766 ; Train Acc: 0.97248\n",
            "Test Loss: 1.61765 ; Test Acc: 0.60390\n",
            "==============\n"
          ]
        },
        {
          "output_type": "stream",
          "name": "stderr",
          "text": [
            "100%|██████████| 391/391 [00:06<00:00, 58.51it/s]\n"
          ]
        },
        {
          "output_type": "stream",
          "name": "stdout",
          "text": [
            "Performace at epoch 83\n",
            "Train Loss: 0.14285 ; Train Acc: 0.97348\n",
            "Test Loss: 1.62474 ; Test Acc: 0.61321\n",
            "==============\n"
          ]
        },
        {
          "output_type": "stream",
          "name": "stderr",
          "text": [
            "100%|██████████| 391/391 [00:06<00:00, 57.10it/s]\n"
          ]
        },
        {
          "output_type": "stream",
          "name": "stdout",
          "text": [
            "Performace at epoch 84\n",
            "Train Loss: 0.13830 ; Train Acc: 0.97468\n",
            "Test Loss: 1.66540 ; Test Acc: 0.60571\n",
            "==============\n"
          ]
        },
        {
          "output_type": "stream",
          "name": "stderr",
          "text": [
            "100%|██████████| 391/391 [00:06<00:00, 57.32it/s]\n"
          ]
        },
        {
          "output_type": "stream",
          "name": "stdout",
          "text": [
            "Performace at epoch 85\n",
            "Train Loss: 0.13459 ; Train Acc: 0.97628\n",
            "Test Loss: 1.65267 ; Test Acc: 0.60661\n",
            "==============\n"
          ]
        },
        {
          "output_type": "stream",
          "name": "stderr",
          "text": [
            "100%|██████████| 391/391 [00:06<00:00, 59.22it/s]\n"
          ]
        },
        {
          "output_type": "stream",
          "name": "stdout",
          "text": [
            "Performace at epoch 86\n",
            "Train Loss: 0.13023 ; Train Acc: 0.97744\n",
            "Test Loss: 1.66367 ; Test Acc: 0.61441\n",
            "==============\n"
          ]
        },
        {
          "output_type": "stream",
          "name": "stderr",
          "text": [
            "100%|██████████| 391/391 [00:06<00:00, 58.08it/s]\n"
          ]
        },
        {
          "output_type": "stream",
          "name": "stdout",
          "text": [
            "Performace at epoch 87\n",
            "Train Loss: 0.12642 ; Train Acc: 0.97848\n",
            "Test Loss: 1.67065 ; Test Acc: 0.60961\n",
            "==============\n"
          ]
        },
        {
          "output_type": "stream",
          "name": "stderr",
          "text": [
            "100%|██████████| 391/391 [00:06<00:00, 57.48it/s]\n"
          ]
        },
        {
          "output_type": "stream",
          "name": "stdout",
          "text": [
            "Performace at epoch 88\n",
            "Train Loss: 0.12340 ; Train Acc: 0.97820\n",
            "Test Loss: 1.69533 ; Test Acc: 0.60541\n",
            "==============\n"
          ]
        },
        {
          "output_type": "stream",
          "name": "stderr",
          "text": [
            "100%|██████████| 391/391 [00:06<00:00, 56.78it/s]\n"
          ]
        },
        {
          "output_type": "stream",
          "name": "stdout",
          "text": [
            "Performace at epoch 89\n",
            "Train Loss: 0.11945 ; Train Acc: 0.98064\n",
            "Test Loss: 1.69284 ; Test Acc: 0.60480\n",
            "==============\n"
          ]
        },
        {
          "output_type": "stream",
          "name": "stderr",
          "text": [
            "100%|██████████| 391/391 [00:06<00:00, 56.94it/s]\n"
          ]
        },
        {
          "output_type": "stream",
          "name": "stdout",
          "text": [
            "Performace at epoch 90\n",
            "Train Loss: 0.11567 ; Train Acc: 0.98152\n",
            "Test Loss: 1.70308 ; Test Acc: 0.60871\n",
            "==============\n"
          ]
        },
        {
          "output_type": "stream",
          "name": "stderr",
          "text": [
            "100%|██████████| 391/391 [00:06<00:00, 57.79it/s]\n"
          ]
        },
        {
          "output_type": "stream",
          "name": "stdout",
          "text": [
            "Performace at epoch 91\n",
            "Train Loss: 0.11177 ; Train Acc: 0.98288\n",
            "Test Loss: 1.74329 ; Test Acc: 0.60180\n",
            "==============\n"
          ]
        },
        {
          "output_type": "stream",
          "name": "stderr",
          "text": [
            "100%|██████████| 391/391 [00:06<00:00, 56.32it/s]\n"
          ]
        },
        {
          "output_type": "stream",
          "name": "stdout",
          "text": [
            "Performace at epoch 92\n",
            "Train Loss: 0.10863 ; Train Acc: 0.98404\n",
            "Test Loss: 1.74296 ; Test Acc: 0.60841\n",
            "==============\n"
          ]
        },
        {
          "output_type": "stream",
          "name": "stderr",
          "text": [
            "100%|██████████| 391/391 [00:06<00:00, 55.97it/s]\n"
          ]
        },
        {
          "output_type": "stream",
          "name": "stdout",
          "text": [
            "Performace at epoch 93\n",
            "Train Loss: 0.10557 ; Train Acc: 0.98492\n",
            "Test Loss: 1.73835 ; Test Acc: 0.61291\n",
            "==============\n"
          ]
        },
        {
          "output_type": "stream",
          "name": "stderr",
          "text": [
            "100%|██████████| 391/391 [00:06<00:00, 56.37it/s]\n"
          ]
        },
        {
          "output_type": "stream",
          "name": "stdout",
          "text": [
            "Performace at epoch 94\n",
            "Train Loss: 0.10235 ; Train Acc: 0.98524\n",
            "Test Loss: 1.74640 ; Test Acc: 0.60811\n",
            "==============\n"
          ]
        },
        {
          "output_type": "stream",
          "name": "stderr",
          "text": [
            "100%|██████████| 391/391 [00:06<00:00, 58.53it/s]\n"
          ]
        },
        {
          "output_type": "stream",
          "name": "stdout",
          "text": [
            "Performace at epoch 95\n",
            "Train Loss: 0.09933 ; Train Acc: 0.98620\n",
            "Test Loss: 1.76032 ; Test Acc: 0.60931\n",
            "==============\n"
          ]
        },
        {
          "output_type": "stream",
          "name": "stderr",
          "text": [
            "100%|██████████| 391/391 [00:06<00:00, 58.77it/s]\n"
          ]
        },
        {
          "output_type": "stream",
          "name": "stdout",
          "text": [
            "Performace at epoch 96\n",
            "Train Loss: 0.09622 ; Train Acc: 0.98700\n",
            "Test Loss: 1.76720 ; Test Acc: 0.60991\n",
            "==============\n"
          ]
        },
        {
          "output_type": "stream",
          "name": "stderr",
          "text": [
            "100%|██████████| 391/391 [00:06<00:00, 59.07it/s]\n"
          ]
        },
        {
          "output_type": "stream",
          "name": "stdout",
          "text": [
            "Performace at epoch 97\n",
            "Train Loss: 0.09349 ; Train Acc: 0.98696\n",
            "Test Loss: 1.80466 ; Test Acc: 0.60661\n",
            "==============\n"
          ]
        },
        {
          "output_type": "stream",
          "name": "stderr",
          "text": [
            "100%|██████████| 391/391 [00:06<00:00, 59.31it/s]\n"
          ]
        },
        {
          "output_type": "stream",
          "name": "stdout",
          "text": [
            "Performace at epoch 98\n",
            "Train Loss: 0.09059 ; Train Acc: 0.98796\n",
            "Test Loss: 1.79740 ; Test Acc: 0.61051\n",
            "==============\n"
          ]
        },
        {
          "output_type": "stream",
          "name": "stderr",
          "text": [
            "100%|██████████| 391/391 [00:06<00:00, 57.95it/s]\n"
          ]
        },
        {
          "output_type": "stream",
          "name": "stdout",
          "text": [
            "Performace at epoch 99\n",
            "Train Loss: 0.08802 ; Train Acc: 0.98876\n",
            "Test Loss: 1.82429 ; Test Acc: 0.60661\n",
            "==============\n"
          ]
        },
        {
          "output_type": "stream",
          "name": "stderr",
          "text": [
            "100%|██████████| 391/391 [00:06<00:00, 58.73it/s]"
          ]
        },
        {
          "output_type": "stream",
          "name": "stdout",
          "text": [
            "Performace at epoch 100\n",
            "Train Loss: 0.08506 ; Train Acc: 0.98956\n",
            "Test Loss: 1.80649 ; Test Acc: 0.60721\n",
            "==============\n"
          ]
        },
        {
          "output_type": "stream",
          "name": "stderr",
          "text": [
            "\n"
          ]
        }
      ]
    },
    {
      "cell_type": "code",
      "metadata": {
        "colab": {
          "base_uri": "https://localhost:8080/",
          "height": 295
        },
        "id": "JJvQ6ygniNng",
        "outputId": "5d01afcc-dedf-4eb2-eda6-0ccb2b934d0c"
      },
      "source": [
        "# plot loss\n",
        "plt.plot(range(1, len(train_loss) + 1), train_loss, label='train loss')\n",
        "plt.plot(range(1, len(test_loss) + 1), test_loss, label='test loss')\n",
        "plt.xlabel('epochs')\n",
        "plt.ylabel('loss')\n",
        "plt.title('loss vs epochs')\n",
        "plt.legend()\n",
        "plt.show()"
      ],
      "execution_count": null,
      "outputs": [
        {
          "output_type": "display_data",
          "data": {
            "image/png": "[encoded data removed]",
            "text/plain": [
              "<Figure size 432x288 with 1 Axes>"
            ]
          },
          "metadata": {
            "needs_background": "light"
          }
        }
      ]
    },
    {
      "cell_type": "code",
      "metadata": {
        "colab": {
          "base_uri": "https://localhost:8080/",
          "height": 295
        },
        "id": "VWhk3gJomc7Q",
        "outputId": "61273549-519f-498e-f8c5-14585b0ba9a8"
      },
      "source": [
        "# plot acc\n",
        "plt.plot(range(1, NUM_EPOCHS + 1), train_acc, label='train acc')\n",
        "plt.plot(range(1, NUM_EPOCHS + 1), test_acc, label='test acc')\n",
        "plt.xlabel('epochs')\n",
        "plt.ylabel('acc')\n",
        "plt.title('acc vs epochs')\n",
        "plt.legend()\n",
        "plt.show()"
      ],
      "execution_count": null,
      "outputs": [
        {
          "output_type": "display_data",
          "data": {
            "image/png": "[encoded data removed]",
            "text/plain": [
              "<Figure size 432x288 with 1 Axes>"
            ]
          },
          "metadata": {
            "needs_background": "light"
          }
        }
      ]
    },
    {
      "cell_type": "markdown",
      "source": [
        "## Hyperparameter tuning\n",
        "- For a set of hyperparameters, various trials with different models are trained based on randomly-sampled or exhaustive hyperparameters upto a certain number of epochs (dependent on lr). Finally the best set of hyperparameters are chosen which correspond to the minimum testing loss after training."
      ],
      "metadata": {
        "id": "0iiEiUz3RTHL"
      }
    },
    {
      "cell_type": "code",
      "source": [
        "import decimal"
      ],
      "metadata": {
        "id": "o6IIJbMCRTes"
      },
      "execution_count": null,
      "outputs": []
    },
    {
      "cell_type": "code",
      "source": [
        "HYPERPARAMS = {\n",
        "    'lr': [0.1, 0.05, 0.01, 0.005, 0.001, 0.0001],\n",
        "    'eps': [1e-7, 1e-8, 1e-9],\n",
        "    'weight_decay': [1e-4, 1e-5, 1e-6]\n",
        "}\n",
        "TRIALS = 10\n",
        "\n",
        "def get_epochs(lr):\n",
        "    '''\n",
        "    returns number of epochs for a given learning rate while tuning\n",
        "    '''\n",
        "    d = decimal.Decimal(str(lr))\n",
        "    pow = d.as_tuple().exponent\n",
        "    if pow >= -1:\n",
        "        return 10\n",
        "    elif pow >= -2:\n",
        "        return 15\n",
        "    elif pow >= -3:\n",
        "        return 20\n",
        "    else:\n",
        "        return 25"
      ],
      "metadata": {
        "id": "vfz9PsjyRUbj"
      },
      "execution_count": null,
      "outputs": []
    },
    {
      "cell_type": "code",
      "source": [
        "best_params, min_loss = None, np.inf\n",
        "for t in range(TRIALS):\n",
        "    print(f'\\n> Starting trial {t+1}')\n",
        "    ## choose a set of hyperparameters\n",
        "    chosen = {}\n",
        "    for h in HYPERPARAMS:\n",
        "        chosen[h] = np.random.choice(HYPERPARAMS[h])\n",
        "    print(f'Chosen hyperparams: {chosen}')\n",
        "    print()\n",
        "    ## model, loss & optimizer\n",
        "    model = CNN()\n",
        "    model.to(device)\n",
        "    error = nn.NLLLoss()\n",
        "    optimizer = torch.optim.Adagrad(model.parameters(), lr=chosen['lr'], eps=chosen['eps'], weight_decay=chosen['weight_decay'])\n",
        "    ## training\n",
        "    EPOCHS_TEST = get_epochs(chosen['lr'])\n",
        "    for epoch in range(1, EPOCHS_TEST + 1):\n",
        "        total_loss = 0; total = 0\n",
        "        for images, labels in tqdm(train_loader):\n",
        "            # forward + backward + step\n",
        "            optimizer.zero_grad()\n",
        "            images, labels = images.to(device), labels.to(device)\n",
        "            outputs = model(images)\n",
        "            loss = error(outputs, labels)\n",
        "            total_loss += loss.item() * len(outputs)\n",
        "            loss.backward() \n",
        "            optimizer.step() \n",
        "            total += len(labels)\n",
        "        total_loss /= total\n",
        "        print(f'Training loss at epoch {epoch}: {total_loss:.5f}')\n",
        "    ## calculate testing loss\n",
        "    with torch.no_grad():\n",
        "        predicted = model(test_X)\n",
        "        testing_loss = error(predicted, test_Y).item()\n",
        "    print(f'* Testing loss: {testing_loss:.5f}')\n",
        "    ## check final total loss\n",
        "    if testing_loss < min_loss:\n",
        "        min_loss = testing_loss\n",
        "        best_params = chosen\n",
        "        print()\n",
        "        print(f'* Best params updated!: {best_params}')\n",
        "    print('==============')"
      ],
      "metadata": {
        "id": "cHRhq-X9SGL7",
        "colab": {
          "base_uri": "https://localhost:8080/"
        },
        "outputId": "bb637293-31f4-4ffe-d5ed-efd49ff7e2a9"
      },
      "execution_count": null,
      "outputs": [
        {
          "output_type": "stream",
          "name": "stdout",
          "text": [
            "\n",
            "> Starting trial 1\n",
            "Chosen hyperparams: {'lr': 0.0001, 'eps': 1e-09, 'weight_decay': 1e-05}\n",
            "\n"
          ]
        },
        {
          "output_type": "stream",
          "name": "stderr",
          "text": [
            "100%|██████████| 391/391 [00:06<00:00, 58.63it/s]\n"
          ]
        },
        {
          "output_type": "stream",
          "name": "stdout",
          "text": [
            "Training loss at epoch 1: 2.21262\n"
          ]
        },
        {
          "output_type": "stream",
          "name": "stderr",
          "text": [
            "100%|██████████| 391/391 [00:06<00:00, 58.66it/s]\n"
          ]
        },
        {
          "output_type": "stream",
          "name": "stdout",
          "text": [
            "Training loss at epoch 2: 2.10217\n"
          ]
        },
        {
          "output_type": "stream",
          "name": "stderr",
          "text": [
            "100%|██████████| 391/391 [00:06<00:00, 58.90it/s]\n"
          ]
        },
        {
          "output_type": "stream",
          "name": "stdout",
          "text": [
            "Training loss at epoch 3: 2.03264\n"
          ]
        },
        {
          "output_type": "stream",
          "name": "stderr",
          "text": [
            "100%|██████████| 391/391 [00:06<00:00, 58.75it/s]\n"
          ]
        },
        {
          "output_type": "stream",
          "name": "stdout",
          "text": [
            "Training loss at epoch 4: 1.98504\n"
          ]
        },
        {
          "output_type": "stream",
          "name": "stderr",
          "text": [
            "100%|██████████| 391/391 [00:06<00:00, 59.21it/s]\n"
          ]
        },
        {
          "output_type": "stream",
          "name": "stdout",
          "text": [
            "Training loss at epoch 5: 1.95064\n"
          ]
        },
        {
          "output_type": "stream",
          "name": "stderr",
          "text": [
            "100%|██████████| 391/391 [00:06<00:00, 59.13it/s]\n"
          ]
        },
        {
          "output_type": "stream",
          "name": "stdout",
          "text": [
            "Training loss at epoch 6: 1.92458\n"
          ]
        },
        {
          "output_type": "stream",
          "name": "stderr",
          "text": [
            "100%|██████████| 391/391 [00:06<00:00, 58.77it/s]\n"
          ]
        },
        {
          "output_type": "stream",
          "name": "stdout",
          "text": [
            "Training loss at epoch 7: 1.90406\n"
          ]
        },
        {
          "output_type": "stream",
          "name": "stderr",
          "text": [
            "100%|██████████| 391/391 [00:06<00:00, 58.44it/s]\n"
          ]
        },
        {
          "output_type": "stream",
          "name": "stdout",
          "text": [
            "Training loss at epoch 8: 1.88727\n"
          ]
        },
        {
          "output_type": "stream",
          "name": "stderr",
          "text": [
            "100%|██████████| 391/391 [00:06<00:00, 58.31it/s]\n"
          ]
        },
        {
          "output_type": "stream",
          "name": "stdout",
          "text": [
            "Training loss at epoch 9: 1.87312\n"
          ]
        },
        {
          "output_type": "stream",
          "name": "stderr",
          "text": [
            "100%|██████████| 391/391 [00:06<00:00, 58.29it/s]\n"
          ]
        },
        {
          "output_type": "stream",
          "name": "stdout",
          "text": [
            "Training loss at epoch 10: 1.86034\n"
          ]
        },
        {
          "output_type": "stream",
          "name": "stderr",
          "text": [
            "100%|██████████| 391/391 [00:06<00:00, 59.32it/s]\n"
          ]
        },
        {
          "output_type": "stream",
          "name": "stdout",
          "text": [
            "Training loss at epoch 11: 1.84946\n"
          ]
        },
        {
          "output_type": "stream",
          "name": "stderr",
          "text": [
            "100%|██████████| 391/391 [00:06<00:00, 59.48it/s]\n"
          ]
        },
        {
          "output_type": "stream",
          "name": "stdout",
          "text": [
            "Training loss at epoch 12: 1.83947\n"
          ]
        },
        {
          "output_type": "stream",
          "name": "stderr",
          "text": [
            "100%|██████████| 391/391 [00:06<00:00, 57.45it/s]\n"
          ]
        },
        {
          "output_type": "stream",
          "name": "stdout",
          "text": [
            "Training loss at epoch 13: 1.82998\n"
          ]
        },
        {
          "output_type": "stream",
          "name": "stderr",
          "text": [
            "100%|██████████| 391/391 [00:06<00:00, 58.45it/s]\n"
          ]
        },
        {
          "output_type": "stream",
          "name": "stdout",
          "text": [
            "Training loss at epoch 14: 1.82120\n"
          ]
        },
        {
          "output_type": "stream",
          "name": "stderr",
          "text": [
            "100%|██████████| 391/391 [00:06<00:00, 58.68it/s]\n"
          ]
        },
        {
          "output_type": "stream",
          "name": "stdout",
          "text": [
            "Training loss at epoch 15: 1.81242\n"
          ]
        },
        {
          "output_type": "stream",
          "name": "stderr",
          "text": [
            "100%|██████████| 391/391 [00:06<00:00, 59.03it/s]\n"
          ]
        },
        {
          "output_type": "stream",
          "name": "stdout",
          "text": [
            "Training loss at epoch 16: 1.80409\n"
          ]
        },
        {
          "output_type": "stream",
          "name": "stderr",
          "text": [
            "100%|██████████| 391/391 [00:06<00:00, 57.24it/s]\n"
          ]
        },
        {
          "output_type": "stream",
          "name": "stdout",
          "text": [
            "Training loss at epoch 17: 1.79666\n"
          ]
        },
        {
          "output_type": "stream",
          "name": "stderr",
          "text": [
            "100%|██████████| 391/391 [00:06<00:00, 58.87it/s]\n"
          ]
        },
        {
          "output_type": "stream",
          "name": "stdout",
          "text": [
            "Training loss at epoch 18: 1.78945\n"
          ]
        },
        {
          "output_type": "stream",
          "name": "stderr",
          "text": [
            "100%|██████████| 391/391 [00:06<00:00, 58.79it/s]\n"
          ]
        },
        {
          "output_type": "stream",
          "name": "stdout",
          "text": [
            "Training loss at epoch 19: 1.78315\n"
          ]
        },
        {
          "output_type": "stream",
          "name": "stderr",
          "text": [
            "100%|██████████| 391/391 [00:06<00:00, 58.81it/s]\n"
          ]
        },
        {
          "output_type": "stream",
          "name": "stdout",
          "text": [
            "Training loss at epoch 20: 1.77718\n"
          ]
        },
        {
          "output_type": "stream",
          "name": "stderr",
          "text": [
            "100%|██████████| 391/391 [00:06<00:00, 59.03it/s]\n"
          ]
        },
        {
          "output_type": "stream",
          "name": "stdout",
          "text": [
            "Training loss at epoch 21: 1.77161\n"
          ]
        },
        {
          "output_type": "stream",
          "name": "stderr",
          "text": [
            "100%|██████████| 391/391 [00:06<00:00, 59.19it/s]\n"
          ]
        },
        {
          "output_type": "stream",
          "name": "stdout",
          "text": [
            "Training loss at epoch 22: 1.76640\n"
          ]
        },
        {
          "output_type": "stream",
          "name": "stderr",
          "text": [
            "100%|██████████| 391/391 [00:06<00:00, 57.87it/s]\n"
          ]
        },
        {
          "output_type": "stream",
          "name": "stdout",
          "text": [
            "Training loss at epoch 23: 1.76152\n"
          ]
        },
        {
          "output_type": "stream",
          "name": "stderr",
          "text": [
            "100%|██████████| 391/391 [00:06<00:00, 59.26it/s]\n"
          ]
        },
        {
          "output_type": "stream",
          "name": "stdout",
          "text": [
            "Training loss at epoch 24: 1.75671\n"
          ]
        },
        {
          "output_type": "stream",
          "name": "stderr",
          "text": [
            "100%|██████████| 391/391 [00:06<00:00, 58.85it/s]\n"
          ]
        },
        {
          "output_type": "stream",
          "name": "stdout",
          "text": [
            "Training loss at epoch 25: 1.75193\n",
            "* Testing loss: 1.76087\n",
            "\n",
            "* Best params updated!: {'lr': 0.0001, 'eps': 1e-09, 'weight_decay': 1e-05}\n",
            "==============\n",
            "\n",
            "> Starting trial 2\n",
            "Chosen hyperparams: {'lr': 0.05, 'eps': 1e-08, 'weight_decay': 0.0001}\n",
            "\n"
          ]
        },
        {
          "output_type": "stream",
          "name": "stderr",
          "text": [
            "100%|██████████| 391/391 [00:06<00:00, 56.08it/s]\n"
          ]
        },
        {
          "output_type": "stream",
          "name": "stdout",
          "text": [
            "Training loss at epoch 1: 7.66732\n"
          ]
        },
        {
          "output_type": "stream",
          "name": "stderr",
          "text": [
            "100%|██████████| 391/391 [00:06<00:00, 57.85it/s]\n"
          ]
        },
        {
          "output_type": "stream",
          "name": "stdout",
          "text": [
            "Training loss at epoch 2: 1.60156\n"
          ]
        },
        {
          "output_type": "stream",
          "name": "stderr",
          "text": [
            "100%|██████████| 391/391 [00:06<00:00, 58.00it/s]\n"
          ]
        },
        {
          "output_type": "stream",
          "name": "stdout",
          "text": [
            "Training loss at epoch 3: 1.46617\n"
          ]
        },
        {
          "output_type": "stream",
          "name": "stderr",
          "text": [
            "100%|██████████| 391/391 [00:06<00:00, 59.52it/s]\n"
          ]
        },
        {
          "output_type": "stream",
          "name": "stdout",
          "text": [
            "Training loss at epoch 4: 1.36799\n"
          ]
        },
        {
          "output_type": "stream",
          "name": "stderr",
          "text": [
            "100%|██████████| 391/391 [00:06<00:00, 59.50it/s]\n"
          ]
        },
        {
          "output_type": "stream",
          "name": "stdout",
          "text": [
            "Training loss at epoch 5: 1.29125\n"
          ]
        },
        {
          "output_type": "stream",
          "name": "stderr",
          "text": [
            "100%|██████████| 391/391 [00:06<00:00, 57.46it/s]\n"
          ]
        },
        {
          "output_type": "stream",
          "name": "stdout",
          "text": [
            "Training loss at epoch 6: 1.22500\n"
          ]
        },
        {
          "output_type": "stream",
          "name": "stderr",
          "text": [
            "100%|██████████| 391/391 [00:06<00:00, 57.79it/s]\n"
          ]
        },
        {
          "output_type": "stream",
          "name": "stdout",
          "text": [
            "Training loss at epoch 7: 1.16451\n"
          ]
        },
        {
          "output_type": "stream",
          "name": "stderr",
          "text": [
            "100%|██████████| 391/391 [00:06<00:00, 56.83it/s]\n"
          ]
        },
        {
          "output_type": "stream",
          "name": "stdout",
          "text": [
            "Training loss at epoch 8: 1.11457\n"
          ]
        },
        {
          "output_type": "stream",
          "name": "stderr",
          "text": [
            "100%|██████████| 391/391 [00:06<00:00, 57.14it/s]\n"
          ]
        },
        {
          "output_type": "stream",
          "name": "stdout",
          "text": [
            "Training loss at epoch 9: 1.06897\n"
          ]
        },
        {
          "output_type": "stream",
          "name": "stderr",
          "text": [
            "100%|██████████| 391/391 [00:06<00:00, 58.11it/s]\n"
          ]
        },
        {
          "output_type": "stream",
          "name": "stdout",
          "text": [
            "Training loss at epoch 10: 1.02124\n"
          ]
        },
        {
          "output_type": "stream",
          "name": "stderr",
          "text": [
            "100%|██████████| 391/391 [00:06<00:00, 57.77it/s]\n"
          ]
        },
        {
          "output_type": "stream",
          "name": "stdout",
          "text": [
            "Training loss at epoch 11: 0.97926\n"
          ]
        },
        {
          "output_type": "stream",
          "name": "stderr",
          "text": [
            "100%|██████████| 391/391 [00:06<00:00, 57.34it/s]\n"
          ]
        },
        {
          "output_type": "stream",
          "name": "stdout",
          "text": [
            "Training loss at epoch 12: 0.94474\n"
          ]
        },
        {
          "output_type": "stream",
          "name": "stderr",
          "text": [
            "100%|██████████| 391/391 [00:06<00:00, 57.36it/s]\n"
          ]
        },
        {
          "output_type": "stream",
          "name": "stdout",
          "text": [
            "Training loss at epoch 13: 0.90331\n"
          ]
        },
        {
          "output_type": "stream",
          "name": "stderr",
          "text": [
            "100%|██████████| 391/391 [00:06<00:00, 57.37it/s]\n"
          ]
        },
        {
          "output_type": "stream",
          "name": "stdout",
          "text": [
            "Training loss at epoch 14: 0.86420\n"
          ]
        },
        {
          "output_type": "stream",
          "name": "stderr",
          "text": [
            "100%|██████████| 391/391 [00:06<00:00, 58.02it/s]\n"
          ]
        },
        {
          "output_type": "stream",
          "name": "stdout",
          "text": [
            "Training loss at epoch 15: 0.82439\n",
            "* Testing loss: 1.20504\n",
            "\n",
            "* Best params updated!: {'lr': 0.05, 'eps': 1e-08, 'weight_decay': 0.0001}\n",
            "==============\n",
            "\n",
            "> Starting trial 3\n",
            "Chosen hyperparams: {'lr': 0.05, 'eps': 1e-08, 'weight_decay': 0.0001}\n",
            "\n"
          ]
        },
        {
          "output_type": "stream",
          "name": "stderr",
          "text": [
            "100%|██████████| 391/391 [00:06<00:00, 58.20it/s]\n"
          ]
        },
        {
          "output_type": "stream",
          "name": "stdout",
          "text": [
            "Training loss at epoch 1: 5.86543\n"
          ]
        },
        {
          "output_type": "stream",
          "name": "stderr",
          "text": [
            "100%|██████████| 391/391 [00:06<00:00, 58.06it/s]\n"
          ]
        },
        {
          "output_type": "stream",
          "name": "stdout",
          "text": [
            "Training loss at epoch 2: 1.71213\n"
          ]
        },
        {
          "output_type": "stream",
          "name": "stderr",
          "text": [
            "100%|██████████| 391/391 [00:06<00:00, 56.82it/s]\n"
          ]
        },
        {
          "output_type": "stream",
          "name": "stdout",
          "text": [
            "Training loss at epoch 3: 1.55677\n"
          ]
        },
        {
          "output_type": "stream",
          "name": "stderr",
          "text": [
            "100%|██████████| 391/391 [00:06<00:00, 57.57it/s]\n"
          ]
        },
        {
          "output_type": "stream",
          "name": "stdout",
          "text": [
            "Training loss at epoch 4: 1.43481\n"
          ]
        },
        {
          "output_type": "stream",
          "name": "stderr",
          "text": [
            "100%|██████████| 391/391 [00:06<00:00, 57.58it/s]\n"
          ]
        },
        {
          "output_type": "stream",
          "name": "stdout",
          "text": [
            "Training loss at epoch 5: 1.34532\n"
          ]
        },
        {
          "output_type": "stream",
          "name": "stderr",
          "text": [
            "100%|██████████| 391/391 [00:06<00:00, 57.63it/s]\n"
          ]
        },
        {
          "output_type": "stream",
          "name": "stdout",
          "text": [
            "Training loss at epoch 6: 1.28123\n"
          ]
        },
        {
          "output_type": "stream",
          "name": "stderr",
          "text": [
            "100%|██████████| 391/391 [00:06<00:00, 59.10it/s]\n"
          ]
        },
        {
          "output_type": "stream",
          "name": "stdout",
          "text": [
            "Training loss at epoch 7: 1.22128\n"
          ]
        },
        {
          "output_type": "stream",
          "name": "stderr",
          "text": [
            "100%|██████████| 391/391 [00:06<00:00, 58.53it/s]\n"
          ]
        },
        {
          "output_type": "stream",
          "name": "stdout",
          "text": [
            "Training loss at epoch 8: 1.17746\n"
          ]
        },
        {
          "output_type": "stream",
          "name": "stderr",
          "text": [
            "100%|██████████| 391/391 [00:06<00:00, 58.15it/s]\n"
          ]
        },
        {
          "output_type": "stream",
          "name": "stdout",
          "text": [
            "Training loss at epoch 9: 1.13221\n"
          ]
        },
        {
          "output_type": "stream",
          "name": "stderr",
          "text": [
            "100%|██████████| 391/391 [00:06<00:00, 57.41it/s]\n"
          ]
        },
        {
          "output_type": "stream",
          "name": "stdout",
          "text": [
            "Training loss at epoch 10: 1.09384\n"
          ]
        },
        {
          "output_type": "stream",
          "name": "stderr",
          "text": [
            "100%|██████████| 391/391 [00:06<00:00, 57.10it/s]\n"
          ]
        },
        {
          "output_type": "stream",
          "name": "stdout",
          "text": [
            "Training loss at epoch 11: 1.05448\n"
          ]
        },
        {
          "output_type": "stream",
          "name": "stderr",
          "text": [
            "100%|██████████| 391/391 [00:06<00:00, 56.68it/s]\n"
          ]
        },
        {
          "output_type": "stream",
          "name": "stdout",
          "text": [
            "Training loss at epoch 12: 1.01743\n"
          ]
        },
        {
          "output_type": "stream",
          "name": "stderr",
          "text": [
            "100%|██████████| 391/391 [00:06<00:00, 57.13it/s]\n"
          ]
        },
        {
          "output_type": "stream",
          "name": "stdout",
          "text": [
            "Training loss at epoch 13: 0.98190\n"
          ]
        },
        {
          "output_type": "stream",
          "name": "stderr",
          "text": [
            "100%|██████████| 391/391 [00:06<00:00, 59.31it/s]\n"
          ]
        },
        {
          "output_type": "stream",
          "name": "stdout",
          "text": [
            "Training loss at epoch 14: 0.95342\n"
          ]
        },
        {
          "output_type": "stream",
          "name": "stderr",
          "text": [
            "100%|██████████| 391/391 [00:06<00:00, 56.23it/s]\n"
          ]
        },
        {
          "output_type": "stream",
          "name": "stdout",
          "text": [
            "Training loss at epoch 15: 0.91989\n",
            "* Testing loss: 1.20803\n",
            "==============\n",
            "\n",
            "> Starting trial 4\n",
            "Chosen hyperparams: {'lr': 0.0001, 'eps': 1e-09, 'weight_decay': 0.0001}\n",
            "\n"
          ]
        },
        {
          "output_type": "stream",
          "name": "stderr",
          "text": [
            "100%|██████████| 391/391 [00:07<00:00, 54.71it/s]\n"
          ]
        },
        {
          "output_type": "stream",
          "name": "stdout",
          "text": [
            "Training loss at epoch 1: 2.22414\n"
          ]
        },
        {
          "output_type": "stream",
          "name": "stderr",
          "text": [
            "100%|██████████| 391/391 [00:07<00:00, 54.24it/s]\n"
          ]
        },
        {
          "output_type": "stream",
          "name": "stdout",
          "text": [
            "Training loss at epoch 2: 2.12515\n"
          ]
        },
        {
          "output_type": "stream",
          "name": "stderr",
          "text": [
            "100%|██████████| 391/391 [00:06<00:00, 56.21it/s]\n"
          ]
        },
        {
          "output_type": "stream",
          "name": "stdout",
          "text": [
            "Training loss at epoch 3: 2.05223\n"
          ]
        },
        {
          "output_type": "stream",
          "name": "stderr",
          "text": [
            "100%|██████████| 391/391 [00:06<00:00, 56.71it/s]\n"
          ]
        },
        {
          "output_type": "stream",
          "name": "stdout",
          "text": [
            "Training loss at epoch 4: 2.00023\n"
          ]
        },
        {
          "output_type": "stream",
          "name": "stderr",
          "text": [
            "100%|██████████| 391/391 [00:06<00:00, 56.45it/s]\n"
          ]
        },
        {
          "output_type": "stream",
          "name": "stdout",
          "text": [
            "Training loss at epoch 5: 1.96310\n"
          ]
        },
        {
          "output_type": "stream",
          "name": "stderr",
          "text": [
            "100%|██████████| 391/391 [00:07<00:00, 55.51it/s]\n"
          ]
        },
        {
          "output_type": "stream",
          "name": "stdout",
          "text": [
            "Training loss at epoch 6: 1.93489\n"
          ]
        },
        {
          "output_type": "stream",
          "name": "stderr",
          "text": [
            "100%|██████████| 391/391 [00:07<00:00, 55.26it/s]\n"
          ]
        },
        {
          "output_type": "stream",
          "name": "stdout",
          "text": [
            "Training loss at epoch 7: 1.91272\n"
          ]
        },
        {
          "output_type": "stream",
          "name": "stderr",
          "text": [
            "100%|██████████| 391/391 [00:07<00:00, 55.53it/s]\n"
          ]
        },
        {
          "output_type": "stream",
          "name": "stdout",
          "text": [
            "Training loss at epoch 8: 1.89446\n"
          ]
        },
        {
          "output_type": "stream",
          "name": "stderr",
          "text": [
            "100%|██████████| 391/391 [00:07<00:00, 54.45it/s]\n"
          ]
        },
        {
          "output_type": "stream",
          "name": "stdout",
          "text": [
            "Training loss at epoch 9: 1.87924\n"
          ]
        },
        {
          "output_type": "stream",
          "name": "stderr",
          "text": [
            "100%|██████████| 391/391 [00:07<00:00, 55.48it/s]\n"
          ]
        },
        {
          "output_type": "stream",
          "name": "stdout",
          "text": [
            "Training loss at epoch 10: 1.86553\n"
          ]
        },
        {
          "output_type": "stream",
          "name": "stderr",
          "text": [
            "100%|██████████| 391/391 [00:06<00:00, 56.47it/s]\n"
          ]
        },
        {
          "output_type": "stream",
          "name": "stdout",
          "text": [
            "Training loss at epoch 11: 1.85401\n"
          ]
        },
        {
          "output_type": "stream",
          "name": "stderr",
          "text": [
            "100%|██████████| 391/391 [00:07<00:00, 55.55it/s]\n"
          ]
        },
        {
          "output_type": "stream",
          "name": "stdout",
          "text": [
            "Training loss at epoch 12: 1.84333\n"
          ]
        },
        {
          "output_type": "stream",
          "name": "stderr",
          "text": [
            "100%|██████████| 391/391 [00:07<00:00, 54.46it/s]\n"
          ]
        },
        {
          "output_type": "stream",
          "name": "stdout",
          "text": [
            "Training loss at epoch 13: 1.83382\n"
          ]
        },
        {
          "output_type": "stream",
          "name": "stderr",
          "text": [
            "100%|██████████| 391/391 [00:07<00:00, 54.88it/s]\n"
          ]
        },
        {
          "output_type": "stream",
          "name": "stdout",
          "text": [
            "Training loss at epoch 14: 1.82503\n"
          ]
        },
        {
          "output_type": "stream",
          "name": "stderr",
          "text": [
            "100%|██████████| 391/391 [00:07<00:00, 55.72it/s]\n"
          ]
        },
        {
          "output_type": "stream",
          "name": "stdout",
          "text": [
            "Training loss at epoch 15: 1.81718\n"
          ]
        },
        {
          "output_type": "stream",
          "name": "stderr",
          "text": [
            "100%|██████████| 391/391 [00:07<00:00, 55.03it/s]\n"
          ]
        },
        {
          "output_type": "stream",
          "name": "stdout",
          "text": [
            "Training loss at epoch 16: 1.80965\n"
          ]
        },
        {
          "output_type": "stream",
          "name": "stderr",
          "text": [
            "100%|██████████| 391/391 [00:07<00:00, 55.33it/s]\n"
          ]
        },
        {
          "output_type": "stream",
          "name": "stdout",
          "text": [
            "Training loss at epoch 17: 1.80275\n"
          ]
        },
        {
          "output_type": "stream",
          "name": "stderr",
          "text": [
            "100%|██████████| 391/391 [00:06<00:00, 57.42it/s]\n"
          ]
        },
        {
          "output_type": "stream",
          "name": "stdout",
          "text": [
            "Training loss at epoch 18: 1.79639\n"
          ]
        },
        {
          "output_type": "stream",
          "name": "stderr",
          "text": [
            "100%|██████████| 391/391 [00:06<00:00, 56.56it/s]\n"
          ]
        },
        {
          "output_type": "stream",
          "name": "stdout",
          "text": [
            "Training loss at epoch 19: 1.79057\n"
          ]
        },
        {
          "output_type": "stream",
          "name": "stderr",
          "text": [
            "100%|██████████| 391/391 [00:06<00:00, 57.95it/s]\n"
          ]
        },
        {
          "output_type": "stream",
          "name": "stdout",
          "text": [
            "Training loss at epoch 20: 1.78498\n"
          ]
        },
        {
          "output_type": "stream",
          "name": "stderr",
          "text": [
            "100%|██████████| 391/391 [00:06<00:00, 58.63it/s]\n"
          ]
        },
        {
          "output_type": "stream",
          "name": "stdout",
          "text": [
            "Training loss at epoch 21: 1.77976\n"
          ]
        },
        {
          "output_type": "stream",
          "name": "stderr",
          "text": [
            "100%|██████████| 391/391 [00:06<00:00, 58.27it/s]\n"
          ]
        },
        {
          "output_type": "stream",
          "name": "stdout",
          "text": [
            "Training loss at epoch 22: 1.77468\n"
          ]
        },
        {
          "output_type": "stream",
          "name": "stderr",
          "text": [
            "100%|██████████| 391/391 [00:06<00:00, 57.36it/s]\n"
          ]
        },
        {
          "output_type": "stream",
          "name": "stdout",
          "text": [
            "Training loss at epoch 23: 1.76972\n"
          ]
        },
        {
          "output_type": "stream",
          "name": "stderr",
          "text": [
            "100%|██████████| 391/391 [00:07<00:00, 54.84it/s]\n"
          ]
        },
        {
          "output_type": "stream",
          "name": "stdout",
          "text": [
            "Training loss at epoch 24: 1.76530\n"
          ]
        },
        {
          "output_type": "stream",
          "name": "stderr",
          "text": [
            "100%|██████████| 391/391 [00:06<00:00, 56.76it/s]\n"
          ]
        },
        {
          "output_type": "stream",
          "name": "stdout",
          "text": [
            "Training loss at epoch 25: 1.76093\n",
            "* Testing loss: 1.76774\n",
            "==============\n",
            "\n",
            "> Starting trial 5\n",
            "Chosen hyperparams: {'lr': 0.01, 'eps': 1e-08, 'weight_decay': 1e-06}\n",
            "\n"
          ]
        },
        {
          "output_type": "stream",
          "name": "stderr",
          "text": [
            "100%|██████████| 391/391 [00:06<00:00, 57.65it/s]\n"
          ]
        },
        {
          "output_type": "stream",
          "name": "stdout",
          "text": [
            "Training loss at epoch 1: 1.84810\n"
          ]
        },
        {
          "output_type": "stream",
          "name": "stderr",
          "text": [
            "100%|██████████| 391/391 [00:06<00:00, 58.13it/s]\n"
          ]
        },
        {
          "output_type": "stream",
          "name": "stdout",
          "text": [
            "Training loss at epoch 2: 1.45456\n"
          ]
        },
        {
          "output_type": "stream",
          "name": "stderr",
          "text": [
            "100%|██████████| 391/391 [00:06<00:00, 57.39it/s]\n"
          ]
        },
        {
          "output_type": "stream",
          "name": "stdout",
          "text": [
            "Training loss at epoch 3: 1.32333\n"
          ]
        },
        {
          "output_type": "stream",
          "name": "stderr",
          "text": [
            "100%|██████████| 391/391 [00:06<00:00, 58.31it/s]\n"
          ]
        },
        {
          "output_type": "stream",
          "name": "stdout",
          "text": [
            "Training loss at epoch 4: 1.23811\n"
          ]
        },
        {
          "output_type": "stream",
          "name": "stderr",
          "text": [
            "100%|██████████| 391/391 [00:06<00:00, 58.03it/s]\n"
          ]
        },
        {
          "output_type": "stream",
          "name": "stdout",
          "text": [
            "Training loss at epoch 5: 1.17951\n"
          ]
        },
        {
          "output_type": "stream",
          "name": "stderr",
          "text": [
            "100%|██████████| 391/391 [00:06<00:00, 56.20it/s]\n"
          ]
        },
        {
          "output_type": "stream",
          "name": "stdout",
          "text": [
            "Training loss at epoch 6: 1.12989\n"
          ]
        },
        {
          "output_type": "stream",
          "name": "stderr",
          "text": [
            "100%|██████████| 391/391 [00:06<00:00, 55.89it/s]\n"
          ]
        },
        {
          "output_type": "stream",
          "name": "stdout",
          "text": [
            "Training loss at epoch 7: 1.08851\n"
          ]
        },
        {
          "output_type": "stream",
          "name": "stderr",
          "text": [
            "100%|██████████| 391/391 [00:06<00:00, 55.90it/s]\n"
          ]
        },
        {
          "output_type": "stream",
          "name": "stdout",
          "text": [
            "Training loss at epoch 8: 1.04745\n"
          ]
        },
        {
          "output_type": "stream",
          "name": "stderr",
          "text": [
            "100%|██████████| 391/391 [00:06<00:00, 56.59it/s]\n"
          ]
        },
        {
          "output_type": "stream",
          "name": "stdout",
          "text": [
            "Training loss at epoch 9: 1.01160\n"
          ]
        },
        {
          "output_type": "stream",
          "name": "stderr",
          "text": [
            "100%|██████████| 391/391 [00:06<00:00, 56.69it/s]\n"
          ]
        },
        {
          "output_type": "stream",
          "name": "stdout",
          "text": [
            "Training loss at epoch 10: 0.97876\n"
          ]
        },
        {
          "output_type": "stream",
          "name": "stderr",
          "text": [
            "100%|██████████| 391/391 [00:06<00:00, 56.34it/s]\n"
          ]
        },
        {
          "output_type": "stream",
          "name": "stdout",
          "text": [
            "Training loss at epoch 11: 0.94718\n"
          ]
        },
        {
          "output_type": "stream",
          "name": "stderr",
          "text": [
            "100%|██████████| 391/391 [00:06<00:00, 56.52it/s]\n"
          ]
        },
        {
          "output_type": "stream",
          "name": "stdout",
          "text": [
            "Training loss at epoch 12: 0.91640\n"
          ]
        },
        {
          "output_type": "stream",
          "name": "stderr",
          "text": [
            "100%|██████████| 391/391 [00:06<00:00, 56.46it/s]\n"
          ]
        },
        {
          "output_type": "stream",
          "name": "stdout",
          "text": [
            "Training loss at epoch 13: 0.88419\n"
          ]
        },
        {
          "output_type": "stream",
          "name": "stderr",
          "text": [
            "100%|██████████| 391/391 [00:06<00:00, 57.00it/s]\n"
          ]
        },
        {
          "output_type": "stream",
          "name": "stdout",
          "text": [
            "Training loss at epoch 14: 0.85823\n"
          ]
        },
        {
          "output_type": "stream",
          "name": "stderr",
          "text": [
            "100%|██████████| 391/391 [00:06<00:00, 56.66it/s]\n"
          ]
        },
        {
          "output_type": "stream",
          "name": "stdout",
          "text": [
            "Training loss at epoch 15: 0.83260\n",
            "* Testing loss: 1.10218\n",
            "\n",
            "* Best params updated!: {'lr': 0.01, 'eps': 1e-08, 'weight_decay': 1e-06}\n",
            "==============\n",
            "\n",
            "> Starting trial 6\n",
            "Chosen hyperparams: {'lr': 0.01, 'eps': 1e-07, 'weight_decay': 1e-05}\n",
            "\n"
          ]
        },
        {
          "output_type": "stream",
          "name": "stderr",
          "text": [
            "100%|██████████| 391/391 [00:06<00:00, 56.23it/s]\n"
          ]
        },
        {
          "output_type": "stream",
          "name": "stdout",
          "text": [
            "Training loss at epoch 1: 1.82400\n"
          ]
        },
        {
          "output_type": "stream",
          "name": "stderr",
          "text": [
            "100%|██████████| 391/391 [00:06<00:00, 56.85it/s]\n"
          ]
        },
        {
          "output_type": "stream",
          "name": "stdout",
          "text": [
            "Training loss at epoch 2: 1.44822\n"
          ]
        },
        {
          "output_type": "stream",
          "name": "stderr",
          "text": [
            "100%|██████████| 391/391 [00:06<00:00, 55.99it/s]\n"
          ]
        },
        {
          "output_type": "stream",
          "name": "stdout",
          "text": [
            "Training loss at epoch 3: 1.32941\n"
          ]
        },
        {
          "output_type": "stream",
          "name": "stderr",
          "text": [
            "100%|██████████| 391/391 [00:07<00:00, 54.93it/s]\n"
          ]
        },
        {
          "output_type": "stream",
          "name": "stdout",
          "text": [
            "Training loss at epoch 4: 1.25866\n"
          ]
        },
        {
          "output_type": "stream",
          "name": "stderr",
          "text": [
            "100%|██████████| 391/391 [00:07<00:00, 55.04it/s]\n"
          ]
        },
        {
          "output_type": "stream",
          "name": "stdout",
          "text": [
            "Training loss at epoch 5: 1.20628\n"
          ]
        },
        {
          "output_type": "stream",
          "name": "stderr",
          "text": [
            "100%|██████████| 391/391 [00:07<00:00, 55.08it/s]\n"
          ]
        },
        {
          "output_type": "stream",
          "name": "stdout",
          "text": [
            "Training loss at epoch 6: 1.16464\n"
          ]
        },
        {
          "output_type": "stream",
          "name": "stderr",
          "text": [
            "100%|██████████| 391/391 [00:06<00:00, 56.07it/s]\n"
          ]
        },
        {
          "output_type": "stream",
          "name": "stdout",
          "text": [
            "Training loss at epoch 7: 1.12666\n"
          ]
        },
        {
          "output_type": "stream",
          "name": "stderr",
          "text": [
            "100%|██████████| 391/391 [00:07<00:00, 55.04it/s]\n"
          ]
        },
        {
          "output_type": "stream",
          "name": "stdout",
          "text": [
            "Training loss at epoch 8: 1.09511\n"
          ]
        },
        {
          "output_type": "stream",
          "name": "stderr",
          "text": [
            "100%|██████████| 391/391 [00:07<00:00, 54.48it/s]\n"
          ]
        },
        {
          "output_type": "stream",
          "name": "stdout",
          "text": [
            "Training loss at epoch 9: 1.06520\n"
          ]
        },
        {
          "output_type": "stream",
          "name": "stderr",
          "text": [
            "100%|██████████| 391/391 [00:06<00:00, 56.32it/s]\n"
          ]
        },
        {
          "output_type": "stream",
          "name": "stdout",
          "text": [
            "Training loss at epoch 10: 1.03897\n"
          ]
        },
        {
          "output_type": "stream",
          "name": "stderr",
          "text": [
            "100%|██████████| 391/391 [00:06<00:00, 56.95it/s]\n"
          ]
        },
        {
          "output_type": "stream",
          "name": "stdout",
          "text": [
            "Training loss at epoch 11: 1.01322\n"
          ]
        },
        {
          "output_type": "stream",
          "name": "stderr",
          "text": [
            "100%|██████████| 391/391 [00:06<00:00, 58.12it/s]\n"
          ]
        },
        {
          "output_type": "stream",
          "name": "stdout",
          "text": [
            "Training loss at epoch 12: 0.99124\n"
          ]
        },
        {
          "output_type": "stream",
          "name": "stderr",
          "text": [
            "100%|██████████| 391/391 [00:06<00:00, 56.91it/s]\n"
          ]
        },
        {
          "output_type": "stream",
          "name": "stdout",
          "text": [
            "Training loss at epoch 13: 0.97022\n"
          ]
        },
        {
          "output_type": "stream",
          "name": "stderr",
          "text": [
            "100%|██████████| 391/391 [00:06<00:00, 56.89it/s]\n"
          ]
        },
        {
          "output_type": "stream",
          "name": "stdout",
          "text": [
            "Training loss at epoch 14: 0.94710\n"
          ]
        },
        {
          "output_type": "stream",
          "name": "stderr",
          "text": [
            "100%|██████████| 391/391 [00:06<00:00, 57.00it/s]\n"
          ]
        },
        {
          "output_type": "stream",
          "name": "stdout",
          "text": [
            "Training loss at epoch 15: 0.93083\n",
            "* Testing loss: 1.12517\n",
            "==============\n",
            "\n",
            "> Starting trial 7\n",
            "Chosen hyperparams: {'lr': 0.01, 'eps': 1e-09, 'weight_decay': 0.0001}\n",
            "\n"
          ]
        },
        {
          "output_type": "stream",
          "name": "stderr",
          "text": [
            "100%|██████████| 391/391 [00:06<00:00, 57.91it/s]\n"
          ]
        },
        {
          "output_type": "stream",
          "name": "stdout",
          "text": [
            "Training loss at epoch 1: 1.80796\n"
          ]
        },
        {
          "output_type": "stream",
          "name": "stderr",
          "text": [
            "100%|██████████| 391/391 [00:06<00:00, 57.19it/s]\n"
          ]
        },
        {
          "output_type": "stream",
          "name": "stdout",
          "text": [
            "Training loss at epoch 2: 1.41325\n"
          ]
        },
        {
          "output_type": "stream",
          "name": "stderr",
          "text": [
            "100%|██████████| 391/391 [00:06<00:00, 58.00it/s]\n"
          ]
        },
        {
          "output_type": "stream",
          "name": "stdout",
          "text": [
            "Training loss at epoch 3: 1.29492\n"
          ]
        },
        {
          "output_type": "stream",
          "name": "stderr",
          "text": [
            "100%|██████████| 391/391 [00:06<00:00, 58.22it/s]\n"
          ]
        },
        {
          "output_type": "stream",
          "name": "stdout",
          "text": [
            "Training loss at epoch 4: 1.22151\n"
          ]
        },
        {
          "output_type": "stream",
          "name": "stderr",
          "text": [
            "100%|██████████| 391/391 [00:07<00:00, 55.42it/s]\n"
          ]
        },
        {
          "output_type": "stream",
          "name": "stdout",
          "text": [
            "Training loss at epoch 5: 1.16507\n"
          ]
        },
        {
          "output_type": "stream",
          "name": "stderr",
          "text": [
            "100%|██████████| 391/391 [00:07<00:00, 54.34it/s]\n"
          ]
        },
        {
          "output_type": "stream",
          "name": "stdout",
          "text": [
            "Training loss at epoch 6: 1.11889\n"
          ]
        },
        {
          "output_type": "stream",
          "name": "stderr",
          "text": [
            "100%|██████████| 391/391 [00:07<00:00, 54.63it/s]\n"
          ]
        },
        {
          "output_type": "stream",
          "name": "stdout",
          "text": [
            "Training loss at epoch 7: 1.07685\n"
          ]
        },
        {
          "output_type": "stream",
          "name": "stderr",
          "text": [
            "100%|██████████| 391/391 [00:06<00:00, 55.92it/s]\n"
          ]
        },
        {
          "output_type": "stream",
          "name": "stdout",
          "text": [
            "Training loss at epoch 8: 1.04206\n"
          ]
        },
        {
          "output_type": "stream",
          "name": "stderr",
          "text": [
            "100%|██████████| 391/391 [00:06<00:00, 58.96it/s]\n"
          ]
        },
        {
          "output_type": "stream",
          "name": "stdout",
          "text": [
            "Training loss at epoch 9: 1.00951\n"
          ]
        },
        {
          "output_type": "stream",
          "name": "stderr",
          "text": [
            "100%|██████████| 391/391 [00:07<00:00, 55.77it/s]\n"
          ]
        },
        {
          "output_type": "stream",
          "name": "stdout",
          "text": [
            "Training loss at epoch 10: 0.97969\n"
          ]
        },
        {
          "output_type": "stream",
          "name": "stderr",
          "text": [
            "100%|██████████| 391/391 [00:07<00:00, 54.23it/s]\n"
          ]
        },
        {
          "output_type": "stream",
          "name": "stdout",
          "text": [
            "Training loss at epoch 11: 0.95347\n"
          ]
        },
        {
          "output_type": "stream",
          "name": "stderr",
          "text": [
            "100%|██████████| 391/391 [00:07<00:00, 55.02it/s]\n"
          ]
        },
        {
          "output_type": "stream",
          "name": "stdout",
          "text": [
            "Training loss at epoch 12: 0.92666\n"
          ]
        },
        {
          "output_type": "stream",
          "name": "stderr",
          "text": [
            "100%|██████████| 391/391 [00:07<00:00, 55.13it/s]\n"
          ]
        },
        {
          "output_type": "stream",
          "name": "stdout",
          "text": [
            "Training loss at epoch 13: 0.89936\n"
          ]
        },
        {
          "output_type": "stream",
          "name": "stderr",
          "text": [
            "100%|██████████| 391/391 [00:07<00:00, 54.58it/s]\n"
          ]
        },
        {
          "output_type": "stream",
          "name": "stdout",
          "text": [
            "Training loss at epoch 14: 0.87525\n"
          ]
        },
        {
          "output_type": "stream",
          "name": "stderr",
          "text": [
            "100%|██████████| 391/391 [00:07<00:00, 55.64it/s]\n"
          ]
        },
        {
          "output_type": "stream",
          "name": "stdout",
          "text": [
            "Training loss at epoch 15: 0.85463\n",
            "* Testing loss: 1.09173\n",
            "\n",
            "* Best params updated!: {'lr': 0.01, 'eps': 1e-09, 'weight_decay': 0.0001}\n",
            "==============\n",
            "\n",
            "> Starting trial 8\n",
            "Chosen hyperparams: {'lr': 0.05, 'eps': 1e-08, 'weight_decay': 0.0001}\n",
            "\n"
          ]
        },
        {
          "output_type": "stream",
          "name": "stderr",
          "text": [
            "100%|██████████| 391/391 [00:07<00:00, 54.86it/s]\n"
          ]
        },
        {
          "output_type": "stream",
          "name": "stdout",
          "text": [
            "Training loss at epoch 1: 4.66796\n"
          ]
        },
        {
          "output_type": "stream",
          "name": "stderr",
          "text": [
            "100%|██████████| 391/391 [00:07<00:00, 55.62it/s]\n"
          ]
        },
        {
          "output_type": "stream",
          "name": "stdout",
          "text": [
            "Training loss at epoch 2: 1.53402\n"
          ]
        },
        {
          "output_type": "stream",
          "name": "stderr",
          "text": [
            "100%|██████████| 391/391 [00:06<00:00, 55.89it/s]\n"
          ]
        },
        {
          "output_type": "stream",
          "name": "stdout",
          "text": [
            "Training loss at epoch 3: 1.39040\n"
          ]
        },
        {
          "output_type": "stream",
          "name": "stderr",
          "text": [
            "100%|██████████| 391/391 [00:07<00:00, 55.66it/s]\n"
          ]
        },
        {
          "output_type": "stream",
          "name": "stdout",
          "text": [
            "Training loss at epoch 4: 1.29106\n"
          ]
        },
        {
          "output_type": "stream",
          "name": "stderr",
          "text": [
            "100%|██████████| 391/391 [00:06<00:00, 56.07it/s]\n"
          ]
        },
        {
          "output_type": "stream",
          "name": "stdout",
          "text": [
            "Training loss at epoch 5: 1.21034\n"
          ]
        },
        {
          "output_type": "stream",
          "name": "stderr",
          "text": [
            "100%|██████████| 391/391 [00:07<00:00, 55.77it/s]\n"
          ]
        },
        {
          "output_type": "stream",
          "name": "stdout",
          "text": [
            "Training loss at epoch 6: 1.13480\n"
          ]
        },
        {
          "output_type": "stream",
          "name": "stderr",
          "text": [
            "100%|██████████| 391/391 [00:07<00:00, 55.07it/s]\n"
          ]
        },
        {
          "output_type": "stream",
          "name": "stdout",
          "text": [
            "Training loss at epoch 7: 1.06792\n"
          ]
        },
        {
          "output_type": "stream",
          "name": "stderr",
          "text": [
            "100%|██████████| 391/391 [00:07<00:00, 55.26it/s]\n"
          ]
        },
        {
          "output_type": "stream",
          "name": "stdout",
          "text": [
            "Training loss at epoch 8: 1.01309\n"
          ]
        },
        {
          "output_type": "stream",
          "name": "stderr",
          "text": [
            "100%|██████████| 391/391 [00:07<00:00, 55.20it/s]\n"
          ]
        },
        {
          "output_type": "stream",
          "name": "stdout",
          "text": [
            "Training loss at epoch 9: 0.95267\n"
          ]
        },
        {
          "output_type": "stream",
          "name": "stderr",
          "text": [
            "100%|██████████| 391/391 [00:06<00:00, 56.03it/s]\n"
          ]
        },
        {
          "output_type": "stream",
          "name": "stdout",
          "text": [
            "Training loss at epoch 10: 0.89593\n"
          ]
        },
        {
          "output_type": "stream",
          "name": "stderr",
          "text": [
            "100%|██████████| 391/391 [00:07<00:00, 55.42it/s]\n"
          ]
        },
        {
          "output_type": "stream",
          "name": "stdout",
          "text": [
            "Training loss at epoch 11: 0.83519\n"
          ]
        },
        {
          "output_type": "stream",
          "name": "stderr",
          "text": [
            "100%|██████████| 391/391 [00:07<00:00, 55.34it/s]\n"
          ]
        },
        {
          "output_type": "stream",
          "name": "stdout",
          "text": [
            "Training loss at epoch 12: 0.78830\n"
          ]
        },
        {
          "output_type": "stream",
          "name": "stderr",
          "text": [
            "100%|██████████| 391/391 [00:07<00:00, 54.57it/s]\n"
          ]
        },
        {
          "output_type": "stream",
          "name": "stdout",
          "text": [
            "Training loss at epoch 13: 0.73196\n"
          ]
        },
        {
          "output_type": "stream",
          "name": "stderr",
          "text": [
            "100%|██████████| 391/391 [00:06<00:00, 57.98it/s]\n"
          ]
        },
        {
          "output_type": "stream",
          "name": "stdout",
          "text": [
            "Training loss at epoch 14: 0.67981\n"
          ]
        },
        {
          "output_type": "stream",
          "name": "stderr",
          "text": [
            "100%|██████████| 391/391 [00:06<00:00, 59.26it/s]\n"
          ]
        },
        {
          "output_type": "stream",
          "name": "stdout",
          "text": [
            "Training loss at epoch 15: 0.62733\n",
            "* Testing loss: 1.28548\n",
            "==============\n",
            "\n",
            "> Starting trial 9\n",
            "Chosen hyperparams: {'lr': 0.05, 'eps': 1e-09, 'weight_decay': 1e-05}\n",
            "\n"
          ]
        },
        {
          "output_type": "stream",
          "name": "stderr",
          "text": [
            "100%|██████████| 391/391 [00:06<00:00, 58.94it/s]\n"
          ]
        },
        {
          "output_type": "stream",
          "name": "stdout",
          "text": [
            "Training loss at epoch 1: 4.63472\n"
          ]
        },
        {
          "output_type": "stream",
          "name": "stderr",
          "text": [
            "100%|██████████| 391/391 [00:07<00:00, 55.05it/s]\n"
          ]
        },
        {
          "output_type": "stream",
          "name": "stdout",
          "text": [
            "Training loss at epoch 2: 1.57252\n"
          ]
        },
        {
          "output_type": "stream",
          "name": "stderr",
          "text": [
            "100%|██████████| 391/391 [00:07<00:00, 55.12it/s]\n"
          ]
        },
        {
          "output_type": "stream",
          "name": "stdout",
          "text": [
            "Training loss at epoch 3: 1.42409\n"
          ]
        },
        {
          "output_type": "stream",
          "name": "stderr",
          "text": [
            "100%|██████████| 391/391 [00:07<00:00, 54.91it/s]\n"
          ]
        },
        {
          "output_type": "stream",
          "name": "stdout",
          "text": [
            "Training loss at epoch 4: 1.31112\n"
          ]
        },
        {
          "output_type": "stream",
          "name": "stderr",
          "text": [
            "100%|██████████| 391/391 [00:07<00:00, 55.30it/s]\n"
          ]
        },
        {
          "output_type": "stream",
          "name": "stdout",
          "text": [
            "Training loss at epoch 5: 1.22577\n"
          ]
        },
        {
          "output_type": "stream",
          "name": "stderr",
          "text": [
            "100%|██████████| 391/391 [00:07<00:00, 54.20it/s]\n"
          ]
        },
        {
          "output_type": "stream",
          "name": "stdout",
          "text": [
            "Training loss at epoch 6: 1.14972\n"
          ]
        },
        {
          "output_type": "stream",
          "name": "stderr",
          "text": [
            "100%|██████████| 391/391 [00:07<00:00, 54.40it/s]\n"
          ]
        },
        {
          "output_type": "stream",
          "name": "stdout",
          "text": [
            "Training loss at epoch 7: 1.08328\n"
          ]
        },
        {
          "output_type": "stream",
          "name": "stderr",
          "text": [
            "100%|██████████| 391/391 [00:07<00:00, 55.04it/s]\n"
          ]
        },
        {
          "output_type": "stream",
          "name": "stdout",
          "text": [
            "Training loss at epoch 8: 1.02323\n"
          ]
        },
        {
          "output_type": "stream",
          "name": "stderr",
          "text": [
            "100%|██████████| 391/391 [00:07<00:00, 54.72it/s]\n"
          ]
        },
        {
          "output_type": "stream",
          "name": "stdout",
          "text": [
            "Training loss at epoch 9: 0.95932\n"
          ]
        },
        {
          "output_type": "stream",
          "name": "stderr",
          "text": [
            "100%|██████████| 391/391 [00:07<00:00, 54.91it/s]\n"
          ]
        },
        {
          "output_type": "stream",
          "name": "stdout",
          "text": [
            "Training loss at epoch 10: 0.90765\n"
          ]
        },
        {
          "output_type": "stream",
          "name": "stderr",
          "text": [
            "100%|██████████| 391/391 [00:07<00:00, 54.44it/s]\n"
          ]
        },
        {
          "output_type": "stream",
          "name": "stdout",
          "text": [
            "Training loss at epoch 11: 0.84742\n"
          ]
        },
        {
          "output_type": "stream",
          "name": "stderr",
          "text": [
            "100%|██████████| 391/391 [00:07<00:00, 54.70it/s]\n"
          ]
        },
        {
          "output_type": "stream",
          "name": "stdout",
          "text": [
            "Training loss at epoch 12: 0.79938\n"
          ]
        },
        {
          "output_type": "stream",
          "name": "stderr",
          "text": [
            "100%|██████████| 391/391 [00:07<00:00, 55.61it/s]\n"
          ]
        },
        {
          "output_type": "stream",
          "name": "stdout",
          "text": [
            "Training loss at epoch 13: 0.74480\n"
          ]
        },
        {
          "output_type": "stream",
          "name": "stderr",
          "text": [
            "100%|██████████| 391/391 [00:07<00:00, 55.17it/s]\n"
          ]
        },
        {
          "output_type": "stream",
          "name": "stdout",
          "text": [
            "Training loss at epoch 14: 0.69880\n"
          ]
        },
        {
          "output_type": "stream",
          "name": "stderr",
          "text": [
            "100%|██████████| 391/391 [00:07<00:00, 54.63it/s]\n"
          ]
        },
        {
          "output_type": "stream",
          "name": "stdout",
          "text": [
            "Training loss at epoch 15: 0.65184\n",
            "* Testing loss: 1.32769\n",
            "==============\n",
            "\n",
            "> Starting trial 10\n",
            "Chosen hyperparams: {'lr': 0.05, 'eps': 1e-09, 'weight_decay': 1e-05}\n",
            "\n"
          ]
        },
        {
          "output_type": "stream",
          "name": "stderr",
          "text": [
            "100%|██████████| 391/391 [00:07<00:00, 55.47it/s]\n"
          ]
        },
        {
          "output_type": "stream",
          "name": "stdout",
          "text": [
            "Training loss at epoch 1: 4.20956\n"
          ]
        },
        {
          "output_type": "stream",
          "name": "stderr",
          "text": [
            "100%|██████████| 391/391 [00:07<00:00, 55.32it/s]\n"
          ]
        },
        {
          "output_type": "stream",
          "name": "stdout",
          "text": [
            "Training loss at epoch 2: 1.45738\n"
          ]
        },
        {
          "output_type": "stream",
          "name": "stderr",
          "text": [
            "100%|██████████| 391/391 [00:06<00:00, 55.93it/s]\n"
          ]
        },
        {
          "output_type": "stream",
          "name": "stdout",
          "text": [
            "Training loss at epoch 3: 1.30599\n"
          ]
        },
        {
          "output_type": "stream",
          "name": "stderr",
          "text": [
            "100%|██████████| 391/391 [00:07<00:00, 55.83it/s]\n"
          ]
        },
        {
          "output_type": "stream",
          "name": "stdout",
          "text": [
            "Training loss at epoch 4: 1.19700\n"
          ]
        },
        {
          "output_type": "stream",
          "name": "stderr",
          "text": [
            "100%|██████████| 391/391 [00:07<00:00, 55.45it/s]\n"
          ]
        },
        {
          "output_type": "stream",
          "name": "stdout",
          "text": [
            "Training loss at epoch 5: 1.09642\n"
          ]
        },
        {
          "output_type": "stream",
          "name": "stderr",
          "text": [
            "100%|██████████| 391/391 [00:07<00:00, 54.90it/s]\n"
          ]
        },
        {
          "output_type": "stream",
          "name": "stdout",
          "text": [
            "Training loss at epoch 6: 1.01010\n"
          ]
        },
        {
          "output_type": "stream",
          "name": "stderr",
          "text": [
            "100%|██████████| 391/391 [00:07<00:00, 55.43it/s]\n"
          ]
        },
        {
          "output_type": "stream",
          "name": "stdout",
          "text": [
            "Training loss at epoch 7: 0.92838\n"
          ]
        },
        {
          "output_type": "stream",
          "name": "stderr",
          "text": [
            "100%|██████████| 391/391 [00:07<00:00, 55.40it/s]\n"
          ]
        },
        {
          "output_type": "stream",
          "name": "stdout",
          "text": [
            "Training loss at epoch 8: 0.84981\n"
          ]
        },
        {
          "output_type": "stream",
          "name": "stderr",
          "text": [
            "100%|██████████| 391/391 [00:07<00:00, 54.90it/s]\n"
          ]
        },
        {
          "output_type": "stream",
          "name": "stdout",
          "text": [
            "Training loss at epoch 9: 0.76810\n"
          ]
        },
        {
          "output_type": "stream",
          "name": "stderr",
          "text": [
            "100%|██████████| 391/391 [00:06<00:00, 56.54it/s]\n"
          ]
        },
        {
          "output_type": "stream",
          "name": "stdout",
          "text": [
            "Training loss at epoch 10: 0.69594\n"
          ]
        },
        {
          "output_type": "stream",
          "name": "stderr",
          "text": [
            "100%|██████████| 391/391 [00:06<00:00, 59.04it/s]\n"
          ]
        },
        {
          "output_type": "stream",
          "name": "stdout",
          "text": [
            "Training loss at epoch 11: 0.62495\n"
          ]
        },
        {
          "output_type": "stream",
          "name": "stderr",
          "text": [
            "100%|██████████| 391/391 [00:06<00:00, 57.84it/s]\n"
          ]
        },
        {
          "output_type": "stream",
          "name": "stdout",
          "text": [
            "Training loss at epoch 12: 0.55119\n"
          ]
        },
        {
          "output_type": "stream",
          "name": "stderr",
          "text": [
            "100%|██████████| 391/391 [00:06<00:00, 56.33it/s]\n"
          ]
        },
        {
          "output_type": "stream",
          "name": "stdout",
          "text": [
            "Training loss at epoch 13: 0.48903\n"
          ]
        },
        {
          "output_type": "stream",
          "name": "stderr",
          "text": [
            "100%|██████████| 391/391 [00:07<00:00, 55.81it/s]\n"
          ]
        },
        {
          "output_type": "stream",
          "name": "stdout",
          "text": [
            "Training loss at epoch 14: 0.42319\n"
          ]
        },
        {
          "output_type": "stream",
          "name": "stderr",
          "text": [
            "100%|██████████| 391/391 [00:07<00:00, 55.39it/s]"
          ]
        },
        {
          "output_type": "stream",
          "name": "stdout",
          "text": [
            "Training loss at epoch 15: 0.36518\n",
            "* Testing loss: 1.67192\n",
            "==============\n"
          ]
        },
        {
          "output_type": "stream",
          "name": "stderr",
          "text": [
            "\n"
          ]
        }
      ]
    },
    {
      "cell_type": "markdown",
      "source": [
        "### Training with the best hyperparameters"
      ],
      "metadata": {
        "id": "p8qxKHDtS0oc"
      }
    },
    {
      "cell_type": "code",
      "source": [
        "best_params"
      ],
      "metadata": {
        "id": "Qt5es0D7SWT7",
        "colab": {
          "base_uri": "https://localhost:8080/"
        },
        "outputId": "b25373ee-eca1-4e9d-ac42-5a5df3dc637e"
      },
      "execution_count": null,
      "outputs": [
        {
          "output_type": "execute_result",
          "data": {
            "text/plain": [
              "{'eps': 1e-09, 'lr': 0.01, 'weight_decay': 0.0001}"
            ]
          },
          "metadata": {},
          "execution_count": 25
        }
      ]
    },
    {
      "cell_type": "code",
      "source": [
        "model = CNN()\n",
        "model.to(device)\n",
        "error = nn.NLLLoss()\n",
        "optimizer = torch.optim.Adagrad(model.parameters(), lr=best_params['lr'], eps=best_params['eps'], weight_decay=best_params['weight_decay'])"
      ],
      "metadata": {
        "id": "hRL3h_DIS3yc"
      },
      "execution_count": null,
      "outputs": []
    },
    {
      "cell_type": "code",
      "source": [
        "DISPLAY_INTERVAL = 1\n",
        "train_loss, test_loss = [], [] # denotes the mean loss over all samples\n",
        "train_acc, test_acc = [], []\n",
        "for epoch in range(1, NUM_EPOCHS + 1):\n",
        "  total_loss = 0\n",
        "  correct, total = 0, 0\n",
        "  for images, labels in tqdm(train_loader):\n",
        "    # forward + backward + step\n",
        "    optimizer.zero_grad()\n",
        "    images, labels = images.to(device), labels.to(device)\n",
        "    outputs = model(images)\n",
        "    loss = error(outputs, labels)\n",
        "    total_loss += loss.item() * len(outputs)\n",
        "    loss.backward()\n",
        "    optimizer.step()\n",
        "    # accuracy calculation\n",
        "    correct += (torch.argmax(outputs, dim=1) == labels).sum()\n",
        "    total += len(labels)\n",
        "  train_loss.append(total_loss / total)\n",
        "  train_acc.append(correct / total)\n",
        "  # testing loss\n",
        "  with torch.no_grad():\n",
        "    predicted = model(test_X)\n",
        "    loss = error(predicted, test_Y)\n",
        "    test_loss.append(loss.item())\n",
        "    test_acc.append((torch.argmax(predicted, dim=1) == test_Y).sum() / len(test_Y))\n",
        "\n",
        "  if epoch % DISPLAY_INTERVAL == 0:\n",
        "      print(f'Performace at epoch {epoch}')\n",
        "      print(f'Train Loss: {train_loss[-1]:.5f} ; Train Acc: {train_acc[-1]:.5f}')\n",
        "      print(f'Test Loss: {test_loss[-1]:.5f} ; Test Acc: {test_acc[-1]:.5f}')\n",
        "      print('==============')"
      ],
      "metadata": {
        "id": "8fU95QflTBtq",
        "colab": {
          "base_uri": "https://localhost:8080/"
        },
        "outputId": "8b8b5047-f107-4f3e-80d8-d18fa5fbc0d8"
      },
      "execution_count": null,
      "outputs": [
        {
          "output_type": "stream",
          "name": "stderr",
          "text": [
            "100%|██████████| 391/391 [00:06<00:00, 56.30it/s]\n"
          ]
        },
        {
          "output_type": "stream",
          "name": "stdout",
          "text": [
            "Performace at epoch 1\n",
            "Train Loss: 1.87102 ; Train Acc: 0.32952\n",
            "Test Loss: 1.61631 ; Test Acc: 0.39550\n",
            "==============\n"
          ]
        },
        {
          "output_type": "stream",
          "name": "stderr",
          "text": [
            "100%|██████████| 391/391 [00:06<00:00, 56.90it/s]\n"
          ]
        },
        {
          "output_type": "stream",
          "name": "stdout",
          "text": [
            "Performace at epoch 2\n",
            "Train Loss: 1.47382 ; Train Acc: 0.46864\n",
            "Test Loss: 1.41693 ; Test Acc: 0.48709\n",
            "==============\n"
          ]
        },
        {
          "output_type": "stream",
          "name": "stderr",
          "text": [
            "100%|██████████| 391/391 [00:06<00:00, 56.25it/s]\n"
          ]
        },
        {
          "output_type": "stream",
          "name": "stdout",
          "text": [
            "Performace at epoch 3\n",
            "Train Loss: 1.35463 ; Train Acc: 0.51024\n",
            "Test Loss: 1.36963 ; Test Acc: 0.51171\n",
            "==============\n"
          ]
        },
        {
          "output_type": "stream",
          "name": "stderr",
          "text": [
            "100%|██████████| 391/391 [00:06<00:00, 56.93it/s]\n"
          ]
        },
        {
          "output_type": "stream",
          "name": "stdout",
          "text": [
            "Performace at epoch 4\n",
            "Train Loss: 1.27832 ; Train Acc: 0.54244\n",
            "Test Loss: 1.30651 ; Test Acc: 0.52823\n",
            "==============\n"
          ]
        },
        {
          "output_type": "stream",
          "name": "stderr",
          "text": [
            "100%|██████████| 391/391 [00:06<00:00, 56.05it/s]\n"
          ]
        },
        {
          "output_type": "stream",
          "name": "stdout",
          "text": [
            "Performace at epoch 5\n",
            "Train Loss: 1.22576 ; Train Acc: 0.56180\n",
            "Test Loss: 1.26706 ; Test Acc: 0.54835\n",
            "==============\n"
          ]
        },
        {
          "output_type": "stream",
          "name": "stderr",
          "text": [
            "100%|██████████| 391/391 [00:06<00:00, 56.70it/s]\n"
          ]
        },
        {
          "output_type": "stream",
          "name": "stdout",
          "text": [
            "Performace at epoch 6\n",
            "Train Loss: 1.18445 ; Train Acc: 0.57636\n",
            "Test Loss: 1.23158 ; Test Acc: 0.55826\n",
            "==============\n"
          ]
        },
        {
          "output_type": "stream",
          "name": "stderr",
          "text": [
            "100%|██████████| 391/391 [00:06<00:00, 56.26it/s]\n"
          ]
        },
        {
          "output_type": "stream",
          "name": "stdout",
          "text": [
            "Performace at epoch 7\n",
            "Train Loss: 1.14664 ; Train Acc: 0.58876\n",
            "Test Loss: 1.24702 ; Test Acc: 0.55285\n",
            "==============\n"
          ]
        },
        {
          "output_type": "stream",
          "name": "stderr",
          "text": [
            "100%|██████████| 391/391 [00:06<00:00, 56.76it/s]\n"
          ]
        },
        {
          "output_type": "stream",
          "name": "stdout",
          "text": [
            "Performace at epoch 8\n",
            "Train Loss: 1.11495 ; Train Acc: 0.60404\n",
            "Test Loss: 1.19980 ; Test Acc: 0.56517\n",
            "==============\n"
          ]
        },
        {
          "output_type": "stream",
          "name": "stderr",
          "text": [
            "100%|██████████| 391/391 [00:06<00:00, 56.42it/s]\n"
          ]
        },
        {
          "output_type": "stream",
          "name": "stdout",
          "text": [
            "Performace at epoch 9\n",
            "Train Loss: 1.08355 ; Train Acc: 0.61624\n",
            "Test Loss: 1.16958 ; Test Acc: 0.57808\n",
            "==============\n"
          ]
        },
        {
          "output_type": "stream",
          "name": "stderr",
          "text": [
            "100%|██████████| 391/391 [00:06<00:00, 57.37it/s]\n"
          ]
        },
        {
          "output_type": "stream",
          "name": "stdout",
          "text": [
            "Performace at epoch 10\n",
            "Train Loss: 1.05887 ; Train Acc: 0.62312\n",
            "Test Loss: 1.18788 ; Test Acc: 0.57628\n",
            "==============\n"
          ]
        },
        {
          "output_type": "stream",
          "name": "stderr",
          "text": [
            "100%|██████████| 391/391 [00:06<00:00, 59.69it/s]\n"
          ]
        },
        {
          "output_type": "stream",
          "name": "stdout",
          "text": [
            "Performace at epoch 11\n",
            "Train Loss: 1.03195 ; Train Acc: 0.63636\n",
            "Test Loss: 1.17316 ; Test Acc: 0.57387\n",
            "==============\n"
          ]
        },
        {
          "output_type": "stream",
          "name": "stderr",
          "text": [
            "100%|██████████| 391/391 [00:06<00:00, 59.45it/s]\n"
          ]
        },
        {
          "output_type": "stream",
          "name": "stdout",
          "text": [
            "Performace at epoch 12\n",
            "Train Loss: 1.01109 ; Train Acc: 0.64148\n",
            "Test Loss: 1.15413 ; Test Acc: 0.58559\n",
            "==============\n"
          ]
        },
        {
          "output_type": "stream",
          "name": "stderr",
          "text": [
            "100%|██████████| 391/391 [00:06<00:00, 58.45it/s]\n"
          ]
        },
        {
          "output_type": "stream",
          "name": "stdout",
          "text": [
            "Performace at epoch 13\n",
            "Train Loss: 0.99080 ; Train Acc: 0.65012\n",
            "Test Loss: 1.13430 ; Test Acc: 0.59520\n",
            "==============\n"
          ]
        },
        {
          "output_type": "stream",
          "name": "stderr",
          "text": [
            "100%|██████████| 391/391 [00:07<00:00, 55.46it/s]\n"
          ]
        },
        {
          "output_type": "stream",
          "name": "stdout",
          "text": [
            "Performace at epoch 14\n",
            "Train Loss: 0.97094 ; Train Acc: 0.65848\n",
            "Test Loss: 1.12283 ; Test Acc: 0.60360\n",
            "==============\n"
          ]
        },
        {
          "output_type": "stream",
          "name": "stderr",
          "text": [
            "100%|██████████| 391/391 [00:07<00:00, 55.50it/s]\n"
          ]
        },
        {
          "output_type": "stream",
          "name": "stdout",
          "text": [
            "Performace at epoch 15\n",
            "Train Loss: 0.95031 ; Train Acc: 0.66580\n",
            "Test Loss: 1.14283 ; Test Acc: 0.59039\n",
            "==============\n"
          ]
        },
        {
          "output_type": "stream",
          "name": "stderr",
          "text": [
            "100%|██████████| 391/391 [00:07<00:00, 55.63it/s]\n"
          ]
        },
        {
          "output_type": "stream",
          "name": "stdout",
          "text": [
            "Performace at epoch 16\n",
            "Train Loss: 0.93311 ; Train Acc: 0.67328\n",
            "Test Loss: 1.13017 ; Test Acc: 0.59820\n",
            "==============\n"
          ]
        },
        {
          "output_type": "stream",
          "name": "stderr",
          "text": [
            "100%|██████████| 391/391 [00:07<00:00, 55.43it/s]\n"
          ]
        },
        {
          "output_type": "stream",
          "name": "stdout",
          "text": [
            "Performace at epoch 17\n",
            "Train Loss: 0.91510 ; Train Acc: 0.68176\n",
            "Test Loss: 1.12648 ; Test Acc: 0.59369\n",
            "==============\n"
          ]
        },
        {
          "output_type": "stream",
          "name": "stderr",
          "text": [
            "100%|██████████| 391/391 [00:07<00:00, 55.38it/s]\n"
          ]
        },
        {
          "output_type": "stream",
          "name": "stdout",
          "text": [
            "Performace at epoch 18\n",
            "Train Loss: 0.89703 ; Train Acc: 0.68656\n",
            "Test Loss: 1.10919 ; Test Acc: 0.60030\n",
            "==============\n"
          ]
        },
        {
          "output_type": "stream",
          "name": "stderr",
          "text": [
            "100%|██████████| 391/391 [00:07<00:00, 55.20it/s]\n"
          ]
        },
        {
          "output_type": "stream",
          "name": "stdout",
          "text": [
            "Performace at epoch 19\n",
            "Train Loss: 0.88213 ; Train Acc: 0.69220\n",
            "Test Loss: 1.11609 ; Test Acc: 0.60120\n",
            "==============\n"
          ]
        },
        {
          "output_type": "stream",
          "name": "stderr",
          "text": [
            "100%|██████████| 391/391 [00:07<00:00, 54.21it/s]\n"
          ]
        },
        {
          "output_type": "stream",
          "name": "stdout",
          "text": [
            "Performace at epoch 20\n",
            "Train Loss: 0.86529 ; Train Acc: 0.69900\n",
            "Test Loss: 1.09524 ; Test Acc: 0.60631\n",
            "==============\n"
          ]
        },
        {
          "output_type": "stream",
          "name": "stderr",
          "text": [
            "100%|██████████| 391/391 [00:07<00:00, 55.61it/s]\n"
          ]
        },
        {
          "output_type": "stream",
          "name": "stdout",
          "text": [
            "Performace at epoch 21\n",
            "Train Loss: 0.84789 ; Train Acc: 0.70616\n",
            "Test Loss: 1.12310 ; Test Acc: 0.59369\n",
            "==============\n"
          ]
        },
        {
          "output_type": "stream",
          "name": "stderr",
          "text": [
            "100%|██████████| 391/391 [00:07<00:00, 55.13it/s]\n"
          ]
        },
        {
          "output_type": "stream",
          "name": "stdout",
          "text": [
            "Performace at epoch 22\n",
            "Train Loss: 0.83254 ; Train Acc: 0.71260\n",
            "Test Loss: 1.09784 ; Test Acc: 0.60871\n",
            "==============\n"
          ]
        },
        {
          "output_type": "stream",
          "name": "stderr",
          "text": [
            "100%|██████████| 391/391 [00:07<00:00, 54.94it/s]\n"
          ]
        },
        {
          "output_type": "stream",
          "name": "stdout",
          "text": [
            "Performace at epoch 23\n",
            "Train Loss: 0.81926 ; Train Acc: 0.71600\n",
            "Test Loss: 1.09260 ; Test Acc: 0.60931\n",
            "==============\n"
          ]
        },
        {
          "output_type": "stream",
          "name": "stderr",
          "text": [
            "100%|██████████| 391/391 [00:07<00:00, 54.81it/s]\n"
          ]
        },
        {
          "output_type": "stream",
          "name": "stdout",
          "text": [
            "Performace at epoch 24\n",
            "Train Loss: 0.80272 ; Train Acc: 0.72268\n",
            "Test Loss: 1.08408 ; Test Acc: 0.61381\n",
            "==============\n"
          ]
        },
        {
          "output_type": "stream",
          "name": "stderr",
          "text": [
            "100%|██████████| 391/391 [00:07<00:00, 55.35it/s]\n"
          ]
        },
        {
          "output_type": "stream",
          "name": "stdout",
          "text": [
            "Performace at epoch 25\n",
            "Train Loss: 0.78874 ; Train Acc: 0.72868\n",
            "Test Loss: 1.09755 ; Test Acc: 0.61201\n",
            "==============\n"
          ]
        },
        {
          "output_type": "stream",
          "name": "stderr",
          "text": [
            "100%|██████████| 391/391 [00:07<00:00, 55.47it/s]\n"
          ]
        },
        {
          "output_type": "stream",
          "name": "stdout",
          "text": [
            "Performace at epoch 26\n",
            "Train Loss: 0.77673 ; Train Acc: 0.73128\n",
            "Test Loss: 1.10158 ; Test Acc: 0.61081\n",
            "==============\n"
          ]
        },
        {
          "output_type": "stream",
          "name": "stderr",
          "text": [
            "100%|██████████| 391/391 [00:07<00:00, 55.01it/s]\n"
          ]
        },
        {
          "output_type": "stream",
          "name": "stdout",
          "text": [
            "Performace at epoch 27\n",
            "Train Loss: 0.76245 ; Train Acc: 0.73924\n",
            "Test Loss: 1.09101 ; Test Acc: 0.61622\n",
            "==============\n"
          ]
        },
        {
          "output_type": "stream",
          "name": "stderr",
          "text": [
            "100%|██████████| 391/391 [00:07<00:00, 54.71it/s]\n"
          ]
        },
        {
          "output_type": "stream",
          "name": "stdout",
          "text": [
            "Performace at epoch 28\n",
            "Train Loss: 0.74750 ; Train Acc: 0.74208\n",
            "Test Loss: 1.10238 ; Test Acc: 0.61652\n",
            "==============\n"
          ]
        },
        {
          "output_type": "stream",
          "name": "stderr",
          "text": [
            "100%|██████████| 391/391 [00:07<00:00, 55.19it/s]\n"
          ]
        },
        {
          "output_type": "stream",
          "name": "stdout",
          "text": [
            "Performace at epoch 29\n",
            "Train Loss: 0.73516 ; Train Acc: 0.74788\n",
            "Test Loss: 1.11104 ; Test Acc: 0.61111\n",
            "==============\n"
          ]
        },
        {
          "output_type": "stream",
          "name": "stderr",
          "text": [
            "100%|██████████| 391/391 [00:07<00:00, 55.24it/s]\n"
          ]
        },
        {
          "output_type": "stream",
          "name": "stdout",
          "text": [
            "Performace at epoch 30\n",
            "Train Loss: 0.72159 ; Train Acc: 0.75060\n",
            "Test Loss: 1.08352 ; Test Acc: 0.62643\n",
            "==============\n"
          ]
        },
        {
          "output_type": "stream",
          "name": "stderr",
          "text": [
            "100%|██████████| 391/391 [00:06<00:00, 55.89it/s]\n"
          ]
        },
        {
          "output_type": "stream",
          "name": "stdout",
          "text": [
            "Performace at epoch 31\n",
            "Train Loss: 0.70742 ; Train Acc: 0.75740\n",
            "Test Loss: 1.09623 ; Test Acc: 0.61982\n",
            "==============\n"
          ]
        },
        {
          "output_type": "stream",
          "name": "stderr",
          "text": [
            "100%|██████████| 391/391 [00:07<00:00, 55.47it/s]\n"
          ]
        },
        {
          "output_type": "stream",
          "name": "stdout",
          "text": [
            "Performace at epoch 32\n",
            "Train Loss: 0.69608 ; Train Acc: 0.76052\n",
            "Test Loss: 1.08375 ; Test Acc: 0.62162\n",
            "==============\n"
          ]
        },
        {
          "output_type": "stream",
          "name": "stderr",
          "text": [
            "100%|██████████| 391/391 [00:07<00:00, 55.25it/s]\n"
          ]
        },
        {
          "output_type": "stream",
          "name": "stdout",
          "text": [
            "Performace at epoch 33\n",
            "Train Loss: 0.68383 ; Train Acc: 0.76732\n",
            "Test Loss: 1.08288 ; Test Acc: 0.62372\n",
            "==============\n"
          ]
        },
        {
          "output_type": "stream",
          "name": "stderr",
          "text": [
            "100%|██████████| 391/391 [00:07<00:00, 55.63it/s]\n"
          ]
        },
        {
          "output_type": "stream",
          "name": "stdout",
          "text": [
            "Performace at epoch 34\n",
            "Train Loss: 0.67150 ; Train Acc: 0.77260\n",
            "Test Loss: 1.08113 ; Test Acc: 0.62192\n",
            "==============\n"
          ]
        },
        {
          "output_type": "stream",
          "name": "stderr",
          "text": [
            "100%|██████████| 391/391 [00:06<00:00, 56.82it/s]\n"
          ]
        },
        {
          "output_type": "stream",
          "name": "stdout",
          "text": [
            "Performace at epoch 35\n",
            "Train Loss: 0.65952 ; Train Acc: 0.77556\n",
            "Test Loss: 1.12294 ; Test Acc: 0.61532\n",
            "==============\n"
          ]
        },
        {
          "output_type": "stream",
          "name": "stderr",
          "text": [
            "100%|██████████| 391/391 [00:07<00:00, 55.36it/s]\n"
          ]
        },
        {
          "output_type": "stream",
          "name": "stdout",
          "text": [
            "Performace at epoch 36\n",
            "Train Loss: 0.64707 ; Train Acc: 0.77972\n",
            "Test Loss: 1.08464 ; Test Acc: 0.62072\n",
            "==============\n"
          ]
        },
        {
          "output_type": "stream",
          "name": "stderr",
          "text": [
            "100%|██████████| 391/391 [00:07<00:00, 55.31it/s]\n"
          ]
        },
        {
          "output_type": "stream",
          "name": "stdout",
          "text": [
            "Performace at epoch 37\n",
            "Train Loss: 0.63599 ; Train Acc: 0.78604\n",
            "Test Loss: 1.11209 ; Test Acc: 0.61772\n",
            "==============\n"
          ]
        },
        {
          "output_type": "stream",
          "name": "stderr",
          "text": [
            "100%|██████████| 391/391 [00:07<00:00, 55.25it/s]\n"
          ]
        },
        {
          "output_type": "stream",
          "name": "stdout",
          "text": [
            "Performace at epoch 38\n",
            "Train Loss: 0.62226 ; Train Acc: 0.79172\n",
            "Test Loss: 1.12032 ; Test Acc: 0.62372\n",
            "==============\n"
          ]
        },
        {
          "output_type": "stream",
          "name": "stderr",
          "text": [
            "100%|██████████| 391/391 [00:06<00:00, 55.99it/s]\n"
          ]
        },
        {
          "output_type": "stream",
          "name": "stdout",
          "text": [
            "Performace at epoch 39\n",
            "Train Loss: 0.61316 ; Train Acc: 0.79412\n",
            "Test Loss: 1.11443 ; Test Acc: 0.61592\n",
            "==============\n"
          ]
        },
        {
          "output_type": "stream",
          "name": "stderr",
          "text": [
            "100%|██████████| 391/391 [00:06<00:00, 56.59it/s]\n"
          ]
        },
        {
          "output_type": "stream",
          "name": "stdout",
          "text": [
            "Performace at epoch 40\n",
            "Train Loss: 0.60238 ; Train Acc: 0.79832\n",
            "Test Loss: 1.13363 ; Test Acc: 0.62072\n",
            "==============\n"
          ]
        },
        {
          "output_type": "stream",
          "name": "stderr",
          "text": [
            "100%|██████████| 391/391 [00:07<00:00, 54.84it/s]\n"
          ]
        },
        {
          "output_type": "stream",
          "name": "stdout",
          "text": [
            "Performace at epoch 41\n",
            "Train Loss: 0.58986 ; Train Acc: 0.80472\n",
            "Test Loss: 1.10769 ; Test Acc: 0.62042\n",
            "==============\n"
          ]
        },
        {
          "output_type": "stream",
          "name": "stderr",
          "text": [
            "100%|██████████| 391/391 [00:07<00:00, 54.37it/s]\n"
          ]
        },
        {
          "output_type": "stream",
          "name": "stdout",
          "text": [
            "Performace at epoch 42\n",
            "Train Loss: 0.57868 ; Train Acc: 0.81052\n",
            "Test Loss: 1.10837 ; Test Acc: 0.62342\n",
            "==============\n"
          ]
        },
        {
          "output_type": "stream",
          "name": "stderr",
          "text": [
            "100%|██████████| 391/391 [00:07<00:00, 54.02it/s]\n"
          ]
        },
        {
          "output_type": "stream",
          "name": "stdout",
          "text": [
            "Performace at epoch 43\n",
            "Train Loss: 0.56721 ; Train Acc: 0.81252\n",
            "Test Loss: 1.12285 ; Test Acc: 0.62192\n",
            "==============\n"
          ]
        },
        {
          "output_type": "stream",
          "name": "stderr",
          "text": [
            "100%|██████████| 391/391 [00:07<00:00, 54.29it/s]\n"
          ]
        },
        {
          "output_type": "stream",
          "name": "stdout",
          "text": [
            "Performace at epoch 44\n",
            "Train Loss: 0.55768 ; Train Acc: 0.81588\n",
            "Test Loss: 1.15957 ; Test Acc: 0.61321\n",
            "==============\n"
          ]
        },
        {
          "output_type": "stream",
          "name": "stderr",
          "text": [
            "100%|██████████| 391/391 [00:07<00:00, 54.12it/s]\n"
          ]
        },
        {
          "output_type": "stream",
          "name": "stdout",
          "text": [
            "Performace at epoch 45\n",
            "Train Loss: 0.54850 ; Train Acc: 0.82196\n",
            "Test Loss: 1.11799 ; Test Acc: 0.62613\n",
            "==============\n"
          ]
        },
        {
          "output_type": "stream",
          "name": "stderr",
          "text": [
            "100%|██████████| 391/391 [00:07<00:00, 55.15it/s]\n"
          ]
        },
        {
          "output_type": "stream",
          "name": "stdout",
          "text": [
            "Performace at epoch 46\n",
            "Train Loss: 0.53500 ; Train Acc: 0.82584\n",
            "Test Loss: 1.13582 ; Test Acc: 0.62192\n",
            "==============\n"
          ]
        },
        {
          "output_type": "stream",
          "name": "stderr",
          "text": [
            "100%|██████████| 391/391 [00:07<00:00, 54.39it/s]\n"
          ]
        },
        {
          "output_type": "stream",
          "name": "stdout",
          "text": [
            "Performace at epoch 47\n",
            "Train Loss: 0.52703 ; Train Acc: 0.82992\n",
            "Test Loss: 1.16564 ; Test Acc: 0.61802\n",
            "==============\n"
          ]
        },
        {
          "output_type": "stream",
          "name": "stderr",
          "text": [
            "100%|██████████| 391/391 [00:07<00:00, 55.10it/s]\n"
          ]
        },
        {
          "output_type": "stream",
          "name": "stdout",
          "text": [
            "Performace at epoch 48\n",
            "Train Loss: 0.51701 ; Train Acc: 0.83208\n",
            "Test Loss: 1.14472 ; Test Acc: 0.61922\n",
            "==============\n"
          ]
        },
        {
          "output_type": "stream",
          "name": "stderr",
          "text": [
            "100%|██████████| 391/391 [00:07<00:00, 53.90it/s]\n"
          ]
        },
        {
          "output_type": "stream",
          "name": "stdout",
          "text": [
            "Performace at epoch 49\n",
            "Train Loss: 0.50699 ; Train Acc: 0.83588\n",
            "Test Loss: 1.13168 ; Test Acc: 0.62673\n",
            "==============\n"
          ]
        },
        {
          "output_type": "stream",
          "name": "stderr",
          "text": [
            "100%|██████████| 391/391 [00:07<00:00, 55.10it/s]\n"
          ]
        },
        {
          "output_type": "stream",
          "name": "stdout",
          "text": [
            "Performace at epoch 50\n",
            "Train Loss: 0.49533 ; Train Acc: 0.84072\n",
            "Test Loss: 1.15741 ; Test Acc: 0.62222\n",
            "==============\n"
          ]
        },
        {
          "output_type": "stream",
          "name": "stderr",
          "text": [
            "100%|██████████| 391/391 [00:07<00:00, 55.10it/s]\n"
          ]
        },
        {
          "output_type": "stream",
          "name": "stdout",
          "text": [
            "Performace at epoch 51\n",
            "Train Loss: 0.48811 ; Train Acc: 0.84392\n",
            "Test Loss: 1.14945 ; Test Acc: 0.62462\n",
            "==============\n"
          ]
        },
        {
          "output_type": "stream",
          "name": "stderr",
          "text": [
            "100%|██████████| 391/391 [00:07<00:00, 54.02it/s]\n"
          ]
        },
        {
          "output_type": "stream",
          "name": "stdout",
          "text": [
            "Performace at epoch 52\n",
            "Train Loss: 0.47915 ; Train Acc: 0.84836\n",
            "Test Loss: 1.16945 ; Test Acc: 0.61532\n",
            "==============\n"
          ]
        },
        {
          "output_type": "stream",
          "name": "stderr",
          "text": [
            "100%|██████████| 391/391 [00:07<00:00, 55.26it/s]\n"
          ]
        },
        {
          "output_type": "stream",
          "name": "stdout",
          "text": [
            "Performace at epoch 53\n",
            "Train Loss: 0.47024 ; Train Acc: 0.85120\n",
            "Test Loss: 1.16495 ; Test Acc: 0.62252\n",
            "==============\n"
          ]
        },
        {
          "output_type": "stream",
          "name": "stderr",
          "text": [
            "100%|██████████| 391/391 [00:07<00:00, 54.99it/s]\n"
          ]
        },
        {
          "output_type": "stream",
          "name": "stdout",
          "text": [
            "Performace at epoch 54\n",
            "Train Loss: 0.46058 ; Train Acc: 0.85468\n",
            "Test Loss: 1.16522 ; Test Acc: 0.62402\n",
            "==============\n"
          ]
        },
        {
          "output_type": "stream",
          "name": "stderr",
          "text": [
            "100%|██████████| 391/391 [00:07<00:00, 55.00it/s]\n"
          ]
        },
        {
          "output_type": "stream",
          "name": "stdout",
          "text": [
            "Performace at epoch 55\n",
            "Train Loss: 0.45183 ; Train Acc: 0.85804\n",
            "Test Loss: 1.18583 ; Test Acc: 0.61862\n",
            "==============\n"
          ]
        },
        {
          "output_type": "stream",
          "name": "stderr",
          "text": [
            "100%|██████████| 391/391 [00:07<00:00, 54.75it/s]\n"
          ]
        },
        {
          "output_type": "stream",
          "name": "stdout",
          "text": [
            "Performace at epoch 56\n",
            "Train Loss: 0.44285 ; Train Acc: 0.86264\n",
            "Test Loss: 1.15590 ; Test Acc: 0.62973\n",
            "==============\n"
          ]
        },
        {
          "output_type": "stream",
          "name": "stderr",
          "text": [
            "100%|██████████| 391/391 [00:07<00:00, 54.90it/s]\n"
          ]
        },
        {
          "output_type": "stream",
          "name": "stdout",
          "text": [
            "Performace at epoch 57\n",
            "Train Loss: 0.43452 ; Train Acc: 0.86608\n",
            "Test Loss: 1.15788 ; Test Acc: 0.62432\n",
            "==============\n"
          ]
        },
        {
          "output_type": "stream",
          "name": "stderr",
          "text": [
            "100%|██████████| 391/391 [00:07<00:00, 54.80it/s]\n"
          ]
        },
        {
          "output_type": "stream",
          "name": "stdout",
          "text": [
            "Performace at epoch 58\n",
            "Train Loss: 0.42464 ; Train Acc: 0.86808\n",
            "Test Loss: 1.16877 ; Test Acc: 0.63033\n",
            "==============\n"
          ]
        },
        {
          "output_type": "stream",
          "name": "stderr",
          "text": [
            "100%|██████████| 391/391 [00:07<00:00, 54.67it/s]\n"
          ]
        },
        {
          "output_type": "stream",
          "name": "stdout",
          "text": [
            "Performace at epoch 59\n",
            "Train Loss: 0.41671 ; Train Acc: 0.87360\n",
            "Test Loss: 1.18880 ; Test Acc: 0.62583\n",
            "==============\n"
          ]
        },
        {
          "output_type": "stream",
          "name": "stderr",
          "text": [
            "100%|██████████| 391/391 [00:07<00:00, 54.87it/s]\n"
          ]
        },
        {
          "output_type": "stream",
          "name": "stdout",
          "text": [
            "Performace at epoch 60\n",
            "Train Loss: 0.40811 ; Train Acc: 0.87740\n",
            "Test Loss: 1.20750 ; Test Acc: 0.61982\n",
            "==============\n"
          ]
        },
        {
          "output_type": "stream",
          "name": "stderr",
          "text": [
            "100%|██████████| 391/391 [00:07<00:00, 54.15it/s]\n"
          ]
        },
        {
          "output_type": "stream",
          "name": "stdout",
          "text": [
            "Performace at epoch 61\n",
            "Train Loss: 0.39842 ; Train Acc: 0.88004\n",
            "Test Loss: 1.20547 ; Test Acc: 0.62402\n",
            "==============\n"
          ]
        },
        {
          "output_type": "stream",
          "name": "stderr",
          "text": [
            "100%|██████████| 391/391 [00:07<00:00, 53.79it/s]\n"
          ]
        },
        {
          "output_type": "stream",
          "name": "stdout",
          "text": [
            "Performace at epoch 62\n",
            "Train Loss: 0.39186 ; Train Acc: 0.88308\n",
            "Test Loss: 1.20171 ; Test Acc: 0.62102\n",
            "==============\n"
          ]
        },
        {
          "output_type": "stream",
          "name": "stderr",
          "text": [
            "100%|██████████| 391/391 [00:07<00:00, 54.77it/s]\n"
          ]
        },
        {
          "output_type": "stream",
          "name": "stdout",
          "text": [
            "Performace at epoch 63\n",
            "Train Loss: 0.38409 ; Train Acc: 0.88380\n",
            "Test Loss: 1.20448 ; Test Acc: 0.62703\n",
            "==============\n"
          ]
        },
        {
          "output_type": "stream",
          "name": "stderr",
          "text": [
            "100%|██████████| 391/391 [00:07<00:00, 54.86it/s]\n"
          ]
        },
        {
          "output_type": "stream",
          "name": "stdout",
          "text": [
            "Performace at epoch 64\n",
            "Train Loss: 0.37662 ; Train Acc: 0.88928\n",
            "Test Loss: 1.20697 ; Test Acc: 0.61982\n",
            "==============\n"
          ]
        },
        {
          "output_type": "stream",
          "name": "stderr",
          "text": [
            "100%|██████████| 391/391 [00:07<00:00, 54.84it/s]\n"
          ]
        },
        {
          "output_type": "stream",
          "name": "stdout",
          "text": [
            "Performace at epoch 65\n",
            "Train Loss: 0.36922 ; Train Acc: 0.89216\n",
            "Test Loss: 1.21858 ; Test Acc: 0.62523\n",
            "==============\n"
          ]
        },
        {
          "output_type": "stream",
          "name": "stderr",
          "text": [
            "100%|██████████| 391/391 [00:07<00:00, 55.11it/s]\n"
          ]
        },
        {
          "output_type": "stream",
          "name": "stdout",
          "text": [
            "Performace at epoch 66\n",
            "Train Loss: 0.36205 ; Train Acc: 0.89580\n",
            "Test Loss: 1.27946 ; Test Acc: 0.61291\n",
            "==============\n"
          ]
        },
        {
          "output_type": "stream",
          "name": "stderr",
          "text": [
            "100%|██████████| 391/391 [00:07<00:00, 54.88it/s]\n"
          ]
        },
        {
          "output_type": "stream",
          "name": "stdout",
          "text": [
            "Performace at epoch 67\n",
            "Train Loss: 0.35327 ; Train Acc: 0.89808\n",
            "Test Loss: 1.25373 ; Test Acc: 0.61862\n",
            "==============\n"
          ]
        },
        {
          "output_type": "stream",
          "name": "stderr",
          "text": [
            "100%|██████████| 391/391 [00:07<00:00, 54.79it/s]\n"
          ]
        },
        {
          "output_type": "stream",
          "name": "stdout",
          "text": [
            "Performace at epoch 68\n",
            "Train Loss: 0.34630 ; Train Acc: 0.90160\n",
            "Test Loss: 1.23980 ; Test Acc: 0.62192\n",
            "==============\n"
          ]
        },
        {
          "output_type": "stream",
          "name": "stderr",
          "text": [
            "100%|██████████| 391/391 [00:07<00:00, 55.23it/s]\n"
          ]
        },
        {
          "output_type": "stream",
          "name": "stdout",
          "text": [
            "Performace at epoch 69\n",
            "Train Loss: 0.33764 ; Train Acc: 0.90468\n",
            "Test Loss: 1.23399 ; Test Acc: 0.62763\n",
            "==============\n"
          ]
        },
        {
          "output_type": "stream",
          "name": "stderr",
          "text": [
            "100%|██████████| 391/391 [00:07<00:00, 55.01it/s]\n"
          ]
        },
        {
          "output_type": "stream",
          "name": "stdout",
          "text": [
            "Performace at epoch 70\n",
            "Train Loss: 0.33187 ; Train Acc: 0.90700\n",
            "Test Loss: 1.23355 ; Test Acc: 0.62523\n",
            "==============\n"
          ]
        },
        {
          "output_type": "stream",
          "name": "stderr",
          "text": [
            "100%|██████████| 391/391 [00:07<00:00, 55.55it/s]\n"
          ]
        },
        {
          "output_type": "stream",
          "name": "stdout",
          "text": [
            "Performace at epoch 71\n",
            "Train Loss: 0.32323 ; Train Acc: 0.91068\n",
            "Test Loss: 1.26565 ; Test Acc: 0.62402\n",
            "==============\n"
          ]
        },
        {
          "output_type": "stream",
          "name": "stderr",
          "text": [
            "100%|██████████| 391/391 [00:07<00:00, 54.43it/s]\n"
          ]
        },
        {
          "output_type": "stream",
          "name": "stdout",
          "text": [
            "Performace at epoch 72\n",
            "Train Loss: 0.31757 ; Train Acc: 0.91312\n",
            "Test Loss: 1.27314 ; Test Acc: 0.62252\n",
            "==============\n"
          ]
        },
        {
          "output_type": "stream",
          "name": "stderr",
          "text": [
            "100%|██████████| 391/391 [00:06<00:00, 56.13it/s]\n"
          ]
        },
        {
          "output_type": "stream",
          "name": "stdout",
          "text": [
            "Performace at epoch 73\n",
            "Train Loss: 0.31182 ; Train Acc: 0.91520\n",
            "Test Loss: 1.30277 ; Test Acc: 0.61381\n",
            "==============\n"
          ]
        },
        {
          "output_type": "stream",
          "name": "stderr",
          "text": [
            "100%|██████████| 391/391 [00:07<00:00, 54.02it/s]\n"
          ]
        },
        {
          "output_type": "stream",
          "name": "stdout",
          "text": [
            "Performace at epoch 74\n",
            "Train Loss: 0.30522 ; Train Acc: 0.91724\n",
            "Test Loss: 1.27121 ; Test Acc: 0.61952\n",
            "==============\n"
          ]
        },
        {
          "output_type": "stream",
          "name": "stderr",
          "text": [
            "100%|██████████| 391/391 [00:07<00:00, 55.09it/s]\n"
          ]
        },
        {
          "output_type": "stream",
          "name": "stdout",
          "text": [
            "Performace at epoch 75\n",
            "Train Loss: 0.29768 ; Train Acc: 0.92228\n",
            "Test Loss: 1.28473 ; Test Acc: 0.61862\n",
            "==============\n"
          ]
        },
        {
          "output_type": "stream",
          "name": "stderr",
          "text": [
            "100%|██████████| 391/391 [00:07<00:00, 54.35it/s]\n"
          ]
        },
        {
          "output_type": "stream",
          "name": "stdout",
          "text": [
            "Performace at epoch 76\n",
            "Train Loss: 0.29185 ; Train Acc: 0.92444\n",
            "Test Loss: 1.28314 ; Test Acc: 0.62462\n",
            "==============\n"
          ]
        },
        {
          "output_type": "stream",
          "name": "stderr",
          "text": [
            "100%|██████████| 391/391 [00:07<00:00, 54.66it/s]\n"
          ]
        },
        {
          "output_type": "stream",
          "name": "stdout",
          "text": [
            "Performace at epoch 77\n",
            "Train Loss: 0.28511 ; Train Acc: 0.92688\n",
            "Test Loss: 1.29351 ; Test Acc: 0.62102\n",
            "==============\n"
          ]
        },
        {
          "output_type": "stream",
          "name": "stderr",
          "text": [
            "100%|██████████| 391/391 [00:07<00:00, 54.98it/s]\n"
          ]
        },
        {
          "output_type": "stream",
          "name": "stdout",
          "text": [
            "Performace at epoch 78\n",
            "Train Loss: 0.27895 ; Train Acc: 0.92948\n",
            "Test Loss: 1.31490 ; Test Acc: 0.61291\n",
            "==============\n"
          ]
        },
        {
          "output_type": "stream",
          "name": "stderr",
          "text": [
            "100%|██████████| 391/391 [00:07<00:00, 55.02it/s]\n"
          ]
        },
        {
          "output_type": "stream",
          "name": "stdout",
          "text": [
            "Performace at epoch 79\n",
            "Train Loss: 0.27339 ; Train Acc: 0.93188\n",
            "Test Loss: 1.30250 ; Test Acc: 0.62462\n",
            "==============\n"
          ]
        },
        {
          "output_type": "stream",
          "name": "stderr",
          "text": [
            "100%|██████████| 391/391 [00:07<00:00, 54.75it/s]\n"
          ]
        },
        {
          "output_type": "stream",
          "name": "stdout",
          "text": [
            "Performace at epoch 80\n",
            "Train Loss: 0.26632 ; Train Acc: 0.93388\n",
            "Test Loss: 1.30715 ; Test Acc: 0.62402\n",
            "==============\n"
          ]
        },
        {
          "output_type": "stream",
          "name": "stderr",
          "text": [
            "100%|██████████| 391/391 [00:07<00:00, 54.82it/s]\n"
          ]
        },
        {
          "output_type": "stream",
          "name": "stdout",
          "text": [
            "Performace at epoch 81\n",
            "Train Loss: 0.26039 ; Train Acc: 0.93592\n",
            "Test Loss: 1.31075 ; Test Acc: 0.62042\n",
            "==============\n"
          ]
        },
        {
          "output_type": "stream",
          "name": "stderr",
          "text": [
            "100%|██████████| 391/391 [00:07<00:00, 54.80it/s]\n"
          ]
        },
        {
          "output_type": "stream",
          "name": "stdout",
          "text": [
            "Performace at epoch 82\n",
            "Train Loss: 0.25445 ; Train Acc: 0.93828\n",
            "Test Loss: 1.31960 ; Test Acc: 0.62733\n",
            "==============\n"
          ]
        },
        {
          "output_type": "stream",
          "name": "stderr",
          "text": [
            "100%|██████████| 391/391 [00:07<00:00, 54.15it/s]\n"
          ]
        },
        {
          "output_type": "stream",
          "name": "stdout",
          "text": [
            "Performace at epoch 83\n",
            "Train Loss: 0.25010 ; Train Acc: 0.93984\n",
            "Test Loss: 1.32315 ; Test Acc: 0.62252\n",
            "==============\n"
          ]
        },
        {
          "output_type": "stream",
          "name": "stderr",
          "text": [
            "100%|██████████| 391/391 [00:07<00:00, 54.91it/s]\n"
          ]
        },
        {
          "output_type": "stream",
          "name": "stdout",
          "text": [
            "Performace at epoch 84\n",
            "Train Loss: 0.24435 ; Train Acc: 0.94316\n",
            "Test Loss: 1.36388 ; Test Acc: 0.61562\n",
            "==============\n"
          ]
        },
        {
          "output_type": "stream",
          "name": "stderr",
          "text": [
            "100%|██████████| 391/391 [00:07<00:00, 54.51it/s]\n"
          ]
        },
        {
          "output_type": "stream",
          "name": "stdout",
          "text": [
            "Performace at epoch 85\n",
            "Train Loss: 0.23864 ; Train Acc: 0.94532\n",
            "Test Loss: 1.34784 ; Test Acc: 0.62312\n",
            "==============\n"
          ]
        },
        {
          "output_type": "stream",
          "name": "stderr",
          "text": [
            "100%|██████████| 391/391 [00:07<00:00, 54.83it/s]\n"
          ]
        },
        {
          "output_type": "stream",
          "name": "stdout",
          "text": [
            "Performace at epoch 86\n",
            "Train Loss: 0.23313 ; Train Acc: 0.94708\n",
            "Test Loss: 1.34071 ; Test Acc: 0.61952\n",
            "==============\n"
          ]
        },
        {
          "output_type": "stream",
          "name": "stderr",
          "text": [
            "100%|██████████| 391/391 [00:07<00:00, 54.64it/s]\n"
          ]
        },
        {
          "output_type": "stream",
          "name": "stdout",
          "text": [
            "Performace at epoch 87\n",
            "Train Loss: 0.22829 ; Train Acc: 0.94968\n",
            "Test Loss: 1.37224 ; Test Acc: 0.61592\n",
            "==============\n"
          ]
        },
        {
          "output_type": "stream",
          "name": "stderr",
          "text": [
            "100%|██████████| 391/391 [00:07<00:00, 54.34it/s]\n"
          ]
        },
        {
          "output_type": "stream",
          "name": "stdout",
          "text": [
            "Performace at epoch 88\n",
            "Train Loss: 0.22225 ; Train Acc: 0.95012\n",
            "Test Loss: 1.37329 ; Test Acc: 0.61892\n",
            "==============\n"
          ]
        },
        {
          "output_type": "stream",
          "name": "stderr",
          "text": [
            "100%|██████████| 391/391 [00:07<00:00, 54.02it/s]\n"
          ]
        },
        {
          "output_type": "stream",
          "name": "stdout",
          "text": [
            "Performace at epoch 89\n",
            "Train Loss: 0.21790 ; Train Acc: 0.95296\n",
            "Test Loss: 1.37236 ; Test Acc: 0.61802\n",
            "==============\n"
          ]
        },
        {
          "output_type": "stream",
          "name": "stderr",
          "text": [
            "100%|██████████| 391/391 [00:07<00:00, 54.31it/s]\n"
          ]
        },
        {
          "output_type": "stream",
          "name": "stdout",
          "text": [
            "Performace at epoch 90\n",
            "Train Loss: 0.21339 ; Train Acc: 0.95416\n",
            "Test Loss: 1.37700 ; Test Acc: 0.62523\n",
            "==============\n"
          ]
        },
        {
          "output_type": "stream",
          "name": "stderr",
          "text": [
            "100%|██████████| 391/391 [00:07<00:00, 55.09it/s]\n"
          ]
        },
        {
          "output_type": "stream",
          "name": "stdout",
          "text": [
            "Performace at epoch 91\n",
            "Train Loss: 0.20873 ; Train Acc: 0.95528\n",
            "Test Loss: 1.38635 ; Test Acc: 0.62132\n",
            "==============\n"
          ]
        },
        {
          "output_type": "stream",
          "name": "stderr",
          "text": [
            "100%|██████████| 391/391 [00:07<00:00, 54.69it/s]\n"
          ]
        },
        {
          "output_type": "stream",
          "name": "stdout",
          "text": [
            "Performace at epoch 92\n",
            "Train Loss: 0.20420 ; Train Acc: 0.95844\n",
            "Test Loss: 1.40622 ; Test Acc: 0.62492\n",
            "==============\n"
          ]
        },
        {
          "output_type": "stream",
          "name": "stderr",
          "text": [
            "100%|██████████| 391/391 [00:07<00:00, 54.62it/s]\n"
          ]
        },
        {
          "output_type": "stream",
          "name": "stdout",
          "text": [
            "Performace at epoch 93\n",
            "Train Loss: 0.19788 ; Train Acc: 0.96104\n",
            "Test Loss: 1.40753 ; Test Acc: 0.61682\n",
            "==============\n"
          ]
        },
        {
          "output_type": "stream",
          "name": "stderr",
          "text": [
            "100%|██████████| 391/391 [00:07<00:00, 55.45it/s]\n"
          ]
        },
        {
          "output_type": "stream",
          "name": "stdout",
          "text": [
            "Performace at epoch 94\n",
            "Train Loss: 0.19397 ; Train Acc: 0.96136\n",
            "Test Loss: 1.40838 ; Test Acc: 0.61772\n",
            "==============\n"
          ]
        },
        {
          "output_type": "stream",
          "name": "stderr",
          "text": [
            "100%|██████████| 391/391 [00:07<00:00, 54.84it/s]\n"
          ]
        },
        {
          "output_type": "stream",
          "name": "stdout",
          "text": [
            "Performace at epoch 95\n",
            "Train Loss: 0.19014 ; Train Acc: 0.96352\n",
            "Test Loss: 1.41818 ; Test Acc: 0.61982\n",
            "==============\n"
          ]
        },
        {
          "output_type": "stream",
          "name": "stderr",
          "text": [
            "100%|██████████| 391/391 [00:07<00:00, 55.33it/s]\n"
          ]
        },
        {
          "output_type": "stream",
          "name": "stdout",
          "text": [
            "Performace at epoch 96\n",
            "Train Loss: 0.18543 ; Train Acc: 0.96384\n",
            "Test Loss: 1.43006 ; Test Acc: 0.62162\n",
            "==============\n"
          ]
        },
        {
          "output_type": "stream",
          "name": "stderr",
          "text": [
            "100%|██████████| 391/391 [00:07<00:00, 54.24it/s]\n"
          ]
        },
        {
          "output_type": "stream",
          "name": "stdout",
          "text": [
            "Performace at epoch 97\n",
            "Train Loss: 0.18144 ; Train Acc: 0.96476\n",
            "Test Loss: 1.43206 ; Test Acc: 0.62192\n",
            "==============\n"
          ]
        },
        {
          "output_type": "stream",
          "name": "stderr",
          "text": [
            "100%|██████████| 391/391 [00:07<00:00, 54.59it/s]\n"
          ]
        },
        {
          "output_type": "stream",
          "name": "stdout",
          "text": [
            "Performace at epoch 98\n",
            "Train Loss: 0.17667 ; Train Acc: 0.96732\n",
            "Test Loss: 1.45041 ; Test Acc: 0.61712\n",
            "==============\n"
          ]
        },
        {
          "output_type": "stream",
          "name": "stderr",
          "text": [
            "100%|██████████| 391/391 [00:07<00:00, 54.85it/s]\n"
          ]
        },
        {
          "output_type": "stream",
          "name": "stdout",
          "text": [
            "Performace at epoch 99\n",
            "Train Loss: 0.17298 ; Train Acc: 0.96848\n",
            "Test Loss: 1.45425 ; Test Acc: 0.62102\n",
            "==============\n"
          ]
        },
        {
          "output_type": "stream",
          "name": "stderr",
          "text": [
            "100%|██████████| 391/391 [00:07<00:00, 54.41it/s]\n"
          ]
        },
        {
          "output_type": "stream",
          "name": "stdout",
          "text": [
            "Performace at epoch 100\n",
            "Train Loss: 0.16871 ; Train Acc: 0.97056\n",
            "Test Loss: 1.46684 ; Test Acc: 0.61742\n",
            "==============\n"
          ]
        }
      ]
    },
    {
      "cell_type": "code",
      "source": [
        "# plot loss\n",
        "plt.plot(range(1, len(train_loss) + 1), train_loss, label='train loss')\n",
        "plt.plot(range(1, len(test_loss) + 1), test_loss, label='test loss')\n",
        "plt.xlabel('epochs')\n",
        "plt.ylabel('loss')\n",
        "plt.title('loss vs epochs')\n",
        "plt.legend()\n",
        "plt.show()"
      ],
      "metadata": {
        "id": "Fchiqj5YTCiV",
        "colab": {
          "base_uri": "https://localhost:8080/",
          "height": 295
        },
        "outputId": "7cee09f4-25d1-4604-b8cc-56b40ca6b5e6"
      },
      "execution_count": null,
      "outputs": [
        {
          "output_type": "display_data",
          "data": {
            "image/png": "[encoded data removed]",
            "text/plain": [
              "<Figure size 432x288 with 1 Axes>"
            ]
          },
          "metadata": {
            "needs_background": "light"
          }
        }
      ]
    },
    {
      "cell_type": "code",
      "source": [
        "# plot acc\n",
        "plt.plot(range(1, NUM_EPOCHS + 1), train_acc, label='train acc')\n",
        "plt.plot(range(1, NUM_EPOCHS + 1), test_acc, label='test acc')\n",
        "plt.xlabel('epochs')\n",
        "plt.ylabel('acc')\n",
        "plt.title('acc vs epochs')\n",
        "plt.legend()\n",
        "plt.show()"
      ],
      "metadata": {
        "id": "J_9clrnXTEY_",
        "colab": {
          "base_uri": "https://localhost:8080/",
          "height": 295
        },
        "outputId": "06945cee-1985-4125-b430-318b7cdd9a92"
      },
      "execution_count": null,
      "outputs": [
        {
          "output_type": "display_data",
          "data": {
            "image/png": "[encoded data removed]",
            "text/plain": [
              "<Figure size 432x288 with 1 Axes>"
            ]
          },
          "metadata": {
            "needs_background": "light"
          }
        }
      ]
    }
  ]
}