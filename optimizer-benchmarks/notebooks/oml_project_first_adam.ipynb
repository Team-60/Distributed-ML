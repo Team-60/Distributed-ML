{
  "nbformat": 4,
  "nbformat_minor": 0,
  "metadata": {
    "colab": {
      "name": "oml-project-first-adam.ipynb",
      "provenance": [],
      "collapsed_sections": []
    },
    "kernelspec": {
      "name": "python3",
      "display_name": "Python 3"
    },
    "language_info": {
      "name": "python"
    }
  },
  "cells": [
    {
      "cell_type": "markdown",
      "metadata": {
        "id": "tLRs9OhtPjNo"
      },
      "source": [
        "## Setting up\n",
        "- Notebook: `Adam(model.parameters(), lr=0.001, betas=(0.9, 0.999), eps=1e-08)` "
      ]
    },
    {
      "cell_type": "code",
      "metadata": {
        "colab": {
          "base_uri": "https://localhost:8080/"
        },
        "id": "64fLZZQA7dp0",
        "outputId": "bc20fa00-1f21-479d-fe9f-50d856611403"
      },
      "source": [
        "from google.colab import drive\n",
        "drive.mount('/content/drive')"
      ],
      "execution_count": null,
      "outputs": [
        {
          "output_type": "stream",
          "name": "stdout",
          "text": [
            "Mounted at /content/drive\n"
          ]
        }
      ]
    },
    {
      "cell_type": "code",
      "metadata": {
        "colab": {
          "base_uri": "https://localhost:8080/"
        },
        "id": "LGYnUUYvK3i0",
        "outputId": "dfcfcc83-de3d-4d6b-9ef5-6153a1e96567"
      },
      "source": [
        "%cd /content/drive/\"My Drive\"/\"Data Colab\"/oml-project"
      ],
      "execution_count": null,
      "outputs": [
        {
          "output_type": "stream",
          "name": "stdout",
          "text": [
            "/content/drive/My Drive/Data Colab/oml-project\n"
          ]
        }
      ]
    },
    {
      "cell_type": "code",
      "metadata": {
        "id": "6WbA1SvJMQ4E"
      },
      "source": [
        "import torch\n",
        "import torchvision\n",
        "import torchvision.transforms as transforms\n",
        "import matplotlib.pyplot as plt\n",
        "import torch.nn as nn\n",
        "import numpy as np\n",
        "from tqdm import tqdm"
      ],
      "execution_count": null,
      "outputs": []
    },
    {
      "cell_type": "code",
      "metadata": {
        "colab": {
          "base_uri": "https://localhost:8080/"
        },
        "id": "n_lbasYxiKiq",
        "outputId": "c7f1fc04-21b0-454e-df26-ebb645cfef18"
      },
      "source": [
        "device = torch.device(\"cuda:0\" if torch.cuda.is_available() else \"cpu\")\n",
        "device"
      ],
      "execution_count": null,
      "outputs": [
        {
          "output_type": "execute_result",
          "data": {
            "text/plain": [
              "device(type='cuda', index=0)"
            ]
          },
          "metadata": {},
          "execution_count": 4
        }
      ]
    },
    {
      "cell_type": "code",
      "metadata": {
        "id": "X3E720ochraB"
      },
      "source": [
        "# hyperparameters\n",
        "BATCH_SIZE = 64"
      ],
      "execution_count": null,
      "outputs": []
    },
    {
      "cell_type": "code",
      "metadata": {
        "id": "_oHZPC12Myqw",
        "colab": {
          "base_uri": "https://localhost:8080/"
        },
        "outputId": "7d8d6d7e-70e5-4045-e608-f8a6a5bf8bca"
      },
      "source": [
        "train_set = torchvision.datasets.CIFAR10('./data', download=True, train=True, transform=transforms.Compose([transforms.ToTensor()]))"
      ],
      "execution_count": null,
      "outputs": [
        {
          "output_type": "stream",
          "name": "stdout",
          "text": [
            "Files already downloaded and verified\n"
          ]
        }
      ]
    },
    {
      "cell_type": "code",
      "metadata": {
        "id": "3fheO57gNYFu",
        "colab": {
          "base_uri": "https://localhost:8080/"
        },
        "outputId": "02837a09-d1b9-40d1-d06f-dbab416c33c2"
      },
      "source": [
        "test_set = torchvision.datasets.CIFAR10(\"./data\", download=True, train=False, transform=transforms.Compose([transforms.ToTensor()])) "
      ],
      "execution_count": null,
      "outputs": [
        {
          "output_type": "stream",
          "name": "stdout",
          "text": [
            "Files already downloaded and verified\n"
          ]
        }
      ]
    },
    {
      "cell_type": "code",
      "metadata": {
        "colab": {
          "base_uri": "https://localhost:8080/"
        },
        "id": "y2qZz-iUeqon",
        "outputId": "25d1f5a5-6247-43b3-fa8f-3b988fcfc59c"
      },
      "source": [
        "# sampling for smaller dataset: train\n",
        "TRAIN_SAMPLES = int(len(train_set) / (10 * 2))\n",
        "train_class_seen = dict([(i, 0) for i in range(10)])\n",
        "train_indices = []\n",
        "for i, (_, l) in enumerate(train_set):\n",
        "  if train_class_seen[l] >= TRAIN_SAMPLES:\n",
        "    continue\n",
        "  train_class_seen[l] += 1\n",
        "  train_indices.append(i)\n",
        "train_subset = torch.utils.data.Subset(train_set, train_indices)\n",
        "len(train_subset)"
      ],
      "execution_count": null,
      "outputs": [
        {
          "output_type": "execute_result",
          "data": {
            "text/plain": [
              "25000"
            ]
          },
          "metadata": {},
          "execution_count": 8
        }
      ]
    },
    {
      "cell_type": "code",
      "metadata": {
        "colab": {
          "base_uri": "https://localhost:8080/"
        },
        "id": "IJJY43pUg9AY",
        "outputId": "c8a290ab-2d3e-4d6a-8eb4-fa7ec300fec1"
      },
      "source": [
        "# sampling for smaller dataset: test\n",
        "TEST_SAMPLES = int(len(test_set) / (10 * 3))\n",
        "test_class_seen = dict([(i, 0) for i in range(10)])\n",
        "test_indices = []\n",
        "for i, (_, l) in enumerate(test_set):\n",
        "  if test_class_seen[l] >= TEST_SAMPLES:\n",
        "    continue\n",
        "  test_class_seen[l] += 1\n",
        "  test_indices.append(i)\n",
        "test_subset = torch.utils.data.Subset(test_set, test_indices)\n",
        "# store the test set as a single tensor\n",
        "test_X, test_Y = [], []\n",
        "for s, l in test_subset:\n",
        "  test_X.append(s)\n",
        "  test_Y.append(l)\n",
        "test_X = torch.stack(test_X).float()\n",
        "test_Y = torch.tensor(test_Y).long()\n",
        "test_X, test_Y = test_X.to(device), test_Y.to(device)\n",
        "test_X.shape, test_Y.shape"
      ],
      "execution_count": null,
      "outputs": [
        {
          "output_type": "execute_result",
          "data": {
            "text/plain": [
              "(torch.Size([3330, 3, 32, 32]), torch.Size([3330]))"
            ]
          },
          "metadata": {},
          "execution_count": 9
        }
      ]
    },
    {
      "cell_type": "code",
      "metadata": {
        "id": "LdUrDW0ohICt"
      },
      "source": [
        "train_loader = torch.utils.data.DataLoader(train_subset, batch_size=BATCH_SIZE, shuffle=True, num_workers=2)"
      ],
      "execution_count": null,
      "outputs": []
    },
    {
      "cell_type": "markdown",
      "metadata": {
        "id": "dJ0HrjaQPme8"
      },
      "source": [
        "## Analysis"
      ]
    },
    {
      "cell_type": "code",
      "metadata": {
        "id": "FSgQ8mxiNup-"
      },
      "source": [
        "sample_image, sample_label = train_set[100]"
      ],
      "execution_count": null,
      "outputs": []
    },
    {
      "cell_type": "code",
      "metadata": {
        "colab": {
          "base_uri": "https://localhost:8080/"
        },
        "id": "3ZBTqsoTdQPg",
        "outputId": "8955a7e0-bd34-4521-b646-65a933104672"
      },
      "source": [
        "sample_image.shape"
      ],
      "execution_count": null,
      "outputs": [
        {
          "output_type": "execute_result",
          "data": {
            "text/plain": [
              "torch.Size([3, 32, 32])"
            ]
          },
          "metadata": {},
          "execution_count": 12
        }
      ]
    },
    {
      "cell_type": "code",
      "metadata": {
        "colab": {
          "base_uri": "https://localhost:8080/",
          "height": 266
        },
        "id": "f5DSLrXmYzzA",
        "outputId": "8dc9fd01-1163-45f2-9ab5-47499633929d"
      },
      "source": [
        "plt.imshow(np.transpose(sample_image.numpy(), (1, 2, 0)))\n",
        "plt.show()"
      ],
      "execution_count": null,
      "outputs": [
        {
          "output_type": "display_data",
          "data": {
            "image/png": "[encoded data removed]",
            "text/plain": [
              "<Figure size 432x288 with 1 Axes>"
            ]
          },
          "metadata": {
            "needs_background": "light"
          }
        }
      ]
    },
    {
      "cell_type": "code",
      "metadata": {
        "colab": {
          "base_uri": "https://localhost:8080/"
        },
        "id": "A2JUccoHdJ-b",
        "outputId": "c2ab0d80-bd43-492c-c864-dc20b0658816"
      },
      "source": [
        "len(train_set), len(test_set)"
      ],
      "execution_count": null,
      "outputs": [
        {
          "output_type": "execute_result",
          "data": {
            "text/plain": [
              "(50000, 10000)"
            ]
          },
          "metadata": {},
          "execution_count": 14
        }
      ]
    },
    {
      "cell_type": "code",
      "metadata": {
        "colab": {
          "base_uri": "https://localhost:8080/"
        },
        "id": "bSMtF-EJL3OS",
        "outputId": "7c005910-1156-40a4-dc2c-d763fba4c654"
      },
      "source": [
        "sample_batch = next(iter(train_loader))\n",
        "sample_batch = sample_batch[0].to(device), sample_batch[1].to(device)\n",
        "sample_batch[0].shape, sample_batch[1].shape"
      ],
      "execution_count": null,
      "outputs": [
        {
          "output_type": "execute_result",
          "data": {
            "text/plain": [
              "(torch.Size([64, 3, 32, 32]), torch.Size([64]))"
            ]
          },
          "metadata": {},
          "execution_count": 15
        }
      ]
    },
    {
      "cell_type": "markdown",
      "metadata": {
        "id": "_midlfWidVDG"
      },
      "source": [
        "## Model"
      ]
    },
    {
      "cell_type": "code",
      "metadata": {
        "id": "GW2ovC5cdTrk",
        "colab": {
          "base_uri": "https://localhost:8080/"
        },
        "outputId": "46561eac-0e75-4d82-f705-2ea9dfb54407"
      },
      "source": [
        "class CNN(nn.Module):\n",
        "  def __init__(self):\n",
        "    super().__init__()\n",
        "    self.conv = nn.Sequential(\n",
        "      nn.Conv2d(in_channels=3, out_channels=32, kernel_size=3),\n",
        "      nn.MaxPool2d(kernel_size=2),\n",
        "      nn.ReLU(),\n",
        "    )\n",
        "    self.lin = nn.Sequential(\n",
        "        nn.Linear(in_features=32*15*15, out_features=600),\n",
        "        nn.ReLU(),\n",
        "        nn.Linear(in_features=600, out_features=120),\n",
        "        nn.ReLU(),\n",
        "        nn.Linear(in_features=120, out_features=10)\n",
        "    )\n",
        "    self.softmax = nn.LogSoftmax(dim=1)\n",
        "  def forward(self, x):\n",
        "    out = self.conv(x)\n",
        "    out = out.view(out.size(0), -1)\n",
        "    out = self.lin(out)\n",
        "    out = self.softmax(out)\n",
        "    return out\n",
        "model = CNN()\n",
        "model.to(device)"
      ],
      "execution_count": null,
      "outputs": [
        {
          "output_type": "execute_result",
          "data": {
            "text/plain": [
              "CNN(\n",
              "  (conv): Sequential(\n",
              "    (0): Conv2d(3, 32, kernel_size=(3, 3), stride=(1, 1))\n",
              "    (1): MaxPool2d(kernel_size=2, stride=2, padding=0, dilation=1, ceil_mode=False)\n",
              "    (2): ReLU()\n",
              "  )\n",
              "  (lin): Sequential(\n",
              "    (0): Linear(in_features=7200, out_features=600, bias=True)\n",
              "    (1): ReLU()\n",
              "    (2): Linear(in_features=600, out_features=120, bias=True)\n",
              "    (3): ReLU()\n",
              "    (4): Linear(in_features=120, out_features=10, bias=True)\n",
              "  )\n",
              "  (softmax): LogSoftmax(dim=1)\n",
              ")"
            ]
          },
          "metadata": {},
          "execution_count": 16
        }
      ]
    },
    {
      "cell_type": "code",
      "metadata": {
        "id": "IICsH3NmmqEZ"
      },
      "source": [
        "# hyperparameters\n",
        "NUM_EPOCHS = 100"
      ],
      "execution_count": null,
      "outputs": []
    },
    {
      "cell_type": "code",
      "metadata": {
        "id": "8ugQ9BLlfrjj"
      },
      "source": [
        "error = nn.NLLLoss()\n",
        "optimizer = torch.optim.Adam(model.parameters(), lr=0.001, betas=(0.9, 0.999), eps=1e-08)"
      ],
      "execution_count": null,
      "outputs": []
    },
    {
      "cell_type": "markdown",
      "metadata": {
        "id": "nClIdnNkRMjL"
      },
      "source": [
        "## Training"
      ]
    },
    {
      "cell_type": "code",
      "metadata": {
        "colab": {
          "base_uri": "https://localhost:8080/"
        },
        "id": "su22Cmi2gpeI",
        "outputId": "86860c93-9940-4610-d411-b0ddf8517d94"
      },
      "source": [
        "DISPLAY_INTERVAL = 1\n",
        "train_loss, test_loss = [], [] # denotes the mean loss over all samples\n",
        "train_acc, test_acc = [], []\n",
        "for epoch in range(1, NUM_EPOCHS + 1):\n",
        "  total_loss = 0\n",
        "  correct, total = 0, 0\n",
        "  for images, labels in tqdm(train_loader):\n",
        "    # forward + backward + step\n",
        "    optimizer.zero_grad()\n",
        "    images, labels = images.to(device), labels.to(device)\n",
        "    outputs = model(images)\n",
        "    loss = error(outputs, labels)\n",
        "    total_loss += loss.item() * len(outputs)\n",
        "    loss.backward()\n",
        "    optimizer.step()\n",
        "    # accuracy calculation\n",
        "    correct += (torch.argmax(outputs, dim=1) == labels).sum()\n",
        "    total += len(labels)\n",
        "  train_loss.append(total_loss / total)\n",
        "  train_acc.append(correct / total)\n",
        "  # testing loss\n",
        "  with torch.no_grad():\n",
        "    predicted = model(test_X)\n",
        "    loss = error(predicted, test_Y)\n",
        "    test_loss.append(loss.item())\n",
        "    test_acc.append((torch.argmax(predicted, dim=1) == test_Y).sum() / len(test_Y))\n",
        "\n",
        "  if epoch % DISPLAY_INTERVAL == 0:\n",
        "      print(f'Performace at epoch {epoch}')\n",
        "      print(f'Train Loss: {train_loss[-1]:.5f} ; Train Acc: {train_acc[-1]:.5f}')\n",
        "      print(f'Test Loss: {test_loss[-1]:.5f} ; Test Acc: {test_acc[-1]:.5f}')\n",
        "      print('==============')"
      ],
      "execution_count": null,
      "outputs": [
        {
          "output_type": "stream",
          "name": "stderr",
          "text": [
            "100%|██████████| 391/391 [00:06<00:00, 61.75it/s]\n"
          ]
        },
        {
          "output_type": "stream",
          "name": "stdout",
          "text": [
            "Performace at epoch 1\n",
            "Train Loss: 1.69536 ; Train Acc: 0.38044\n",
            "Test Loss: 1.45310 ; Test Acc: 0.48649\n",
            "==============\n"
          ]
        },
        {
          "output_type": "stream",
          "name": "stderr",
          "text": [
            "100%|██████████| 391/391 [00:05<00:00, 66.56it/s]\n"
          ]
        },
        {
          "output_type": "stream",
          "name": "stdout",
          "text": [
            "Performace at epoch 2\n",
            "Train Loss: 1.30598 ; Train Acc: 0.53216\n",
            "Test Loss: 1.28693 ; Test Acc: 0.54264\n",
            "==============\n"
          ]
        },
        {
          "output_type": "stream",
          "name": "stderr",
          "text": [
            "100%|██████████| 391/391 [00:05<00:00, 66.47it/s]\n"
          ]
        },
        {
          "output_type": "stream",
          "name": "stdout",
          "text": [
            "Performace at epoch 3\n",
            "Train Loss: 1.14201 ; Train Acc: 0.59340\n",
            "Test Loss: 1.18738 ; Test Acc: 0.57658\n",
            "==============\n"
          ]
        },
        {
          "output_type": "stream",
          "name": "stderr",
          "text": [
            "100%|██████████| 391/391 [00:05<00:00, 66.32it/s]\n"
          ]
        },
        {
          "output_type": "stream",
          "name": "stdout",
          "text": [
            "Performace at epoch 4\n",
            "Train Loss: 1.00632 ; Train Acc: 0.64256\n",
            "Test Loss: 1.17099 ; Test Acc: 0.59670\n",
            "==============\n"
          ]
        },
        {
          "output_type": "stream",
          "name": "stderr",
          "text": [
            "100%|██████████| 391/391 [00:05<00:00, 65.80it/s]\n"
          ]
        },
        {
          "output_type": "stream",
          "name": "stdout",
          "text": [
            "Performace at epoch 5\n",
            "Train Loss: 0.87544 ; Train Acc: 0.69004\n",
            "Test Loss: 1.11712 ; Test Acc: 0.60631\n",
            "==============\n"
          ]
        },
        {
          "output_type": "stream",
          "name": "stderr",
          "text": [
            "100%|██████████| 391/391 [00:05<00:00, 65.53it/s]\n"
          ]
        },
        {
          "output_type": "stream",
          "name": "stdout",
          "text": [
            "Performace at epoch 6\n",
            "Train Loss: 0.75090 ; Train Acc: 0.73508\n",
            "Test Loss: 1.11362 ; Test Acc: 0.61742\n",
            "==============\n"
          ]
        },
        {
          "output_type": "stream",
          "name": "stderr",
          "text": [
            "100%|██████████| 391/391 [00:05<00:00, 66.65it/s]\n"
          ]
        },
        {
          "output_type": "stream",
          "name": "stdout",
          "text": [
            "Performace at epoch 7\n",
            "Train Loss: 0.61998 ; Train Acc: 0.78308\n",
            "Test Loss: 1.18914 ; Test Acc: 0.61261\n",
            "==============\n"
          ]
        },
        {
          "output_type": "stream",
          "name": "stderr",
          "text": [
            "100%|██████████| 391/391 [00:05<00:00, 65.63it/s]\n"
          ]
        },
        {
          "output_type": "stream",
          "name": "stdout",
          "text": [
            "Performace at epoch 8\n",
            "Train Loss: 0.49407 ; Train Acc: 0.83024\n",
            "Test Loss: 1.15986 ; Test Acc: 0.62012\n",
            "==============\n"
          ]
        },
        {
          "output_type": "stream",
          "name": "stderr",
          "text": [
            "100%|██████████| 391/391 [00:05<00:00, 65.21it/s]\n"
          ]
        },
        {
          "output_type": "stream",
          "name": "stdout",
          "text": [
            "Performace at epoch 9\n",
            "Train Loss: 0.37062 ; Train Acc: 0.87396\n",
            "Test Loss: 1.31267 ; Test Acc: 0.62132\n",
            "==============\n"
          ]
        },
        {
          "output_type": "stream",
          "name": "stderr",
          "text": [
            "100%|██████████| 391/391 [00:05<00:00, 65.95it/s]\n"
          ]
        },
        {
          "output_type": "stream",
          "name": "stdout",
          "text": [
            "Performace at epoch 10\n",
            "Train Loss: 0.26314 ; Train Acc: 0.91572\n",
            "Test Loss: 1.53476 ; Test Acc: 0.61351\n",
            "==============\n"
          ]
        },
        {
          "output_type": "stream",
          "name": "stderr",
          "text": [
            "100%|██████████| 391/391 [00:05<00:00, 65.49it/s]\n"
          ]
        },
        {
          "output_type": "stream",
          "name": "stdout",
          "text": [
            "Performace at epoch 11\n",
            "Train Loss: 0.18918 ; Train Acc: 0.93828\n",
            "Test Loss: 1.66189 ; Test Acc: 0.60541\n",
            "==============\n"
          ]
        },
        {
          "output_type": "stream",
          "name": "stderr",
          "text": [
            "100%|██████████| 391/391 [00:05<00:00, 66.53it/s]\n"
          ]
        },
        {
          "output_type": "stream",
          "name": "stdout",
          "text": [
            "Performace at epoch 12\n",
            "Train Loss: 0.12627 ; Train Acc: 0.96248\n",
            "Test Loss: 1.79661 ; Test Acc: 0.62162\n",
            "==============\n"
          ]
        },
        {
          "output_type": "stream",
          "name": "stderr",
          "text": [
            "100%|██████████| 391/391 [00:05<00:00, 66.48it/s]\n"
          ]
        },
        {
          "output_type": "stream",
          "name": "stdout",
          "text": [
            "Performace at epoch 13\n",
            "Train Loss: 0.08564 ; Train Acc: 0.97496\n",
            "Test Loss: 1.97542 ; Test Acc: 0.61652\n",
            "==============\n"
          ]
        },
        {
          "output_type": "stream",
          "name": "stderr",
          "text": [
            "100%|██████████| 391/391 [00:05<00:00, 65.92it/s]\n"
          ]
        },
        {
          "output_type": "stream",
          "name": "stdout",
          "text": [
            "Performace at epoch 14\n",
            "Train Loss: 0.07411 ; Train Acc: 0.97880\n",
            "Test Loss: 2.20137 ; Test Acc: 0.59910\n",
            "==============\n"
          ]
        },
        {
          "output_type": "stream",
          "name": "stderr",
          "text": [
            "100%|██████████| 391/391 [00:05<00:00, 66.60it/s]\n"
          ]
        },
        {
          "output_type": "stream",
          "name": "stdout",
          "text": [
            "Performace at epoch 15\n",
            "Train Loss: 0.07380 ; Train Acc: 0.97736\n",
            "Test Loss: 2.15338 ; Test Acc: 0.61081\n",
            "==============\n"
          ]
        },
        {
          "output_type": "stream",
          "name": "stderr",
          "text": [
            "100%|██████████| 391/391 [00:05<00:00, 65.64it/s]\n"
          ]
        },
        {
          "output_type": "stream",
          "name": "stdout",
          "text": [
            "Performace at epoch 16\n",
            "Train Loss: 0.10071 ; Train Acc: 0.96744\n",
            "Test Loss: 2.45552 ; Test Acc: 0.59820\n",
            "==============\n"
          ]
        },
        {
          "output_type": "stream",
          "name": "stderr",
          "text": [
            "100%|██████████| 391/391 [00:05<00:00, 65.81it/s]\n"
          ]
        },
        {
          "output_type": "stream",
          "name": "stdout",
          "text": [
            "Performace at epoch 17\n",
            "Train Loss: 0.07194 ; Train Acc: 0.97684\n",
            "Test Loss: 2.29143 ; Test Acc: 0.61742\n",
            "==============\n"
          ]
        },
        {
          "output_type": "stream",
          "name": "stderr",
          "text": [
            "100%|██████████| 391/391 [00:05<00:00, 65.91it/s]\n"
          ]
        },
        {
          "output_type": "stream",
          "name": "stdout",
          "text": [
            "Performace at epoch 18\n",
            "Train Loss: 0.05242 ; Train Acc: 0.98388\n",
            "Test Loss: 2.43773 ; Test Acc: 0.61952\n",
            "==============\n"
          ]
        },
        {
          "output_type": "stream",
          "name": "stderr",
          "text": [
            "100%|██████████| 391/391 [00:05<00:00, 66.04it/s]\n"
          ]
        },
        {
          "output_type": "stream",
          "name": "stdout",
          "text": [
            "Performace at epoch 19\n",
            "Train Loss: 0.05593 ; Train Acc: 0.98340\n",
            "Test Loss: 2.52774 ; Test Acc: 0.61592\n",
            "==============\n"
          ]
        },
        {
          "output_type": "stream",
          "name": "stderr",
          "text": [
            "100%|██████████| 391/391 [00:05<00:00, 65.91it/s]\n"
          ]
        },
        {
          "output_type": "stream",
          "name": "stdout",
          "text": [
            "Performace at epoch 20\n",
            "Train Loss: 0.05992 ; Train Acc: 0.97980\n",
            "Test Loss: 2.61326 ; Test Acc: 0.61562\n",
            "==============\n"
          ]
        },
        {
          "output_type": "stream",
          "name": "stderr",
          "text": [
            "100%|██████████| 391/391 [00:06<00:00, 64.01it/s]\n"
          ]
        },
        {
          "output_type": "stream",
          "name": "stdout",
          "text": [
            "Performace at epoch 21\n",
            "Train Loss: 0.04542 ; Train Acc: 0.98556\n",
            "Test Loss: 2.74186 ; Test Acc: 0.61682\n",
            "==============\n"
          ]
        },
        {
          "output_type": "stream",
          "name": "stderr",
          "text": [
            "100%|██████████| 391/391 [00:05<00:00, 65.81it/s]\n"
          ]
        },
        {
          "output_type": "stream",
          "name": "stdout",
          "text": [
            "Performace at epoch 22\n",
            "Train Loss: 0.06303 ; Train Acc: 0.97996\n",
            "Test Loss: 2.88461 ; Test Acc: 0.59760\n",
            "==============\n"
          ]
        },
        {
          "output_type": "stream",
          "name": "stderr",
          "text": [
            "100%|██████████| 391/391 [00:05<00:00, 65.99it/s]\n"
          ]
        },
        {
          "output_type": "stream",
          "name": "stdout",
          "text": [
            "Performace at epoch 23\n",
            "Train Loss: 0.05222 ; Train Acc: 0.98316\n",
            "Test Loss: 2.88064 ; Test Acc: 0.60090\n",
            "==============\n"
          ]
        },
        {
          "output_type": "stream",
          "name": "stderr",
          "text": [
            "100%|██████████| 391/391 [00:05<00:00, 66.06it/s]\n"
          ]
        },
        {
          "output_type": "stream",
          "name": "stdout",
          "text": [
            "Performace at epoch 24\n",
            "Train Loss: 0.05853 ; Train Acc: 0.98048\n",
            "Test Loss: 2.73763 ; Test Acc: 0.61832\n",
            "==============\n"
          ]
        },
        {
          "output_type": "stream",
          "name": "stderr",
          "text": [
            "100%|██████████| 391/391 [00:05<00:00, 65.52it/s]\n"
          ]
        },
        {
          "output_type": "stream",
          "name": "stdout",
          "text": [
            "Performace at epoch 25\n",
            "Train Loss: 0.03767 ; Train Acc: 0.98860\n",
            "Test Loss: 2.91085 ; Test Acc: 0.61862\n",
            "==============\n"
          ]
        },
        {
          "output_type": "stream",
          "name": "stderr",
          "text": [
            "100%|██████████| 391/391 [00:05<00:00, 65.32it/s]\n"
          ]
        },
        {
          "output_type": "stream",
          "name": "stdout",
          "text": [
            "Performace at epoch 26\n",
            "Train Loss: 0.03373 ; Train Acc: 0.98932\n",
            "Test Loss: 3.14570 ; Test Acc: 0.60781\n",
            "==============\n"
          ]
        },
        {
          "output_type": "stream",
          "name": "stderr",
          "text": [
            "100%|██████████| 391/391 [00:05<00:00, 65.55it/s]\n"
          ]
        },
        {
          "output_type": "stream",
          "name": "stdout",
          "text": [
            "Performace at epoch 27\n",
            "Train Loss: 0.03706 ; Train Acc: 0.98828\n",
            "Test Loss: 2.97015 ; Test Acc: 0.60210\n",
            "==============\n"
          ]
        },
        {
          "output_type": "stream",
          "name": "stderr",
          "text": [
            "100%|██████████| 391/391 [00:05<00:00, 65.50it/s]\n"
          ]
        },
        {
          "output_type": "stream",
          "name": "stdout",
          "text": [
            "Performace at epoch 28\n",
            "Train Loss: 0.05257 ; Train Acc: 0.98308\n",
            "Test Loss: 2.91839 ; Test Acc: 0.60270\n",
            "==============\n"
          ]
        },
        {
          "output_type": "stream",
          "name": "stderr",
          "text": [
            "100%|██████████| 391/391 [00:05<00:00, 65.92it/s]\n"
          ]
        },
        {
          "output_type": "stream",
          "name": "stdout",
          "text": [
            "Performace at epoch 29\n",
            "Train Loss: 0.04688 ; Train Acc: 0.98396\n",
            "Test Loss: 3.21887 ; Test Acc: 0.60751\n",
            "==============\n"
          ]
        },
        {
          "output_type": "stream",
          "name": "stderr",
          "text": [
            "100%|██████████| 391/391 [00:05<00:00, 65.72it/s]\n"
          ]
        },
        {
          "output_type": "stream",
          "name": "stdout",
          "text": [
            "Performace at epoch 30\n",
            "Train Loss: 0.03229 ; Train Acc: 0.98948\n",
            "Test Loss: 3.22238 ; Test Acc: 0.61111\n",
            "==============\n"
          ]
        },
        {
          "output_type": "stream",
          "name": "stderr",
          "text": [
            "100%|██████████| 391/391 [00:05<00:00, 65.83it/s]\n"
          ]
        },
        {
          "output_type": "stream",
          "name": "stdout",
          "text": [
            "Performace at epoch 31\n",
            "Train Loss: 0.03401 ; Train Acc: 0.98852\n",
            "Test Loss: 3.42116 ; Test Acc: 0.59820\n",
            "==============\n"
          ]
        },
        {
          "output_type": "stream",
          "name": "stderr",
          "text": [
            "100%|██████████| 391/391 [00:05<00:00, 65.87it/s]\n"
          ]
        },
        {
          "output_type": "stream",
          "name": "stdout",
          "text": [
            "Performace at epoch 32\n",
            "Train Loss: 0.05695 ; Train Acc: 0.98072\n",
            "Test Loss: 3.23455 ; Test Acc: 0.61051\n",
            "==============\n"
          ]
        },
        {
          "output_type": "stream",
          "name": "stderr",
          "text": [
            "100%|██████████| 391/391 [00:06<00:00, 64.99it/s]\n"
          ]
        },
        {
          "output_type": "stream",
          "name": "stdout",
          "text": [
            "Performace at epoch 33\n",
            "Train Loss: 0.02161 ; Train Acc: 0.99336\n",
            "Test Loss: 3.42290 ; Test Acc: 0.61652\n",
            "==============\n"
          ]
        },
        {
          "output_type": "stream",
          "name": "stderr",
          "text": [
            "100%|██████████| 391/391 [00:06<00:00, 64.93it/s]\n"
          ]
        },
        {
          "output_type": "stream",
          "name": "stdout",
          "text": [
            "Performace at epoch 34\n",
            "Train Loss: 0.01240 ; Train Acc: 0.99628\n",
            "Test Loss: 3.53576 ; Test Acc: 0.60060\n",
            "==============\n"
          ]
        },
        {
          "output_type": "stream",
          "name": "stderr",
          "text": [
            "100%|██████████| 391/391 [00:05<00:00, 65.62it/s]\n"
          ]
        },
        {
          "output_type": "stream",
          "name": "stdout",
          "text": [
            "Performace at epoch 35\n",
            "Train Loss: 0.05858 ; Train Acc: 0.97972\n",
            "Test Loss: 3.35640 ; Test Acc: 0.60631\n",
            "==============\n"
          ]
        },
        {
          "output_type": "stream",
          "name": "stderr",
          "text": [
            "100%|██████████| 391/391 [00:06<00:00, 65.12it/s]\n"
          ]
        },
        {
          "output_type": "stream",
          "name": "stdout",
          "text": [
            "Performace at epoch 36\n",
            "Train Loss: 0.03993 ; Train Acc: 0.98716\n",
            "Test Loss: 3.41505 ; Test Acc: 0.60541\n",
            "==============\n"
          ]
        },
        {
          "output_type": "stream",
          "name": "stderr",
          "text": [
            "100%|██████████| 391/391 [00:05<00:00, 65.66it/s]\n"
          ]
        },
        {
          "output_type": "stream",
          "name": "stdout",
          "text": [
            "Performace at epoch 37\n",
            "Train Loss: 0.03206 ; Train Acc: 0.98916\n",
            "Test Loss: 3.53095 ; Test Acc: 0.61321\n",
            "==============\n"
          ]
        },
        {
          "output_type": "stream",
          "name": "stderr",
          "text": [
            "100%|██████████| 391/391 [00:06<00:00, 64.30it/s]\n"
          ]
        },
        {
          "output_type": "stream",
          "name": "stdout",
          "text": [
            "Performace at epoch 38\n",
            "Train Loss: 0.01801 ; Train Acc: 0.99396\n",
            "Test Loss: 3.82860 ; Test Acc: 0.59069\n",
            "==============\n"
          ]
        },
        {
          "output_type": "stream",
          "name": "stderr",
          "text": [
            "100%|██████████| 391/391 [00:06<00:00, 64.99it/s]\n"
          ]
        },
        {
          "output_type": "stream",
          "name": "stdout",
          "text": [
            "Performace at epoch 39\n",
            "Train Loss: 0.04763 ; Train Acc: 0.98432\n",
            "Test Loss: 3.72148 ; Test Acc: 0.59700\n",
            "==============\n"
          ]
        },
        {
          "output_type": "stream",
          "name": "stderr",
          "text": [
            "100%|██████████| 391/391 [00:06<00:00, 64.82it/s]\n"
          ]
        },
        {
          "output_type": "stream",
          "name": "stdout",
          "text": [
            "Performace at epoch 40\n",
            "Train Loss: 0.03224 ; Train Acc: 0.98976\n",
            "Test Loss: 3.66826 ; Test Acc: 0.60090\n",
            "==============\n"
          ]
        },
        {
          "output_type": "stream",
          "name": "stderr",
          "text": [
            "100%|██████████| 391/391 [00:06<00:00, 64.37it/s]\n"
          ]
        },
        {
          "output_type": "stream",
          "name": "stdout",
          "text": [
            "Performace at epoch 41\n",
            "Train Loss: 0.03468 ; Train Acc: 0.98928\n",
            "Test Loss: 4.31069 ; Test Acc: 0.59339\n",
            "==============\n"
          ]
        },
        {
          "output_type": "stream",
          "name": "stderr",
          "text": [
            "100%|██████████| 391/391 [00:06<00:00, 64.23it/s]\n"
          ]
        },
        {
          "output_type": "stream",
          "name": "stdout",
          "text": [
            "Performace at epoch 42\n",
            "Train Loss: 0.02478 ; Train Acc: 0.99208\n",
            "Test Loss: 3.88943 ; Test Acc: 0.60781\n",
            "==============\n"
          ]
        },
        {
          "output_type": "stream",
          "name": "stderr",
          "text": [
            "100%|██████████| 391/391 [00:06<00:00, 64.23it/s]\n"
          ]
        },
        {
          "output_type": "stream",
          "name": "stdout",
          "text": [
            "Performace at epoch 43\n",
            "Train Loss: 0.04478 ; Train Acc: 0.98568\n",
            "Test Loss: 3.55135 ; Test Acc: 0.61021\n",
            "==============\n"
          ]
        },
        {
          "output_type": "stream",
          "name": "stderr",
          "text": [
            "100%|██████████| 391/391 [00:05<00:00, 65.50it/s]\n"
          ]
        },
        {
          "output_type": "stream",
          "name": "stdout",
          "text": [
            "Performace at epoch 44\n",
            "Train Loss: 0.02838 ; Train Acc: 0.99096\n",
            "Test Loss: 3.64151 ; Test Acc: 0.60571\n",
            "==============\n"
          ]
        },
        {
          "output_type": "stream",
          "name": "stderr",
          "text": [
            "100%|██████████| 391/391 [00:06<00:00, 65.05it/s]\n"
          ]
        },
        {
          "output_type": "stream",
          "name": "stdout",
          "text": [
            "Performace at epoch 45\n",
            "Train Loss: 0.01344 ; Train Acc: 0.99580\n",
            "Test Loss: 3.88280 ; Test Acc: 0.61532\n",
            "==============\n"
          ]
        },
        {
          "output_type": "stream",
          "name": "stderr",
          "text": [
            "100%|██████████| 391/391 [00:05<00:00, 65.50it/s]\n"
          ]
        },
        {
          "output_type": "stream",
          "name": "stdout",
          "text": [
            "Performace at epoch 46\n",
            "Train Loss: 0.01724 ; Train Acc: 0.99392\n",
            "Test Loss: 3.84648 ; Test Acc: 0.61351\n",
            "==============\n"
          ]
        },
        {
          "output_type": "stream",
          "name": "stderr",
          "text": [
            "100%|██████████| 391/391 [00:05<00:00, 65.57it/s]\n"
          ]
        },
        {
          "output_type": "stream",
          "name": "stdout",
          "text": [
            "Performace at epoch 47\n",
            "Train Loss: 0.04307 ; Train Acc: 0.98624\n",
            "Test Loss: 3.61815 ; Test Acc: 0.59550\n",
            "==============\n"
          ]
        },
        {
          "output_type": "stream",
          "name": "stderr",
          "text": [
            "100%|██████████| 391/391 [00:06<00:00, 64.35it/s]\n"
          ]
        },
        {
          "output_type": "stream",
          "name": "stdout",
          "text": [
            "Performace at epoch 48\n",
            "Train Loss: 0.03288 ; Train Acc: 0.98888\n",
            "Test Loss: 3.91582 ; Test Acc: 0.60480\n",
            "==============\n"
          ]
        },
        {
          "output_type": "stream",
          "name": "stderr",
          "text": [
            "100%|██████████| 391/391 [00:06<00:00, 63.46it/s]\n"
          ]
        },
        {
          "output_type": "stream",
          "name": "stdout",
          "text": [
            "Performace at epoch 49\n",
            "Train Loss: 0.01291 ; Train Acc: 0.99584\n",
            "Test Loss: 3.85877 ; Test Acc: 0.60420\n",
            "==============\n"
          ]
        },
        {
          "output_type": "stream",
          "name": "stderr",
          "text": [
            "100%|██████████| 391/391 [00:06<00:00, 63.85it/s]\n"
          ]
        },
        {
          "output_type": "stream",
          "name": "stdout",
          "text": [
            "Performace at epoch 50\n",
            "Train Loss: 0.03471 ; Train Acc: 0.98912\n",
            "Test Loss: 3.96614 ; Test Acc: 0.60240\n",
            "==============\n"
          ]
        },
        {
          "output_type": "stream",
          "name": "stderr",
          "text": [
            "100%|██████████| 391/391 [00:06<00:00, 63.23it/s]\n"
          ]
        },
        {
          "output_type": "stream",
          "name": "stdout",
          "text": [
            "Performace at epoch 51\n",
            "Train Loss: 0.03568 ; Train Acc: 0.98860\n",
            "Test Loss: 4.01937 ; Test Acc: 0.59970\n",
            "==============\n"
          ]
        },
        {
          "output_type": "stream",
          "name": "stderr",
          "text": [
            "100%|██████████| 391/391 [00:06<00:00, 64.35it/s]\n"
          ]
        },
        {
          "output_type": "stream",
          "name": "stdout",
          "text": [
            "Performace at epoch 52\n",
            "Train Loss: 0.02396 ; Train Acc: 0.99176\n",
            "Test Loss: 3.95417 ; Test Acc: 0.61381\n",
            "==============\n"
          ]
        },
        {
          "output_type": "stream",
          "name": "stderr",
          "text": [
            "100%|██████████| 391/391 [00:06<00:00, 64.36it/s]\n"
          ]
        },
        {
          "output_type": "stream",
          "name": "stdout",
          "text": [
            "Performace at epoch 53\n",
            "Train Loss: 0.02766 ; Train Acc: 0.99232\n",
            "Test Loss: 3.91191 ; Test Acc: 0.59790\n",
            "==============\n"
          ]
        },
        {
          "output_type": "stream",
          "name": "stderr",
          "text": [
            "100%|██████████| 391/391 [00:06<00:00, 63.93it/s]\n"
          ]
        },
        {
          "output_type": "stream",
          "name": "stdout",
          "text": [
            "Performace at epoch 54\n",
            "Train Loss: 0.02387 ; Train Acc: 0.99248\n",
            "Test Loss: 4.05187 ; Test Acc: 0.60991\n",
            "==============\n"
          ]
        },
        {
          "output_type": "stream",
          "name": "stderr",
          "text": [
            "100%|██████████| 391/391 [00:06<00:00, 63.57it/s]\n"
          ]
        },
        {
          "output_type": "stream",
          "name": "stdout",
          "text": [
            "Performace at epoch 55\n",
            "Train Loss: 0.02149 ; Train Acc: 0.99320\n",
            "Test Loss: 4.36537 ; Test Acc: 0.60450\n",
            "==============\n"
          ]
        },
        {
          "output_type": "stream",
          "name": "stderr",
          "text": [
            "100%|██████████| 391/391 [00:06<00:00, 63.17it/s]\n"
          ]
        },
        {
          "output_type": "stream",
          "name": "stdout",
          "text": [
            "Performace at epoch 56\n",
            "Train Loss: 0.01408 ; Train Acc: 0.99560\n",
            "Test Loss: 4.13016 ; Test Acc: 0.59580\n",
            "==============\n"
          ]
        },
        {
          "output_type": "stream",
          "name": "stderr",
          "text": [
            "100%|██████████| 391/391 [00:06<00:00, 62.84it/s]\n"
          ]
        },
        {
          "output_type": "stream",
          "name": "stdout",
          "text": [
            "Performace at epoch 57\n",
            "Train Loss: 0.04490 ; Train Acc: 0.98644\n",
            "Test Loss: 3.91859 ; Test Acc: 0.60120\n",
            "==============\n"
          ]
        },
        {
          "output_type": "stream",
          "name": "stderr",
          "text": [
            "100%|██████████| 391/391 [00:06<00:00, 63.19it/s]\n"
          ]
        },
        {
          "output_type": "stream",
          "name": "stdout",
          "text": [
            "Performace at epoch 58\n",
            "Train Loss: 0.02414 ; Train Acc: 0.99208\n",
            "Test Loss: 4.16188 ; Test Acc: 0.60120\n",
            "==============\n"
          ]
        },
        {
          "output_type": "stream",
          "name": "stderr",
          "text": [
            "100%|██████████| 391/391 [00:06<00:00, 64.72it/s]\n"
          ]
        },
        {
          "output_type": "stream",
          "name": "stdout",
          "text": [
            "Performace at epoch 59\n",
            "Train Loss: 0.02404 ; Train Acc: 0.99232\n",
            "Test Loss: 4.21308 ; Test Acc: 0.60300\n",
            "==============\n"
          ]
        },
        {
          "output_type": "stream",
          "name": "stderr",
          "text": [
            "100%|██████████| 391/391 [00:06<00:00, 63.19it/s]\n"
          ]
        },
        {
          "output_type": "stream",
          "name": "stdout",
          "text": [
            "Performace at epoch 60\n",
            "Train Loss: 0.02002 ; Train Acc: 0.99348\n",
            "Test Loss: 4.29128 ; Test Acc: 0.59129\n",
            "==============\n"
          ]
        },
        {
          "output_type": "stream",
          "name": "stderr",
          "text": [
            "100%|██████████| 391/391 [00:06<00:00, 63.53it/s]\n"
          ]
        },
        {
          "output_type": "stream",
          "name": "stdout",
          "text": [
            "Performace at epoch 61\n",
            "Train Loss: 0.02053 ; Train Acc: 0.99404\n",
            "Test Loss: 4.53901 ; Test Acc: 0.60360\n",
            "==============\n"
          ]
        },
        {
          "output_type": "stream",
          "name": "stderr",
          "text": [
            "100%|██████████| 391/391 [00:06<00:00, 64.43it/s]\n"
          ]
        },
        {
          "output_type": "stream",
          "name": "stdout",
          "text": [
            "Performace at epoch 62\n",
            "Train Loss: 0.03061 ; Train Acc: 0.98996\n",
            "Test Loss: 4.33793 ; Test Acc: 0.60360\n",
            "==============\n"
          ]
        },
        {
          "output_type": "stream",
          "name": "stderr",
          "text": [
            "100%|██████████| 391/391 [00:06<00:00, 64.40it/s]\n"
          ]
        },
        {
          "output_type": "stream",
          "name": "stdout",
          "text": [
            "Performace at epoch 63\n",
            "Train Loss: 0.01880 ; Train Acc: 0.99440\n",
            "Test Loss: 4.25411 ; Test Acc: 0.60150\n",
            "==============\n"
          ]
        },
        {
          "output_type": "stream",
          "name": "stderr",
          "text": [
            "100%|██████████| 391/391 [00:06<00:00, 64.60it/s]\n"
          ]
        },
        {
          "output_type": "stream",
          "name": "stdout",
          "text": [
            "Performace at epoch 64\n",
            "Train Loss: 0.00647 ; Train Acc: 0.99836\n",
            "Test Loss: 4.38523 ; Test Acc: 0.61351\n",
            "==============\n"
          ]
        },
        {
          "output_type": "stream",
          "name": "stderr",
          "text": [
            "100%|██████████| 391/391 [00:06<00:00, 64.15it/s]\n"
          ]
        },
        {
          "output_type": "stream",
          "name": "stdout",
          "text": [
            "Performace at epoch 65\n",
            "Train Loss: 0.01257 ; Train Acc: 0.99612\n",
            "Test Loss: 4.47371 ; Test Acc: 0.60060\n",
            "==============\n"
          ]
        },
        {
          "output_type": "stream",
          "name": "stderr",
          "text": [
            "100%|██████████| 391/391 [00:06<00:00, 64.43it/s]\n"
          ]
        },
        {
          "output_type": "stream",
          "name": "stdout",
          "text": [
            "Performace at epoch 66\n",
            "Train Loss: 0.04217 ; Train Acc: 0.98716\n",
            "Test Loss: 4.67773 ; Test Acc: 0.59069\n",
            "==============\n"
          ]
        },
        {
          "output_type": "stream",
          "name": "stderr",
          "text": [
            "100%|██████████| 391/391 [00:06<00:00, 64.46it/s]\n"
          ]
        },
        {
          "output_type": "stream",
          "name": "stdout",
          "text": [
            "Performace at epoch 67\n",
            "Train Loss: 0.02511 ; Train Acc: 0.99188\n",
            "Test Loss: 4.17902 ; Test Acc: 0.60270\n",
            "==============\n"
          ]
        },
        {
          "output_type": "stream",
          "name": "stderr",
          "text": [
            "100%|██████████| 391/391 [00:06<00:00, 64.65it/s]\n"
          ]
        },
        {
          "output_type": "stream",
          "name": "stdout",
          "text": [
            "Performace at epoch 68\n",
            "Train Loss: 0.02196 ; Train Acc: 0.99368\n",
            "Test Loss: 4.54166 ; Test Acc: 0.60120\n",
            "==============\n"
          ]
        },
        {
          "output_type": "stream",
          "name": "stderr",
          "text": [
            "100%|██████████| 391/391 [00:06<00:00, 63.73it/s]\n"
          ]
        },
        {
          "output_type": "stream",
          "name": "stdout",
          "text": [
            "Performace at epoch 69\n",
            "Train Loss: 0.03667 ; Train Acc: 0.98944\n",
            "Test Loss: 4.36695 ; Test Acc: 0.60631\n",
            "==============\n"
          ]
        },
        {
          "output_type": "stream",
          "name": "stderr",
          "text": [
            "100%|██████████| 391/391 [00:06<00:00, 64.14it/s]\n"
          ]
        },
        {
          "output_type": "stream",
          "name": "stdout",
          "text": [
            "Performace at epoch 70\n",
            "Train Loss: 0.01217 ; Train Acc: 0.99648\n",
            "Test Loss: 4.52945 ; Test Acc: 0.60781\n",
            "==============\n"
          ]
        },
        {
          "output_type": "stream",
          "name": "stderr",
          "text": [
            "100%|██████████| 391/391 [00:06<00:00, 64.41it/s]\n"
          ]
        },
        {
          "output_type": "stream",
          "name": "stdout",
          "text": [
            "Performace at epoch 71\n",
            "Train Loss: 0.02253 ; Train Acc: 0.99276\n",
            "Test Loss: 4.50304 ; Test Acc: 0.59550\n",
            "==============\n"
          ]
        },
        {
          "output_type": "stream",
          "name": "stderr",
          "text": [
            "100%|██████████| 391/391 [00:06<00:00, 64.45it/s]\n"
          ]
        },
        {
          "output_type": "stream",
          "name": "stdout",
          "text": [
            "Performace at epoch 72\n",
            "Train Loss: 0.01846 ; Train Acc: 0.99436\n",
            "Test Loss: 4.44760 ; Test Acc: 0.59429\n",
            "==============\n"
          ]
        },
        {
          "output_type": "stream",
          "name": "stderr",
          "text": [
            "100%|██████████| 391/391 [00:06<00:00, 64.61it/s]\n"
          ]
        },
        {
          "output_type": "stream",
          "name": "stdout",
          "text": [
            "Performace at epoch 73\n",
            "Train Loss: 0.03039 ; Train Acc: 0.99180\n",
            "Test Loss: 4.33189 ; Test Acc: 0.61021\n",
            "==============\n"
          ]
        },
        {
          "output_type": "stream",
          "name": "stderr",
          "text": [
            "100%|██████████| 391/391 [00:06<00:00, 65.14it/s]\n"
          ]
        },
        {
          "output_type": "stream",
          "name": "stdout",
          "text": [
            "Performace at epoch 74\n",
            "Train Loss: 0.01695 ; Train Acc: 0.99500\n",
            "Test Loss: 4.43464 ; Test Acc: 0.59790\n",
            "==============\n"
          ]
        },
        {
          "output_type": "stream",
          "name": "stderr",
          "text": [
            "100%|██████████| 391/391 [00:06<00:00, 64.76it/s]\n"
          ]
        },
        {
          "output_type": "stream",
          "name": "stdout",
          "text": [
            "Performace at epoch 75\n",
            "Train Loss: 0.01376 ; Train Acc: 0.99548\n",
            "Test Loss: 4.34540 ; Test Acc: 0.61171\n",
            "==============\n"
          ]
        },
        {
          "output_type": "stream",
          "name": "stderr",
          "text": [
            "100%|██████████| 391/391 [00:05<00:00, 65.63it/s]\n"
          ]
        },
        {
          "output_type": "stream",
          "name": "stdout",
          "text": [
            "Performace at epoch 76\n",
            "Train Loss: 0.02471 ; Train Acc: 0.99260\n",
            "Test Loss: 4.41356 ; Test Acc: 0.59910\n",
            "==============\n"
          ]
        },
        {
          "output_type": "stream",
          "name": "stderr",
          "text": [
            "100%|██████████| 391/391 [00:06<00:00, 64.91it/s]\n"
          ]
        },
        {
          "output_type": "stream",
          "name": "stdout",
          "text": [
            "Performace at epoch 77\n",
            "Train Loss: 0.02826 ; Train Acc: 0.99212\n",
            "Test Loss: 4.39553 ; Test Acc: 0.59459\n",
            "==============\n"
          ]
        },
        {
          "output_type": "stream",
          "name": "stderr",
          "text": [
            "100%|██████████| 391/391 [00:06<00:00, 64.97it/s]\n"
          ]
        },
        {
          "output_type": "stream",
          "name": "stdout",
          "text": [
            "Performace at epoch 78\n",
            "Train Loss: 0.01480 ; Train Acc: 0.99508\n",
            "Test Loss: 4.59900 ; Test Acc: 0.60781\n",
            "==============\n"
          ]
        },
        {
          "output_type": "stream",
          "name": "stderr",
          "text": [
            "100%|██████████| 391/391 [00:05<00:00, 65.32it/s]\n"
          ]
        },
        {
          "output_type": "stream",
          "name": "stdout",
          "text": [
            "Performace at epoch 79\n",
            "Train Loss: 0.00926 ; Train Acc: 0.99700\n",
            "Test Loss: 4.52008 ; Test Acc: 0.59249\n",
            "==============\n"
          ]
        },
        {
          "output_type": "stream",
          "name": "stderr",
          "text": [
            "100%|██████████| 391/391 [00:06<00:00, 65.02it/s]\n"
          ]
        },
        {
          "output_type": "stream",
          "name": "stdout",
          "text": [
            "Performace at epoch 80\n",
            "Train Loss: 0.00736 ; Train Acc: 0.99816\n",
            "Test Loss: 4.82333 ; Test Acc: 0.59489\n",
            "==============\n"
          ]
        },
        {
          "output_type": "stream",
          "name": "stderr",
          "text": [
            "100%|██████████| 391/391 [00:06<00:00, 65.12it/s]\n"
          ]
        },
        {
          "output_type": "stream",
          "name": "stdout",
          "text": [
            "Performace at epoch 81\n",
            "Train Loss: 0.03043 ; Train Acc: 0.99128\n",
            "Test Loss: 4.83686 ; Test Acc: 0.57808\n",
            "==============\n"
          ]
        },
        {
          "output_type": "stream",
          "name": "stderr",
          "text": [
            "100%|██████████| 391/391 [00:06<00:00, 64.63it/s]\n"
          ]
        },
        {
          "output_type": "stream",
          "name": "stdout",
          "text": [
            "Performace at epoch 82\n",
            "Train Loss: 0.03813 ; Train Acc: 0.98900\n",
            "Test Loss: 4.44696 ; Test Acc: 0.59580\n",
            "==============\n"
          ]
        },
        {
          "output_type": "stream",
          "name": "stderr",
          "text": [
            "100%|██████████| 391/391 [00:06<00:00, 64.48it/s]\n"
          ]
        },
        {
          "output_type": "stream",
          "name": "stdout",
          "text": [
            "Performace at epoch 83\n",
            "Train Loss: 0.01169 ; Train Acc: 0.99608\n",
            "Test Loss: 4.84531 ; Test Acc: 0.60450\n",
            "==============\n"
          ]
        },
        {
          "output_type": "stream",
          "name": "stderr",
          "text": [
            "100%|██████████| 391/391 [00:05<00:00, 65.65it/s]\n"
          ]
        },
        {
          "output_type": "stream",
          "name": "stdout",
          "text": [
            "Performace at epoch 84\n",
            "Train Loss: 0.01299 ; Train Acc: 0.99596\n",
            "Test Loss: 4.56050 ; Test Acc: 0.59369\n",
            "==============\n"
          ]
        },
        {
          "output_type": "stream",
          "name": "stderr",
          "text": [
            "100%|██████████| 391/391 [00:06<00:00, 64.07it/s]\n"
          ]
        },
        {
          "output_type": "stream",
          "name": "stdout",
          "text": [
            "Performace at epoch 85\n",
            "Train Loss: 0.02805 ; Train Acc: 0.99132\n",
            "Test Loss: 4.54188 ; Test Acc: 0.59940\n",
            "==============\n"
          ]
        },
        {
          "output_type": "stream",
          "name": "stderr",
          "text": [
            "100%|██████████| 391/391 [00:05<00:00, 65.32it/s]\n"
          ]
        },
        {
          "output_type": "stream",
          "name": "stdout",
          "text": [
            "Performace at epoch 86\n",
            "Train Loss: 0.00872 ; Train Acc: 0.99744\n",
            "Test Loss: 4.39537 ; Test Acc: 0.60360\n",
            "==============\n"
          ]
        },
        {
          "output_type": "stream",
          "name": "stderr",
          "text": [
            "100%|██████████| 391/391 [00:05<00:00, 65.91it/s]\n"
          ]
        },
        {
          "output_type": "stream",
          "name": "stdout",
          "text": [
            "Performace at epoch 87\n",
            "Train Loss: 0.01098 ; Train Acc: 0.99632\n",
            "Test Loss: 4.30877 ; Test Acc: 0.60721\n",
            "==============\n"
          ]
        },
        {
          "output_type": "stream",
          "name": "stderr",
          "text": [
            "100%|██████████| 391/391 [00:05<00:00, 65.97it/s]\n"
          ]
        },
        {
          "output_type": "stream",
          "name": "stdout",
          "text": [
            "Performace at epoch 88\n",
            "Train Loss: 0.02072 ; Train Acc: 0.99376\n",
            "Test Loss: 4.63996 ; Test Acc: 0.59640\n",
            "==============\n"
          ]
        },
        {
          "output_type": "stream",
          "name": "stderr",
          "text": [
            "100%|██████████| 391/391 [00:05<00:00, 65.45it/s]\n"
          ]
        },
        {
          "output_type": "stream",
          "name": "stdout",
          "text": [
            "Performace at epoch 89\n",
            "Train Loss: 0.02616 ; Train Acc: 0.99220\n",
            "Test Loss: 4.67949 ; Test Acc: 0.60541\n",
            "==============\n"
          ]
        },
        {
          "output_type": "stream",
          "name": "stderr",
          "text": [
            "100%|██████████| 391/391 [00:05<00:00, 65.35it/s]\n"
          ]
        },
        {
          "output_type": "stream",
          "name": "stdout",
          "text": [
            "Performace at epoch 90\n",
            "Train Loss: 0.02960 ; Train Acc: 0.99108\n",
            "Test Loss: 4.61685 ; Test Acc: 0.60060\n",
            "==============\n"
          ]
        },
        {
          "output_type": "stream",
          "name": "stderr",
          "text": [
            "100%|██████████| 391/391 [00:06<00:00, 64.58it/s]\n"
          ]
        },
        {
          "output_type": "stream",
          "name": "stdout",
          "text": [
            "Performace at epoch 91\n",
            "Train Loss: 0.01392 ; Train Acc: 0.99580\n",
            "Test Loss: 4.47104 ; Test Acc: 0.62102\n",
            "==============\n"
          ]
        },
        {
          "output_type": "stream",
          "name": "stderr",
          "text": [
            "100%|██████████| 391/391 [00:06<00:00, 64.40it/s]\n"
          ]
        },
        {
          "output_type": "stream",
          "name": "stdout",
          "text": [
            "Performace at epoch 92\n",
            "Train Loss: 0.01342 ; Train Acc: 0.99596\n",
            "Test Loss: 4.90333 ; Test Acc: 0.59700\n",
            "==============\n"
          ]
        },
        {
          "output_type": "stream",
          "name": "stderr",
          "text": [
            "100%|██████████| 391/391 [00:06<00:00, 64.89it/s]\n"
          ]
        },
        {
          "output_type": "stream",
          "name": "stdout",
          "text": [
            "Performace at epoch 93\n",
            "Train Loss: 0.02165 ; Train Acc: 0.99356\n",
            "Test Loss: 4.79511 ; Test Acc: 0.59369\n",
            "==============\n"
          ]
        },
        {
          "output_type": "stream",
          "name": "stderr",
          "text": [
            "100%|██████████| 391/391 [00:06<00:00, 64.77it/s]\n"
          ]
        },
        {
          "output_type": "stream",
          "name": "stdout",
          "text": [
            "Performace at epoch 94\n",
            "Train Loss: 0.02315 ; Train Acc: 0.99300\n",
            "Test Loss: 4.70368 ; Test Acc: 0.60480\n",
            "==============\n"
          ]
        },
        {
          "output_type": "stream",
          "name": "stderr",
          "text": [
            "100%|██████████| 391/391 [00:06<00:00, 64.83it/s]\n"
          ]
        },
        {
          "output_type": "stream",
          "name": "stdout",
          "text": [
            "Performace at epoch 95\n",
            "Train Loss: 0.01391 ; Train Acc: 0.99560\n",
            "Test Loss: 4.95696 ; Test Acc: 0.59099\n",
            "==============\n"
          ]
        },
        {
          "output_type": "stream",
          "name": "stderr",
          "text": [
            "100%|██████████| 391/391 [00:05<00:00, 65.53it/s]\n"
          ]
        },
        {
          "output_type": "stream",
          "name": "stdout",
          "text": [
            "Performace at epoch 96\n",
            "Train Loss: 0.02296 ; Train Acc: 0.99368\n",
            "Test Loss: 5.05561 ; Test Acc: 0.58739\n",
            "==============\n"
          ]
        },
        {
          "output_type": "stream",
          "name": "stderr",
          "text": [
            "100%|██████████| 391/391 [00:06<00:00, 64.81it/s]\n"
          ]
        },
        {
          "output_type": "stream",
          "name": "stdout",
          "text": [
            "Performace at epoch 97\n",
            "Train Loss: 0.01806 ; Train Acc: 0.99488\n",
            "Test Loss: 4.74428 ; Test Acc: 0.57417\n",
            "==============\n"
          ]
        },
        {
          "output_type": "stream",
          "name": "stderr",
          "text": [
            "100%|██████████| 391/391 [00:06<00:00, 65.03it/s]\n"
          ]
        },
        {
          "output_type": "stream",
          "name": "stdout",
          "text": [
            "Performace at epoch 98\n",
            "Train Loss: 0.01515 ; Train Acc: 0.99484\n",
            "Test Loss: 4.97283 ; Test Acc: 0.60030\n",
            "==============\n"
          ]
        },
        {
          "output_type": "stream",
          "name": "stderr",
          "text": [
            "100%|██████████| 391/391 [00:06<00:00, 64.77it/s]\n"
          ]
        },
        {
          "output_type": "stream",
          "name": "stdout",
          "text": [
            "Performace at epoch 99\n",
            "Train Loss: 0.01614 ; Train Acc: 0.99608\n",
            "Test Loss: 4.72360 ; Test Acc: 0.60300\n",
            "==============\n"
          ]
        },
        {
          "output_type": "stream",
          "name": "stderr",
          "text": [
            "100%|██████████| 391/391 [00:06<00:00, 65.07it/s]"
          ]
        },
        {
          "output_type": "stream",
          "name": "stdout",
          "text": [
            "Performace at epoch 100\n",
            "Train Loss: 0.00851 ; Train Acc: 0.99740\n",
            "Test Loss: 4.54911 ; Test Acc: 0.60030\n",
            "==============\n"
          ]
        },
        {
          "output_type": "stream",
          "name": "stderr",
          "text": [
            "\n"
          ]
        }
      ]
    },
    {
      "cell_type": "code",
      "metadata": {
        "colab": {
          "base_uri": "https://localhost:8080/",
          "height": 295
        },
        "id": "JJvQ6ygniNng",
        "outputId": "05eb7976-b2e0-4b04-b062-f3cd44558a6a"
      },
      "source": [
        "# plot loss\n",
        "plt.plot(range(1, len(train_loss) + 1), train_loss, label='train loss')\n",
        "plt.plot(range(1, len(test_loss) + 1), test_loss, label='test loss')\n",
        "plt.xlabel('epochs')\n",
        "plt.ylabel('loss')\n",
        "plt.title('loss vs epochs')\n",
        "plt.legend()\n",
        "plt.show()"
      ],
      "execution_count": null,
      "outputs": [
        {
          "output_type": "display_data",
          "data": {
            "image/png": "[encoded data removed]",
            "text/plain": [
              "<Figure size 432x288 with 1 Axes>"
            ]
          },
          "metadata": {
            "needs_background": "light"
          }
        }
      ]
    },
    {
      "cell_type": "code",
      "metadata": {
        "colab": {
          "base_uri": "https://localhost:8080/",
          "height": 295
        },
        "id": "VWhk3gJomc7Q",
        "outputId": "0835df3e-e5fd-491f-b09f-75297c3962f3"
      },
      "source": [
        "# plot acc\n",
        "plt.plot(range(1, NUM_EPOCHS + 1), train_acc, label='train acc')\n",
        "plt.plot(range(1, NUM_EPOCHS + 1), test_acc, label='test acc')\n",
        "plt.xlabel('epochs')\n",
        "plt.ylabel('acc')\n",
        "plt.title('acc vs epochs')\n",
        "plt.legend()\n",
        "plt.show()"
      ],
      "execution_count": null,
      "outputs": [
        {
          "output_type": "display_data",
          "data": {
            "image/png": "[encoded data removed]",
            "text/plain": [
              "<Figure size 432x288 with 1 Axes>"
            ]
          },
          "metadata": {
            "needs_background": "light"
          }
        }
      ]
    },
    {
      "cell_type": "markdown",
      "source": [
        "## Hyperparameter tuning\n",
        "- For a set of hyperparameters, various trials with different models are trained based on randomly-sampled or exhaustive hyperparameters upto a certain number of epochs (dependent on lr). Finally the best set of hyperparameters are chosen which correspond to the minimum testing loss after training."
      ],
      "metadata": {
        "id": "iOkjJTzSITPi"
      }
    },
    {
      "cell_type": "code",
      "source": [
        "import decimal"
      ],
      "metadata": {
        "id": "K-uhEFuHIUCv"
      },
      "execution_count": null,
      "outputs": []
    },
    {
      "cell_type": "code",
      "source": [
        "HYPERPARAMS = {\n",
        "    'lr': [0.01, 0.005, 0.001, 0.0001],\n",
        "    'beta1': [0.5, 0.7, 0.9],\n",
        "    'beta2': [0.9, 0.95, 0.999],\n",
        "    'eps': [1e-7, 1e-8, 1e-9],\n",
        "    'weight_decay': [1e-5, 1e-6]\n",
        "}\n",
        "TRIALS = 10\n",
        "\n",
        "def get_epochs(lr):\n",
        "    '''\n",
        "    returns number of epochs for a given learning rate while tuning\n",
        "    '''\n",
        "    d = decimal.Decimal(str(lr))\n",
        "    pow = d.as_tuple().exponent\n",
        "    if pow >= -1:\n",
        "        return 10\n",
        "    elif pow >= -2:\n",
        "        return 15\n",
        "    elif pow >= -3:\n",
        "        return 20\n",
        "    else:\n",
        "        return 25"
      ],
      "metadata": {
        "id": "N4WPzVYeIVhX"
      },
      "execution_count": null,
      "outputs": []
    },
    {
      "cell_type": "code",
      "source": [
        "best_params, min_loss = None, np.inf\n",
        "for t in range(TRIALS):\n",
        "    print(f'\\n> Starting trial {t+1}')\n",
        "    ## choose a set of hyperparameters\n",
        "    chosen = {}\n",
        "    for h in HYPERPARAMS:\n",
        "        chosen[h] = np.random.choice(HYPERPARAMS[h])\n",
        "    print(f'Chosen hyperparams: {chosen}')\n",
        "    print()\n",
        "    ## model, loss & optimizer\n",
        "    model = CNN()\n",
        "    model.to(device)\n",
        "    error = nn.NLLLoss()\n",
        "    optimizer = torch.optim.Adam(model.parameters(), lr=chosen['lr'], betas=(chosen['beta1'], chosen['beta2']), eps=chosen['eps'], weight_decay=chosen['weight_decay'])\n",
        "    ## training\n",
        "    EPOCHS_TEST = get_epochs(chosen['lr'])\n",
        "    for epoch in range(1, EPOCHS_TEST + 1):\n",
        "        total_loss = 0; total = 0\n",
        "        for images, labels in tqdm(train_loader):\n",
        "            # forward + backward + step\n",
        "            optimizer.zero_grad()\n",
        "            images, labels = images.to(device), labels.to(device)\n",
        "            outputs = model(images)\n",
        "            loss = error(outputs, labels)\n",
        "            total_loss += loss.item() * len(outputs)\n",
        "            loss.backward() \n",
        "            optimizer.step() \n",
        "            total += len(labels)\n",
        "        total_loss /= total\n",
        "        print(f'Training loss at epoch {epoch}: {total_loss:.5f}')\n",
        "    ## calculate testing loss\n",
        "    with torch.no_grad():\n",
        "        predicted = model(test_X)\n",
        "        testing_loss = error(predicted, test_Y).item()\n",
        "    print(f'* Testing loss: {testing_loss:.5f}')\n",
        "    ## check final total loss\n",
        "    if testing_loss < min_loss:\n",
        "        min_loss = testing_loss\n",
        "        best_params = chosen\n",
        "        print()\n",
        "        print(f'* Best params updated!: {best_params}')\n",
        "    print('==============')"
      ],
      "metadata": {
        "colab": {
          "base_uri": "https://localhost:8080/"
        },
        "id": "Rpk6FuugKHnY",
        "outputId": "d099df1d-afc2-423e-d5e8-fbd61bf3ac0c"
      },
      "execution_count": null,
      "outputs": [
        {
          "output_type": "stream",
          "name": "stdout",
          "text": [
            "\n",
            "> Starting trial 1\n",
            "Chosen hyperparams: {'lr': 0.01, 'beta1': 0.5, 'beta2': 0.95, 'eps': 1e-07, 'weight_decay': 1e-06}\n",
            "\n"
          ]
        },
        {
          "output_type": "stream",
          "name": "stderr",
          "text": [
            "100%|██████████| 391/391 [00:06<00:00, 62.46it/s]\n"
          ]
        },
        {
          "output_type": "stream",
          "name": "stdout",
          "text": [
            "Training loss at epoch 1: 2.32487\n"
          ]
        },
        {
          "output_type": "stream",
          "name": "stderr",
          "text": [
            "100%|██████████| 391/391 [00:06<00:00, 63.70it/s]\n"
          ]
        },
        {
          "output_type": "stream",
          "name": "stdout",
          "text": [
            "Training loss at epoch 2: 1.61819\n"
          ]
        },
        {
          "output_type": "stream",
          "name": "stderr",
          "text": [
            "100%|██████████| 391/391 [00:06<00:00, 63.53it/s]\n"
          ]
        },
        {
          "output_type": "stream",
          "name": "stdout",
          "text": [
            "Training loss at epoch 3: 1.42156\n"
          ]
        },
        {
          "output_type": "stream",
          "name": "stderr",
          "text": [
            "100%|██████████| 391/391 [00:06<00:00, 64.86it/s]\n"
          ]
        },
        {
          "output_type": "stream",
          "name": "stdout",
          "text": [
            "Training loss at epoch 4: 1.31607\n"
          ]
        },
        {
          "output_type": "stream",
          "name": "stderr",
          "text": [
            "100%|██████████| 391/391 [00:06<00:00, 64.03it/s]\n"
          ]
        },
        {
          "output_type": "stream",
          "name": "stdout",
          "text": [
            "Training loss at epoch 5: 1.24042\n"
          ]
        },
        {
          "output_type": "stream",
          "name": "stderr",
          "text": [
            "100%|██████████| 391/391 [00:06<00:00, 64.17it/s]\n"
          ]
        },
        {
          "output_type": "stream",
          "name": "stdout",
          "text": [
            "Training loss at epoch 6: 1.18062\n"
          ]
        },
        {
          "output_type": "stream",
          "name": "stderr",
          "text": [
            "100%|██████████| 391/391 [00:05<00:00, 65.26it/s]\n"
          ]
        },
        {
          "output_type": "stream",
          "name": "stdout",
          "text": [
            "Training loss at epoch 7: 1.12673\n"
          ]
        },
        {
          "output_type": "stream",
          "name": "stderr",
          "text": [
            "100%|██████████| 391/391 [00:06<00:00, 64.39it/s]\n"
          ]
        },
        {
          "output_type": "stream",
          "name": "stdout",
          "text": [
            "Training loss at epoch 8: 1.08384\n"
          ]
        },
        {
          "output_type": "stream",
          "name": "stderr",
          "text": [
            "100%|██████████| 391/391 [00:06<00:00, 64.14it/s]\n"
          ]
        },
        {
          "output_type": "stream",
          "name": "stdout",
          "text": [
            "Training loss at epoch 9: 1.03026\n"
          ]
        },
        {
          "output_type": "stream",
          "name": "stderr",
          "text": [
            "100%|██████████| 391/391 [00:05<00:00, 65.27it/s]\n"
          ]
        },
        {
          "output_type": "stream",
          "name": "stdout",
          "text": [
            "Training loss at epoch 10: 0.99136\n"
          ]
        },
        {
          "output_type": "stream",
          "name": "stderr",
          "text": [
            "100%|██████████| 391/391 [00:06<00:00, 63.27it/s]\n"
          ]
        },
        {
          "output_type": "stream",
          "name": "stdout",
          "text": [
            "Training loss at epoch 11: 0.95452\n"
          ]
        },
        {
          "output_type": "stream",
          "name": "stderr",
          "text": [
            "100%|██████████| 391/391 [00:06<00:00, 63.63it/s]\n"
          ]
        },
        {
          "output_type": "stream",
          "name": "stdout",
          "text": [
            "Training loss at epoch 12: 0.92470\n"
          ]
        },
        {
          "output_type": "stream",
          "name": "stderr",
          "text": [
            "100%|██████████| 391/391 [00:06<00:00, 64.19it/s]\n"
          ]
        },
        {
          "output_type": "stream",
          "name": "stdout",
          "text": [
            "Training loss at epoch 13: 0.90067\n"
          ]
        },
        {
          "output_type": "stream",
          "name": "stderr",
          "text": [
            "100%|██████████| 391/391 [00:06<00:00, 64.11it/s]\n"
          ]
        },
        {
          "output_type": "stream",
          "name": "stdout",
          "text": [
            "Training loss at epoch 14: 0.87471\n"
          ]
        },
        {
          "output_type": "stream",
          "name": "stderr",
          "text": [
            "100%|██████████| 391/391 [00:06<00:00, 64.02it/s]\n"
          ]
        },
        {
          "output_type": "stream",
          "name": "stdout",
          "text": [
            "Training loss at epoch 15: 0.85050\n",
            "* Testing loss: 1.80210\n",
            "\n",
            "* Best params updated!: {'lr': 0.01, 'beta1': 0.5, 'beta2': 0.95, 'eps': 1e-07, 'weight_decay': 1e-06}\n",
            "==============\n",
            "\n",
            "> Starting trial 2\n",
            "Chosen hyperparams: {'lr': 0.01, 'beta1': 0.7, 'beta2': 0.999, 'eps': 1e-07, 'weight_decay': 1e-06}\n",
            "\n"
          ]
        },
        {
          "output_type": "stream",
          "name": "stderr",
          "text": [
            "100%|██████████| 391/391 [00:06<00:00, 63.49it/s]\n"
          ]
        },
        {
          "output_type": "stream",
          "name": "stdout",
          "text": [
            "Training loss at epoch 1: 1.95482\n"
          ]
        },
        {
          "output_type": "stream",
          "name": "stderr",
          "text": [
            "100%|██████████| 391/391 [00:06<00:00, 62.99it/s]\n"
          ]
        },
        {
          "output_type": "stream",
          "name": "stdout",
          "text": [
            "Training loss at epoch 2: 1.57562\n"
          ]
        },
        {
          "output_type": "stream",
          "name": "stderr",
          "text": [
            "100%|██████████| 391/391 [00:06<00:00, 64.03it/s]\n"
          ]
        },
        {
          "output_type": "stream",
          "name": "stdout",
          "text": [
            "Training loss at epoch 3: 1.42140\n"
          ]
        },
        {
          "output_type": "stream",
          "name": "stderr",
          "text": [
            "100%|██████████| 391/391 [00:06<00:00, 63.93it/s]\n"
          ]
        },
        {
          "output_type": "stream",
          "name": "stdout",
          "text": [
            "Training loss at epoch 4: 1.28894\n"
          ]
        },
        {
          "output_type": "stream",
          "name": "stderr",
          "text": [
            "100%|██████████| 391/391 [00:06<00:00, 63.88it/s]\n"
          ]
        },
        {
          "output_type": "stream",
          "name": "stdout",
          "text": [
            "Training loss at epoch 5: 1.15913\n"
          ]
        },
        {
          "output_type": "stream",
          "name": "stderr",
          "text": [
            "100%|██████████| 391/391 [00:06<00:00, 62.79it/s]\n"
          ]
        },
        {
          "output_type": "stream",
          "name": "stdout",
          "text": [
            "Training loss at epoch 6: 1.01674\n"
          ]
        },
        {
          "output_type": "stream",
          "name": "stderr",
          "text": [
            "100%|██████████| 391/391 [00:06<00:00, 64.00it/s]\n"
          ]
        },
        {
          "output_type": "stream",
          "name": "stdout",
          "text": [
            "Training loss at epoch 7: 0.93710\n"
          ]
        },
        {
          "output_type": "stream",
          "name": "stderr",
          "text": [
            "100%|██████████| 391/391 [00:06<00:00, 62.99it/s]\n"
          ]
        },
        {
          "output_type": "stream",
          "name": "stdout",
          "text": [
            "Training loss at epoch 8: 0.78334\n"
          ]
        },
        {
          "output_type": "stream",
          "name": "stderr",
          "text": [
            "100%|██████████| 391/391 [00:06<00:00, 63.45it/s]\n"
          ]
        },
        {
          "output_type": "stream",
          "name": "stdout",
          "text": [
            "Training loss at epoch 9: 0.67521\n"
          ]
        },
        {
          "output_type": "stream",
          "name": "stderr",
          "text": [
            "100%|██████████| 391/391 [00:06<00:00, 64.21it/s]\n"
          ]
        },
        {
          "output_type": "stream",
          "name": "stdout",
          "text": [
            "Training loss at epoch 10: 0.57749\n"
          ]
        },
        {
          "output_type": "stream",
          "name": "stderr",
          "text": [
            "100%|██████████| 391/391 [00:06<00:00, 63.71it/s]\n"
          ]
        },
        {
          "output_type": "stream",
          "name": "stdout",
          "text": [
            "Training loss at epoch 11: 0.53710\n"
          ]
        },
        {
          "output_type": "stream",
          "name": "stderr",
          "text": [
            "100%|██████████| 391/391 [00:06<00:00, 62.38it/s]\n"
          ]
        },
        {
          "output_type": "stream",
          "name": "stdout",
          "text": [
            "Training loss at epoch 12: 0.49327\n"
          ]
        },
        {
          "output_type": "stream",
          "name": "stderr",
          "text": [
            "100%|██████████| 391/391 [00:06<00:00, 64.59it/s]\n"
          ]
        },
        {
          "output_type": "stream",
          "name": "stdout",
          "text": [
            "Training loss at epoch 13: 0.43141\n"
          ]
        },
        {
          "output_type": "stream",
          "name": "stderr",
          "text": [
            "100%|██████████| 391/391 [00:06<00:00, 63.98it/s]\n"
          ]
        },
        {
          "output_type": "stream",
          "name": "stdout",
          "text": [
            "Training loss at epoch 14: 0.40664\n"
          ]
        },
        {
          "output_type": "stream",
          "name": "stderr",
          "text": [
            "100%|██████████| 391/391 [00:06<00:00, 63.90it/s]\n"
          ]
        },
        {
          "output_type": "stream",
          "name": "stdout",
          "text": [
            "Training loss at epoch 15: 0.38250\n",
            "* Testing loss: 3.06447\n",
            "==============\n",
            "\n",
            "> Starting trial 3\n",
            "Chosen hyperparams: {'lr': 0.005, 'beta1': 0.5, 'beta2': 0.95, 'eps': 1e-08, 'weight_decay': 1e-06}\n",
            "\n"
          ]
        },
        {
          "output_type": "stream",
          "name": "stderr",
          "text": [
            "100%|██████████| 391/391 [00:06<00:00, 63.73it/s]\n"
          ]
        },
        {
          "output_type": "stream",
          "name": "stdout",
          "text": [
            "Training loss at epoch 1: 1.70010\n"
          ]
        },
        {
          "output_type": "stream",
          "name": "stderr",
          "text": [
            "100%|██████████| 391/391 [00:06<00:00, 62.82it/s]\n"
          ]
        },
        {
          "output_type": "stream",
          "name": "stdout",
          "text": [
            "Training loss at epoch 2: 1.32153\n"
          ]
        },
        {
          "output_type": "stream",
          "name": "stderr",
          "text": [
            "100%|██████████| 391/391 [00:06<00:00, 63.13it/s]\n"
          ]
        },
        {
          "output_type": "stream",
          "name": "stdout",
          "text": [
            "Training loss at epoch 3: 1.13033\n"
          ]
        },
        {
          "output_type": "stream",
          "name": "stderr",
          "text": [
            "100%|██████████| 391/391 [00:06<00:00, 63.70it/s]\n"
          ]
        },
        {
          "output_type": "stream",
          "name": "stdout",
          "text": [
            "Training loss at epoch 4: 0.96956\n"
          ]
        },
        {
          "output_type": "stream",
          "name": "stderr",
          "text": [
            "100%|██████████| 391/391 [00:06<00:00, 64.26it/s]\n"
          ]
        },
        {
          "output_type": "stream",
          "name": "stdout",
          "text": [
            "Training loss at epoch 5: 0.82284\n"
          ]
        },
        {
          "output_type": "stream",
          "name": "stderr",
          "text": [
            "100%|██████████| 391/391 [00:06<00:00, 63.07it/s]\n"
          ]
        },
        {
          "output_type": "stream",
          "name": "stdout",
          "text": [
            "Training loss at epoch 6: 0.69280\n"
          ]
        },
        {
          "output_type": "stream",
          "name": "stderr",
          "text": [
            "100%|██████████| 391/391 [00:06<00:00, 63.61it/s]\n"
          ]
        },
        {
          "output_type": "stream",
          "name": "stdout",
          "text": [
            "Training loss at epoch 7: 0.58728\n"
          ]
        },
        {
          "output_type": "stream",
          "name": "stderr",
          "text": [
            "100%|██████████| 391/391 [00:06<00:00, 63.51it/s]\n"
          ]
        },
        {
          "output_type": "stream",
          "name": "stdout",
          "text": [
            "Training loss at epoch 8: 0.48559\n"
          ]
        },
        {
          "output_type": "stream",
          "name": "stderr",
          "text": [
            "100%|██████████| 391/391 [00:06<00:00, 64.09it/s]\n"
          ]
        },
        {
          "output_type": "stream",
          "name": "stdout",
          "text": [
            "Training loss at epoch 9: 0.42272\n"
          ]
        },
        {
          "output_type": "stream",
          "name": "stderr",
          "text": [
            "100%|██████████| 391/391 [00:06<00:00, 63.51it/s]\n"
          ]
        },
        {
          "output_type": "stream",
          "name": "stdout",
          "text": [
            "Training loss at epoch 10: 0.37653\n"
          ]
        },
        {
          "output_type": "stream",
          "name": "stderr",
          "text": [
            "100%|██████████| 391/391 [00:06<00:00, 64.31it/s]\n"
          ]
        },
        {
          "output_type": "stream",
          "name": "stdout",
          "text": [
            "Training loss at epoch 11: 0.32707\n"
          ]
        },
        {
          "output_type": "stream",
          "name": "stderr",
          "text": [
            "100%|██████████| 391/391 [00:06<00:00, 63.63it/s]\n"
          ]
        },
        {
          "output_type": "stream",
          "name": "stdout",
          "text": [
            "Training loss at epoch 12: 0.31000\n"
          ]
        },
        {
          "output_type": "stream",
          "name": "stderr",
          "text": [
            "100%|██████████| 391/391 [00:06<00:00, 63.34it/s]\n"
          ]
        },
        {
          "output_type": "stream",
          "name": "stdout",
          "text": [
            "Training loss at epoch 13: 0.27995\n"
          ]
        },
        {
          "output_type": "stream",
          "name": "stderr",
          "text": [
            "100%|██████████| 391/391 [00:06<00:00, 63.99it/s]\n"
          ]
        },
        {
          "output_type": "stream",
          "name": "stdout",
          "text": [
            "Training loss at epoch 14: 0.26257\n"
          ]
        },
        {
          "output_type": "stream",
          "name": "stderr",
          "text": [
            "100%|██████████| 391/391 [00:06<00:00, 64.01it/s]\n"
          ]
        },
        {
          "output_type": "stream",
          "name": "stdout",
          "text": [
            "Training loss at epoch 15: 0.25741\n"
          ]
        },
        {
          "output_type": "stream",
          "name": "stderr",
          "text": [
            "100%|██████████| 391/391 [00:06<00:00, 64.05it/s]\n"
          ]
        },
        {
          "output_type": "stream",
          "name": "stdout",
          "text": [
            "Training loss at epoch 16: 0.24237\n"
          ]
        },
        {
          "output_type": "stream",
          "name": "stderr",
          "text": [
            "100%|██████████| 391/391 [00:06<00:00, 65.09it/s]\n"
          ]
        },
        {
          "output_type": "stream",
          "name": "stdout",
          "text": [
            "Training loss at epoch 17: 0.24782\n"
          ]
        },
        {
          "output_type": "stream",
          "name": "stderr",
          "text": [
            "100%|██████████| 391/391 [00:06<00:00, 64.10it/s]\n"
          ]
        },
        {
          "output_type": "stream",
          "name": "stdout",
          "text": [
            "Training loss at epoch 18: 0.22842\n"
          ]
        },
        {
          "output_type": "stream",
          "name": "stderr",
          "text": [
            "100%|██████████| 391/391 [00:06<00:00, 64.39it/s]\n"
          ]
        },
        {
          "output_type": "stream",
          "name": "stdout",
          "text": [
            "Training loss at epoch 19: 0.22098\n"
          ]
        },
        {
          "output_type": "stream",
          "name": "stderr",
          "text": [
            "100%|██████████| 391/391 [00:06<00:00, 64.12it/s]\n"
          ]
        },
        {
          "output_type": "stream",
          "name": "stdout",
          "text": [
            "Training loss at epoch 20: 0.20902\n",
            "* Testing loss: 4.52591\n",
            "==============\n",
            "\n",
            "> Starting trial 4\n",
            "Chosen hyperparams: {'lr': 0.01, 'beta1': 0.7, 'beta2': 0.95, 'eps': 1e-09, 'weight_decay': 1e-05}\n",
            "\n"
          ]
        },
        {
          "output_type": "stream",
          "name": "stderr",
          "text": [
            "100%|██████████| 391/391 [00:06<00:00, 63.66it/s]\n"
          ]
        },
        {
          "output_type": "stream",
          "name": "stdout",
          "text": [
            "Training loss at epoch 1: 1.79393\n"
          ]
        },
        {
          "output_type": "stream",
          "name": "stderr",
          "text": [
            "100%|██████████| 391/391 [00:06<00:00, 63.59it/s]\n"
          ]
        },
        {
          "output_type": "stream",
          "name": "stdout",
          "text": [
            "Training loss at epoch 2: 1.45692\n"
          ]
        },
        {
          "output_type": "stream",
          "name": "stderr",
          "text": [
            "100%|██████████| 391/391 [00:06<00:00, 63.19it/s]\n"
          ]
        },
        {
          "output_type": "stream",
          "name": "stdout",
          "text": [
            "Training loss at epoch 3: 1.33079\n"
          ]
        },
        {
          "output_type": "stream",
          "name": "stderr",
          "text": [
            "100%|██████████| 391/391 [00:06<00:00, 63.68it/s]\n"
          ]
        },
        {
          "output_type": "stream",
          "name": "stdout",
          "text": [
            "Training loss at epoch 4: 1.22089\n"
          ]
        },
        {
          "output_type": "stream",
          "name": "stderr",
          "text": [
            "100%|██████████| 391/391 [00:06<00:00, 64.01it/s]\n"
          ]
        },
        {
          "output_type": "stream",
          "name": "stdout",
          "text": [
            "Training loss at epoch 5: 1.12059\n"
          ]
        },
        {
          "output_type": "stream",
          "name": "stderr",
          "text": [
            "100%|██████████| 391/391 [00:06<00:00, 64.20it/s]\n"
          ]
        },
        {
          "output_type": "stream",
          "name": "stdout",
          "text": [
            "Training loss at epoch 6: 1.03714\n"
          ]
        },
        {
          "output_type": "stream",
          "name": "stderr",
          "text": [
            "100%|██████████| 391/391 [00:06<00:00, 64.04it/s]\n"
          ]
        },
        {
          "output_type": "stream",
          "name": "stdout",
          "text": [
            "Training loss at epoch 7: 0.95287\n"
          ]
        },
        {
          "output_type": "stream",
          "name": "stderr",
          "text": [
            "100%|██████████| 391/391 [00:06<00:00, 63.87it/s]\n"
          ]
        },
        {
          "output_type": "stream",
          "name": "stdout",
          "text": [
            "Training loss at epoch 8: 0.87130\n"
          ]
        },
        {
          "output_type": "stream",
          "name": "stderr",
          "text": [
            "100%|██████████| 391/391 [00:06<00:00, 63.08it/s]\n"
          ]
        },
        {
          "output_type": "stream",
          "name": "stdout",
          "text": [
            "Training loss at epoch 9: 0.81030\n"
          ]
        },
        {
          "output_type": "stream",
          "name": "stderr",
          "text": [
            "100%|██████████| 391/391 [00:06<00:00, 63.35it/s]\n"
          ]
        },
        {
          "output_type": "stream",
          "name": "stdout",
          "text": [
            "Training loss at epoch 10: 0.74370\n"
          ]
        },
        {
          "output_type": "stream",
          "name": "stderr",
          "text": [
            "100%|██████████| 391/391 [00:06<00:00, 63.46it/s]\n"
          ]
        },
        {
          "output_type": "stream",
          "name": "stdout",
          "text": [
            "Training loss at epoch 11: 0.69811\n"
          ]
        },
        {
          "output_type": "stream",
          "name": "stderr",
          "text": [
            "100%|██████████| 391/391 [00:06<00:00, 64.24it/s]\n"
          ]
        },
        {
          "output_type": "stream",
          "name": "stdout",
          "text": [
            "Training loss at epoch 12: 0.65974\n"
          ]
        },
        {
          "output_type": "stream",
          "name": "stderr",
          "text": [
            "100%|██████████| 391/391 [00:06<00:00, 63.20it/s]\n"
          ]
        },
        {
          "output_type": "stream",
          "name": "stdout",
          "text": [
            "Training loss at epoch 13: 0.62946\n"
          ]
        },
        {
          "output_type": "stream",
          "name": "stderr",
          "text": [
            "100%|██████████| 391/391 [00:06<00:00, 63.23it/s]\n"
          ]
        },
        {
          "output_type": "stream",
          "name": "stdout",
          "text": [
            "Training loss at epoch 14: 0.57764\n"
          ]
        },
        {
          "output_type": "stream",
          "name": "stderr",
          "text": [
            "100%|██████████| 391/391 [00:06<00:00, 62.36it/s]\n"
          ]
        },
        {
          "output_type": "stream",
          "name": "stdout",
          "text": [
            "Training loss at epoch 15: 0.56011\n",
            "* Testing loss: 2.36221\n",
            "==============\n",
            "\n",
            "> Starting trial 5\n",
            "Chosen hyperparams: {'lr': 0.005, 'beta1': 0.9, 'beta2': 0.9, 'eps': 1e-08, 'weight_decay': 1e-06}\n",
            "\n"
          ]
        },
        {
          "output_type": "stream",
          "name": "stderr",
          "text": [
            "100%|██████████| 391/391 [00:06<00:00, 63.06it/s]\n"
          ]
        },
        {
          "output_type": "stream",
          "name": "stdout",
          "text": [
            "Training loss at epoch 1: 1.84752\n"
          ]
        },
        {
          "output_type": "stream",
          "name": "stderr",
          "text": [
            "100%|██████████| 391/391 [00:06<00:00, 63.74it/s]\n"
          ]
        },
        {
          "output_type": "stream",
          "name": "stdout",
          "text": [
            "Training loss at epoch 2: 1.44237\n"
          ]
        },
        {
          "output_type": "stream",
          "name": "stderr",
          "text": [
            "100%|██████████| 391/391 [00:06<00:00, 63.34it/s]\n"
          ]
        },
        {
          "output_type": "stream",
          "name": "stdout",
          "text": [
            "Training loss at epoch 3: 1.26601\n"
          ]
        },
        {
          "output_type": "stream",
          "name": "stderr",
          "text": [
            "100%|██████████| 391/391 [00:06<00:00, 64.10it/s]\n"
          ]
        },
        {
          "output_type": "stream",
          "name": "stdout",
          "text": [
            "Training loss at epoch 4: 1.13189\n"
          ]
        },
        {
          "output_type": "stream",
          "name": "stderr",
          "text": [
            "100%|██████████| 391/391 [00:06<00:00, 64.11it/s]\n"
          ]
        },
        {
          "output_type": "stream",
          "name": "stdout",
          "text": [
            "Training loss at epoch 5: 1.02164\n"
          ]
        },
        {
          "output_type": "stream",
          "name": "stderr",
          "text": [
            "100%|██████████| 391/391 [00:06<00:00, 64.36it/s]\n"
          ]
        },
        {
          "output_type": "stream",
          "name": "stdout",
          "text": [
            "Training loss at epoch 6: 0.90559\n"
          ]
        },
        {
          "output_type": "stream",
          "name": "stderr",
          "text": [
            "100%|██████████| 391/391 [00:06<00:00, 63.55it/s]\n"
          ]
        },
        {
          "output_type": "stream",
          "name": "stdout",
          "text": [
            "Training loss at epoch 7: 0.79104\n"
          ]
        },
        {
          "output_type": "stream",
          "name": "stderr",
          "text": [
            "100%|██████████| 391/391 [00:06<00:00, 62.99it/s]\n"
          ]
        },
        {
          "output_type": "stream",
          "name": "stdout",
          "text": [
            "Training loss at epoch 8: 0.71030\n"
          ]
        },
        {
          "output_type": "stream",
          "name": "stderr",
          "text": [
            "100%|██████████| 391/391 [00:06<00:00, 63.40it/s]\n"
          ]
        },
        {
          "output_type": "stream",
          "name": "stdout",
          "text": [
            "Training loss at epoch 9: 0.62440\n"
          ]
        },
        {
          "output_type": "stream",
          "name": "stderr",
          "text": [
            "100%|██████████| 391/391 [00:06<00:00, 63.79it/s]\n"
          ]
        },
        {
          "output_type": "stream",
          "name": "stdout",
          "text": [
            "Training loss at epoch 10: 0.55890\n"
          ]
        },
        {
          "output_type": "stream",
          "name": "stderr",
          "text": [
            "100%|██████████| 391/391 [00:06<00:00, 62.55it/s]\n"
          ]
        },
        {
          "output_type": "stream",
          "name": "stdout",
          "text": [
            "Training loss at epoch 11: 0.50521\n"
          ]
        },
        {
          "output_type": "stream",
          "name": "stderr",
          "text": [
            "100%|██████████| 391/391 [00:06<00:00, 64.11it/s]\n"
          ]
        },
        {
          "output_type": "stream",
          "name": "stdout",
          "text": [
            "Training loss at epoch 12: 0.45436\n"
          ]
        },
        {
          "output_type": "stream",
          "name": "stderr",
          "text": [
            "100%|██████████| 391/391 [00:06<00:00, 63.50it/s]\n"
          ]
        },
        {
          "output_type": "stream",
          "name": "stdout",
          "text": [
            "Training loss at epoch 13: 0.41213\n"
          ]
        },
        {
          "output_type": "stream",
          "name": "stderr",
          "text": [
            "100%|██████████| 391/391 [00:06<00:00, 64.10it/s]\n"
          ]
        },
        {
          "output_type": "stream",
          "name": "stdout",
          "text": [
            "Training loss at epoch 14: 0.39094\n"
          ]
        },
        {
          "output_type": "stream",
          "name": "stderr",
          "text": [
            "100%|██████████| 391/391 [00:06<00:00, 63.91it/s]\n"
          ]
        },
        {
          "output_type": "stream",
          "name": "stdout",
          "text": [
            "Training loss at epoch 15: 0.35928\n"
          ]
        },
        {
          "output_type": "stream",
          "name": "stderr",
          "text": [
            "100%|██████████| 391/391 [00:06<00:00, 64.09it/s]\n"
          ]
        },
        {
          "output_type": "stream",
          "name": "stdout",
          "text": [
            "Training loss at epoch 16: 0.33307\n"
          ]
        },
        {
          "output_type": "stream",
          "name": "stderr",
          "text": [
            "100%|██████████| 391/391 [00:06<00:00, 63.45it/s]\n"
          ]
        },
        {
          "output_type": "stream",
          "name": "stdout",
          "text": [
            "Training loss at epoch 17: 0.32661\n"
          ]
        },
        {
          "output_type": "stream",
          "name": "stderr",
          "text": [
            "100%|██████████| 391/391 [00:06<00:00, 63.49it/s]\n"
          ]
        },
        {
          "output_type": "stream",
          "name": "stdout",
          "text": [
            "Training loss at epoch 18: 0.31034\n"
          ]
        },
        {
          "output_type": "stream",
          "name": "stderr",
          "text": [
            "100%|██████████| 391/391 [00:06<00:00, 63.44it/s]\n"
          ]
        },
        {
          "output_type": "stream",
          "name": "stdout",
          "text": [
            "Training loss at epoch 19: 0.31399\n"
          ]
        },
        {
          "output_type": "stream",
          "name": "stderr",
          "text": [
            "100%|██████████| 391/391 [00:06<00:00, 64.23it/s]\n"
          ]
        },
        {
          "output_type": "stream",
          "name": "stdout",
          "text": [
            "Training loss at epoch 20: 0.27963\n",
            "* Testing loss: 3.30842\n",
            "==============\n",
            "\n",
            "> Starting trial 6\n",
            "Chosen hyperparams: {'lr': 0.005, 'beta1': 0.7, 'beta2': 0.95, 'eps': 1e-08, 'weight_decay': 1e-06}\n",
            "\n"
          ]
        },
        {
          "output_type": "stream",
          "name": "stderr",
          "text": [
            "100%|██████████| 391/391 [00:06<00:00, 63.86it/s]\n"
          ]
        },
        {
          "output_type": "stream",
          "name": "stdout",
          "text": [
            "Training loss at epoch 1: 1.67168\n"
          ]
        },
        {
          "output_type": "stream",
          "name": "stderr",
          "text": [
            "100%|██████████| 391/391 [00:06<00:00, 63.01it/s]\n"
          ]
        },
        {
          "output_type": "stream",
          "name": "stdout",
          "text": [
            "Training loss at epoch 2: 1.29326\n"
          ]
        },
        {
          "output_type": "stream",
          "name": "stderr",
          "text": [
            "100%|██████████| 391/391 [00:06<00:00, 63.46it/s]\n"
          ]
        },
        {
          "output_type": "stream",
          "name": "stdout",
          "text": [
            "Training loss at epoch 3: 1.10978\n"
          ]
        },
        {
          "output_type": "stream",
          "name": "stderr",
          "text": [
            "100%|██████████| 391/391 [00:06<00:00, 63.27it/s]\n"
          ]
        },
        {
          "output_type": "stream",
          "name": "stdout",
          "text": [
            "Training loss at epoch 4: 0.95300\n"
          ]
        },
        {
          "output_type": "stream",
          "name": "stderr",
          "text": [
            "100%|██████████| 391/391 [00:06<00:00, 62.94it/s]\n"
          ]
        },
        {
          "output_type": "stream",
          "name": "stdout",
          "text": [
            "Training loss at epoch 5: 0.81556\n"
          ]
        },
        {
          "output_type": "stream",
          "name": "stderr",
          "text": [
            "100%|██████████| 391/391 [00:06<00:00, 63.96it/s]\n"
          ]
        },
        {
          "output_type": "stream",
          "name": "stdout",
          "text": [
            "Training loss at epoch 6: 0.69115\n"
          ]
        },
        {
          "output_type": "stream",
          "name": "stderr",
          "text": [
            "100%|██████████| 391/391 [00:06<00:00, 62.92it/s]\n"
          ]
        },
        {
          "output_type": "stream",
          "name": "stdout",
          "text": [
            "Training loss at epoch 7: 0.57955\n"
          ]
        },
        {
          "output_type": "stream",
          "name": "stderr",
          "text": [
            "100%|██████████| 391/391 [00:06<00:00, 62.87it/s]\n"
          ]
        },
        {
          "output_type": "stream",
          "name": "stdout",
          "text": [
            "Training loss at epoch 8: 0.48934\n"
          ]
        },
        {
          "output_type": "stream",
          "name": "stderr",
          "text": [
            "100%|██████████| 391/391 [00:06<00:00, 62.23it/s]\n"
          ]
        },
        {
          "output_type": "stream",
          "name": "stdout",
          "text": [
            "Training loss at epoch 9: 0.43420\n"
          ]
        },
        {
          "output_type": "stream",
          "name": "stderr",
          "text": [
            "100%|██████████| 391/391 [00:06<00:00, 62.94it/s]\n"
          ]
        },
        {
          "output_type": "stream",
          "name": "stdout",
          "text": [
            "Training loss at epoch 10: 0.38598\n"
          ]
        },
        {
          "output_type": "stream",
          "name": "stderr",
          "text": [
            "100%|██████████| 391/391 [00:06<00:00, 62.36it/s]\n"
          ]
        },
        {
          "output_type": "stream",
          "name": "stdout",
          "text": [
            "Training loss at epoch 11: 0.33880\n"
          ]
        },
        {
          "output_type": "stream",
          "name": "stderr",
          "text": [
            "100%|██████████| 391/391 [00:06<00:00, 62.78it/s]\n"
          ]
        },
        {
          "output_type": "stream",
          "name": "stdout",
          "text": [
            "Training loss at epoch 12: 0.30973\n"
          ]
        },
        {
          "output_type": "stream",
          "name": "stderr",
          "text": [
            "100%|██████████| 391/391 [00:06<00:00, 62.97it/s]\n"
          ]
        },
        {
          "output_type": "stream",
          "name": "stdout",
          "text": [
            "Training loss at epoch 13: 0.27994\n"
          ]
        },
        {
          "output_type": "stream",
          "name": "stderr",
          "text": [
            "100%|██████████| 391/391 [00:06<00:00, 63.03it/s]\n"
          ]
        },
        {
          "output_type": "stream",
          "name": "stdout",
          "text": [
            "Training loss at epoch 14: 0.26493\n"
          ]
        },
        {
          "output_type": "stream",
          "name": "stderr",
          "text": [
            "100%|██████████| 391/391 [00:06<00:00, 63.05it/s]\n"
          ]
        },
        {
          "output_type": "stream",
          "name": "stdout",
          "text": [
            "Training loss at epoch 15: 0.25520\n"
          ]
        },
        {
          "output_type": "stream",
          "name": "stderr",
          "text": [
            "100%|██████████| 391/391 [00:06<00:00, 63.63it/s]\n"
          ]
        },
        {
          "output_type": "stream",
          "name": "stdout",
          "text": [
            "Training loss at epoch 16: 0.24607\n"
          ]
        },
        {
          "output_type": "stream",
          "name": "stderr",
          "text": [
            "100%|██████████| 391/391 [00:06<00:00, 62.27it/s]\n"
          ]
        },
        {
          "output_type": "stream",
          "name": "stdout",
          "text": [
            "Training loss at epoch 17: 0.22619\n"
          ]
        },
        {
          "output_type": "stream",
          "name": "stderr",
          "text": [
            "100%|██████████| 391/391 [00:06<00:00, 63.51it/s]\n"
          ]
        },
        {
          "output_type": "stream",
          "name": "stdout",
          "text": [
            "Training loss at epoch 18: 0.22273\n"
          ]
        },
        {
          "output_type": "stream",
          "name": "stderr",
          "text": [
            "100%|██████████| 391/391 [00:06<00:00, 62.02it/s]\n"
          ]
        },
        {
          "output_type": "stream",
          "name": "stdout",
          "text": [
            "Training loss at epoch 19: 0.21154\n"
          ]
        },
        {
          "output_type": "stream",
          "name": "stderr",
          "text": [
            "100%|██████████| 391/391 [00:06<00:00, 63.06it/s]\n"
          ]
        },
        {
          "output_type": "stream",
          "name": "stdout",
          "text": [
            "Training loss at epoch 20: 0.20834\n",
            "* Testing loss: 3.76035\n",
            "==============\n",
            "\n",
            "> Starting trial 7\n",
            "Chosen hyperparams: {'lr': 0.01, 'beta1': 0.9, 'beta2': 0.9, 'eps': 1e-09, 'weight_decay': 1e-06}\n",
            "\n"
          ]
        },
        {
          "output_type": "stream",
          "name": "stderr",
          "text": [
            "100%|██████████| 391/391 [00:06<00:00, 62.66it/s]\n"
          ]
        },
        {
          "output_type": "stream",
          "name": "stdout",
          "text": [
            "Training loss at epoch 1: 2.07683\n"
          ]
        },
        {
          "output_type": "stream",
          "name": "stderr",
          "text": [
            "100%|██████████| 391/391 [00:06<00:00, 63.28it/s]\n"
          ]
        },
        {
          "output_type": "stream",
          "name": "stdout",
          "text": [
            "Training loss at epoch 2: 1.75413\n"
          ]
        },
        {
          "output_type": "stream",
          "name": "stderr",
          "text": [
            "100%|██████████| 391/391 [00:06<00:00, 64.28it/s]\n"
          ]
        },
        {
          "output_type": "stream",
          "name": "stdout",
          "text": [
            "Training loss at epoch 3: 1.62615\n"
          ]
        },
        {
          "output_type": "stream",
          "name": "stderr",
          "text": [
            "100%|██████████| 391/391 [00:06<00:00, 64.05it/s]\n"
          ]
        },
        {
          "output_type": "stream",
          "name": "stdout",
          "text": [
            "Training loss at epoch 4: 1.55478\n"
          ]
        },
        {
          "output_type": "stream",
          "name": "stderr",
          "text": [
            "100%|██████████| 391/391 [00:06<00:00, 63.67it/s]\n"
          ]
        },
        {
          "output_type": "stream",
          "name": "stdout",
          "text": [
            "Training loss at epoch 5: 1.51022\n"
          ]
        },
        {
          "output_type": "stream",
          "name": "stderr",
          "text": [
            "100%|██████████| 391/391 [00:06<00:00, 64.05it/s]\n"
          ]
        },
        {
          "output_type": "stream",
          "name": "stdout",
          "text": [
            "Training loss at epoch 6: 1.46920\n"
          ]
        },
        {
          "output_type": "stream",
          "name": "stderr",
          "text": [
            "100%|██████████| 391/391 [00:06<00:00, 64.17it/s]\n"
          ]
        },
        {
          "output_type": "stream",
          "name": "stdout",
          "text": [
            "Training loss at epoch 7: 1.43526\n"
          ]
        },
        {
          "output_type": "stream",
          "name": "stderr",
          "text": [
            "100%|██████████| 391/391 [00:06<00:00, 64.00it/s]\n"
          ]
        },
        {
          "output_type": "stream",
          "name": "stdout",
          "text": [
            "Training loss at epoch 8: 1.40266\n"
          ]
        },
        {
          "output_type": "stream",
          "name": "stderr",
          "text": [
            "100%|██████████| 391/391 [00:06<00:00, 64.05it/s]\n"
          ]
        },
        {
          "output_type": "stream",
          "name": "stdout",
          "text": [
            "Training loss at epoch 9: 1.37938\n"
          ]
        },
        {
          "output_type": "stream",
          "name": "stderr",
          "text": [
            "100%|██████████| 391/391 [00:06<00:00, 64.80it/s]\n"
          ]
        },
        {
          "output_type": "stream",
          "name": "stdout",
          "text": [
            "Training loss at epoch 10: 1.35985\n"
          ]
        },
        {
          "output_type": "stream",
          "name": "stderr",
          "text": [
            "100%|██████████| 391/391 [00:06<00:00, 63.77it/s]\n"
          ]
        },
        {
          "output_type": "stream",
          "name": "stdout",
          "text": [
            "Training loss at epoch 11: 1.31021\n"
          ]
        },
        {
          "output_type": "stream",
          "name": "stderr",
          "text": [
            "100%|██████████| 391/391 [00:06<00:00, 64.28it/s]\n"
          ]
        },
        {
          "output_type": "stream",
          "name": "stdout",
          "text": [
            "Training loss at epoch 12: 1.29949\n"
          ]
        },
        {
          "output_type": "stream",
          "name": "stderr",
          "text": [
            "100%|██████████| 391/391 [00:06<00:00, 63.43it/s]\n"
          ]
        },
        {
          "output_type": "stream",
          "name": "stdout",
          "text": [
            "Training loss at epoch 13: 1.28850\n"
          ]
        },
        {
          "output_type": "stream",
          "name": "stderr",
          "text": [
            "100%|██████████| 391/391 [00:06<00:00, 64.54it/s]\n"
          ]
        },
        {
          "output_type": "stream",
          "name": "stdout",
          "text": [
            "Training loss at epoch 14: 1.25629\n"
          ]
        },
        {
          "output_type": "stream",
          "name": "stderr",
          "text": [
            "100%|██████████| 391/391 [00:06<00:00, 64.37it/s]\n"
          ]
        },
        {
          "output_type": "stream",
          "name": "stdout",
          "text": [
            "Training loss at epoch 15: 1.23991\n",
            "* Testing loss: 1.77422\n",
            "\n",
            "* Best params updated!: {'lr': 0.01, 'beta1': 0.9, 'beta2': 0.9, 'eps': 1e-09, 'weight_decay': 1e-06}\n",
            "==============\n",
            "\n",
            "> Starting trial 8\n",
            "Chosen hyperparams: {'lr': 0.0001, 'beta1': 0.7, 'beta2': 0.999, 'eps': 1e-07, 'weight_decay': 1e-06}\n",
            "\n"
          ]
        },
        {
          "output_type": "stream",
          "name": "stderr",
          "text": [
            "100%|██████████| 391/391 [00:06<00:00, 64.27it/s]\n"
          ]
        },
        {
          "output_type": "stream",
          "name": "stdout",
          "text": [
            "Training loss at epoch 1: 1.93380\n"
          ]
        },
        {
          "output_type": "stream",
          "name": "stderr",
          "text": [
            "100%|██████████| 391/391 [00:06<00:00, 64.61it/s]\n"
          ]
        },
        {
          "output_type": "stream",
          "name": "stdout",
          "text": [
            "Training loss at epoch 2: 1.66951\n"
          ]
        },
        {
          "output_type": "stream",
          "name": "stderr",
          "text": [
            "100%|██████████| 391/391 [00:06<00:00, 63.33it/s]\n"
          ]
        },
        {
          "output_type": "stream",
          "name": "stdout",
          "text": [
            "Training loss at epoch 3: 1.55670\n"
          ]
        },
        {
          "output_type": "stream",
          "name": "stderr",
          "text": [
            "100%|██████████| 391/391 [00:06<00:00, 62.42it/s]\n"
          ]
        },
        {
          "output_type": "stream",
          "name": "stdout",
          "text": [
            "Training loss at epoch 4: 1.47847\n"
          ]
        },
        {
          "output_type": "stream",
          "name": "stderr",
          "text": [
            "100%|██████████| 391/391 [00:06<00:00, 62.98it/s]\n"
          ]
        },
        {
          "output_type": "stream",
          "name": "stdout",
          "text": [
            "Training loss at epoch 5: 1.41536\n"
          ]
        },
        {
          "output_type": "stream",
          "name": "stderr",
          "text": [
            "100%|██████████| 391/391 [00:06<00:00, 62.87it/s]\n"
          ]
        },
        {
          "output_type": "stream",
          "name": "stdout",
          "text": [
            "Training loss at epoch 6: 1.35822\n"
          ]
        },
        {
          "output_type": "stream",
          "name": "stderr",
          "text": [
            "100%|██████████| 391/391 [00:06<00:00, 64.21it/s]\n"
          ]
        },
        {
          "output_type": "stream",
          "name": "stdout",
          "text": [
            "Training loss at epoch 7: 1.31023\n"
          ]
        },
        {
          "output_type": "stream",
          "name": "stderr",
          "text": [
            "100%|██████████| 391/391 [00:06<00:00, 63.71it/s]\n"
          ]
        },
        {
          "output_type": "stream",
          "name": "stdout",
          "text": [
            "Training loss at epoch 8: 1.27147\n"
          ]
        },
        {
          "output_type": "stream",
          "name": "stderr",
          "text": [
            "100%|██████████| 391/391 [00:06<00:00, 63.43it/s]\n"
          ]
        },
        {
          "output_type": "stream",
          "name": "stdout",
          "text": [
            "Training loss at epoch 9: 1.23698\n"
          ]
        },
        {
          "output_type": "stream",
          "name": "stderr",
          "text": [
            "100%|██████████| 391/391 [00:06<00:00, 64.32it/s]\n"
          ]
        },
        {
          "output_type": "stream",
          "name": "stdout",
          "text": [
            "Training loss at epoch 10: 1.20302\n"
          ]
        },
        {
          "output_type": "stream",
          "name": "stderr",
          "text": [
            "100%|██████████| 391/391 [00:06<00:00, 64.56it/s]\n"
          ]
        },
        {
          "output_type": "stream",
          "name": "stdout",
          "text": [
            "Training loss at epoch 11: 1.17436\n"
          ]
        },
        {
          "output_type": "stream",
          "name": "stderr",
          "text": [
            "100%|██████████| 391/391 [00:06<00:00, 64.62it/s]\n"
          ]
        },
        {
          "output_type": "stream",
          "name": "stdout",
          "text": [
            "Training loss at epoch 12: 1.14985\n"
          ]
        },
        {
          "output_type": "stream",
          "name": "stderr",
          "text": [
            "100%|██████████| 391/391 [00:06<00:00, 64.86it/s]\n"
          ]
        },
        {
          "output_type": "stream",
          "name": "stdout",
          "text": [
            "Training loss at epoch 13: 1.12326\n"
          ]
        },
        {
          "output_type": "stream",
          "name": "stderr",
          "text": [
            "100%|██████████| 391/391 [00:05<00:00, 65.34it/s]\n"
          ]
        },
        {
          "output_type": "stream",
          "name": "stdout",
          "text": [
            "Training loss at epoch 14: 1.10093\n"
          ]
        },
        {
          "output_type": "stream",
          "name": "stderr",
          "text": [
            "100%|██████████| 391/391 [00:06<00:00, 64.23it/s]\n"
          ]
        },
        {
          "output_type": "stream",
          "name": "stdout",
          "text": [
            "Training loss at epoch 15: 1.07523\n"
          ]
        },
        {
          "output_type": "stream",
          "name": "stderr",
          "text": [
            "100%|██████████| 391/391 [00:05<00:00, 65.34it/s]\n"
          ]
        },
        {
          "output_type": "stream",
          "name": "stdout",
          "text": [
            "Training loss at epoch 16: 1.05081\n"
          ]
        },
        {
          "output_type": "stream",
          "name": "stderr",
          "text": [
            "100%|██████████| 391/391 [00:06<00:00, 64.58it/s]\n"
          ]
        },
        {
          "output_type": "stream",
          "name": "stdout",
          "text": [
            "Training loss at epoch 17: 1.03179\n"
          ]
        },
        {
          "output_type": "stream",
          "name": "stderr",
          "text": [
            "100%|██████████| 391/391 [00:06<00:00, 64.47it/s]\n"
          ]
        },
        {
          "output_type": "stream",
          "name": "stdout",
          "text": [
            "Training loss at epoch 18: 1.00469\n"
          ]
        },
        {
          "output_type": "stream",
          "name": "stderr",
          "text": [
            "100%|██████████| 391/391 [00:06<00:00, 64.55it/s]\n"
          ]
        },
        {
          "output_type": "stream",
          "name": "stdout",
          "text": [
            "Training loss at epoch 19: 0.98486\n"
          ]
        },
        {
          "output_type": "stream",
          "name": "stderr",
          "text": [
            "100%|██████████| 391/391 [00:06<00:00, 64.37it/s]\n"
          ]
        },
        {
          "output_type": "stream",
          "name": "stdout",
          "text": [
            "Training loss at epoch 20: 0.96435\n"
          ]
        },
        {
          "output_type": "stream",
          "name": "stderr",
          "text": [
            "100%|██████████| 391/391 [00:06<00:00, 64.38it/s]\n"
          ]
        },
        {
          "output_type": "stream",
          "name": "stdout",
          "text": [
            "Training loss at epoch 21: 0.93876\n"
          ]
        },
        {
          "output_type": "stream",
          "name": "stderr",
          "text": [
            "100%|██████████| 391/391 [00:06<00:00, 64.82it/s]\n"
          ]
        },
        {
          "output_type": "stream",
          "name": "stdout",
          "text": [
            "Training loss at epoch 22: 0.92049\n"
          ]
        },
        {
          "output_type": "stream",
          "name": "stderr",
          "text": [
            "100%|██████████| 391/391 [00:06<00:00, 64.99it/s]\n"
          ]
        },
        {
          "output_type": "stream",
          "name": "stdout",
          "text": [
            "Training loss at epoch 23: 0.89778\n"
          ]
        },
        {
          "output_type": "stream",
          "name": "stderr",
          "text": [
            "100%|██████████| 391/391 [00:06<00:00, 63.97it/s]\n"
          ]
        },
        {
          "output_type": "stream",
          "name": "stdout",
          "text": [
            "Training loss at epoch 24: 0.87808\n"
          ]
        },
        {
          "output_type": "stream",
          "name": "stderr",
          "text": [
            "100%|██████████| 391/391 [00:06<00:00, 64.01it/s]\n"
          ]
        },
        {
          "output_type": "stream",
          "name": "stdout",
          "text": [
            "Training loss at epoch 25: 0.85571\n",
            "* Testing loss: 1.15241\n",
            "\n",
            "* Best params updated!: {'lr': 0.0001, 'beta1': 0.7, 'beta2': 0.999, 'eps': 1e-07, 'weight_decay': 1e-06}\n",
            "==============\n",
            "\n",
            "> Starting trial 9\n",
            "Chosen hyperparams: {'lr': 0.005, 'beta1': 0.7, 'beta2': 0.999, 'eps': 1e-07, 'weight_decay': 1e-06}\n",
            "\n"
          ]
        },
        {
          "output_type": "stream",
          "name": "stderr",
          "text": [
            "100%|██████████| 391/391 [00:06<00:00, 64.54it/s]\n"
          ]
        },
        {
          "output_type": "stream",
          "name": "stdout",
          "text": [
            "Training loss at epoch 1: 1.74383\n"
          ]
        },
        {
          "output_type": "stream",
          "name": "stderr",
          "text": [
            "100%|██████████| 391/391 [00:06<00:00, 63.99it/s]\n"
          ]
        },
        {
          "output_type": "stream",
          "name": "stdout",
          "text": [
            "Training loss at epoch 2: 1.33202\n"
          ]
        },
        {
          "output_type": "stream",
          "name": "stderr",
          "text": [
            "100%|██████████| 391/391 [00:06<00:00, 64.31it/s]\n"
          ]
        },
        {
          "output_type": "stream",
          "name": "stdout",
          "text": [
            "Training loss at epoch 3: 1.15531\n"
          ]
        },
        {
          "output_type": "stream",
          "name": "stderr",
          "text": [
            "100%|██████████| 391/391 [00:06<00:00, 63.65it/s]\n"
          ]
        },
        {
          "output_type": "stream",
          "name": "stdout",
          "text": [
            "Training loss at epoch 4: 1.00035\n"
          ]
        },
        {
          "output_type": "stream",
          "name": "stderr",
          "text": [
            "100%|██████████| 391/391 [00:06<00:00, 63.83it/s]\n"
          ]
        },
        {
          "output_type": "stream",
          "name": "stdout",
          "text": [
            "Training loss at epoch 5: 0.86654\n"
          ]
        },
        {
          "output_type": "stream",
          "name": "stderr",
          "text": [
            "100%|██████████| 391/391 [00:06<00:00, 64.19it/s]\n"
          ]
        },
        {
          "output_type": "stream",
          "name": "stdout",
          "text": [
            "Training loss at epoch 6: 0.73131\n"
          ]
        },
        {
          "output_type": "stream",
          "name": "stderr",
          "text": [
            "100%|██████████| 391/391 [00:06<00:00, 64.11it/s]\n"
          ]
        },
        {
          "output_type": "stream",
          "name": "stdout",
          "text": [
            "Training loss at epoch 7: 0.62361\n"
          ]
        },
        {
          "output_type": "stream",
          "name": "stderr",
          "text": [
            "100%|██████████| 391/391 [00:06<00:00, 63.56it/s]\n"
          ]
        },
        {
          "output_type": "stream",
          "name": "stdout",
          "text": [
            "Training loss at epoch 8: 0.53398\n"
          ]
        },
        {
          "output_type": "stream",
          "name": "stderr",
          "text": [
            "100%|██████████| 391/391 [00:06<00:00, 63.04it/s]\n"
          ]
        },
        {
          "output_type": "stream",
          "name": "stdout",
          "text": [
            "Training loss at epoch 9: 0.45212\n"
          ]
        },
        {
          "output_type": "stream",
          "name": "stderr",
          "text": [
            "100%|██████████| 391/391 [00:06<00:00, 62.95it/s]\n"
          ]
        },
        {
          "output_type": "stream",
          "name": "stdout",
          "text": [
            "Training loss at epoch 10: 0.38570\n"
          ]
        },
        {
          "output_type": "stream",
          "name": "stderr",
          "text": [
            "100%|██████████| 391/391 [00:06<00:00, 64.52it/s]\n"
          ]
        },
        {
          "output_type": "stream",
          "name": "stdout",
          "text": [
            "Training loss at epoch 11: 0.33331\n"
          ]
        },
        {
          "output_type": "stream",
          "name": "stderr",
          "text": [
            "100%|██████████| 391/391 [00:06<00:00, 61.90it/s]\n"
          ]
        },
        {
          "output_type": "stream",
          "name": "stdout",
          "text": [
            "Training loss at epoch 12: 0.28874\n"
          ]
        },
        {
          "output_type": "stream",
          "name": "stderr",
          "text": [
            "100%|██████████| 391/391 [00:06<00:00, 62.62it/s]\n"
          ]
        },
        {
          "output_type": "stream",
          "name": "stdout",
          "text": [
            "Training loss at epoch 13: 0.27793\n"
          ]
        },
        {
          "output_type": "stream",
          "name": "stderr",
          "text": [
            "100%|██████████| 391/391 [00:06<00:00, 62.78it/s]\n"
          ]
        },
        {
          "output_type": "stream",
          "name": "stdout",
          "text": [
            "Training loss at epoch 14: 0.23508\n"
          ]
        },
        {
          "output_type": "stream",
          "name": "stderr",
          "text": [
            "100%|██████████| 391/391 [00:06<00:00, 63.39it/s]\n"
          ]
        },
        {
          "output_type": "stream",
          "name": "stdout",
          "text": [
            "Training loss at epoch 15: 0.23320\n"
          ]
        },
        {
          "output_type": "stream",
          "name": "stderr",
          "text": [
            "100%|██████████| 391/391 [00:06<00:00, 63.13it/s]\n"
          ]
        },
        {
          "output_type": "stream",
          "name": "stdout",
          "text": [
            "Training loss at epoch 16: 0.19854\n"
          ]
        },
        {
          "output_type": "stream",
          "name": "stderr",
          "text": [
            "100%|██████████| 391/391 [00:06<00:00, 63.22it/s]\n"
          ]
        },
        {
          "output_type": "stream",
          "name": "stdout",
          "text": [
            "Training loss at epoch 17: 0.20344\n"
          ]
        },
        {
          "output_type": "stream",
          "name": "stderr",
          "text": [
            "100%|██████████| 391/391 [00:06<00:00, 63.12it/s]\n"
          ]
        },
        {
          "output_type": "stream",
          "name": "stdout",
          "text": [
            "Training loss at epoch 18: 0.17592\n"
          ]
        },
        {
          "output_type": "stream",
          "name": "stderr",
          "text": [
            "100%|██████████| 391/391 [00:06<00:00, 63.64it/s]\n"
          ]
        },
        {
          "output_type": "stream",
          "name": "stdout",
          "text": [
            "Training loss at epoch 19: 0.16324\n"
          ]
        },
        {
          "output_type": "stream",
          "name": "stderr",
          "text": [
            "100%|██████████| 391/391 [00:06<00:00, 63.13it/s]\n"
          ]
        },
        {
          "output_type": "stream",
          "name": "stdout",
          "text": [
            "Training loss at epoch 20: 0.18128\n",
            "* Testing loss: 2.98772\n",
            "==============\n",
            "\n",
            "> Starting trial 10\n",
            "Chosen hyperparams: {'lr': 0.001, 'beta1': 0.5, 'beta2': 0.999, 'eps': 1e-09, 'weight_decay': 1e-05}\n",
            "\n"
          ]
        },
        {
          "output_type": "stream",
          "name": "stderr",
          "text": [
            "100%|██████████| 391/391 [00:06<00:00, 62.50it/s]\n"
          ]
        },
        {
          "output_type": "stream",
          "name": "stdout",
          "text": [
            "Training loss at epoch 1: 1.68581\n"
          ]
        },
        {
          "output_type": "stream",
          "name": "stderr",
          "text": [
            "100%|██████████| 391/391 [00:06<00:00, 63.13it/s]\n"
          ]
        },
        {
          "output_type": "stream",
          "name": "stdout",
          "text": [
            "Training loss at epoch 2: 1.30470\n"
          ]
        },
        {
          "output_type": "stream",
          "name": "stderr",
          "text": [
            "100%|██████████| 391/391 [00:06<00:00, 62.77it/s]\n"
          ]
        },
        {
          "output_type": "stream",
          "name": "stdout",
          "text": [
            "Training loss at epoch 3: 1.14122\n"
          ]
        },
        {
          "output_type": "stream",
          "name": "stderr",
          "text": [
            "100%|██████████| 391/391 [00:06<00:00, 62.84it/s]\n"
          ]
        },
        {
          "output_type": "stream",
          "name": "stdout",
          "text": [
            "Training loss at epoch 4: 1.00509\n"
          ]
        },
        {
          "output_type": "stream",
          "name": "stderr",
          "text": [
            "100%|██████████| 391/391 [00:06<00:00, 62.42it/s]\n"
          ]
        },
        {
          "output_type": "stream",
          "name": "stdout",
          "text": [
            "Training loss at epoch 5: 0.88100\n"
          ]
        },
        {
          "output_type": "stream",
          "name": "stderr",
          "text": [
            "100%|██████████| 391/391 [00:06<00:00, 63.05it/s]\n"
          ]
        },
        {
          "output_type": "stream",
          "name": "stdout",
          "text": [
            "Training loss at epoch 6: 0.75691\n"
          ]
        },
        {
          "output_type": "stream",
          "name": "stderr",
          "text": [
            "100%|██████████| 391/391 [00:06<00:00, 62.61it/s]\n"
          ]
        },
        {
          "output_type": "stream",
          "name": "stdout",
          "text": [
            "Training loss at epoch 7: 0.64071\n"
          ]
        },
        {
          "output_type": "stream",
          "name": "stderr",
          "text": [
            "100%|██████████| 391/391 [00:06<00:00, 61.62it/s]\n"
          ]
        },
        {
          "output_type": "stream",
          "name": "stdout",
          "text": [
            "Training loss at epoch 8: 0.51905\n"
          ]
        },
        {
          "output_type": "stream",
          "name": "stderr",
          "text": [
            "100%|██████████| 391/391 [00:06<00:00, 63.19it/s]\n"
          ]
        },
        {
          "output_type": "stream",
          "name": "stdout",
          "text": [
            "Training loss at epoch 9: 0.40489\n"
          ]
        },
        {
          "output_type": "stream",
          "name": "stderr",
          "text": [
            "100%|██████████| 391/391 [00:06<00:00, 62.94it/s]\n"
          ]
        },
        {
          "output_type": "stream",
          "name": "stdout",
          "text": [
            "Training loss at epoch 10: 0.30281\n"
          ]
        },
        {
          "output_type": "stream",
          "name": "stderr",
          "text": [
            "100%|██████████| 391/391 [00:06<00:00, 62.87it/s]\n"
          ]
        },
        {
          "output_type": "stream",
          "name": "stdout",
          "text": [
            "Training loss at epoch 11: 0.21926\n"
          ]
        },
        {
          "output_type": "stream",
          "name": "stderr",
          "text": [
            "100%|██████████| 391/391 [00:06<00:00, 62.35it/s]\n"
          ]
        },
        {
          "output_type": "stream",
          "name": "stdout",
          "text": [
            "Training loss at epoch 12: 0.15719\n"
          ]
        },
        {
          "output_type": "stream",
          "name": "stderr",
          "text": [
            "100%|██████████| 391/391 [00:06<00:00, 62.29it/s]\n"
          ]
        },
        {
          "output_type": "stream",
          "name": "stdout",
          "text": [
            "Training loss at epoch 13: 0.11413\n"
          ]
        },
        {
          "output_type": "stream",
          "name": "stderr",
          "text": [
            "100%|██████████| 391/391 [00:06<00:00, 63.07it/s]\n"
          ]
        },
        {
          "output_type": "stream",
          "name": "stdout",
          "text": [
            "Training loss at epoch 14: 0.11728\n"
          ]
        },
        {
          "output_type": "stream",
          "name": "stderr",
          "text": [
            "100%|██████████| 391/391 [00:06<00:00, 62.81it/s]\n"
          ]
        },
        {
          "output_type": "stream",
          "name": "stdout",
          "text": [
            "Training loss at epoch 15: 0.08927\n"
          ]
        },
        {
          "output_type": "stream",
          "name": "stderr",
          "text": [
            "100%|██████████| 391/391 [00:06<00:00, 62.63it/s]\n"
          ]
        },
        {
          "output_type": "stream",
          "name": "stdout",
          "text": [
            "Training loss at epoch 16: 0.08236\n"
          ]
        },
        {
          "output_type": "stream",
          "name": "stderr",
          "text": [
            "100%|██████████| 391/391 [00:06<00:00, 62.47it/s]\n"
          ]
        },
        {
          "output_type": "stream",
          "name": "stdout",
          "text": [
            "Training loss at epoch 17: 0.08626\n"
          ]
        },
        {
          "output_type": "stream",
          "name": "stderr",
          "text": [
            "100%|██████████| 391/391 [00:06<00:00, 62.77it/s]\n"
          ]
        },
        {
          "output_type": "stream",
          "name": "stdout",
          "text": [
            "Training loss at epoch 18: 0.05920\n"
          ]
        },
        {
          "output_type": "stream",
          "name": "stderr",
          "text": [
            "100%|██████████| 391/391 [00:06<00:00, 62.10it/s]\n"
          ]
        },
        {
          "output_type": "stream",
          "name": "stdout",
          "text": [
            "Training loss at epoch 19: 0.04513\n"
          ]
        },
        {
          "output_type": "stream",
          "name": "stderr",
          "text": [
            "100%|██████████| 391/391 [00:06<00:00, 62.69it/s]\n"
          ]
        },
        {
          "output_type": "stream",
          "name": "stdout",
          "text": [
            "Training loss at epoch 20: 0.09532\n",
            "* Testing loss: 2.47416\n",
            "==============\n"
          ]
        }
      ]
    },
    {
      "cell_type": "markdown",
      "source": [
        "### Training with the best hyperparameters"
      ],
      "metadata": {
        "id": "ehWnXi6CK2Hb"
      }
    },
    {
      "cell_type": "code",
      "source": [
        "best_params"
      ],
      "metadata": {
        "colab": {
          "base_uri": "https://localhost:8080/"
        },
        "id": "b67o8cuAK33J",
        "outputId": "a096afd9-e4a3-4e4f-8680-d13e40e3d5f3"
      },
      "execution_count": null,
      "outputs": [
        {
          "output_type": "execute_result",
          "data": {
            "text/plain": [
              "{'beta1': 0.7,\n",
              " 'beta2': 0.999,\n",
              " 'eps': 1e-07,\n",
              " 'lr': 0.0001,\n",
              " 'weight_decay': 1e-06}"
            ]
          },
          "metadata": {},
          "execution_count": 26
        }
      ]
    },
    {
      "cell_type": "code",
      "source": [
        "model = CNN()\n",
        "model.to(device)\n",
        "error = nn.NLLLoss()\n",
        "optimizer = torch.optim.Adam(model.parameters(), lr=best_params['lr'], betas=(best_params['beta1'], best_params['beta2']), eps=best_params['eps'], weight_decay=best_params['weight_decay'])"
      ],
      "metadata": {
        "id": "vWJIPIt8K45E"
      },
      "execution_count": null,
      "outputs": []
    },
    {
      "cell_type": "code",
      "source": [
        "DISPLAY_INTERVAL = 1\n",
        "train_loss, test_loss = [], [] # denotes the mean loss over all samples\n",
        "train_acc, test_acc = [], []\n",
        "for epoch in range(1, NUM_EPOCHS + 1):\n",
        "  total_loss = 0\n",
        "  correct, total = 0, 0\n",
        "  for images, labels in tqdm(train_loader):\n",
        "    # forward + backward + step\n",
        "    optimizer.zero_grad()\n",
        "    images, labels = images.to(device), labels.to(device)\n",
        "    outputs = model(images)\n",
        "    loss = error(outputs, labels)\n",
        "    total_loss += loss.item() * len(outputs)\n",
        "    loss.backward()\n",
        "    optimizer.step()\n",
        "    # accuracy calculation\n",
        "    correct += (torch.argmax(outputs, dim=1) == labels).sum()\n",
        "    total += len(labels)\n",
        "  train_loss.append(total_loss / total)\n",
        "  train_acc.append(correct / total)\n",
        "  # testing loss\n",
        "  with torch.no_grad():\n",
        "    predicted = model(test_X)\n",
        "    loss = error(predicted, test_Y)\n",
        "    test_loss.append(loss.item())\n",
        "    test_acc.append((torch.argmax(predicted, dim=1) == test_Y).sum() / len(test_Y))\n",
        "\n",
        "  if epoch % DISPLAY_INTERVAL == 0:\n",
        "      print(f'Performace at epoch {epoch}')\n",
        "      print(f'Train Loss: {train_loss[-1]:.5f} ; Train Acc: {train_acc[-1]:.5f}')\n",
        "      print(f'Test Loss: {test_loss[-1]:.5f} ; Test Acc: {test_acc[-1]:.5f}')\n",
        "      print('==============')"
      ],
      "metadata": {
        "colab": {
          "base_uri": "https://localhost:8080/"
        },
        "id": "WhDSZcnZLWPy",
        "outputId": "8c9cbde8-19ad-49de-9daf-a3dba4a5f537"
      },
      "execution_count": null,
      "outputs": [
        {
          "output_type": "stream",
          "name": "stderr",
          "text": [
            "100%|██████████| 391/391 [00:06<00:00, 63.22it/s]\n"
          ]
        },
        {
          "output_type": "stream",
          "name": "stdout",
          "text": [
            "Performace at epoch 1\n",
            "Train Loss: 1.86359 ; Train Acc: 0.33060\n",
            "Test Loss: 1.66388 ; Test Acc: 0.39459\n",
            "==============\n"
          ]
        },
        {
          "output_type": "stream",
          "name": "stderr",
          "text": [
            "100%|██████████| 391/391 [00:06<00:00, 63.46it/s]\n"
          ]
        },
        {
          "output_type": "stream",
          "name": "stdout",
          "text": [
            "Performace at epoch 2\n",
            "Train Loss: 1.59365 ; Train Acc: 0.43268\n",
            "Test Loss: 1.53267 ; Test Acc: 0.45706\n",
            "==============\n"
          ]
        },
        {
          "output_type": "stream",
          "name": "stderr",
          "text": [
            "100%|██████████| 391/391 [00:06<00:00, 63.33it/s]\n"
          ]
        },
        {
          "output_type": "stream",
          "name": "stdout",
          "text": [
            "Performace at epoch 3\n",
            "Train Loss: 1.48446 ; Train Acc: 0.46856\n",
            "Test Loss: 1.45326 ; Test Acc: 0.47538\n",
            "==============\n"
          ]
        },
        {
          "output_type": "stream",
          "name": "stderr",
          "text": [
            "100%|██████████| 391/391 [00:06<00:00, 63.53it/s]\n"
          ]
        },
        {
          "output_type": "stream",
          "name": "stdout",
          "text": [
            "Performace at epoch 4\n",
            "Train Loss: 1.40968 ; Train Acc: 0.49716\n",
            "Test Loss: 1.44328 ; Test Acc: 0.49309\n",
            "==============\n"
          ]
        },
        {
          "output_type": "stream",
          "name": "stderr",
          "text": [
            "100%|██████████| 391/391 [00:06<00:00, 63.82it/s]\n"
          ]
        },
        {
          "output_type": "stream",
          "name": "stdout",
          "text": [
            "Performace at epoch 5\n",
            "Train Loss: 1.34542 ; Train Acc: 0.52268\n",
            "Test Loss: 1.36813 ; Test Acc: 0.50541\n",
            "==============\n"
          ]
        },
        {
          "output_type": "stream",
          "name": "stderr",
          "text": [
            "100%|██████████| 391/391 [00:06<00:00, 63.69it/s]\n"
          ]
        },
        {
          "output_type": "stream",
          "name": "stdout",
          "text": [
            "Performace at epoch 6\n",
            "Train Loss: 1.28949 ; Train Acc: 0.54252\n",
            "Test Loss: 1.30903 ; Test Acc: 0.53363\n",
            "==============\n"
          ]
        },
        {
          "output_type": "stream",
          "name": "stderr",
          "text": [
            "100%|██████████| 391/391 [00:06<00:00, 63.67it/s]\n"
          ]
        },
        {
          "output_type": "stream",
          "name": "stdout",
          "text": [
            "Performace at epoch 7\n",
            "Train Loss: 1.24382 ; Train Acc: 0.55804\n",
            "Test Loss: 1.27768 ; Test Acc: 0.54144\n",
            "==============\n"
          ]
        },
        {
          "output_type": "stream",
          "name": "stderr",
          "text": [
            "100%|██████████| 391/391 [00:06<00:00, 62.88it/s]\n"
          ]
        },
        {
          "output_type": "stream",
          "name": "stdout",
          "text": [
            "Performace at epoch 8\n",
            "Train Loss: 1.20326 ; Train Acc: 0.57392\n",
            "Test Loss: 1.27856 ; Test Acc: 0.55165\n",
            "==============\n"
          ]
        },
        {
          "output_type": "stream",
          "name": "stderr",
          "text": [
            "100%|██████████| 391/391 [00:06<00:00, 63.67it/s]\n"
          ]
        },
        {
          "output_type": "stream",
          "name": "stdout",
          "text": [
            "Performace at epoch 9\n",
            "Train Loss: 1.16734 ; Train Acc: 0.58612\n",
            "Test Loss: 1.24570 ; Test Acc: 0.55495\n",
            "==============\n"
          ]
        },
        {
          "output_type": "stream",
          "name": "stderr",
          "text": [
            "100%|██████████| 391/391 [00:06<00:00, 63.52it/s]\n"
          ]
        },
        {
          "output_type": "stream",
          "name": "stdout",
          "text": [
            "Performace at epoch 10\n",
            "Train Loss: 1.13293 ; Train Acc: 0.59824\n",
            "Test Loss: 1.21170 ; Test Acc: 0.57057\n",
            "==============\n"
          ]
        },
        {
          "output_type": "stream",
          "name": "stderr",
          "text": [
            "100%|██████████| 391/391 [00:06<00:00, 63.49it/s]\n"
          ]
        },
        {
          "output_type": "stream",
          "name": "stdout",
          "text": [
            "Performace at epoch 11\n",
            "Train Loss: 1.10334 ; Train Acc: 0.61184\n",
            "Test Loss: 1.19506 ; Test Acc: 0.57267\n",
            "==============\n"
          ]
        },
        {
          "output_type": "stream",
          "name": "stderr",
          "text": [
            "100%|██████████| 391/391 [00:06<00:00, 63.57it/s]\n"
          ]
        },
        {
          "output_type": "stream",
          "name": "stdout",
          "text": [
            "Performace at epoch 12\n",
            "Train Loss: 1.07275 ; Train Acc: 0.62188\n",
            "Test Loss: 1.18635 ; Test Acc: 0.57688\n",
            "==============\n"
          ]
        },
        {
          "output_type": "stream",
          "name": "stderr",
          "text": [
            "100%|██████████| 391/391 [00:06<00:00, 62.67it/s]\n"
          ]
        },
        {
          "output_type": "stream",
          "name": "stdout",
          "text": [
            "Performace at epoch 13\n",
            "Train Loss: 1.04354 ; Train Acc: 0.63208\n",
            "Test Loss: 1.17523 ; Test Acc: 0.57958\n",
            "==============\n"
          ]
        },
        {
          "output_type": "stream",
          "name": "stderr",
          "text": [
            "100%|██████████| 391/391 [00:06<00:00, 63.76it/s]\n"
          ]
        },
        {
          "output_type": "stream",
          "name": "stdout",
          "text": [
            "Performace at epoch 14\n",
            "Train Loss: 1.01638 ; Train Acc: 0.64228\n",
            "Test Loss: 1.17530 ; Test Acc: 0.57718\n",
            "==============\n"
          ]
        },
        {
          "output_type": "stream",
          "name": "stderr",
          "text": [
            "100%|██████████| 391/391 [00:06<00:00, 63.80it/s]\n"
          ]
        },
        {
          "output_type": "stream",
          "name": "stdout",
          "text": [
            "Performace at epoch 15\n",
            "Train Loss: 0.99025 ; Train Acc: 0.65480\n",
            "Test Loss: 1.16655 ; Test Acc: 0.58709\n",
            "==============\n"
          ]
        },
        {
          "output_type": "stream",
          "name": "stderr",
          "text": [
            "100%|██████████| 391/391 [00:06<00:00, 63.82it/s]\n"
          ]
        },
        {
          "output_type": "stream",
          "name": "stdout",
          "text": [
            "Performace at epoch 16\n",
            "Train Loss: 0.96222 ; Train Acc: 0.66128\n",
            "Test Loss: 1.14295 ; Test Acc: 0.59099\n",
            "==============\n"
          ]
        },
        {
          "output_type": "stream",
          "name": "stderr",
          "text": [
            "100%|██████████| 391/391 [00:06<00:00, 63.86it/s]\n"
          ]
        },
        {
          "output_type": "stream",
          "name": "stdout",
          "text": [
            "Performace at epoch 17\n",
            "Train Loss: 0.93617 ; Train Acc: 0.67548\n",
            "Test Loss: 1.13171 ; Test Acc: 0.59339\n",
            "==============\n"
          ]
        },
        {
          "output_type": "stream",
          "name": "stderr",
          "text": [
            "100%|██████████| 391/391 [00:06<00:00, 64.02it/s]\n"
          ]
        },
        {
          "output_type": "stream",
          "name": "stdout",
          "text": [
            "Performace at epoch 18\n",
            "Train Loss: 0.91020 ; Train Acc: 0.68260\n",
            "Test Loss: 1.13295 ; Test Acc: 0.59640\n",
            "==============\n"
          ]
        },
        {
          "output_type": "stream",
          "name": "stderr",
          "text": [
            "100%|██████████| 391/391 [00:06<00:00, 63.63it/s]\n"
          ]
        },
        {
          "output_type": "stream",
          "name": "stdout",
          "text": [
            "Performace at epoch 19\n",
            "Train Loss: 0.88509 ; Train Acc: 0.69364\n",
            "Test Loss: 1.14817 ; Test Acc: 0.58258\n",
            "==============\n"
          ]
        },
        {
          "output_type": "stream",
          "name": "stderr",
          "text": [
            "100%|██████████| 391/391 [00:06<00:00, 63.68it/s]\n"
          ]
        },
        {
          "output_type": "stream",
          "name": "stdout",
          "text": [
            "Performace at epoch 20\n",
            "Train Loss: 0.86073 ; Train Acc: 0.70052\n",
            "Test Loss: 1.10819 ; Test Acc: 0.60390\n",
            "==============\n"
          ]
        },
        {
          "output_type": "stream",
          "name": "stderr",
          "text": [
            "100%|██████████| 391/391 [00:06<00:00, 63.32it/s]\n"
          ]
        },
        {
          "output_type": "stream",
          "name": "stdout",
          "text": [
            "Performace at epoch 21\n",
            "Train Loss: 0.83621 ; Train Acc: 0.71012\n",
            "Test Loss: 1.13402 ; Test Acc: 0.59790\n",
            "==============\n"
          ]
        },
        {
          "output_type": "stream",
          "name": "stderr",
          "text": [
            "100%|██████████| 391/391 [00:06<00:00, 63.53it/s]\n"
          ]
        },
        {
          "output_type": "stream",
          "name": "stdout",
          "text": [
            "Performace at epoch 22\n",
            "Train Loss: 0.81087 ; Train Acc: 0.72152\n",
            "Test Loss: 1.12137 ; Test Acc: 0.60210\n",
            "==============\n"
          ]
        },
        {
          "output_type": "stream",
          "name": "stderr",
          "text": [
            "100%|██████████| 391/391 [00:06<00:00, 63.98it/s]\n"
          ]
        },
        {
          "output_type": "stream",
          "name": "stdout",
          "text": [
            "Performace at epoch 23\n",
            "Train Loss: 0.78910 ; Train Acc: 0.72856\n",
            "Test Loss: 1.10629 ; Test Acc: 0.61441\n",
            "==============\n"
          ]
        },
        {
          "output_type": "stream",
          "name": "stderr",
          "text": [
            "100%|██████████| 391/391 [00:06<00:00, 63.46it/s]\n"
          ]
        },
        {
          "output_type": "stream",
          "name": "stdout",
          "text": [
            "Performace at epoch 24\n",
            "Train Loss: 0.76477 ; Train Acc: 0.73652\n",
            "Test Loss: 1.11777 ; Test Acc: 0.60541\n",
            "==============\n"
          ]
        },
        {
          "output_type": "stream",
          "name": "stderr",
          "text": [
            "100%|██████████| 391/391 [00:05<00:00, 65.24it/s]\n"
          ]
        },
        {
          "output_type": "stream",
          "name": "stdout",
          "text": [
            "Performace at epoch 25\n",
            "Train Loss: 0.74017 ; Train Acc: 0.74544\n",
            "Test Loss: 1.09534 ; Test Acc: 0.61862\n",
            "==============\n"
          ]
        },
        {
          "output_type": "stream",
          "name": "stderr",
          "text": [
            "100%|██████████| 391/391 [00:06<00:00, 63.93it/s]\n"
          ]
        },
        {
          "output_type": "stream",
          "name": "stdout",
          "text": [
            "Performace at epoch 26\n",
            "Train Loss: 0.71822 ; Train Acc: 0.75300\n",
            "Test Loss: 1.11451 ; Test Acc: 0.61742\n",
            "==============\n"
          ]
        },
        {
          "output_type": "stream",
          "name": "stderr",
          "text": [
            "100%|██████████| 391/391 [00:06<00:00, 63.58it/s]\n"
          ]
        },
        {
          "output_type": "stream",
          "name": "stdout",
          "text": [
            "Performace at epoch 27\n",
            "Train Loss: 0.69476 ; Train Acc: 0.76256\n",
            "Test Loss: 1.09259 ; Test Acc: 0.62102\n",
            "==============\n"
          ]
        },
        {
          "output_type": "stream",
          "name": "stderr",
          "text": [
            "100%|██████████| 391/391 [00:06<00:00, 63.22it/s]\n"
          ]
        },
        {
          "output_type": "stream",
          "name": "stdout",
          "text": [
            "Performace at epoch 28\n",
            "Train Loss: 0.66886 ; Train Acc: 0.77240\n",
            "Test Loss: 1.15180 ; Test Acc: 0.60450\n",
            "==============\n"
          ]
        },
        {
          "output_type": "stream",
          "name": "stderr",
          "text": [
            "100%|██████████| 391/391 [00:06<00:00, 63.72it/s]\n"
          ]
        },
        {
          "output_type": "stream",
          "name": "stdout",
          "text": [
            "Performace at epoch 29\n",
            "Train Loss: 0.64301 ; Train Acc: 0.78164\n",
            "Test Loss: 1.13396 ; Test Acc: 0.61261\n",
            "==============\n"
          ]
        },
        {
          "output_type": "stream",
          "name": "stderr",
          "text": [
            "100%|██████████| 391/391 [00:06<00:00, 64.01it/s]\n"
          ]
        },
        {
          "output_type": "stream",
          "name": "stdout",
          "text": [
            "Performace at epoch 30\n",
            "Train Loss: 0.62104 ; Train Acc: 0.79200\n",
            "Test Loss: 1.12150 ; Test Acc: 0.62312\n",
            "==============\n"
          ]
        },
        {
          "output_type": "stream",
          "name": "stderr",
          "text": [
            "100%|██████████| 391/391 [00:06<00:00, 64.08it/s]\n"
          ]
        },
        {
          "output_type": "stream",
          "name": "stdout",
          "text": [
            "Performace at epoch 31\n",
            "Train Loss: 0.59780 ; Train Acc: 0.79868\n",
            "Test Loss: 1.17567 ; Test Acc: 0.61021\n",
            "==============\n"
          ]
        },
        {
          "output_type": "stream",
          "name": "stderr",
          "text": [
            "100%|██████████| 391/391 [00:06<00:00, 64.83it/s]\n"
          ]
        },
        {
          "output_type": "stream",
          "name": "stdout",
          "text": [
            "Performace at epoch 32\n",
            "Train Loss: 0.57540 ; Train Acc: 0.81184\n",
            "Test Loss: 1.15337 ; Test Acc: 0.61652\n",
            "==============\n"
          ]
        },
        {
          "output_type": "stream",
          "name": "stderr",
          "text": [
            "100%|██████████| 391/391 [00:06<00:00, 64.55it/s]\n"
          ]
        },
        {
          "output_type": "stream",
          "name": "stdout",
          "text": [
            "Performace at epoch 33\n",
            "Train Loss: 0.55296 ; Train Acc: 0.81720\n",
            "Test Loss: 1.18092 ; Test Acc: 0.61021\n",
            "==============\n"
          ]
        },
        {
          "output_type": "stream",
          "name": "stderr",
          "text": [
            "100%|██████████| 391/391 [00:06<00:00, 64.22it/s]\n"
          ]
        },
        {
          "output_type": "stream",
          "name": "stdout",
          "text": [
            "Performace at epoch 34\n",
            "Train Loss: 0.52731 ; Train Acc: 0.82596\n",
            "Test Loss: 1.15616 ; Test Acc: 0.62102\n",
            "==============\n"
          ]
        },
        {
          "output_type": "stream",
          "name": "stderr",
          "text": [
            "100%|██████████| 391/391 [00:06<00:00, 62.94it/s]\n"
          ]
        },
        {
          "output_type": "stream",
          "name": "stdout",
          "text": [
            "Performace at epoch 35\n",
            "Train Loss: 0.50633 ; Train Acc: 0.83484\n",
            "Test Loss: 1.18968 ; Test Acc: 0.61952\n",
            "==============\n"
          ]
        },
        {
          "output_type": "stream",
          "name": "stderr",
          "text": [
            "100%|██████████| 391/391 [00:06<00:00, 62.82it/s]\n"
          ]
        },
        {
          "output_type": "stream",
          "name": "stdout",
          "text": [
            "Performace at epoch 36\n",
            "Train Loss: 0.48212 ; Train Acc: 0.84392\n",
            "Test Loss: 1.15523 ; Test Acc: 0.62613\n",
            "==============\n"
          ]
        },
        {
          "output_type": "stream",
          "name": "stderr",
          "text": [
            "100%|██████████| 391/391 [00:06<00:00, 63.88it/s]\n"
          ]
        },
        {
          "output_type": "stream",
          "name": "stdout",
          "text": [
            "Performace at epoch 37\n",
            "Train Loss: 0.46109 ; Train Acc: 0.85328\n",
            "Test Loss: 1.18480 ; Test Acc: 0.61922\n",
            "==============\n"
          ]
        },
        {
          "output_type": "stream",
          "name": "stderr",
          "text": [
            "100%|██████████| 391/391 [00:06<00:00, 64.57it/s]\n"
          ]
        },
        {
          "output_type": "stream",
          "name": "stdout",
          "text": [
            "Performace at epoch 38\n",
            "Train Loss: 0.44003 ; Train Acc: 0.85800\n",
            "Test Loss: 1.19434 ; Test Acc: 0.62462\n",
            "==============\n"
          ]
        },
        {
          "output_type": "stream",
          "name": "stderr",
          "text": [
            "100%|██████████| 391/391 [00:06<00:00, 64.62it/s]\n"
          ]
        },
        {
          "output_type": "stream",
          "name": "stdout",
          "text": [
            "Performace at epoch 39\n",
            "Train Loss: 0.41672 ; Train Acc: 0.87024\n",
            "Test Loss: 1.18194 ; Test Acc: 0.62943\n",
            "==============\n"
          ]
        },
        {
          "output_type": "stream",
          "name": "stderr",
          "text": [
            "100%|██████████| 391/391 [00:06<00:00, 62.99it/s]\n"
          ]
        },
        {
          "output_type": "stream",
          "name": "stdout",
          "text": [
            "Performace at epoch 40\n",
            "Train Loss: 0.39476 ; Train Acc: 0.87672\n",
            "Test Loss: 1.21178 ; Test Acc: 0.62282\n",
            "==============\n"
          ]
        },
        {
          "output_type": "stream",
          "name": "stderr",
          "text": [
            "100%|██████████| 391/391 [00:06<00:00, 63.35it/s]\n"
          ]
        },
        {
          "output_type": "stream",
          "name": "stdout",
          "text": [
            "Performace at epoch 41\n",
            "Train Loss: 0.37337 ; Train Acc: 0.88432\n",
            "Test Loss: 1.23195 ; Test Acc: 0.61802\n",
            "==============\n"
          ]
        },
        {
          "output_type": "stream",
          "name": "stderr",
          "text": [
            "100%|██████████| 391/391 [00:06<00:00, 63.92it/s]\n"
          ]
        },
        {
          "output_type": "stream",
          "name": "stdout",
          "text": [
            "Performace at epoch 42\n",
            "Train Loss: 0.35062 ; Train Acc: 0.89576\n",
            "Test Loss: 1.23843 ; Test Acc: 0.62883\n",
            "==============\n"
          ]
        },
        {
          "output_type": "stream",
          "name": "stderr",
          "text": [
            "100%|██████████| 391/391 [00:06<00:00, 63.74it/s]\n"
          ]
        },
        {
          "output_type": "stream",
          "name": "stdout",
          "text": [
            "Performace at epoch 43\n",
            "Train Loss: 0.33402 ; Train Acc: 0.90124\n",
            "Test Loss: 1.24479 ; Test Acc: 0.62613\n",
            "==============\n"
          ]
        },
        {
          "output_type": "stream",
          "name": "stderr",
          "text": [
            "100%|██████████| 391/391 [00:06<00:00, 64.84it/s]\n"
          ]
        },
        {
          "output_type": "stream",
          "name": "stdout",
          "text": [
            "Performace at epoch 44\n",
            "Train Loss: 0.31184 ; Train Acc: 0.91084\n",
            "Test Loss: 1.27822 ; Test Acc: 0.62523\n",
            "==============\n"
          ]
        },
        {
          "output_type": "stream",
          "name": "stderr",
          "text": [
            "100%|██████████| 391/391 [00:06<00:00, 62.86it/s]\n"
          ]
        },
        {
          "output_type": "stream",
          "name": "stdout",
          "text": [
            "Performace at epoch 45\n",
            "Train Loss: 0.29240 ; Train Acc: 0.91736\n",
            "Test Loss: 1.27271 ; Test Acc: 0.63093\n",
            "==============\n"
          ]
        },
        {
          "output_type": "stream",
          "name": "stderr",
          "text": [
            "100%|██████████| 391/391 [00:06<00:00, 63.65it/s]\n"
          ]
        },
        {
          "output_type": "stream",
          "name": "stdout",
          "text": [
            "Performace at epoch 46\n",
            "Train Loss: 0.27393 ; Train Acc: 0.92512\n",
            "Test Loss: 1.30346 ; Test Acc: 0.63213\n",
            "==============\n"
          ]
        },
        {
          "output_type": "stream",
          "name": "stderr",
          "text": [
            "100%|██████████| 391/391 [00:06<00:00, 63.70it/s]\n"
          ]
        },
        {
          "output_type": "stream",
          "name": "stdout",
          "text": [
            "Performace at epoch 47\n",
            "Train Loss: 0.25371 ; Train Acc: 0.93380\n",
            "Test Loss: 1.38459 ; Test Acc: 0.60030\n",
            "==============\n"
          ]
        },
        {
          "output_type": "stream",
          "name": "stderr",
          "text": [
            "100%|██████████| 391/391 [00:06<00:00, 64.91it/s]\n"
          ]
        },
        {
          "output_type": "stream",
          "name": "stdout",
          "text": [
            "Performace at epoch 48\n",
            "Train Loss: 0.23748 ; Train Acc: 0.93784\n",
            "Test Loss: 1.34839 ; Test Acc: 0.62252\n",
            "==============\n"
          ]
        },
        {
          "output_type": "stream",
          "name": "stderr",
          "text": [
            "100%|██████████| 391/391 [00:06<00:00, 63.90it/s]\n"
          ]
        },
        {
          "output_type": "stream",
          "name": "stdout",
          "text": [
            "Performace at epoch 49\n",
            "Train Loss: 0.22114 ; Train Acc: 0.94492\n",
            "Test Loss: 1.37101 ; Test Acc: 0.62282\n",
            "==============\n"
          ]
        },
        {
          "output_type": "stream",
          "name": "stderr",
          "text": [
            "100%|██████████| 391/391 [00:06<00:00, 64.30it/s]\n"
          ]
        },
        {
          "output_type": "stream",
          "name": "stdout",
          "text": [
            "Performace at epoch 50\n",
            "Train Loss: 0.20384 ; Train Acc: 0.95060\n",
            "Test Loss: 1.41624 ; Test Acc: 0.62402\n",
            "==============\n"
          ]
        },
        {
          "output_type": "stream",
          "name": "stderr",
          "text": [
            "100%|██████████| 391/391 [00:06<00:00, 64.68it/s]\n"
          ]
        },
        {
          "output_type": "stream",
          "name": "stdout",
          "text": [
            "Performace at epoch 51\n",
            "Train Loss: 0.18966 ; Train Acc: 0.95584\n",
            "Test Loss: 1.43071 ; Test Acc: 0.62432\n",
            "==============\n"
          ]
        },
        {
          "output_type": "stream",
          "name": "stderr",
          "text": [
            "100%|██████████| 391/391 [00:06<00:00, 64.16it/s]\n"
          ]
        },
        {
          "output_type": "stream",
          "name": "stdout",
          "text": [
            "Performace at epoch 52\n",
            "Train Loss: 0.17387 ; Train Acc: 0.96036\n",
            "Test Loss: 1.41477 ; Test Acc: 0.62643\n",
            "==============\n"
          ]
        },
        {
          "output_type": "stream",
          "name": "stderr",
          "text": [
            "100%|██████████| 391/391 [00:06<00:00, 63.29it/s]\n"
          ]
        },
        {
          "output_type": "stream",
          "name": "stdout",
          "text": [
            "Performace at epoch 53\n",
            "Train Loss: 0.15617 ; Train Acc: 0.96700\n",
            "Test Loss: 1.45971 ; Test Acc: 0.62703\n",
            "==============\n"
          ]
        },
        {
          "output_type": "stream",
          "name": "stderr",
          "text": [
            "100%|██████████| 391/391 [00:06<00:00, 64.40it/s]\n"
          ]
        },
        {
          "output_type": "stream",
          "name": "stdout",
          "text": [
            "Performace at epoch 54\n",
            "Train Loss: 0.14735 ; Train Acc: 0.96836\n",
            "Test Loss: 1.48126 ; Test Acc: 0.62793\n",
            "==============\n"
          ]
        },
        {
          "output_type": "stream",
          "name": "stderr",
          "text": [
            "100%|██████████| 391/391 [00:06<00:00, 64.04it/s]\n"
          ]
        },
        {
          "output_type": "stream",
          "name": "stdout",
          "text": [
            "Performace at epoch 55\n",
            "Train Loss: 0.13217 ; Train Acc: 0.97332\n",
            "Test Loss: 1.49694 ; Test Acc: 0.62973\n",
            "==============\n"
          ]
        },
        {
          "output_type": "stream",
          "name": "stderr",
          "text": [
            "100%|██████████| 391/391 [00:06<00:00, 63.91it/s]\n"
          ]
        },
        {
          "output_type": "stream",
          "name": "stdout",
          "text": [
            "Performace at epoch 56\n",
            "Train Loss: 0.12326 ; Train Acc: 0.97656\n",
            "Test Loss: 1.54648 ; Test Acc: 0.62673\n",
            "==============\n"
          ]
        },
        {
          "output_type": "stream",
          "name": "stderr",
          "text": [
            "100%|██████████| 391/391 [00:06<00:00, 63.56it/s]\n"
          ]
        },
        {
          "output_type": "stream",
          "name": "stdout",
          "text": [
            "Performace at epoch 57\n",
            "Train Loss: 0.10944 ; Train Acc: 0.98160\n",
            "Test Loss: 1.58317 ; Test Acc: 0.61772\n",
            "==============\n"
          ]
        },
        {
          "output_type": "stream",
          "name": "stderr",
          "text": [
            "100%|██████████| 391/391 [00:06<00:00, 63.88it/s]\n"
          ]
        },
        {
          "output_type": "stream",
          "name": "stdout",
          "text": [
            "Performace at epoch 58\n",
            "Train Loss: 0.10080 ; Train Acc: 0.98336\n",
            "Test Loss: 1.59598 ; Test Acc: 0.62372\n",
            "==============\n"
          ]
        },
        {
          "output_type": "stream",
          "name": "stderr",
          "text": [
            "100%|██████████| 391/391 [00:06<00:00, 64.62it/s]\n"
          ]
        },
        {
          "output_type": "stream",
          "name": "stdout",
          "text": [
            "Performace at epoch 59\n",
            "Train Loss: 0.08977 ; Train Acc: 0.98660\n",
            "Test Loss: 1.62439 ; Test Acc: 0.63123\n",
            "==============\n"
          ]
        },
        {
          "output_type": "stream",
          "name": "stderr",
          "text": [
            "100%|██████████| 391/391 [00:06<00:00, 63.44it/s]\n"
          ]
        },
        {
          "output_type": "stream",
          "name": "stdout",
          "text": [
            "Performace at epoch 60\n",
            "Train Loss: 0.08063 ; Train Acc: 0.98864\n",
            "Test Loss: 1.66398 ; Test Acc: 0.62583\n",
            "==============\n"
          ]
        },
        {
          "output_type": "stream",
          "name": "stderr",
          "text": [
            "100%|██████████| 391/391 [00:06<00:00, 63.77it/s]\n"
          ]
        },
        {
          "output_type": "stream",
          "name": "stdout",
          "text": [
            "Performace at epoch 61\n",
            "Train Loss: 0.07214 ; Train Acc: 0.99048\n",
            "Test Loss: 1.67946 ; Test Acc: 0.62432\n",
            "==============\n"
          ]
        },
        {
          "output_type": "stream",
          "name": "stderr",
          "text": [
            "100%|██████████| 391/391 [00:06<00:00, 64.20it/s]\n"
          ]
        },
        {
          "output_type": "stream",
          "name": "stdout",
          "text": [
            "Performace at epoch 62\n",
            "Train Loss: 0.06676 ; Train Acc: 0.99152\n",
            "Test Loss: 1.74060 ; Test Acc: 0.62402\n",
            "==============\n"
          ]
        },
        {
          "output_type": "stream",
          "name": "stderr",
          "text": [
            "100%|██████████| 391/391 [00:06<00:00, 64.14it/s]\n"
          ]
        },
        {
          "output_type": "stream",
          "name": "stdout",
          "text": [
            "Performace at epoch 63\n",
            "Train Loss: 0.06072 ; Train Acc: 0.99200\n",
            "Test Loss: 1.75010 ; Test Acc: 0.62342\n",
            "==============\n"
          ]
        },
        {
          "output_type": "stream",
          "name": "stderr",
          "text": [
            "100%|██████████| 391/391 [00:06<00:00, 63.15it/s]\n"
          ]
        },
        {
          "output_type": "stream",
          "name": "stdout",
          "text": [
            "Performace at epoch 64\n",
            "Train Loss: 0.05300 ; Train Acc: 0.99404\n",
            "Test Loss: 1.79679 ; Test Acc: 0.62583\n",
            "==============\n"
          ]
        },
        {
          "output_type": "stream",
          "name": "stderr",
          "text": [
            "100%|██████████| 391/391 [00:06<00:00, 63.06it/s]\n"
          ]
        },
        {
          "output_type": "stream",
          "name": "stdout",
          "text": [
            "Performace at epoch 65\n",
            "Train Loss: 0.04825 ; Train Acc: 0.99448\n",
            "Test Loss: 1.84201 ; Test Acc: 0.62342\n",
            "==============\n"
          ]
        },
        {
          "output_type": "stream",
          "name": "stderr",
          "text": [
            "100%|██████████| 391/391 [00:06<00:00, 63.57it/s]\n"
          ]
        },
        {
          "output_type": "stream",
          "name": "stdout",
          "text": [
            "Performace at epoch 66\n",
            "Train Loss: 0.04375 ; Train Acc: 0.99524\n",
            "Test Loss: 1.88889 ; Test Acc: 0.62793\n",
            "==============\n"
          ]
        },
        {
          "output_type": "stream",
          "name": "stderr",
          "text": [
            "100%|██████████| 391/391 [00:06<00:00, 62.75it/s]\n"
          ]
        },
        {
          "output_type": "stream",
          "name": "stdout",
          "text": [
            "Performace at epoch 67\n",
            "Train Loss: 0.03811 ; Train Acc: 0.99668\n",
            "Test Loss: 1.91538 ; Test Acc: 0.62042\n",
            "==============\n"
          ]
        },
        {
          "output_type": "stream",
          "name": "stderr",
          "text": [
            "100%|██████████| 391/391 [00:06<00:00, 63.34it/s]\n"
          ]
        },
        {
          "output_type": "stream",
          "name": "stdout",
          "text": [
            "Performace at epoch 68\n",
            "Train Loss: 0.03207 ; Train Acc: 0.99744\n",
            "Test Loss: 1.96082 ; Test Acc: 0.61772\n",
            "==============\n"
          ]
        },
        {
          "output_type": "stream",
          "name": "stderr",
          "text": [
            "100%|██████████| 391/391 [00:06<00:00, 63.73it/s]\n"
          ]
        },
        {
          "output_type": "stream",
          "name": "stdout",
          "text": [
            "Performace at epoch 69\n",
            "Train Loss: 0.03183 ; Train Acc: 0.99684\n",
            "Test Loss: 1.95284 ; Test Acc: 0.62733\n",
            "==============\n"
          ]
        },
        {
          "output_type": "stream",
          "name": "stderr",
          "text": [
            "100%|██████████| 391/391 [00:06<00:00, 63.44it/s]\n"
          ]
        },
        {
          "output_type": "stream",
          "name": "stdout",
          "text": [
            "Performace at epoch 70\n",
            "Train Loss: 0.02568 ; Train Acc: 0.99832\n",
            "Test Loss: 2.05075 ; Test Acc: 0.61862\n",
            "==============\n"
          ]
        },
        {
          "output_type": "stream",
          "name": "stderr",
          "text": [
            "100%|██████████| 391/391 [00:06<00:00, 63.62it/s]\n"
          ]
        },
        {
          "output_type": "stream",
          "name": "stdout",
          "text": [
            "Performace at epoch 71\n",
            "Train Loss: 0.02656 ; Train Acc: 0.99800\n",
            "Test Loss: 2.00357 ; Test Acc: 0.62823\n",
            "==============\n"
          ]
        },
        {
          "output_type": "stream",
          "name": "stderr",
          "text": [
            "100%|██████████| 391/391 [00:06<00:00, 62.81it/s]\n"
          ]
        },
        {
          "output_type": "stream",
          "name": "stdout",
          "text": [
            "Performace at epoch 72\n",
            "Train Loss: 0.02199 ; Train Acc: 0.99872\n",
            "Test Loss: 2.06524 ; Test Acc: 0.62883\n",
            "==============\n"
          ]
        },
        {
          "output_type": "stream",
          "name": "stderr",
          "text": [
            "100%|██████████| 391/391 [00:06<00:00, 64.69it/s]\n"
          ]
        },
        {
          "output_type": "stream",
          "name": "stdout",
          "text": [
            "Performace at epoch 73\n",
            "Train Loss: 0.02786 ; Train Acc: 0.99520\n",
            "Test Loss: 2.32770 ; Test Acc: 0.58919\n",
            "==============\n"
          ]
        },
        {
          "output_type": "stream",
          "name": "stderr",
          "text": [
            "100%|██████████| 391/391 [00:06<00:00, 63.01it/s]\n"
          ]
        },
        {
          "output_type": "stream",
          "name": "stdout",
          "text": [
            "Performace at epoch 74\n",
            "Train Loss: 0.02693 ; Train Acc: 0.99620\n",
            "Test Loss: 2.12938 ; Test Acc: 0.62222\n",
            "==============\n"
          ]
        },
        {
          "output_type": "stream",
          "name": "stderr",
          "text": [
            "100%|██████████| 391/391 [00:06<00:00, 64.12it/s]\n"
          ]
        },
        {
          "output_type": "stream",
          "name": "stdout",
          "text": [
            "Performace at epoch 75\n",
            "Train Loss: 0.01223 ; Train Acc: 0.99956\n",
            "Test Loss: 2.14915 ; Test Acc: 0.62883\n",
            "==============\n"
          ]
        },
        {
          "output_type": "stream",
          "name": "stderr",
          "text": [
            "100%|██████████| 391/391 [00:06<00:00, 63.02it/s]\n"
          ]
        },
        {
          "output_type": "stream",
          "name": "stdout",
          "text": [
            "Performace at epoch 76\n",
            "Train Loss: 0.01342 ; Train Acc: 0.99908\n",
            "Test Loss: 2.25644 ; Test Acc: 0.61381\n",
            "==============\n"
          ]
        },
        {
          "output_type": "stream",
          "name": "stderr",
          "text": [
            "100%|██████████| 391/391 [00:06<00:00, 62.54it/s]\n"
          ]
        },
        {
          "output_type": "stream",
          "name": "stdout",
          "text": [
            "Performace at epoch 77\n",
            "Train Loss: 0.05871 ; Train Acc: 0.98624\n",
            "Test Loss: 2.15328 ; Test Acc: 0.62823\n",
            "==============\n"
          ]
        },
        {
          "output_type": "stream",
          "name": "stderr",
          "text": [
            "100%|██████████| 391/391 [00:06<00:00, 63.53it/s]\n"
          ]
        },
        {
          "output_type": "stream",
          "name": "stdout",
          "text": [
            "Performace at epoch 78\n",
            "Train Loss: 0.00996 ; Train Acc: 0.99980\n",
            "Test Loss: 2.20930 ; Test Acc: 0.62823\n",
            "==============\n"
          ]
        },
        {
          "output_type": "stream",
          "name": "stderr",
          "text": [
            "100%|██████████| 391/391 [00:06<00:00, 63.39it/s]\n"
          ]
        },
        {
          "output_type": "stream",
          "name": "stdout",
          "text": [
            "Performace at epoch 79\n",
            "Train Loss: 0.00946 ; Train Acc: 0.99960\n",
            "Test Loss: 2.22811 ; Test Acc: 0.62583\n",
            "==============\n"
          ]
        },
        {
          "output_type": "stream",
          "name": "stderr",
          "text": [
            "100%|██████████| 391/391 [00:06<00:00, 63.42it/s]\n"
          ]
        },
        {
          "output_type": "stream",
          "name": "stdout",
          "text": [
            "Performace at epoch 80\n",
            "Train Loss: 0.00748 ; Train Acc: 0.99992\n",
            "Test Loss: 2.25357 ; Test Acc: 0.62883\n",
            "==============\n"
          ]
        },
        {
          "output_type": "stream",
          "name": "stderr",
          "text": [
            "100%|██████████| 391/391 [00:06<00:00, 62.75it/s]\n"
          ]
        },
        {
          "output_type": "stream",
          "name": "stdout",
          "text": [
            "Performace at epoch 81\n",
            "Train Loss: 0.00746 ; Train Acc: 0.99976\n",
            "Test Loss: 2.28605 ; Test Acc: 0.62162\n",
            "==============\n"
          ]
        },
        {
          "output_type": "stream",
          "name": "stderr",
          "text": [
            "100%|██████████| 391/391 [00:06<00:00, 62.94it/s]\n"
          ]
        },
        {
          "output_type": "stream",
          "name": "stdout",
          "text": [
            "Performace at epoch 82\n",
            "Train Loss: 0.00701 ; Train Acc: 0.99984\n",
            "Test Loss: 2.30114 ; Test Acc: 0.62372\n",
            "==============\n"
          ]
        },
        {
          "output_type": "stream",
          "name": "stderr",
          "text": [
            "100%|██████████| 391/391 [00:06<00:00, 63.20it/s]\n"
          ]
        },
        {
          "output_type": "stream",
          "name": "stdout",
          "text": [
            "Performace at epoch 83\n",
            "Train Loss: 0.05838 ; Train Acc: 0.98616\n",
            "Test Loss: 2.22954 ; Test Acc: 0.62312\n",
            "==============\n"
          ]
        },
        {
          "output_type": "stream",
          "name": "stderr",
          "text": [
            "100%|██████████| 391/391 [00:06<00:00, 61.99it/s]\n"
          ]
        },
        {
          "output_type": "stream",
          "name": "stdout",
          "text": [
            "Performace at epoch 84\n",
            "Train Loss: 0.00924 ; Train Acc: 0.99980\n",
            "Test Loss: 2.30036 ; Test Acc: 0.62432\n",
            "==============\n"
          ]
        },
        {
          "output_type": "stream",
          "name": "stderr",
          "text": [
            "100%|██████████| 391/391 [00:06<00:00, 63.39it/s]\n"
          ]
        },
        {
          "output_type": "stream",
          "name": "stdout",
          "text": [
            "Performace at epoch 85\n",
            "Train Loss: 0.00613 ; Train Acc: 0.99980\n",
            "Test Loss: 2.33629 ; Test Acc: 0.62823\n",
            "==============\n"
          ]
        },
        {
          "output_type": "stream",
          "name": "stderr",
          "text": [
            "100%|██████████| 391/391 [00:06<00:00, 65.02it/s]\n"
          ]
        },
        {
          "output_type": "stream",
          "name": "stdout",
          "text": [
            "Performace at epoch 86\n",
            "Train Loss: 0.00604 ; Train Acc: 0.99964\n",
            "Test Loss: 2.35910 ; Test Acc: 0.62733\n",
            "==============\n"
          ]
        },
        {
          "output_type": "stream",
          "name": "stderr",
          "text": [
            "100%|██████████| 391/391 [00:06<00:00, 64.70it/s]\n"
          ]
        },
        {
          "output_type": "stream",
          "name": "stdout",
          "text": [
            "Performace at epoch 87\n",
            "Train Loss: 0.00507 ; Train Acc: 0.99976\n",
            "Test Loss: 2.38723 ; Test Acc: 0.62883\n",
            "==============\n"
          ]
        },
        {
          "output_type": "stream",
          "name": "stderr",
          "text": [
            "100%|██████████| 391/391 [00:06<00:00, 63.38it/s]\n"
          ]
        },
        {
          "output_type": "stream",
          "name": "stdout",
          "text": [
            "Performace at epoch 88\n",
            "Train Loss: 0.05142 ; Train Acc: 0.98732\n",
            "Test Loss: 2.27331 ; Test Acc: 0.63003\n",
            "==============\n"
          ]
        },
        {
          "output_type": "stream",
          "name": "stderr",
          "text": [
            "100%|██████████| 391/391 [00:06<00:00, 64.53it/s]\n"
          ]
        },
        {
          "output_type": "stream",
          "name": "stdout",
          "text": [
            "Performace at epoch 89\n",
            "Train Loss: 0.00681 ; Train Acc: 0.99992\n",
            "Test Loss: 2.35932 ; Test Acc: 0.63003\n",
            "==============\n"
          ]
        },
        {
          "output_type": "stream",
          "name": "stderr",
          "text": [
            "100%|██████████| 391/391 [00:06<00:00, 64.40it/s]\n"
          ]
        },
        {
          "output_type": "stream",
          "name": "stdout",
          "text": [
            "Performace at epoch 90\n",
            "Train Loss: 0.00446 ; Train Acc: 0.99996\n",
            "Test Loss: 2.41756 ; Test Acc: 0.62523\n",
            "==============\n"
          ]
        },
        {
          "output_type": "stream",
          "name": "stderr",
          "text": [
            "100%|██████████| 391/391 [00:06<00:00, 64.14it/s]\n"
          ]
        },
        {
          "output_type": "stream",
          "name": "stdout",
          "text": [
            "Performace at epoch 91\n",
            "Train Loss: 0.00595 ; Train Acc: 0.99944\n",
            "Test Loss: 2.41045 ; Test Acc: 0.62643\n",
            "==============\n"
          ]
        },
        {
          "output_type": "stream",
          "name": "stderr",
          "text": [
            "100%|██████████| 391/391 [00:06<00:00, 63.28it/s]\n"
          ]
        },
        {
          "output_type": "stream",
          "name": "stdout",
          "text": [
            "Performace at epoch 92\n",
            "Train Loss: 0.03672 ; Train Acc: 0.99032\n",
            "Test Loss: 2.28092 ; Test Acc: 0.61411\n",
            "==============\n"
          ]
        },
        {
          "output_type": "stream",
          "name": "stderr",
          "text": [
            "100%|██████████| 391/391 [00:06<00:00, 63.75it/s]\n"
          ]
        },
        {
          "output_type": "stream",
          "name": "stdout",
          "text": [
            "Performace at epoch 93\n",
            "Train Loss: 0.01205 ; Train Acc: 0.99884\n",
            "Test Loss: 2.38526 ; Test Acc: 0.62853\n",
            "==============\n"
          ]
        },
        {
          "output_type": "stream",
          "name": "stderr",
          "text": [
            "100%|██████████| 391/391 [00:06<00:00, 63.69it/s]\n"
          ]
        },
        {
          "output_type": "stream",
          "name": "stdout",
          "text": [
            "Performace at epoch 94\n",
            "Train Loss: 0.00427 ; Train Acc: 0.99992\n",
            "Test Loss: 2.42709 ; Test Acc: 0.62883\n",
            "==============\n"
          ]
        },
        {
          "output_type": "stream",
          "name": "stderr",
          "text": [
            "100%|██████████| 391/391 [00:06<00:00, 63.99it/s]\n"
          ]
        },
        {
          "output_type": "stream",
          "name": "stdout",
          "text": [
            "Performace at epoch 95\n",
            "Train Loss: 0.00345 ; Train Acc: 0.99996\n",
            "Test Loss: 2.46924 ; Test Acc: 0.62883\n",
            "==============\n"
          ]
        },
        {
          "output_type": "stream",
          "name": "stderr",
          "text": [
            "100%|██████████| 391/391 [00:06<00:00, 63.28it/s]\n"
          ]
        },
        {
          "output_type": "stream",
          "name": "stdout",
          "text": [
            "Performace at epoch 96\n",
            "Train Loss: 0.00330 ; Train Acc: 0.99980\n",
            "Test Loss: 2.48840 ; Test Acc: 0.62462\n",
            "==============\n"
          ]
        },
        {
          "output_type": "stream",
          "name": "stderr",
          "text": [
            "100%|██████████| 391/391 [00:06<00:00, 64.32it/s]\n"
          ]
        },
        {
          "output_type": "stream",
          "name": "stdout",
          "text": [
            "Performace at epoch 97\n",
            "Train Loss: 0.00412 ; Train Acc: 0.99972\n",
            "Test Loss: 2.51154 ; Test Acc: 0.62883\n",
            "==============\n"
          ]
        },
        {
          "output_type": "stream",
          "name": "stderr",
          "text": [
            "100%|██████████| 391/391 [00:06<00:00, 62.86it/s]\n"
          ]
        },
        {
          "output_type": "stream",
          "name": "stdout",
          "text": [
            "Performace at epoch 98\n",
            "Train Loss: 0.00287 ; Train Acc: 1.00000\n",
            "Test Loss: 2.54456 ; Test Acc: 0.62643\n",
            "==============\n"
          ]
        },
        {
          "output_type": "stream",
          "name": "stderr",
          "text": [
            "100%|██████████| 391/391 [00:06<00:00, 62.61it/s]\n"
          ]
        },
        {
          "output_type": "stream",
          "name": "stdout",
          "text": [
            "Performace at epoch 99\n",
            "Train Loss: 0.03478 ; Train Acc: 0.99468\n",
            "Test Loss: 3.80804 ; Test Acc: 0.51502\n",
            "==============\n"
          ]
        },
        {
          "output_type": "stream",
          "name": "stderr",
          "text": [
            "100%|██████████| 391/391 [00:06<00:00, 62.93it/s]"
          ]
        },
        {
          "output_type": "stream",
          "name": "stdout",
          "text": [
            "Performace at epoch 100\n",
            "Train Loss: 0.03589 ; Train Acc: 0.99128\n",
            "Test Loss: 2.44066 ; Test Acc: 0.62883\n",
            "==============\n"
          ]
        },
        {
          "output_type": "stream",
          "name": "stderr",
          "text": [
            "\n"
          ]
        }
      ]
    },
    {
      "cell_type": "code",
      "source": [
        "# plot loss\n",
        "plt.plot(range(1, len(train_loss) + 1), train_loss, label='train loss')\n",
        "plt.plot(range(1, len(test_loss) + 1), test_loss, label='test loss')\n",
        "plt.xlabel('epochs')\n",
        "plt.ylabel('loss')\n",
        "plt.title('loss vs epochs')\n",
        "plt.legend()\n",
        "plt.show()"
      ],
      "metadata": {
        "colab": {
          "base_uri": "https://localhost:8080/",
          "height": 295
        },
        "id": "9zh3oYgZLguc",
        "outputId": "620f5955-bfd5-4616-c48d-dad1d0c32698"
      },
      "execution_count": null,
      "outputs": [
        {
          "output_type": "display_data",
          "data": {
            "image/png": "[encoded data removed]",
            "text/plain": [
              "<Figure size 432x288 with 1 Axes>"
            ]
          },
          "metadata": {
            "needs_background": "light"
          }
        }
      ]
    },
    {
      "cell_type": "code",
      "source": [
        "# plot acc\n",
        "plt.plot(range(1, NUM_EPOCHS + 1), train_acc, label='train acc')\n",
        "plt.plot(range(1, NUM_EPOCHS + 1), test_acc, label='test acc')\n",
        "plt.xlabel('epochs')\n",
        "plt.ylabel('acc')\n",
        "plt.title('acc vs epochs')\n",
        "plt.legend()\n",
        "plt.show()"
      ],
      "metadata": {
        "colab": {
          "base_uri": "https://localhost:8080/",
          "height": 295
        },
        "id": "6sazSFmULi9r",
        "outputId": "05927925-088f-4a47-9c52-29c5d23ca1be"
      },
      "execution_count": null,
      "outputs": [
        {
          "output_type": "display_data",
          "data": {
            "image/png": "[encoded data removed]",
            "text/plain": [
              "<Figure size 432x288 with 1 Axes>"
            ]
          },
          "metadata": {
            "needs_background": "light"
          }
        }
      ]
    }
  ]
}