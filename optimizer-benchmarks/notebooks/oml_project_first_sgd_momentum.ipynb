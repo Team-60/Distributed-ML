{
  "nbformat": 4,
  "nbformat_minor": 0,
  "metadata": {
    "colab": {
      "name": "oml-project-first-sgd-momentum.ipynb",
      "provenance": [],
      "collapsed_sections": []
    },
    "kernelspec": {
      "name": "python3",
      "display_name": "Python 3"
    },
    "language_info": {
      "name": "python"
    },
    "accelerator": "GPU"
  },
  "cells": [
    {
      "cell_type": "markdown",
      "metadata": {
        "id": "tLRs9OhtPjNo"
      },
      "source": [
        "## Setting up\n",
        "- Notebook: `SGD(model.parameters(), lr=0.01, momentum=0.9)` "
      ]
    },
    {
      "cell_type": "code",
      "metadata": {
        "colab": {
          "base_uri": "https://localhost:8080/"
        },
        "id": "64fLZZQA7dp0",
        "outputId": "53795641-7858-4721-80c2-2ee37cf5376c"
      },
      "source": [
        "from google.colab import drive\n",
        "drive.mount('/content/drive')"
      ],
      "execution_count": null,
      "outputs": [
        {
          "output_type": "stream",
          "name": "stdout",
          "text": [
            "Mounted at /content/drive\n"
          ]
        }
      ]
    },
    {
      "cell_type": "code",
      "metadata": {
        "colab": {
          "base_uri": "https://localhost:8080/"
        },
        "id": "LGYnUUYvK3i0",
        "outputId": "ee9661ea-5e9b-4534-bd2e-742504902cf7"
      },
      "source": [
        "%cd /content/drive/\"My Drive\"/\"Data Colab\"/oml-project"
      ],
      "execution_count": null,
      "outputs": [
        {
          "output_type": "stream",
          "name": "stdout",
          "text": [
            "/content/drive/My Drive/Data Colab/oml-project\n"
          ]
        }
      ]
    },
    {
      "cell_type": "code",
      "metadata": {
        "id": "6WbA1SvJMQ4E"
      },
      "source": [
        "import torch\n",
        "import torchvision\n",
        "import torchvision.transforms as transforms\n",
        "import matplotlib.pyplot as plt\n",
        "import torch.nn as nn\n",
        "import numpy as np\n",
        "from tqdm import tqdm"
      ],
      "execution_count": null,
      "outputs": []
    },
    {
      "cell_type": "code",
      "metadata": {
        "colab": {
          "base_uri": "https://localhost:8080/"
        },
        "id": "n_lbasYxiKiq",
        "outputId": "7d86c5c7-237b-4ffc-c946-2fe6b6baaaaa"
      },
      "source": [
        "device = torch.device(\"cuda:0\" if torch.cuda.is_available() else \"cpu\")\n",
        "device"
      ],
      "execution_count": null,
      "outputs": [
        {
          "output_type": "execute_result",
          "data": {
            "text/plain": [
              "device(type='cuda', index=0)"
            ]
          },
          "metadata": {},
          "execution_count": 4
        }
      ]
    },
    {
      "cell_type": "code",
      "metadata": {
        "id": "X3E720ochraB"
      },
      "source": [
        "# hyperparameters\n",
        "BATCH_SIZE = 64"
      ],
      "execution_count": null,
      "outputs": []
    },
    {
      "cell_type": "code",
      "metadata": {
        "id": "_oHZPC12Myqw",
        "colab": {
          "base_uri": "https://localhost:8080/"
        },
        "outputId": "d9155490-4318-448f-fedb-b4c77ed03fd1"
      },
      "source": [
        "train_set = torchvision.datasets.CIFAR10('./data', download=True, train=True, transform=transforms.Compose([transforms.ToTensor()]))"
      ],
      "execution_count": null,
      "outputs": [
        {
          "output_type": "stream",
          "name": "stdout",
          "text": [
            "Files already downloaded and verified\n"
          ]
        }
      ]
    },
    {
      "cell_type": "code",
      "metadata": {
        "id": "3fheO57gNYFu",
        "colab": {
          "base_uri": "https://localhost:8080/"
        },
        "outputId": "7ab5d7de-7904-42ba-a80d-8149f836d1b6"
      },
      "source": [
        "test_set = torchvision.datasets.CIFAR10(\"./data\", download=True, train=False, transform=transforms.Compose([transforms.ToTensor()])) "
      ],
      "execution_count": null,
      "outputs": [
        {
          "output_type": "stream",
          "name": "stdout",
          "text": [
            "Files already downloaded and verified\n"
          ]
        }
      ]
    },
    {
      "cell_type": "code",
      "metadata": {
        "colab": {
          "base_uri": "https://localhost:8080/"
        },
        "id": "y2qZz-iUeqon",
        "outputId": "9f5169c9-9146-4166-c91b-7cd4811286ea"
      },
      "source": [
        "# sampling for smaller dataset: train\n",
        "TRAIN_SAMPLES = int(len(train_set) / (10 * 2))\n",
        "train_class_seen = dict([(i, 0) for i in range(10)])\n",
        "train_indices = []\n",
        "for i, (_, l) in enumerate(train_set):\n",
        "  if train_class_seen[l] >= TRAIN_SAMPLES:\n",
        "    continue\n",
        "  train_class_seen[l] += 1\n",
        "  train_indices.append(i)\n",
        "train_subset = torch.utils.data.Subset(train_set, train_indices)\n",
        "len(train_subset)"
      ],
      "execution_count": null,
      "outputs": [
        {
          "output_type": "execute_result",
          "data": {
            "text/plain": [
              "25000"
            ]
          },
          "metadata": {},
          "execution_count": 8
        }
      ]
    },
    {
      "cell_type": "code",
      "metadata": {
        "colab": {
          "base_uri": "https://localhost:8080/"
        },
        "id": "IJJY43pUg9AY",
        "outputId": "a4e61947-5fe1-4938-b74b-269838d11f26"
      },
      "source": [
        "# sampling for smaller dataset: test\n",
        "TEST_SAMPLES = int(len(test_set) / (10 * 3))\n",
        "test_class_seen = dict([(i, 0) for i in range(10)])\n",
        "test_indices = []\n",
        "for i, (_, l) in enumerate(test_set):\n",
        "  if test_class_seen[l] >= TEST_SAMPLES:\n",
        "    continue\n",
        "  test_class_seen[l] += 1\n",
        "  test_indices.append(i)\n",
        "test_subset = torch.utils.data.Subset(test_set, test_indices)\n",
        "# store the test set as a single tensor\n",
        "test_X, test_Y = [], []\n",
        "for s, l in test_subset:\n",
        "  test_X.append(s)\n",
        "  test_Y.append(l)\n",
        "test_X = torch.stack(test_X).float()\n",
        "test_Y = torch.tensor(test_Y).long()\n",
        "test_X, test_Y = test_X.to(device), test_Y.to(device)\n",
        "test_X.shape, test_Y.shape"
      ],
      "execution_count": null,
      "outputs": [
        {
          "output_type": "execute_result",
          "data": {
            "text/plain": [
              "(torch.Size([3330, 3, 32, 32]), torch.Size([3330]))"
            ]
          },
          "metadata": {},
          "execution_count": 9
        }
      ]
    },
    {
      "cell_type": "code",
      "metadata": {
        "id": "LdUrDW0ohICt"
      },
      "source": [
        "train_loader = torch.utils.data.DataLoader(train_subset, batch_size=BATCH_SIZE, shuffle=True, num_workers=2)"
      ],
      "execution_count": null,
      "outputs": []
    },
    {
      "cell_type": "markdown",
      "metadata": {
        "id": "dJ0HrjaQPme8"
      },
      "source": [
        "## Analysis"
      ]
    },
    {
      "cell_type": "code",
      "metadata": {
        "id": "FSgQ8mxiNup-"
      },
      "source": [
        "sample_image, sample_label = train_set[100]"
      ],
      "execution_count": null,
      "outputs": []
    },
    {
      "cell_type": "code",
      "metadata": {
        "colab": {
          "base_uri": "https://localhost:8080/"
        },
        "id": "3ZBTqsoTdQPg",
        "outputId": "d73e15c5-e981-4867-c030-835aced1252d"
      },
      "source": [
        "sample_image.shape"
      ],
      "execution_count": null,
      "outputs": [
        {
          "output_type": "execute_result",
          "data": {
            "text/plain": [
              "torch.Size([3, 32, 32])"
            ]
          },
          "metadata": {},
          "execution_count": 12
        }
      ]
    },
    {
      "cell_type": "code",
      "metadata": {
        "colab": {
          "base_uri": "https://localhost:8080/",
          "height": 266
        },
        "id": "f5DSLrXmYzzA",
        "outputId": "5bcd40b1-98ce-49b2-9b8f-c83757e8abf3"
      },
      "source": [
        "plt.imshow(np.transpose(sample_image.numpy(), (1, 2, 0)))\n",
        "plt.show()"
      ],
      "execution_count": null,
      "outputs": [
        {
          "output_type": "display_data",
          "data": {
            "image/png": "[encoded data removed]",
            "text/plain": [
              "<Figure size 432x288 with 1 Axes>"
            ]
          },
          "metadata": {
            "needs_background": "light"
          }
        }
      ]
    },
    {
      "cell_type": "code",
      "metadata": {
        "colab": {
          "base_uri": "https://localhost:8080/"
        },
        "id": "A2JUccoHdJ-b",
        "outputId": "fae8e38e-89ba-411e-9896-164b77a005fb"
      },
      "source": [
        "len(train_set), len(test_set)"
      ],
      "execution_count": null,
      "outputs": [
        {
          "output_type": "execute_result",
          "data": {
            "text/plain": [
              "(50000, 10000)"
            ]
          },
          "metadata": {},
          "execution_count": 14
        }
      ]
    },
    {
      "cell_type": "code",
      "metadata": {
        "colab": {
          "base_uri": "https://localhost:8080/"
        },
        "id": "bSMtF-EJL3OS",
        "outputId": "3eec8c63-a4b7-4279-ba9a-e68b12d52c0d"
      },
      "source": [
        "sample_batch = next(iter(train_loader))\n",
        "sample_batch = sample_batch[0].to(device), sample_batch[1].to(device)\n",
        "sample_batch[0].shape, sample_batch[1].shape"
      ],
      "execution_count": null,
      "outputs": [
        {
          "output_type": "execute_result",
          "data": {
            "text/plain": [
              "(torch.Size([64, 3, 32, 32]), torch.Size([64]))"
            ]
          },
          "metadata": {},
          "execution_count": 15
        }
      ]
    },
    {
      "cell_type": "markdown",
      "metadata": {
        "id": "_midlfWidVDG"
      },
      "source": [
        "## Model"
      ]
    },
    {
      "cell_type": "code",
      "metadata": {
        "id": "GW2ovC5cdTrk",
        "colab": {
          "base_uri": "https://localhost:8080/"
        },
        "outputId": "62275c9d-e238-4f44-aa2a-719c9f325abc"
      },
      "source": [
        "class CNN(nn.Module):\n",
        "  def __init__(self):\n",
        "    super().__init__()\n",
        "    self.conv = nn.Sequential(\n",
        "      nn.Conv2d(in_channels=3, out_channels=32, kernel_size=3),\n",
        "      nn.MaxPool2d(kernel_size=2),\n",
        "      nn.ReLU(),\n",
        "    )\n",
        "    self.lin = nn.Sequential(\n",
        "        nn.Linear(in_features=32*15*15, out_features=600),\n",
        "        nn.ReLU(),\n",
        "        nn.Linear(in_features=600, out_features=120),\n",
        "        nn.ReLU(),\n",
        "        nn.Linear(in_features=120, out_features=10)\n",
        "    )\n",
        "    self.softmax = nn.LogSoftmax(dim=1)\n",
        "  def forward(self, x):\n",
        "    out = self.conv(x)\n",
        "    out = out.view(out.size(0), -1)\n",
        "    out = self.lin(out)\n",
        "    out = self.softmax(out)\n",
        "    return out\n",
        "model = CNN()\n",
        "model.to(device)"
      ],
      "execution_count": null,
      "outputs": [
        {
          "output_type": "execute_result",
          "data": {
            "text/plain": [
              "CNN(\n",
              "  (conv): Sequential(\n",
              "    (0): Conv2d(3, 32, kernel_size=(3, 3), stride=(1, 1))\n",
              "    (1): MaxPool2d(kernel_size=2, stride=2, padding=0, dilation=1, ceil_mode=False)\n",
              "    (2): ReLU()\n",
              "  )\n",
              "  (lin): Sequential(\n",
              "    (0): Linear(in_features=7200, out_features=600, bias=True)\n",
              "    (1): ReLU()\n",
              "    (2): Linear(in_features=600, out_features=120, bias=True)\n",
              "    (3): ReLU()\n",
              "    (4): Linear(in_features=120, out_features=10, bias=True)\n",
              "  )\n",
              "  (softmax): LogSoftmax(dim=1)\n",
              ")"
            ]
          },
          "metadata": {},
          "execution_count": 16
        }
      ]
    },
    {
      "cell_type": "code",
      "metadata": {
        "id": "IICsH3NmmqEZ"
      },
      "source": [
        "# hyperparameters\n",
        "NUM_EPOCHS = 100"
      ],
      "execution_count": null,
      "outputs": []
    },
    {
      "cell_type": "code",
      "metadata": {
        "id": "8ugQ9BLlfrjj"
      },
      "source": [
        "error = nn.NLLLoss()\n",
        "optimizer = torch.optim.SGD(model.parameters(), lr=0.01, momentum=0.9)"
      ],
      "execution_count": null,
      "outputs": []
    },
    {
      "cell_type": "markdown",
      "metadata": {
        "id": "nClIdnNkRMjL"
      },
      "source": [
        "## Training"
      ]
    },
    {
      "cell_type": "code",
      "metadata": {
        "colab": {
          "base_uri": "https://localhost:8080/"
        },
        "id": "su22Cmi2gpeI",
        "outputId": "742cc7ba-cf30-4d91-c229-44107734dcc0"
      },
      "source": [
        "DISPLAY_INTERVAL = 1\n",
        "train_loss, test_loss = [], [] # denotes the mean loss over all samples\n",
        "train_acc, test_acc = [], []\n",
        "for epoch in range(1, NUM_EPOCHS + 1):\n",
        "  total_loss = 0\n",
        "  correct, total = 0, 0\n",
        "  for images, labels in tqdm(train_loader):\n",
        "    # forward + backward + step\n",
        "    optimizer.zero_grad()\n",
        "    images, labels = images.to(device), labels.to(device)\n",
        "    outputs = model(images)\n",
        "    loss = error(outputs, labels)\n",
        "    total_loss += loss.item() * len(outputs)\n",
        "    loss.backward()\n",
        "    optimizer.step()\n",
        "    # accuracy calculation\n",
        "    correct += (torch.argmax(outputs, dim=1) == labels).sum()\n",
        "    total += len(labels)\n",
        "  train_loss.append(total_loss / total)\n",
        "  train_acc.append(correct / total)\n",
        "  # testing loss\n",
        "  with torch.no_grad():\n",
        "    predicted = model(test_X)\n",
        "    loss = error(predicted, test_Y)\n",
        "    test_loss.append(loss.item())\n",
        "    test_acc.append((torch.argmax(predicted, dim=1) == test_Y).sum() / len(test_Y))\n",
        "\n",
        "  if epoch % DISPLAY_INTERVAL == 0:\n",
        "      print(f'Performace at epoch {epoch}')\n",
        "      print(f'Train Loss: {train_loss[-1]:.5f} ; Train Acc: {train_acc[-1]:.5f}')\n",
        "      print(f'Test Loss: {test_loss[-1]:.5f} ; Test Acc: {test_acc[-1]:.5f}')\n",
        "      print('==============')"
      ],
      "execution_count": null,
      "outputs": [
        {
          "output_type": "stream",
          "name": "stderr",
          "text": [
            "100%|██████████| 391/391 [00:06<00:00, 63.57it/s]\n"
          ]
        },
        {
          "output_type": "stream",
          "name": "stdout",
          "text": [
            "Performace at epoch 1\n",
            "Train Loss: 1.97611 ; Train Acc: 0.27656\n",
            "Test Loss: 1.72530 ; Test Acc: 0.37357\n",
            "==============\n"
          ]
        },
        {
          "output_type": "stream",
          "name": "stderr",
          "text": [
            "100%|██████████| 391/391 [00:05<00:00, 66.28it/s]\n"
          ]
        },
        {
          "output_type": "stream",
          "name": "stdout",
          "text": [
            "Performace at epoch 2\n",
            "Train Loss: 1.55464 ; Train Acc: 0.43464\n",
            "Test Loss: 1.50659 ; Test Acc: 0.46577\n",
            "==============\n"
          ]
        },
        {
          "output_type": "stream",
          "name": "stderr",
          "text": [
            "100%|██████████| 391/391 [00:05<00:00, 68.32it/s]\n"
          ]
        },
        {
          "output_type": "stream",
          "name": "stdout",
          "text": [
            "Performace at epoch 3\n",
            "Train Loss: 1.35498 ; Train Acc: 0.51248\n",
            "Test Loss: 1.26708 ; Test Acc: 0.53243\n",
            "==============\n"
          ]
        },
        {
          "output_type": "stream",
          "name": "stderr",
          "text": [
            "100%|██████████| 391/391 [00:05<00:00, 67.86it/s]\n"
          ]
        },
        {
          "output_type": "stream",
          "name": "stdout",
          "text": [
            "Performace at epoch 4\n",
            "Train Loss: 1.21281 ; Train Acc: 0.56752\n",
            "Test Loss: 1.24241 ; Test Acc: 0.54775\n",
            "==============\n"
          ]
        },
        {
          "output_type": "stream",
          "name": "stderr",
          "text": [
            "100%|██████████| 391/391 [00:05<00:00, 67.26it/s]\n"
          ]
        },
        {
          "output_type": "stream",
          "name": "stdout",
          "text": [
            "Performace at epoch 5\n",
            "Train Loss: 1.09477 ; Train Acc: 0.60928\n",
            "Test Loss: 1.19366 ; Test Acc: 0.57868\n",
            "==============\n"
          ]
        },
        {
          "output_type": "stream",
          "name": "stderr",
          "text": [
            "100%|██████████| 391/391 [00:05<00:00, 67.56it/s]\n"
          ]
        },
        {
          "output_type": "stream",
          "name": "stdout",
          "text": [
            "Performace at epoch 6\n",
            "Train Loss: 0.96429 ; Train Acc: 0.65792\n",
            "Test Loss: 1.15520 ; Test Acc: 0.58619\n",
            "==============\n"
          ]
        },
        {
          "output_type": "stream",
          "name": "stderr",
          "text": [
            "100%|██████████| 391/391 [00:05<00:00, 66.63it/s]\n"
          ]
        },
        {
          "output_type": "stream",
          "name": "stdout",
          "text": [
            "Performace at epoch 7\n",
            "Train Loss: 0.83036 ; Train Acc: 0.70396\n",
            "Test Loss: 1.12127 ; Test Acc: 0.60751\n",
            "==============\n"
          ]
        },
        {
          "output_type": "stream",
          "name": "stderr",
          "text": [
            "100%|██████████| 391/391 [00:05<00:00, 67.28it/s]\n"
          ]
        },
        {
          "output_type": "stream",
          "name": "stdout",
          "text": [
            "Performace at epoch 8\n",
            "Train Loss: 0.68571 ; Train Acc: 0.75916\n",
            "Test Loss: 1.21627 ; Test Acc: 0.60000\n",
            "==============\n"
          ]
        },
        {
          "output_type": "stream",
          "name": "stderr",
          "text": [
            "100%|██████████| 391/391 [00:05<00:00, 67.46it/s]\n"
          ]
        },
        {
          "output_type": "stream",
          "name": "stdout",
          "text": [
            "Performace at epoch 9\n",
            "Train Loss: 0.54282 ; Train Acc: 0.80980\n",
            "Test Loss: 1.27248 ; Test Acc: 0.60511\n",
            "==============\n"
          ]
        },
        {
          "output_type": "stream",
          "name": "stderr",
          "text": [
            "100%|██████████| 391/391 [00:05<00:00, 67.11it/s]\n"
          ]
        },
        {
          "output_type": "stream",
          "name": "stdout",
          "text": [
            "Performace at epoch 10\n",
            "Train Loss: 0.40710 ; Train Acc: 0.86008\n",
            "Test Loss: 1.34990 ; Test Acc: 0.62132\n",
            "==============\n"
          ]
        },
        {
          "output_type": "stream",
          "name": "stderr",
          "text": [
            "100%|██████████| 391/391 [00:05<00:00, 67.10it/s]\n"
          ]
        },
        {
          "output_type": "stream",
          "name": "stdout",
          "text": [
            "Performace at epoch 11\n",
            "Train Loss: 0.29337 ; Train Acc: 0.89880\n",
            "Test Loss: 1.53799 ; Test Acc: 0.59790\n",
            "==============\n"
          ]
        },
        {
          "output_type": "stream",
          "name": "stderr",
          "text": [
            "100%|██████████| 391/391 [00:05<00:00, 67.31it/s]\n"
          ]
        },
        {
          "output_type": "stream",
          "name": "stdout",
          "text": [
            "Performace at epoch 12\n",
            "Train Loss: 0.21022 ; Train Acc: 0.92980\n",
            "Test Loss: 1.70991 ; Test Acc: 0.58499\n",
            "==============\n"
          ]
        },
        {
          "output_type": "stream",
          "name": "stderr",
          "text": [
            "100%|██████████| 391/391 [00:05<00:00, 67.32it/s]\n"
          ]
        },
        {
          "output_type": "stream",
          "name": "stdout",
          "text": [
            "Performace at epoch 13\n",
            "Train Loss: 0.15487 ; Train Acc: 0.94908\n",
            "Test Loss: 1.79691 ; Test Acc: 0.61441\n",
            "==============\n"
          ]
        },
        {
          "output_type": "stream",
          "name": "stderr",
          "text": [
            "100%|██████████| 391/391 [00:05<00:00, 68.32it/s]\n"
          ]
        },
        {
          "output_type": "stream",
          "name": "stdout",
          "text": [
            "Performace at epoch 14\n",
            "Train Loss: 0.10523 ; Train Acc: 0.96560\n",
            "Test Loss: 1.94083 ; Test Acc: 0.60901\n",
            "==============\n"
          ]
        },
        {
          "output_type": "stream",
          "name": "stderr",
          "text": [
            "100%|██████████| 391/391 [00:05<00:00, 65.92it/s]\n"
          ]
        },
        {
          "output_type": "stream",
          "name": "stdout",
          "text": [
            "Performace at epoch 15\n",
            "Train Loss: 0.09275 ; Train Acc: 0.97080\n",
            "Test Loss: 2.12466 ; Test Acc: 0.60511\n",
            "==============\n"
          ]
        },
        {
          "output_type": "stream",
          "name": "stderr",
          "text": [
            "100%|██████████| 391/391 [00:05<00:00, 67.78it/s]\n"
          ]
        },
        {
          "output_type": "stream",
          "name": "stdout",
          "text": [
            "Performace at epoch 16\n",
            "Train Loss: 0.07280 ; Train Acc: 0.97716\n",
            "Test Loss: 2.23617 ; Test Acc: 0.60601\n",
            "==============\n"
          ]
        },
        {
          "output_type": "stream",
          "name": "stderr",
          "text": [
            "100%|██████████| 391/391 [00:05<00:00, 66.66it/s]\n"
          ]
        },
        {
          "output_type": "stream",
          "name": "stdout",
          "text": [
            "Performace at epoch 17\n",
            "Train Loss: 0.07609 ; Train Acc: 0.97492\n",
            "Test Loss: 2.30314 ; Test Acc: 0.62132\n",
            "==============\n"
          ]
        },
        {
          "output_type": "stream",
          "name": "stderr",
          "text": [
            "100%|██████████| 391/391 [00:05<00:00, 66.63it/s]\n"
          ]
        },
        {
          "output_type": "stream",
          "name": "stdout",
          "text": [
            "Performace at epoch 18\n",
            "Train Loss: 0.05565 ; Train Acc: 0.98300\n",
            "Test Loss: 2.38981 ; Test Acc: 0.61682\n",
            "==============\n"
          ]
        },
        {
          "output_type": "stream",
          "name": "stderr",
          "text": [
            "100%|██████████| 391/391 [00:05<00:00, 66.16it/s]\n"
          ]
        },
        {
          "output_type": "stream",
          "name": "stdout",
          "text": [
            "Performace at epoch 19\n",
            "Train Loss: 0.02853 ; Train Acc: 0.99200\n",
            "Test Loss: 2.50196 ; Test Acc: 0.60480\n",
            "==============\n"
          ]
        },
        {
          "output_type": "stream",
          "name": "stderr",
          "text": [
            "100%|██████████| 391/391 [00:05<00:00, 65.90it/s]\n"
          ]
        },
        {
          "output_type": "stream",
          "name": "stdout",
          "text": [
            "Performace at epoch 20\n",
            "Train Loss: 0.01251 ; Train Acc: 0.99732\n",
            "Test Loss: 2.62380 ; Test Acc: 0.62312\n",
            "==============\n"
          ]
        },
        {
          "output_type": "stream",
          "name": "stderr",
          "text": [
            "100%|██████████| 391/391 [00:05<00:00, 66.08it/s]\n"
          ]
        },
        {
          "output_type": "stream",
          "name": "stdout",
          "text": [
            "Performace at epoch 21\n",
            "Train Loss: 0.00781 ; Train Acc: 0.99840\n",
            "Test Loss: 2.55204 ; Test Acc: 0.62853\n",
            "==============\n"
          ]
        },
        {
          "output_type": "stream",
          "name": "stderr",
          "text": [
            "100%|██████████| 391/391 [00:05<00:00, 66.01it/s]\n"
          ]
        },
        {
          "output_type": "stream",
          "name": "stdout",
          "text": [
            "Performace at epoch 22\n",
            "Train Loss: 0.00349 ; Train Acc: 0.99932\n",
            "Test Loss: 2.62363 ; Test Acc: 0.63033\n",
            "==============\n"
          ]
        },
        {
          "output_type": "stream",
          "name": "stderr",
          "text": [
            "100%|██████████| 391/391 [00:05<00:00, 66.19it/s]\n"
          ]
        },
        {
          "output_type": "stream",
          "name": "stdout",
          "text": [
            "Performace at epoch 23\n",
            "Train Loss: 0.00155 ; Train Acc: 0.99984\n",
            "Test Loss: 2.63819 ; Test Acc: 0.62943\n",
            "==============\n"
          ]
        },
        {
          "output_type": "stream",
          "name": "stderr",
          "text": [
            "100%|██████████| 391/391 [00:05<00:00, 65.31it/s]\n"
          ]
        },
        {
          "output_type": "stream",
          "name": "stdout",
          "text": [
            "Performace at epoch 24\n",
            "Train Loss: 0.00099 ; Train Acc: 0.99984\n",
            "Test Loss: 2.69110 ; Test Acc: 0.63123\n",
            "==============\n"
          ]
        },
        {
          "output_type": "stream",
          "name": "stderr",
          "text": [
            "100%|██████████| 391/391 [00:05<00:00, 65.98it/s]\n"
          ]
        },
        {
          "output_type": "stream",
          "name": "stdout",
          "text": [
            "Performace at epoch 25\n",
            "Train Loss: 0.00112 ; Train Acc: 0.99976\n",
            "Test Loss: 2.71727 ; Test Acc: 0.63183\n",
            "==============\n"
          ]
        },
        {
          "output_type": "stream",
          "name": "stderr",
          "text": [
            "100%|██████████| 391/391 [00:05<00:00, 66.68it/s]\n"
          ]
        },
        {
          "output_type": "stream",
          "name": "stdout",
          "text": [
            "Performace at epoch 26\n",
            "Train Loss: 0.00066 ; Train Acc: 0.99996\n",
            "Test Loss: 2.74513 ; Test Acc: 0.63183\n",
            "==============\n"
          ]
        },
        {
          "output_type": "stream",
          "name": "stderr",
          "text": [
            "100%|██████████| 391/391 [00:05<00:00, 66.27it/s]\n"
          ]
        },
        {
          "output_type": "stream",
          "name": "stdout",
          "text": [
            "Performace at epoch 27\n",
            "Train Loss: 0.00059 ; Train Acc: 0.99996\n",
            "Test Loss: 2.79323 ; Test Acc: 0.63393\n",
            "==============\n"
          ]
        },
        {
          "output_type": "stream",
          "name": "stderr",
          "text": [
            "100%|██████████| 391/391 [00:05<00:00, 66.40it/s]\n"
          ]
        },
        {
          "output_type": "stream",
          "name": "stdout",
          "text": [
            "Performace at epoch 28\n",
            "Train Loss: 0.00051 ; Train Acc: 0.99992\n",
            "Test Loss: 2.79205 ; Test Acc: 0.63483\n",
            "==============\n"
          ]
        },
        {
          "output_type": "stream",
          "name": "stderr",
          "text": [
            "100%|██████████| 391/391 [00:05<00:00, 66.29it/s]\n"
          ]
        },
        {
          "output_type": "stream",
          "name": "stdout",
          "text": [
            "Performace at epoch 29\n",
            "Train Loss: 0.00043 ; Train Acc: 0.99992\n",
            "Test Loss: 2.80853 ; Test Acc: 0.63574\n",
            "==============\n"
          ]
        },
        {
          "output_type": "stream",
          "name": "stderr",
          "text": [
            "100%|██████████| 391/391 [00:05<00:00, 66.54it/s]\n"
          ]
        },
        {
          "output_type": "stream",
          "name": "stdout",
          "text": [
            "Performace at epoch 30\n",
            "Train Loss: 0.00030 ; Train Acc: 1.00000\n",
            "Test Loss: 2.83415 ; Test Acc: 0.63393\n",
            "==============\n"
          ]
        },
        {
          "output_type": "stream",
          "name": "stderr",
          "text": [
            "100%|██████████| 391/391 [00:05<00:00, 66.12it/s]\n"
          ]
        },
        {
          "output_type": "stream",
          "name": "stdout",
          "text": [
            "Performace at epoch 31\n",
            "Train Loss: 0.00027 ; Train Acc: 1.00000\n",
            "Test Loss: 2.84447 ; Test Acc: 0.63664\n",
            "==============\n"
          ]
        },
        {
          "output_type": "stream",
          "name": "stderr",
          "text": [
            "100%|██████████| 391/391 [00:05<00:00, 66.75it/s]\n"
          ]
        },
        {
          "output_type": "stream",
          "name": "stdout",
          "text": [
            "Performace at epoch 32\n",
            "Train Loss: 0.00025 ; Train Acc: 1.00000\n",
            "Test Loss: 2.86586 ; Test Acc: 0.63634\n",
            "==============\n"
          ]
        },
        {
          "output_type": "stream",
          "name": "stderr",
          "text": [
            "100%|██████████| 391/391 [00:05<00:00, 66.06it/s]\n"
          ]
        },
        {
          "output_type": "stream",
          "name": "stdout",
          "text": [
            "Performace at epoch 33\n",
            "Train Loss: 0.00023 ; Train Acc: 1.00000\n",
            "Test Loss: 2.87618 ; Test Acc: 0.63574\n",
            "==============\n"
          ]
        },
        {
          "output_type": "stream",
          "name": "stderr",
          "text": [
            "100%|██████████| 391/391 [00:05<00:00, 66.42it/s]\n"
          ]
        },
        {
          "output_type": "stream",
          "name": "stdout",
          "text": [
            "Performace at epoch 34\n",
            "Train Loss: 0.00021 ; Train Acc: 1.00000\n",
            "Test Loss: 2.89519 ; Test Acc: 0.63634\n",
            "==============\n"
          ]
        },
        {
          "output_type": "stream",
          "name": "stderr",
          "text": [
            "100%|██████████| 391/391 [00:05<00:00, 66.40it/s]\n"
          ]
        },
        {
          "output_type": "stream",
          "name": "stdout",
          "text": [
            "Performace at epoch 35\n",
            "Train Loss: 0.00020 ; Train Acc: 1.00000\n",
            "Test Loss: 2.90462 ; Test Acc: 0.63724\n",
            "==============\n"
          ]
        },
        {
          "output_type": "stream",
          "name": "stderr",
          "text": [
            "100%|██████████| 391/391 [00:05<00:00, 65.94it/s]\n"
          ]
        },
        {
          "output_type": "stream",
          "name": "stdout",
          "text": [
            "Performace at epoch 36\n",
            "Train Loss: 0.00019 ; Train Acc: 1.00000\n",
            "Test Loss: 2.91852 ; Test Acc: 0.63844\n",
            "==============\n"
          ]
        },
        {
          "output_type": "stream",
          "name": "stderr",
          "text": [
            "100%|██████████| 391/391 [00:05<00:00, 66.69it/s]\n"
          ]
        },
        {
          "output_type": "stream",
          "name": "stdout",
          "text": [
            "Performace at epoch 37\n",
            "Train Loss: 0.00018 ; Train Acc: 1.00000\n",
            "Test Loss: 2.92460 ; Test Acc: 0.63814\n",
            "==============\n"
          ]
        },
        {
          "output_type": "stream",
          "name": "stderr",
          "text": [
            "100%|██████████| 391/391 [00:06<00:00, 65.17it/s]\n"
          ]
        },
        {
          "output_type": "stream",
          "name": "stdout",
          "text": [
            "Performace at epoch 38\n",
            "Train Loss: 0.00017 ; Train Acc: 1.00000\n",
            "Test Loss: 2.93495 ; Test Acc: 0.63724\n",
            "==============\n"
          ]
        },
        {
          "output_type": "stream",
          "name": "stderr",
          "text": [
            "100%|██████████| 391/391 [00:05<00:00, 65.55it/s]\n"
          ]
        },
        {
          "output_type": "stream",
          "name": "stdout",
          "text": [
            "Performace at epoch 39\n",
            "Train Loss: 0.00016 ; Train Acc: 1.00000\n",
            "Test Loss: 2.94889 ; Test Acc: 0.63844\n",
            "==============\n"
          ]
        },
        {
          "output_type": "stream",
          "name": "stderr",
          "text": [
            "100%|██████████| 391/391 [00:06<00:00, 65.12it/s]\n"
          ]
        },
        {
          "output_type": "stream",
          "name": "stdout",
          "text": [
            "Performace at epoch 40\n",
            "Train Loss: 0.00016 ; Train Acc: 1.00000\n",
            "Test Loss: 2.95589 ; Test Acc: 0.63814\n",
            "==============\n"
          ]
        },
        {
          "output_type": "stream",
          "name": "stderr",
          "text": [
            "100%|██████████| 391/391 [00:05<00:00, 65.92it/s]\n"
          ]
        },
        {
          "output_type": "stream",
          "name": "stdout",
          "text": [
            "Performace at epoch 41\n",
            "Train Loss: 0.00015 ; Train Acc: 1.00000\n",
            "Test Loss: 2.96622 ; Test Acc: 0.63754\n",
            "==============\n"
          ]
        },
        {
          "output_type": "stream",
          "name": "stderr",
          "text": [
            "100%|██████████| 391/391 [00:05<00:00, 65.33it/s]\n"
          ]
        },
        {
          "output_type": "stream",
          "name": "stdout",
          "text": [
            "Performace at epoch 42\n",
            "Train Loss: 0.00014 ; Train Acc: 1.00000\n",
            "Test Loss: 2.97535 ; Test Acc: 0.63874\n",
            "==============\n"
          ]
        },
        {
          "output_type": "stream",
          "name": "stderr",
          "text": [
            "100%|██████████| 391/391 [00:05<00:00, 65.56it/s]\n"
          ]
        },
        {
          "output_type": "stream",
          "name": "stdout",
          "text": [
            "Performace at epoch 43\n",
            "Train Loss: 0.00014 ; Train Acc: 1.00000\n",
            "Test Loss: 2.98186 ; Test Acc: 0.63904\n",
            "==============\n"
          ]
        },
        {
          "output_type": "stream",
          "name": "stderr",
          "text": [
            "100%|██████████| 391/391 [00:05<00:00, 65.82it/s]\n"
          ]
        },
        {
          "output_type": "stream",
          "name": "stdout",
          "text": [
            "Performace at epoch 44\n",
            "Train Loss: 0.00013 ; Train Acc: 1.00000\n",
            "Test Loss: 2.99399 ; Test Acc: 0.63904\n",
            "==============\n"
          ]
        },
        {
          "output_type": "stream",
          "name": "stderr",
          "text": [
            "100%|██████████| 391/391 [00:05<00:00, 65.77it/s]\n"
          ]
        },
        {
          "output_type": "stream",
          "name": "stdout",
          "text": [
            "Performace at epoch 45\n",
            "Train Loss: 0.00013 ; Train Acc: 1.00000\n",
            "Test Loss: 3.00344 ; Test Acc: 0.63874\n",
            "==============\n"
          ]
        },
        {
          "output_type": "stream",
          "name": "stderr",
          "text": [
            "100%|██████████| 391/391 [00:05<00:00, 65.22it/s]\n"
          ]
        },
        {
          "output_type": "stream",
          "name": "stdout",
          "text": [
            "Performace at epoch 46\n",
            "Train Loss: 0.00012 ; Train Acc: 1.00000\n",
            "Test Loss: 3.00897 ; Test Acc: 0.63904\n",
            "==============\n"
          ]
        },
        {
          "output_type": "stream",
          "name": "stderr",
          "text": [
            "100%|██████████| 391/391 [00:06<00:00, 64.96it/s]\n"
          ]
        },
        {
          "output_type": "stream",
          "name": "stdout",
          "text": [
            "Performace at epoch 47\n",
            "Train Loss: 0.00012 ; Train Acc: 1.00000\n",
            "Test Loss: 3.01442 ; Test Acc: 0.63814\n",
            "==============\n"
          ]
        },
        {
          "output_type": "stream",
          "name": "stderr",
          "text": [
            "100%|██████████| 391/391 [00:05<00:00, 65.59it/s]\n"
          ]
        },
        {
          "output_type": "stream",
          "name": "stdout",
          "text": [
            "Performace at epoch 48\n",
            "Train Loss: 0.00012 ; Train Acc: 1.00000\n",
            "Test Loss: 3.02197 ; Test Acc: 0.63874\n",
            "==============\n"
          ]
        },
        {
          "output_type": "stream",
          "name": "stderr",
          "text": [
            "100%|██████████| 391/391 [00:05<00:00, 65.46it/s]\n"
          ]
        },
        {
          "output_type": "stream",
          "name": "stdout",
          "text": [
            "Performace at epoch 49\n",
            "Train Loss: 0.00011 ; Train Acc: 1.00000\n",
            "Test Loss: 3.02994 ; Test Acc: 0.63814\n",
            "==============\n"
          ]
        },
        {
          "output_type": "stream",
          "name": "stderr",
          "text": [
            "100%|██████████| 391/391 [00:05<00:00, 65.47it/s]\n"
          ]
        },
        {
          "output_type": "stream",
          "name": "stdout",
          "text": [
            "Performace at epoch 50\n",
            "Train Loss: 0.00011 ; Train Acc: 1.00000\n",
            "Test Loss: 3.03740 ; Test Acc: 0.63814\n",
            "==============\n"
          ]
        },
        {
          "output_type": "stream",
          "name": "stderr",
          "text": [
            "100%|██████████| 391/391 [00:06<00:00, 64.81it/s]\n"
          ]
        },
        {
          "output_type": "stream",
          "name": "stdout",
          "text": [
            "Performace at epoch 51\n",
            "Train Loss: 0.00011 ; Train Acc: 1.00000\n",
            "Test Loss: 3.04266 ; Test Acc: 0.63814\n",
            "==============\n"
          ]
        },
        {
          "output_type": "stream",
          "name": "stderr",
          "text": [
            "100%|██████████| 391/391 [00:06<00:00, 64.72it/s]\n"
          ]
        },
        {
          "output_type": "stream",
          "name": "stdout",
          "text": [
            "Performace at epoch 52\n",
            "Train Loss: 0.00010 ; Train Acc: 1.00000\n",
            "Test Loss: 3.04992 ; Test Acc: 0.63934\n",
            "==============\n"
          ]
        },
        {
          "output_type": "stream",
          "name": "stderr",
          "text": [
            "100%|██████████| 391/391 [00:06<00:00, 64.60it/s]\n"
          ]
        },
        {
          "output_type": "stream",
          "name": "stdout",
          "text": [
            "Performace at epoch 53\n",
            "Train Loss: 0.00010 ; Train Acc: 1.00000\n",
            "Test Loss: 3.05427 ; Test Acc: 0.63844\n",
            "==============\n"
          ]
        },
        {
          "output_type": "stream",
          "name": "stderr",
          "text": [
            "100%|██████████| 391/391 [00:06<00:00, 65.06it/s]\n"
          ]
        },
        {
          "output_type": "stream",
          "name": "stdout",
          "text": [
            "Performace at epoch 54\n",
            "Train Loss: 0.00010 ; Train Acc: 1.00000\n",
            "Test Loss: 3.05740 ; Test Acc: 0.63844\n",
            "==============\n"
          ]
        },
        {
          "output_type": "stream",
          "name": "stderr",
          "text": [
            "100%|██████████| 391/391 [00:05<00:00, 65.25it/s]\n"
          ]
        },
        {
          "output_type": "stream",
          "name": "stdout",
          "text": [
            "Performace at epoch 55\n",
            "Train Loss: 0.00010 ; Train Acc: 1.00000\n",
            "Test Loss: 3.06685 ; Test Acc: 0.63874\n",
            "==============\n"
          ]
        },
        {
          "output_type": "stream",
          "name": "stderr",
          "text": [
            "100%|██████████| 391/391 [00:06<00:00, 64.83it/s]\n"
          ]
        },
        {
          "output_type": "stream",
          "name": "stdout",
          "text": [
            "Performace at epoch 56\n",
            "Train Loss: 0.00009 ; Train Acc: 1.00000\n",
            "Test Loss: 3.07223 ; Test Acc: 0.63874\n",
            "==============\n"
          ]
        },
        {
          "output_type": "stream",
          "name": "stderr",
          "text": [
            "100%|██████████| 391/391 [00:05<00:00, 65.39it/s]\n"
          ]
        },
        {
          "output_type": "stream",
          "name": "stdout",
          "text": [
            "Performace at epoch 57\n",
            "Train Loss: 0.00009 ; Train Acc: 1.00000\n",
            "Test Loss: 3.07771 ; Test Acc: 0.63844\n",
            "==============\n"
          ]
        },
        {
          "output_type": "stream",
          "name": "stderr",
          "text": [
            "100%|██████████| 391/391 [00:06<00:00, 64.89it/s]\n"
          ]
        },
        {
          "output_type": "stream",
          "name": "stdout",
          "text": [
            "Performace at epoch 58\n",
            "Train Loss: 0.00009 ; Train Acc: 1.00000\n",
            "Test Loss: 3.08172 ; Test Acc: 0.63844\n",
            "==============\n"
          ]
        },
        {
          "output_type": "stream",
          "name": "stderr",
          "text": [
            "100%|██████████| 391/391 [00:05<00:00, 65.86it/s]\n"
          ]
        },
        {
          "output_type": "stream",
          "name": "stdout",
          "text": [
            "Performace at epoch 59\n",
            "Train Loss: 0.00009 ; Train Acc: 1.00000\n",
            "Test Loss: 3.08831 ; Test Acc: 0.63844\n",
            "==============\n"
          ]
        },
        {
          "output_type": "stream",
          "name": "stderr",
          "text": [
            "100%|██████████| 391/391 [00:06<00:00, 65.02it/s]\n"
          ]
        },
        {
          "output_type": "stream",
          "name": "stdout",
          "text": [
            "Performace at epoch 60\n",
            "Train Loss: 0.00009 ; Train Acc: 1.00000\n",
            "Test Loss: 3.09242 ; Test Acc: 0.63874\n",
            "==============\n"
          ]
        },
        {
          "output_type": "stream",
          "name": "stderr",
          "text": [
            "100%|██████████| 391/391 [00:05<00:00, 65.41it/s]\n"
          ]
        },
        {
          "output_type": "stream",
          "name": "stdout",
          "text": [
            "Performace at epoch 61\n",
            "Train Loss: 0.00008 ; Train Acc: 1.00000\n",
            "Test Loss: 3.09526 ; Test Acc: 0.63964\n",
            "==============\n"
          ]
        },
        {
          "output_type": "stream",
          "name": "stderr",
          "text": [
            "100%|██████████| 391/391 [00:06<00:00, 64.68it/s]\n"
          ]
        },
        {
          "output_type": "stream",
          "name": "stdout",
          "text": [
            "Performace at epoch 62\n",
            "Train Loss: 0.00008 ; Train Acc: 1.00000\n",
            "Test Loss: 3.10458 ; Test Acc: 0.63964\n",
            "==============\n"
          ]
        },
        {
          "output_type": "stream",
          "name": "stderr",
          "text": [
            "100%|██████████| 391/391 [00:06<00:00, 65.13it/s]\n"
          ]
        },
        {
          "output_type": "stream",
          "name": "stdout",
          "text": [
            "Performace at epoch 63\n",
            "Train Loss: 0.00008 ; Train Acc: 1.00000\n",
            "Test Loss: 3.10705 ; Test Acc: 0.63844\n",
            "==============\n"
          ]
        },
        {
          "output_type": "stream",
          "name": "stderr",
          "text": [
            "100%|██████████| 391/391 [00:05<00:00, 65.26it/s]\n"
          ]
        },
        {
          "output_type": "stream",
          "name": "stdout",
          "text": [
            "Performace at epoch 64\n",
            "Train Loss: 0.00008 ; Train Acc: 1.00000\n",
            "Test Loss: 3.11285 ; Test Acc: 0.63844\n",
            "==============\n"
          ]
        },
        {
          "output_type": "stream",
          "name": "stderr",
          "text": [
            "100%|██████████| 391/391 [00:06<00:00, 64.91it/s]\n"
          ]
        },
        {
          "output_type": "stream",
          "name": "stdout",
          "text": [
            "Performace at epoch 65\n",
            "Train Loss: 0.00008 ; Train Acc: 1.00000\n",
            "Test Loss: 3.11850 ; Test Acc: 0.63934\n",
            "==============\n"
          ]
        },
        {
          "output_type": "stream",
          "name": "stderr",
          "text": [
            "100%|██████████| 391/391 [00:06<00:00, 65.06it/s]\n"
          ]
        },
        {
          "output_type": "stream",
          "name": "stdout",
          "text": [
            "Performace at epoch 66\n",
            "Train Loss: 0.00008 ; Train Acc: 1.00000\n",
            "Test Loss: 3.12001 ; Test Acc: 0.63814\n",
            "==============\n"
          ]
        },
        {
          "output_type": "stream",
          "name": "stderr",
          "text": [
            "100%|██████████| 391/391 [00:05<00:00, 65.48it/s]\n"
          ]
        },
        {
          "output_type": "stream",
          "name": "stdout",
          "text": [
            "Performace at epoch 67\n",
            "Train Loss: 0.00007 ; Train Acc: 1.00000\n",
            "Test Loss: 3.12684 ; Test Acc: 0.63904\n",
            "==============\n"
          ]
        },
        {
          "output_type": "stream",
          "name": "stderr",
          "text": [
            "100%|██████████| 391/391 [00:06<00:00, 64.86it/s]\n"
          ]
        },
        {
          "output_type": "stream",
          "name": "stdout",
          "text": [
            "Performace at epoch 68\n",
            "Train Loss: 0.00007 ; Train Acc: 1.00000\n",
            "Test Loss: 3.12787 ; Test Acc: 0.63904\n",
            "==============\n"
          ]
        },
        {
          "output_type": "stream",
          "name": "stderr",
          "text": [
            "100%|██████████| 391/391 [00:05<00:00, 65.58it/s]\n"
          ]
        },
        {
          "output_type": "stream",
          "name": "stdout",
          "text": [
            "Performace at epoch 69\n",
            "Train Loss: 0.00007 ; Train Acc: 1.00000\n",
            "Test Loss: 3.13505 ; Test Acc: 0.63844\n",
            "==============\n"
          ]
        },
        {
          "output_type": "stream",
          "name": "stderr",
          "text": [
            "100%|██████████| 391/391 [00:05<00:00, 65.46it/s]\n"
          ]
        },
        {
          "output_type": "stream",
          "name": "stdout",
          "text": [
            "Performace at epoch 70\n",
            "Train Loss: 0.00007 ; Train Acc: 1.00000\n",
            "Test Loss: 3.13974 ; Test Acc: 0.63904\n",
            "==============\n"
          ]
        },
        {
          "output_type": "stream",
          "name": "stderr",
          "text": [
            "100%|██████████| 391/391 [00:06<00:00, 64.08it/s]\n"
          ]
        },
        {
          "output_type": "stream",
          "name": "stdout",
          "text": [
            "Performace at epoch 71\n",
            "Train Loss: 0.00007 ; Train Acc: 1.00000\n",
            "Test Loss: 3.14114 ; Test Acc: 0.63874\n",
            "==============\n"
          ]
        },
        {
          "output_type": "stream",
          "name": "stderr",
          "text": [
            "100%|██████████| 391/391 [00:06<00:00, 63.64it/s]\n"
          ]
        },
        {
          "output_type": "stream",
          "name": "stdout",
          "text": [
            "Performace at epoch 72\n",
            "Train Loss: 0.00007 ; Train Acc: 1.00000\n",
            "Test Loss: 3.14852 ; Test Acc: 0.63874\n",
            "==============\n"
          ]
        },
        {
          "output_type": "stream",
          "name": "stderr",
          "text": [
            "100%|██████████| 391/391 [00:06<00:00, 65.04it/s]\n"
          ]
        },
        {
          "output_type": "stream",
          "name": "stdout",
          "text": [
            "Performace at epoch 73\n",
            "Train Loss: 0.00007 ; Train Acc: 1.00000\n",
            "Test Loss: 3.15041 ; Test Acc: 0.63844\n",
            "==============\n"
          ]
        },
        {
          "output_type": "stream",
          "name": "stderr",
          "text": [
            "100%|██████████| 391/391 [00:05<00:00, 65.19it/s]\n"
          ]
        },
        {
          "output_type": "stream",
          "name": "stdout",
          "text": [
            "Performace at epoch 74\n",
            "Train Loss: 0.00007 ; Train Acc: 1.00000\n",
            "Test Loss: 3.15533 ; Test Acc: 0.63904\n",
            "==============\n"
          ]
        },
        {
          "output_type": "stream",
          "name": "stderr",
          "text": [
            "100%|██████████| 391/391 [00:05<00:00, 65.48it/s]\n"
          ]
        },
        {
          "output_type": "stream",
          "name": "stdout",
          "text": [
            "Performace at epoch 75\n",
            "Train Loss: 0.00006 ; Train Acc: 1.00000\n",
            "Test Loss: 3.16015 ; Test Acc: 0.63874\n",
            "==============\n"
          ]
        },
        {
          "output_type": "stream",
          "name": "stderr",
          "text": [
            "100%|██████████| 391/391 [00:05<00:00, 65.23it/s]\n"
          ]
        },
        {
          "output_type": "stream",
          "name": "stdout",
          "text": [
            "Performace at epoch 76\n",
            "Train Loss: 0.00006 ; Train Acc: 1.00000\n",
            "Test Loss: 3.16170 ; Test Acc: 0.63904\n",
            "==============\n"
          ]
        },
        {
          "output_type": "stream",
          "name": "stderr",
          "text": [
            "100%|██████████| 391/391 [00:05<00:00, 66.15it/s]\n"
          ]
        },
        {
          "output_type": "stream",
          "name": "stdout",
          "text": [
            "Performace at epoch 77\n",
            "Train Loss: 0.00006 ; Train Acc: 1.00000\n",
            "Test Loss: 3.16623 ; Test Acc: 0.63904\n",
            "==============\n"
          ]
        },
        {
          "output_type": "stream",
          "name": "stderr",
          "text": [
            "100%|██████████| 391/391 [00:05<00:00, 65.48it/s]\n"
          ]
        },
        {
          "output_type": "stream",
          "name": "stdout",
          "text": [
            "Performace at epoch 78\n",
            "Train Loss: 0.00006 ; Train Acc: 1.00000\n",
            "Test Loss: 3.16907 ; Test Acc: 0.63934\n",
            "==============\n"
          ]
        },
        {
          "output_type": "stream",
          "name": "stderr",
          "text": [
            "100%|██████████| 391/391 [00:06<00:00, 64.84it/s]\n"
          ]
        },
        {
          "output_type": "stream",
          "name": "stdout",
          "text": [
            "Performace at epoch 79\n",
            "Train Loss: 0.00006 ; Train Acc: 1.00000\n",
            "Test Loss: 3.17394 ; Test Acc: 0.63904\n",
            "==============\n"
          ]
        },
        {
          "output_type": "stream",
          "name": "stderr",
          "text": [
            "100%|██████████| 391/391 [00:06<00:00, 65.07it/s]\n"
          ]
        },
        {
          "output_type": "stream",
          "name": "stdout",
          "text": [
            "Performace at epoch 80\n",
            "Train Loss: 0.00006 ; Train Acc: 1.00000\n",
            "Test Loss: 3.17712 ; Test Acc: 0.63964\n",
            "==============\n"
          ]
        },
        {
          "output_type": "stream",
          "name": "stderr",
          "text": [
            "100%|██████████| 391/391 [00:06<00:00, 64.61it/s]\n"
          ]
        },
        {
          "output_type": "stream",
          "name": "stdout",
          "text": [
            "Performace at epoch 81\n",
            "Train Loss: 0.00006 ; Train Acc: 1.00000\n",
            "Test Loss: 3.17971 ; Test Acc: 0.63934\n",
            "==============\n"
          ]
        },
        {
          "output_type": "stream",
          "name": "stderr",
          "text": [
            "100%|██████████| 391/391 [00:05<00:00, 65.21it/s]\n"
          ]
        },
        {
          "output_type": "stream",
          "name": "stdout",
          "text": [
            "Performace at epoch 82\n",
            "Train Loss: 0.00006 ; Train Acc: 1.00000\n",
            "Test Loss: 3.18576 ; Test Acc: 0.63934\n",
            "==============\n"
          ]
        },
        {
          "output_type": "stream",
          "name": "stderr",
          "text": [
            "100%|██████████| 391/391 [00:05<00:00, 65.34it/s]\n"
          ]
        },
        {
          "output_type": "stream",
          "name": "stdout",
          "text": [
            "Performace at epoch 83\n",
            "Train Loss: 0.00006 ; Train Acc: 1.00000\n",
            "Test Loss: 3.18703 ; Test Acc: 0.63904\n",
            "==============\n"
          ]
        },
        {
          "output_type": "stream",
          "name": "stderr",
          "text": [
            "100%|██████████| 391/391 [00:05<00:00, 65.29it/s]\n"
          ]
        },
        {
          "output_type": "stream",
          "name": "stdout",
          "text": [
            "Performace at epoch 84\n",
            "Train Loss: 0.00006 ; Train Acc: 1.00000\n",
            "Test Loss: 3.18845 ; Test Acc: 0.63964\n",
            "==============\n"
          ]
        },
        {
          "output_type": "stream",
          "name": "stderr",
          "text": [
            "100%|██████████| 391/391 [00:05<00:00, 66.00it/s]\n"
          ]
        },
        {
          "output_type": "stream",
          "name": "stdout",
          "text": [
            "Performace at epoch 85\n",
            "Train Loss: 0.00006 ; Train Acc: 1.00000\n",
            "Test Loss: 3.19448 ; Test Acc: 0.63844\n",
            "==============\n"
          ]
        },
        {
          "output_type": "stream",
          "name": "stderr",
          "text": [
            "100%|██████████| 391/391 [00:06<00:00, 65.12it/s]\n"
          ]
        },
        {
          "output_type": "stream",
          "name": "stdout",
          "text": [
            "Performace at epoch 86\n",
            "Train Loss: 0.00005 ; Train Acc: 1.00000\n",
            "Test Loss: 3.19882 ; Test Acc: 0.63874\n",
            "==============\n"
          ]
        },
        {
          "output_type": "stream",
          "name": "stderr",
          "text": [
            "100%|██████████| 391/391 [00:05<00:00, 66.51it/s]\n"
          ]
        },
        {
          "output_type": "stream",
          "name": "stdout",
          "text": [
            "Performace at epoch 87\n",
            "Train Loss: 0.00005 ; Train Acc: 1.00000\n",
            "Test Loss: 3.20051 ; Test Acc: 0.63874\n",
            "==============\n"
          ]
        },
        {
          "output_type": "stream",
          "name": "stderr",
          "text": [
            "100%|██████████| 391/391 [00:05<00:00, 66.26it/s]\n"
          ]
        },
        {
          "output_type": "stream",
          "name": "stdout",
          "text": [
            "Performace at epoch 88\n",
            "Train Loss: 0.00005 ; Train Acc: 1.00000\n",
            "Test Loss: 3.20291 ; Test Acc: 0.63934\n",
            "==============\n"
          ]
        },
        {
          "output_type": "stream",
          "name": "stderr",
          "text": [
            "100%|██████████| 391/391 [00:05<00:00, 65.96it/s]\n"
          ]
        },
        {
          "output_type": "stream",
          "name": "stdout",
          "text": [
            "Performace at epoch 89\n",
            "Train Loss: 0.00005 ; Train Acc: 1.00000\n",
            "Test Loss: 3.20761 ; Test Acc: 0.63874\n",
            "==============\n"
          ]
        },
        {
          "output_type": "stream",
          "name": "stderr",
          "text": [
            "100%|██████████| 391/391 [00:05<00:00, 65.38it/s]\n"
          ]
        },
        {
          "output_type": "stream",
          "name": "stdout",
          "text": [
            "Performace at epoch 90\n",
            "Train Loss: 0.00005 ; Train Acc: 1.00000\n",
            "Test Loss: 3.20993 ; Test Acc: 0.63844\n",
            "==============\n"
          ]
        },
        {
          "output_type": "stream",
          "name": "stderr",
          "text": [
            "100%|██████████| 391/391 [00:05<00:00, 65.86it/s]\n"
          ]
        },
        {
          "output_type": "stream",
          "name": "stdout",
          "text": [
            "Performace at epoch 91\n",
            "Train Loss: 0.00005 ; Train Acc: 1.00000\n",
            "Test Loss: 3.21323 ; Test Acc: 0.63814\n",
            "==============\n"
          ]
        },
        {
          "output_type": "stream",
          "name": "stderr",
          "text": [
            "100%|██████████| 391/391 [00:05<00:00, 66.10it/s]\n"
          ]
        },
        {
          "output_type": "stream",
          "name": "stdout",
          "text": [
            "Performace at epoch 92\n",
            "Train Loss: 0.00005 ; Train Acc: 1.00000\n",
            "Test Loss: 3.21635 ; Test Acc: 0.63844\n",
            "==============\n"
          ]
        },
        {
          "output_type": "stream",
          "name": "stderr",
          "text": [
            "100%|██████████| 391/391 [00:05<00:00, 65.64it/s]\n"
          ]
        },
        {
          "output_type": "stream",
          "name": "stdout",
          "text": [
            "Performace at epoch 93\n",
            "Train Loss: 0.00005 ; Train Acc: 1.00000\n",
            "Test Loss: 3.21819 ; Test Acc: 0.63874\n",
            "==============\n"
          ]
        },
        {
          "output_type": "stream",
          "name": "stderr",
          "text": [
            "100%|██████████| 391/391 [00:05<00:00, 66.55it/s]\n"
          ]
        },
        {
          "output_type": "stream",
          "name": "stdout",
          "text": [
            "Performace at epoch 94\n",
            "Train Loss: 0.00005 ; Train Acc: 1.00000\n",
            "Test Loss: 3.22179 ; Test Acc: 0.63874\n",
            "==============\n"
          ]
        },
        {
          "output_type": "stream",
          "name": "stderr",
          "text": [
            "100%|██████████| 391/391 [00:05<00:00, 65.29it/s]\n"
          ]
        },
        {
          "output_type": "stream",
          "name": "stdout",
          "text": [
            "Performace at epoch 95\n",
            "Train Loss: 0.00005 ; Train Acc: 1.00000\n",
            "Test Loss: 3.22532 ; Test Acc: 0.63904\n",
            "==============\n"
          ]
        },
        {
          "output_type": "stream",
          "name": "stderr",
          "text": [
            "100%|██████████| 391/391 [00:05<00:00, 65.48it/s]\n"
          ]
        },
        {
          "output_type": "stream",
          "name": "stdout",
          "text": [
            "Performace at epoch 96\n",
            "Train Loss: 0.00005 ; Train Acc: 1.00000\n",
            "Test Loss: 3.22673 ; Test Acc: 0.63904\n",
            "==============\n"
          ]
        },
        {
          "output_type": "stream",
          "name": "stderr",
          "text": [
            "100%|██████████| 391/391 [00:05<00:00, 66.10it/s]\n"
          ]
        },
        {
          "output_type": "stream",
          "name": "stdout",
          "text": [
            "Performace at epoch 97\n",
            "Train Loss: 0.00005 ; Train Acc: 1.00000\n",
            "Test Loss: 3.22916 ; Test Acc: 0.63904\n",
            "==============\n"
          ]
        },
        {
          "output_type": "stream",
          "name": "stderr",
          "text": [
            "100%|██████████| 391/391 [00:05<00:00, 65.77it/s]\n"
          ]
        },
        {
          "output_type": "stream",
          "name": "stdout",
          "text": [
            "Performace at epoch 98\n",
            "Train Loss: 0.00005 ; Train Acc: 1.00000\n",
            "Test Loss: 3.23316 ; Test Acc: 0.63874\n",
            "==============\n"
          ]
        },
        {
          "output_type": "stream",
          "name": "stderr",
          "text": [
            "100%|██████████| 391/391 [00:05<00:00, 65.85it/s]\n"
          ]
        },
        {
          "output_type": "stream",
          "name": "stdout",
          "text": [
            "Performace at epoch 99\n",
            "Train Loss: 0.00005 ; Train Acc: 1.00000\n",
            "Test Loss: 3.23562 ; Test Acc: 0.63844\n",
            "==============\n"
          ]
        },
        {
          "output_type": "stream",
          "name": "stderr",
          "text": [
            "100%|██████████| 391/391 [00:05<00:00, 65.45it/s]\n"
          ]
        },
        {
          "output_type": "stream",
          "name": "stdout",
          "text": [
            "Performace at epoch 100\n",
            "Train Loss: 0.00005 ; Train Acc: 1.00000\n",
            "Test Loss: 3.23821 ; Test Acc: 0.63904\n",
            "==============\n"
          ]
        }
      ]
    },
    {
      "cell_type": "code",
      "metadata": {
        "colab": {
          "base_uri": "https://localhost:8080/",
          "height": 295
        },
        "id": "JJvQ6ygniNng",
        "outputId": "00b00af1-b3a4-4233-e1f9-994d8be1145e"
      },
      "source": [
        "# plot loss\n",
        "plt.plot(range(1, len(train_loss) + 1), train_loss, label='train loss')\n",
        "plt.plot(range(1, len(test_loss) + 1), test_loss, label='test loss')\n",
        "plt.xlabel('epochs')\n",
        "plt.ylabel('loss')\n",
        "plt.title('loss vs epochs')\n",
        "plt.legend()\n",
        "plt.show()"
      ],
      "execution_count": null,
      "outputs": [
        {
          "output_type": "display_data",
          "data": {
            "image/png": "[encoded data removed]",
            "text/plain": [
              "<Figure size 432x288 with 1 Axes>"
            ]
          },
          "metadata": {
            "needs_background": "light"
          }
        }
      ]
    },
    {
      "cell_type": "code",
      "metadata": {
        "colab": {
          "base_uri": "https://localhost:8080/",
          "height": 295
        },
        "id": "VWhk3gJomc7Q",
        "outputId": "d2fcdd86-5552-4385-e7a6-5fb6e6241383"
      },
      "source": [
        "# plot acc\n",
        "plt.plot(range(1, NUM_EPOCHS + 1), train_acc, label='train acc')\n",
        "plt.plot(range(1, NUM_EPOCHS + 1), test_acc, label='test acc')\n",
        "plt.xlabel('epochs')\n",
        "plt.ylabel('acc')\n",
        "plt.title('acc vs epochs')\n",
        "plt.legend()\n",
        "plt.show()"
      ],
      "execution_count": null,
      "outputs": [
        {
          "output_type": "display_data",
          "data": {
            "image/png": "[encoded data removed]",
            "text/plain": [
              "<Figure size 432x288 with 1 Axes>"
            ]
          },
          "metadata": {
            "needs_background": "light"
          }
        }
      ]
    },
    {
      "cell_type": "markdown",
      "source": [
        "## Hyperparameter tuning\n",
        "- For a set of hyperparameters, various trials with different models are trained based on randomly-sampled or exhaustive hyperparameters upto a certain number of epochs (dependent on lr). Finally the best set of hyperparameters are chosen which correspond to the minimum testing loss after training."
      ],
      "metadata": {
        "id": "QbYWusaOMGFq"
      }
    },
    {
      "cell_type": "code",
      "source": [
        "import decimal"
      ],
      "metadata": {
        "id": "OdTWXEUbMGiR"
      },
      "execution_count": null,
      "outputs": []
    },
    {
      "cell_type": "code",
      "source": [
        "HYPERPARAMS = {\n",
        "    'lr': [0.1, 0.05, 0.01, 0.005, 0.001, 0.0001],\n",
        "    'momentum': [0.3, 0.5, 0.7, 0.9, 0.99]\n",
        "}\n",
        "TRIALS = 10\n",
        "\n",
        "def get_epochs(lr):\n",
        "    '''\n",
        "    returns number of epochs for a given learning rate while tuning\n",
        "    '''\n",
        "    d = decimal.Decimal(str(lr))\n",
        "    pow = d.as_tuple().exponent\n",
        "    if pow >= -1:\n",
        "        return 10\n",
        "    elif pow >= -2:\n",
        "        return 15\n",
        "    elif pow >= -3:\n",
        "        return 20\n",
        "    else:\n",
        "        return 25"
      ],
      "metadata": {
        "id": "wbuYoGtoMJLU"
      },
      "execution_count": null,
      "outputs": []
    },
    {
      "cell_type": "code",
      "source": [
        "best_params, min_loss = None, np.inf\n",
        "for t in range(TRIALS):\n",
        "    print(f'\\n> Starting trial {t+1}')\n",
        "    ## choose a set of hyperparameters\n",
        "    chosen = {}\n",
        "    for h in HYPERPARAMS:\n",
        "        chosen[h] = np.random.choice(HYPERPARAMS[h])\n",
        "    print(f'Chosen hyperparams: {chosen}')\n",
        "    print()\n",
        "    ## model, loss & optimizer\n",
        "    model = CNN()\n",
        "    model.to(device)\n",
        "    error = nn.NLLLoss()\n",
        "    optimizer = torch.optim.SGD(model.parameters(), lr=chosen['lr'], momentum=chosen['momentum'])\n",
        "    ## training\n",
        "    EPOCHS_TEST = get_epochs(chosen['lr'])\n",
        "    for epoch in range(1, EPOCHS_TEST + 1):\n",
        "        total_loss = 0; total = 0\n",
        "        for images, labels in tqdm(train_loader):\n",
        "            # forward + backward + step\n",
        "            optimizer.zero_grad()\n",
        "            images, labels = images.to(device), labels.to(device)\n",
        "            outputs = model(images)\n",
        "            loss = error(outputs, labels)\n",
        "            total_loss += loss.item() * len(outputs)\n",
        "            loss.backward() \n",
        "            optimizer.step() \n",
        "            total += len(labels)\n",
        "        total_loss /= total\n",
        "        print(f'Training loss at epoch {epoch}: {total_loss:.5f}')\n",
        "    ## calculate testing loss\n",
        "    with torch.no_grad():\n",
        "        predicted = model(test_X)\n",
        "        testing_loss = error(predicted, test_Y).item()\n",
        "    print(f'* Testing loss: {testing_loss:.5f}')\n",
        "    ## check final total loss\n",
        "    if testing_loss < min_loss:\n",
        "        min_loss = testing_loss\n",
        "        best_params = chosen\n",
        "        print()\n",
        "        print(f'* Best params updated!: {best_params}')\n",
        "    print('==============')"
      ],
      "metadata": {
        "colab": {
          "base_uri": "https://localhost:8080/"
        },
        "id": "uZULM5EAMWdA",
        "outputId": "3a43ab33-ab69-4381-9357-6ebb872f50b1"
      },
      "execution_count": null,
      "outputs": [
        {
          "output_type": "stream",
          "name": "stdout",
          "text": [
            "\n",
            "> Starting trial 1\n",
            "Chosen hyperparams: {'lr': 0.001, 'momentum': 0.7}\n",
            "\n"
          ]
        },
        {
          "output_type": "stream",
          "name": "stderr",
          "text": [
            "100%|██████████| 391/391 [00:05<00:00, 65.41it/s]\n"
          ]
        },
        {
          "output_type": "stream",
          "name": "stdout",
          "text": [
            "Training loss at epoch 1: 2.28894\n"
          ]
        },
        {
          "output_type": "stream",
          "name": "stderr",
          "text": [
            "100%|██████████| 391/391 [00:05<00:00, 66.78it/s]\n"
          ]
        },
        {
          "output_type": "stream",
          "name": "stdout",
          "text": [
            "Training loss at epoch 2: 2.25107\n"
          ]
        },
        {
          "output_type": "stream",
          "name": "stderr",
          "text": [
            "100%|██████████| 391/391 [00:05<00:00, 66.20it/s]\n"
          ]
        },
        {
          "output_type": "stream",
          "name": "stdout",
          "text": [
            "Training loss at epoch 3: 2.17846\n"
          ]
        },
        {
          "output_type": "stream",
          "name": "stderr",
          "text": [
            "100%|██████████| 391/391 [00:05<00:00, 67.20it/s]\n"
          ]
        },
        {
          "output_type": "stream",
          "name": "stdout",
          "text": [
            "Training loss at epoch 4: 2.08043\n"
          ]
        },
        {
          "output_type": "stream",
          "name": "stderr",
          "text": [
            "100%|██████████| 391/391 [00:05<00:00, 67.85it/s]\n"
          ]
        },
        {
          "output_type": "stream",
          "name": "stdout",
          "text": [
            "Training loss at epoch 5: 2.00700\n"
          ]
        },
        {
          "output_type": "stream",
          "name": "stderr",
          "text": [
            "100%|██████████| 391/391 [00:05<00:00, 67.20it/s]\n"
          ]
        },
        {
          "output_type": "stream",
          "name": "stdout",
          "text": [
            "Training loss at epoch 6: 1.96277\n"
          ]
        },
        {
          "output_type": "stream",
          "name": "stderr",
          "text": [
            "100%|██████████| 391/391 [00:05<00:00, 67.64it/s]\n"
          ]
        },
        {
          "output_type": "stream",
          "name": "stdout",
          "text": [
            "Training loss at epoch 7: 1.93097\n"
          ]
        },
        {
          "output_type": "stream",
          "name": "stderr",
          "text": [
            "100%|██████████| 391/391 [00:05<00:00, 66.85it/s]\n"
          ]
        },
        {
          "output_type": "stream",
          "name": "stdout",
          "text": [
            "Training loss at epoch 8: 1.90675\n"
          ]
        },
        {
          "output_type": "stream",
          "name": "stderr",
          "text": [
            "100%|██████████| 391/391 [00:05<00:00, 67.01it/s]\n"
          ]
        },
        {
          "output_type": "stream",
          "name": "stdout",
          "text": [
            "Training loss at epoch 9: 1.88533\n"
          ]
        },
        {
          "output_type": "stream",
          "name": "stderr",
          "text": [
            "100%|██████████| 391/391 [00:05<00:00, 66.85it/s]\n"
          ]
        },
        {
          "output_type": "stream",
          "name": "stdout",
          "text": [
            "Training loss at epoch 10: 1.86374\n"
          ]
        },
        {
          "output_type": "stream",
          "name": "stderr",
          "text": [
            "100%|██████████| 391/391 [00:05<00:00, 67.96it/s]\n"
          ]
        },
        {
          "output_type": "stream",
          "name": "stdout",
          "text": [
            "Training loss at epoch 11: 1.84377\n"
          ]
        },
        {
          "output_type": "stream",
          "name": "stderr",
          "text": [
            "100%|██████████| 391/391 [00:05<00:00, 66.44it/s]\n"
          ]
        },
        {
          "output_type": "stream",
          "name": "stdout",
          "text": [
            "Training loss at epoch 12: 1.82142\n"
          ]
        },
        {
          "output_type": "stream",
          "name": "stderr",
          "text": [
            "100%|██████████| 391/391 [00:05<00:00, 67.39it/s]\n"
          ]
        },
        {
          "output_type": "stream",
          "name": "stdout",
          "text": [
            "Training loss at epoch 13: 1.79995\n"
          ]
        },
        {
          "output_type": "stream",
          "name": "stderr",
          "text": [
            "100%|██████████| 391/391 [00:05<00:00, 67.87it/s]\n"
          ]
        },
        {
          "output_type": "stream",
          "name": "stdout",
          "text": [
            "Training loss at epoch 14: 1.77583\n"
          ]
        },
        {
          "output_type": "stream",
          "name": "stderr",
          "text": [
            "100%|██████████| 391/391 [00:05<00:00, 65.85it/s]\n"
          ]
        },
        {
          "output_type": "stream",
          "name": "stdout",
          "text": [
            "Training loss at epoch 15: 1.74845\n"
          ]
        },
        {
          "output_type": "stream",
          "name": "stderr",
          "text": [
            "100%|██████████| 391/391 [00:05<00:00, 65.77it/s]\n"
          ]
        },
        {
          "output_type": "stream",
          "name": "stdout",
          "text": [
            "Training loss at epoch 16: 1.72001\n"
          ]
        },
        {
          "output_type": "stream",
          "name": "stderr",
          "text": [
            "100%|██████████| 391/391 [00:05<00:00, 67.07it/s]\n"
          ]
        },
        {
          "output_type": "stream",
          "name": "stdout",
          "text": [
            "Training loss at epoch 17: 1.69234\n"
          ]
        },
        {
          "output_type": "stream",
          "name": "stderr",
          "text": [
            "100%|██████████| 391/391 [00:05<00:00, 66.22it/s]\n"
          ]
        },
        {
          "output_type": "stream",
          "name": "stdout",
          "text": [
            "Training loss at epoch 18: 1.66521\n"
          ]
        },
        {
          "output_type": "stream",
          "name": "stderr",
          "text": [
            "100%|██████████| 391/391 [00:05<00:00, 67.13it/s]\n"
          ]
        },
        {
          "output_type": "stream",
          "name": "stdout",
          "text": [
            "Training loss at epoch 19: 1.63795\n"
          ]
        },
        {
          "output_type": "stream",
          "name": "stderr",
          "text": [
            "100%|██████████| 391/391 [00:05<00:00, 66.24it/s]\n"
          ]
        },
        {
          "output_type": "stream",
          "name": "stdout",
          "text": [
            "Training loss at epoch 20: 1.61320\n",
            "* Testing loss: 1.60276\n",
            "\n",
            "* Best params updated!: {'lr': 0.001, 'momentum': 0.7}\n",
            "==============\n",
            "\n",
            "> Starting trial 2\n",
            "Chosen hyperparams: {'lr': 0.0001, 'momentum': 0.9}\n",
            "\n"
          ]
        },
        {
          "output_type": "stream",
          "name": "stderr",
          "text": [
            "100%|██████████| 391/391 [00:05<00:00, 66.74it/s]\n"
          ]
        },
        {
          "output_type": "stream",
          "name": "stdout",
          "text": [
            "Training loss at epoch 1: 2.30153\n"
          ]
        },
        {
          "output_type": "stream",
          "name": "stderr",
          "text": [
            "100%|██████████| 391/391 [00:05<00:00, 66.34it/s]\n"
          ]
        },
        {
          "output_type": "stream",
          "name": "stdout",
          "text": [
            "Training loss at epoch 2: 2.29619\n"
          ]
        },
        {
          "output_type": "stream",
          "name": "stderr",
          "text": [
            "100%|██████████| 391/391 [00:05<00:00, 66.59it/s]\n"
          ]
        },
        {
          "output_type": "stream",
          "name": "stdout",
          "text": [
            "Training loss at epoch 3: 2.29146\n"
          ]
        },
        {
          "output_type": "stream",
          "name": "stderr",
          "text": [
            "100%|██████████| 391/391 [00:05<00:00, 67.94it/s]\n"
          ]
        },
        {
          "output_type": "stream",
          "name": "stdout",
          "text": [
            "Training loss at epoch 4: 2.28623\n"
          ]
        },
        {
          "output_type": "stream",
          "name": "stderr",
          "text": [
            "100%|██████████| 391/391 [00:05<00:00, 67.91it/s]\n"
          ]
        },
        {
          "output_type": "stream",
          "name": "stdout",
          "text": [
            "Training loss at epoch 5: 2.27985\n"
          ]
        },
        {
          "output_type": "stream",
          "name": "stderr",
          "text": [
            "100%|██████████| 391/391 [00:05<00:00, 67.86it/s]\n"
          ]
        },
        {
          "output_type": "stream",
          "name": "stdout",
          "text": [
            "Training loss at epoch 6: 2.27211\n"
          ]
        },
        {
          "output_type": "stream",
          "name": "stderr",
          "text": [
            "100%|██████████| 391/391 [00:05<00:00, 67.31it/s]\n"
          ]
        },
        {
          "output_type": "stream",
          "name": "stdout",
          "text": [
            "Training loss at epoch 7: 2.26254\n"
          ]
        },
        {
          "output_type": "stream",
          "name": "stderr",
          "text": [
            "100%|██████████| 391/391 [00:05<00:00, 66.78it/s]\n"
          ]
        },
        {
          "output_type": "stream",
          "name": "stdout",
          "text": [
            "Training loss at epoch 8: 2.25038\n"
          ]
        },
        {
          "output_type": "stream",
          "name": "stderr",
          "text": [
            "100%|██████████| 391/391 [00:05<00:00, 67.41it/s]\n"
          ]
        },
        {
          "output_type": "stream",
          "name": "stdout",
          "text": [
            "Training loss at epoch 9: 2.23486\n"
          ]
        },
        {
          "output_type": "stream",
          "name": "stderr",
          "text": [
            "100%|██████████| 391/391 [00:05<00:00, 67.29it/s]\n"
          ]
        },
        {
          "output_type": "stream",
          "name": "stdout",
          "text": [
            "Training loss at epoch 10: 2.21509\n"
          ]
        },
        {
          "output_type": "stream",
          "name": "stderr",
          "text": [
            "100%|██████████| 391/391 [00:05<00:00, 66.28it/s]\n"
          ]
        },
        {
          "output_type": "stream",
          "name": "stdout",
          "text": [
            "Training loss at epoch 11: 2.19097\n"
          ]
        },
        {
          "output_type": "stream",
          "name": "stderr",
          "text": [
            "100%|██████████| 391/391 [00:05<00:00, 67.46it/s]\n"
          ]
        },
        {
          "output_type": "stream",
          "name": "stdout",
          "text": [
            "Training loss at epoch 12: 2.16324\n"
          ]
        },
        {
          "output_type": "stream",
          "name": "stderr",
          "text": [
            "100%|██████████| 391/391 [00:05<00:00, 66.11it/s]\n"
          ]
        },
        {
          "output_type": "stream",
          "name": "stdout",
          "text": [
            "Training loss at epoch 13: 2.13415\n"
          ]
        },
        {
          "output_type": "stream",
          "name": "stderr",
          "text": [
            "100%|██████████| 391/391 [00:05<00:00, 66.64it/s]\n"
          ]
        },
        {
          "output_type": "stream",
          "name": "stdout",
          "text": [
            "Training loss at epoch 14: 2.10590\n"
          ]
        },
        {
          "output_type": "stream",
          "name": "stderr",
          "text": [
            "100%|██████████| 391/391 [00:05<00:00, 66.39it/s]\n"
          ]
        },
        {
          "output_type": "stream",
          "name": "stdout",
          "text": [
            "Training loss at epoch 15: 2.07944\n"
          ]
        },
        {
          "output_type": "stream",
          "name": "stderr",
          "text": [
            "100%|██████████| 391/391 [00:05<00:00, 66.76it/s]\n"
          ]
        },
        {
          "output_type": "stream",
          "name": "stdout",
          "text": [
            "Training loss at epoch 16: 2.05517\n"
          ]
        },
        {
          "output_type": "stream",
          "name": "stderr",
          "text": [
            "100%|██████████| 391/391 [00:05<00:00, 66.76it/s]\n"
          ]
        },
        {
          "output_type": "stream",
          "name": "stdout",
          "text": [
            "Training loss at epoch 17: 2.03328\n"
          ]
        },
        {
          "output_type": "stream",
          "name": "stderr",
          "text": [
            "100%|██████████| 391/391 [00:05<00:00, 65.71it/s]\n"
          ]
        },
        {
          "output_type": "stream",
          "name": "stdout",
          "text": [
            "Training loss at epoch 18: 2.01331\n"
          ]
        },
        {
          "output_type": "stream",
          "name": "stderr",
          "text": [
            "100%|██████████| 391/391 [00:05<00:00, 67.02it/s]\n"
          ]
        },
        {
          "output_type": "stream",
          "name": "stdout",
          "text": [
            "Training loss at epoch 19: 1.99543\n"
          ]
        },
        {
          "output_type": "stream",
          "name": "stderr",
          "text": [
            "100%|██████████| 391/391 [00:05<00:00, 66.50it/s]\n"
          ]
        },
        {
          "output_type": "stream",
          "name": "stdout",
          "text": [
            "Training loss at epoch 20: 1.97917\n"
          ]
        },
        {
          "output_type": "stream",
          "name": "stderr",
          "text": [
            "100%|██████████| 391/391 [00:05<00:00, 66.46it/s]\n"
          ]
        },
        {
          "output_type": "stream",
          "name": "stdout",
          "text": [
            "Training loss at epoch 21: 1.96488\n"
          ]
        },
        {
          "output_type": "stream",
          "name": "stderr",
          "text": [
            "100%|██████████| 391/391 [00:05<00:00, 66.17it/s]\n"
          ]
        },
        {
          "output_type": "stream",
          "name": "stdout",
          "text": [
            "Training loss at epoch 22: 1.95218\n"
          ]
        },
        {
          "output_type": "stream",
          "name": "stderr",
          "text": [
            "100%|██████████| 391/391 [00:05<00:00, 66.37it/s]\n"
          ]
        },
        {
          "output_type": "stream",
          "name": "stdout",
          "text": [
            "Training loss at epoch 23: 1.94082\n"
          ]
        },
        {
          "output_type": "stream",
          "name": "stderr",
          "text": [
            "100%|██████████| 391/391 [00:05<00:00, 66.06it/s]\n"
          ]
        },
        {
          "output_type": "stream",
          "name": "stdout",
          "text": [
            "Training loss at epoch 24: 1.93051\n"
          ]
        },
        {
          "output_type": "stream",
          "name": "stderr",
          "text": [
            "100%|██████████| 391/391 [00:05<00:00, 65.80it/s]\n"
          ]
        },
        {
          "output_type": "stream",
          "name": "stdout",
          "text": [
            "Training loss at epoch 25: 1.92098\n",
            "* Testing loss: 1.92154\n",
            "==============\n",
            "\n",
            "> Starting trial 3\n",
            "Chosen hyperparams: {'lr': 0.05, 'momentum': 0.9}\n",
            "\n"
          ]
        },
        {
          "output_type": "stream",
          "name": "stderr",
          "text": [
            "100%|██████████| 391/391 [00:05<00:00, 65.96it/s]\n"
          ]
        },
        {
          "output_type": "stream",
          "name": "stdout",
          "text": [
            "Training loss at epoch 1: 1.89588\n"
          ]
        },
        {
          "output_type": "stream",
          "name": "stderr",
          "text": [
            "100%|██████████| 391/391 [00:05<00:00, 66.60it/s]\n"
          ]
        },
        {
          "output_type": "stream",
          "name": "stdout",
          "text": [
            "Training loss at epoch 2: 1.54870\n"
          ]
        },
        {
          "output_type": "stream",
          "name": "stderr",
          "text": [
            "100%|██████████| 391/391 [00:05<00:00, 66.30it/s]\n"
          ]
        },
        {
          "output_type": "stream",
          "name": "stdout",
          "text": [
            "Training loss at epoch 3: 1.34797\n"
          ]
        },
        {
          "output_type": "stream",
          "name": "stderr",
          "text": [
            "100%|██████████| 391/391 [00:05<00:00, 66.18it/s]\n"
          ]
        },
        {
          "output_type": "stream",
          "name": "stdout",
          "text": [
            "Training loss at epoch 4: 1.23792\n"
          ]
        },
        {
          "output_type": "stream",
          "name": "stderr",
          "text": [
            "100%|██████████| 391/391 [00:05<00:00, 66.20it/s]\n"
          ]
        },
        {
          "output_type": "stream",
          "name": "stdout",
          "text": [
            "Training loss at epoch 5: 1.08998\n"
          ]
        },
        {
          "output_type": "stream",
          "name": "stderr",
          "text": [
            "100%|██████████| 391/391 [00:05<00:00, 66.10it/s]\n"
          ]
        },
        {
          "output_type": "stream",
          "name": "stdout",
          "text": [
            "Training loss at epoch 6: 0.94577\n"
          ]
        },
        {
          "output_type": "stream",
          "name": "stderr",
          "text": [
            "100%|██████████| 391/391 [00:05<00:00, 66.05it/s]\n"
          ]
        },
        {
          "output_type": "stream",
          "name": "stdout",
          "text": [
            "Training loss at epoch 7: 0.80325\n"
          ]
        },
        {
          "output_type": "stream",
          "name": "stderr",
          "text": [
            "100%|██████████| 391/391 [00:05<00:00, 65.76it/s]\n"
          ]
        },
        {
          "output_type": "stream",
          "name": "stdout",
          "text": [
            "Training loss at epoch 8: 0.71801\n"
          ]
        },
        {
          "output_type": "stream",
          "name": "stderr",
          "text": [
            "100%|██████████| 391/391 [00:05<00:00, 65.77it/s]\n"
          ]
        },
        {
          "output_type": "stream",
          "name": "stdout",
          "text": [
            "Training loss at epoch 9: 0.56337\n"
          ]
        },
        {
          "output_type": "stream",
          "name": "stderr",
          "text": [
            "100%|██████████| 391/391 [00:05<00:00, 66.25it/s]\n"
          ]
        },
        {
          "output_type": "stream",
          "name": "stdout",
          "text": [
            "Training loss at epoch 10: 0.51489\n"
          ]
        },
        {
          "output_type": "stream",
          "name": "stderr",
          "text": [
            "100%|██████████| 391/391 [00:05<00:00, 66.43it/s]\n"
          ]
        },
        {
          "output_type": "stream",
          "name": "stdout",
          "text": [
            "Training loss at epoch 11: 0.45544\n"
          ]
        },
        {
          "output_type": "stream",
          "name": "stderr",
          "text": [
            "100%|██████████| 391/391 [00:05<00:00, 66.07it/s]\n"
          ]
        },
        {
          "output_type": "stream",
          "name": "stdout",
          "text": [
            "Training loss at epoch 12: 0.40903\n"
          ]
        },
        {
          "output_type": "stream",
          "name": "stderr",
          "text": [
            "100%|██████████| 391/391 [00:06<00:00, 65.05it/s]\n"
          ]
        },
        {
          "output_type": "stream",
          "name": "stdout",
          "text": [
            "Training loss at epoch 13: 0.36451\n"
          ]
        },
        {
          "output_type": "stream",
          "name": "stderr",
          "text": [
            "100%|██████████| 391/391 [00:05<00:00, 65.20it/s]\n"
          ]
        },
        {
          "output_type": "stream",
          "name": "stdout",
          "text": [
            "Training loss at epoch 14: 0.33904\n"
          ]
        },
        {
          "output_type": "stream",
          "name": "stderr",
          "text": [
            "100%|██████████| 391/391 [00:05<00:00, 65.18it/s]\n"
          ]
        },
        {
          "output_type": "stream",
          "name": "stdout",
          "text": [
            "Training loss at epoch 15: 0.29772\n",
            "* Testing loss: 2.77653\n",
            "==============\n",
            "\n",
            "> Starting trial 4\n",
            "Chosen hyperparams: {'lr': 0.0001, 'momentum': 0.9}\n",
            "\n"
          ]
        },
        {
          "output_type": "stream",
          "name": "stderr",
          "text": [
            "100%|██████████| 391/391 [00:05<00:00, 65.61it/s]\n"
          ]
        },
        {
          "output_type": "stream",
          "name": "stdout",
          "text": [
            "Training loss at epoch 1: 2.30154\n"
          ]
        },
        {
          "output_type": "stream",
          "name": "stderr",
          "text": [
            "100%|██████████| 391/391 [00:06<00:00, 65.01it/s]\n"
          ]
        },
        {
          "output_type": "stream",
          "name": "stdout",
          "text": [
            "Training loss at epoch 2: 2.29523\n"
          ]
        },
        {
          "output_type": "stream",
          "name": "stderr",
          "text": [
            "100%|██████████| 391/391 [00:06<00:00, 65.07it/s]\n"
          ]
        },
        {
          "output_type": "stream",
          "name": "stdout",
          "text": [
            "Training loss at epoch 3: 2.28966\n"
          ]
        },
        {
          "output_type": "stream",
          "name": "stderr",
          "text": [
            "100%|██████████| 391/391 [00:06<00:00, 65.16it/s]\n"
          ]
        },
        {
          "output_type": "stream",
          "name": "stdout",
          "text": [
            "Training loss at epoch 4: 2.28360\n"
          ]
        },
        {
          "output_type": "stream",
          "name": "stderr",
          "text": [
            "100%|██████████| 391/391 [00:05<00:00, 65.82it/s]\n"
          ]
        },
        {
          "output_type": "stream",
          "name": "stdout",
          "text": [
            "Training loss at epoch 5: 2.27658\n"
          ]
        },
        {
          "output_type": "stream",
          "name": "stderr",
          "text": [
            "100%|██████████| 391/391 [00:06<00:00, 64.41it/s]\n"
          ]
        },
        {
          "output_type": "stream",
          "name": "stdout",
          "text": [
            "Training loss at epoch 6: 2.26833\n"
          ]
        },
        {
          "output_type": "stream",
          "name": "stderr",
          "text": [
            "100%|██████████| 391/391 [00:05<00:00, 65.36it/s]\n"
          ]
        },
        {
          "output_type": "stream",
          "name": "stdout",
          "text": [
            "Training loss at epoch 7: 2.25793\n"
          ]
        },
        {
          "output_type": "stream",
          "name": "stderr",
          "text": [
            "100%|██████████| 391/391 [00:06<00:00, 64.30it/s]\n"
          ]
        },
        {
          "output_type": "stream",
          "name": "stdout",
          "text": [
            "Training loss at epoch 8: 2.24485\n"
          ]
        },
        {
          "output_type": "stream",
          "name": "stderr",
          "text": [
            "100%|██████████| 391/391 [00:05<00:00, 66.20it/s]\n"
          ]
        },
        {
          "output_type": "stream",
          "name": "stdout",
          "text": [
            "Training loss at epoch 9: 2.22840\n"
          ]
        },
        {
          "output_type": "stream",
          "name": "stderr",
          "text": [
            "100%|██████████| 391/391 [00:05<00:00, 65.95it/s]\n"
          ]
        },
        {
          "output_type": "stream",
          "name": "stdout",
          "text": [
            "Training loss at epoch 10: 2.20807\n"
          ]
        },
        {
          "output_type": "stream",
          "name": "stderr",
          "text": [
            "100%|██████████| 391/391 [00:05<00:00, 66.24it/s]\n"
          ]
        },
        {
          "output_type": "stream",
          "name": "stdout",
          "text": [
            "Training loss at epoch 11: 2.18473\n"
          ]
        },
        {
          "output_type": "stream",
          "name": "stderr",
          "text": [
            "100%|██████████| 391/391 [00:05<00:00, 66.11it/s]\n"
          ]
        },
        {
          "output_type": "stream",
          "name": "stdout",
          "text": [
            "Training loss at epoch 12: 2.15957\n"
          ]
        },
        {
          "output_type": "stream",
          "name": "stderr",
          "text": [
            "100%|██████████| 391/391 [00:05<00:00, 65.82it/s]\n"
          ]
        },
        {
          "output_type": "stream",
          "name": "stdout",
          "text": [
            "Training loss at epoch 13: 2.13427\n"
          ]
        },
        {
          "output_type": "stream",
          "name": "stderr",
          "text": [
            "100%|██████████| 391/391 [00:05<00:00, 66.29it/s]\n"
          ]
        },
        {
          "output_type": "stream",
          "name": "stdout",
          "text": [
            "Training loss at epoch 14: 2.10997\n"
          ]
        },
        {
          "output_type": "stream",
          "name": "stderr",
          "text": [
            "100%|██████████| 391/391 [00:06<00:00, 64.76it/s]\n"
          ]
        },
        {
          "output_type": "stream",
          "name": "stdout",
          "text": [
            "Training loss at epoch 15: 2.08694\n"
          ]
        },
        {
          "output_type": "stream",
          "name": "stderr",
          "text": [
            "100%|██████████| 391/391 [00:05<00:00, 65.83it/s]\n"
          ]
        },
        {
          "output_type": "stream",
          "name": "stdout",
          "text": [
            "Training loss at epoch 16: 2.06471\n"
          ]
        },
        {
          "output_type": "stream",
          "name": "stderr",
          "text": [
            "100%|██████████| 391/391 [00:05<00:00, 65.86it/s]\n"
          ]
        },
        {
          "output_type": "stream",
          "name": "stdout",
          "text": [
            "Training loss at epoch 17: 2.04320\n"
          ]
        },
        {
          "output_type": "stream",
          "name": "stderr",
          "text": [
            "100%|██████████| 391/391 [00:05<00:00, 65.72it/s]\n"
          ]
        },
        {
          "output_type": "stream",
          "name": "stdout",
          "text": [
            "Training loss at epoch 18: 2.02276\n"
          ]
        },
        {
          "output_type": "stream",
          "name": "stderr",
          "text": [
            "100%|██████████| 391/391 [00:05<00:00, 66.46it/s]\n"
          ]
        },
        {
          "output_type": "stream",
          "name": "stdout",
          "text": [
            "Training loss at epoch 19: 2.00410\n"
          ]
        },
        {
          "output_type": "stream",
          "name": "stderr",
          "text": [
            "100%|██████████| 391/391 [00:05<00:00, 65.49it/s]\n"
          ]
        },
        {
          "output_type": "stream",
          "name": "stdout",
          "text": [
            "Training loss at epoch 20: 1.98754\n"
          ]
        },
        {
          "output_type": "stream",
          "name": "stderr",
          "text": [
            "100%|██████████| 391/391 [00:05<00:00, 65.29it/s]\n"
          ]
        },
        {
          "output_type": "stream",
          "name": "stdout",
          "text": [
            "Training loss at epoch 21: 1.97278\n"
          ]
        },
        {
          "output_type": "stream",
          "name": "stderr",
          "text": [
            "100%|██████████| 391/391 [00:05<00:00, 65.61it/s]\n"
          ]
        },
        {
          "output_type": "stream",
          "name": "stdout",
          "text": [
            "Training loss at epoch 22: 1.96039\n"
          ]
        },
        {
          "output_type": "stream",
          "name": "stderr",
          "text": [
            "100%|██████████| 391/391 [00:05<00:00, 66.75it/s]\n"
          ]
        },
        {
          "output_type": "stream",
          "name": "stdout",
          "text": [
            "Training loss at epoch 23: 1.94916\n"
          ]
        },
        {
          "output_type": "stream",
          "name": "stderr",
          "text": [
            "100%|██████████| 391/391 [00:05<00:00, 66.25it/s]\n"
          ]
        },
        {
          "output_type": "stream",
          "name": "stdout",
          "text": [
            "Training loss at epoch 24: 1.93915\n"
          ]
        },
        {
          "output_type": "stream",
          "name": "stderr",
          "text": [
            "100%|██████████| 391/391 [00:05<00:00, 66.74it/s]\n"
          ]
        },
        {
          "output_type": "stream",
          "name": "stdout",
          "text": [
            "Training loss at epoch 25: 1.92985\n",
            "* Testing loss: 1.93097\n",
            "==============\n",
            "\n",
            "> Starting trial 5\n",
            "Chosen hyperparams: {'lr': 0.0001, 'momentum': 0.9}\n",
            "\n"
          ]
        },
        {
          "output_type": "stream",
          "name": "stderr",
          "text": [
            "100%|██████████| 391/391 [00:05<00:00, 66.48it/s]\n"
          ]
        },
        {
          "output_type": "stream",
          "name": "stdout",
          "text": [
            "Training loss at epoch 1: 2.30057\n"
          ]
        },
        {
          "output_type": "stream",
          "name": "stderr",
          "text": [
            "100%|██████████| 391/391 [00:05<00:00, 66.58it/s]\n"
          ]
        },
        {
          "output_type": "stream",
          "name": "stdout",
          "text": [
            "Training loss at epoch 2: 2.29476\n"
          ]
        },
        {
          "output_type": "stream",
          "name": "stderr",
          "text": [
            "100%|██████████| 391/391 [00:05<00:00, 65.89it/s]\n"
          ]
        },
        {
          "output_type": "stream",
          "name": "stdout",
          "text": [
            "Training loss at epoch 3: 2.28953\n"
          ]
        },
        {
          "output_type": "stream",
          "name": "stderr",
          "text": [
            "100%|██████████| 391/391 [00:05<00:00, 67.14it/s]\n"
          ]
        },
        {
          "output_type": "stream",
          "name": "stdout",
          "text": [
            "Training loss at epoch 4: 2.28390\n"
          ]
        },
        {
          "output_type": "stream",
          "name": "stderr",
          "text": [
            "100%|██████████| 391/391 [00:05<00:00, 67.02it/s]\n"
          ]
        },
        {
          "output_type": "stream",
          "name": "stdout",
          "text": [
            "Training loss at epoch 5: 2.27731\n"
          ]
        },
        {
          "output_type": "stream",
          "name": "stderr",
          "text": [
            "100%|██████████| 391/391 [00:05<00:00, 66.01it/s]\n"
          ]
        },
        {
          "output_type": "stream",
          "name": "stdout",
          "text": [
            "Training loss at epoch 6: 2.26926\n"
          ]
        },
        {
          "output_type": "stream",
          "name": "stderr",
          "text": [
            "100%|██████████| 391/391 [00:05<00:00, 66.18it/s]\n"
          ]
        },
        {
          "output_type": "stream",
          "name": "stdout",
          "text": [
            "Training loss at epoch 7: 2.25926\n"
          ]
        },
        {
          "output_type": "stream",
          "name": "stderr",
          "text": [
            "100%|██████████| 391/391 [00:06<00:00, 64.74it/s]\n"
          ]
        },
        {
          "output_type": "stream",
          "name": "stdout",
          "text": [
            "Training loss at epoch 8: 2.24644\n"
          ]
        },
        {
          "output_type": "stream",
          "name": "stderr",
          "text": [
            "100%|██████████| 391/391 [00:06<00:00, 64.99it/s]\n"
          ]
        },
        {
          "output_type": "stream",
          "name": "stdout",
          "text": [
            "Training loss at epoch 9: 2.22998\n"
          ]
        },
        {
          "output_type": "stream",
          "name": "stderr",
          "text": [
            "100%|██████████| 391/391 [00:05<00:00, 66.28it/s]\n"
          ]
        },
        {
          "output_type": "stream",
          "name": "stdout",
          "text": [
            "Training loss at epoch 10: 2.20911\n"
          ]
        },
        {
          "output_type": "stream",
          "name": "stderr",
          "text": [
            "100%|██████████| 391/391 [00:05<00:00, 67.25it/s]\n"
          ]
        },
        {
          "output_type": "stream",
          "name": "stdout",
          "text": [
            "Training loss at epoch 11: 2.18341\n"
          ]
        },
        {
          "output_type": "stream",
          "name": "stderr",
          "text": [
            "100%|██████████| 391/391 [00:05<00:00, 66.91it/s]\n"
          ]
        },
        {
          "output_type": "stream",
          "name": "stdout",
          "text": [
            "Training loss at epoch 12: 2.15338\n"
          ]
        },
        {
          "output_type": "stream",
          "name": "stderr",
          "text": [
            "100%|██████████| 391/391 [00:05<00:00, 67.28it/s]\n"
          ]
        },
        {
          "output_type": "stream",
          "name": "stdout",
          "text": [
            "Training loss at epoch 13: 2.12123\n"
          ]
        },
        {
          "output_type": "stream",
          "name": "stderr",
          "text": [
            "100%|██████████| 391/391 [00:05<00:00, 67.53it/s]\n"
          ]
        },
        {
          "output_type": "stream",
          "name": "stdout",
          "text": [
            "Training loss at epoch 14: 2.09074\n"
          ]
        },
        {
          "output_type": "stream",
          "name": "stderr",
          "text": [
            "100%|██████████| 391/391 [00:05<00:00, 66.63it/s]\n"
          ]
        },
        {
          "output_type": "stream",
          "name": "stdout",
          "text": [
            "Training loss at epoch 15: 2.06425\n"
          ]
        },
        {
          "output_type": "stream",
          "name": "stderr",
          "text": [
            "100%|██████████| 391/391 [00:05<00:00, 66.25it/s]\n"
          ]
        },
        {
          "output_type": "stream",
          "name": "stdout",
          "text": [
            "Training loss at epoch 16: 2.04215\n"
          ]
        },
        {
          "output_type": "stream",
          "name": "stderr",
          "text": [
            "100%|██████████| 391/391 [00:05<00:00, 68.35it/s]\n"
          ]
        },
        {
          "output_type": "stream",
          "name": "stdout",
          "text": [
            "Training loss at epoch 17: 2.02395\n"
          ]
        },
        {
          "output_type": "stream",
          "name": "stderr",
          "text": [
            "100%|██████████| 391/391 [00:05<00:00, 66.55it/s]\n"
          ]
        },
        {
          "output_type": "stream",
          "name": "stdout",
          "text": [
            "Training loss at epoch 18: 2.00865\n"
          ]
        },
        {
          "output_type": "stream",
          "name": "stderr",
          "text": [
            "100%|██████████| 391/391 [00:05<00:00, 65.78it/s]\n"
          ]
        },
        {
          "output_type": "stream",
          "name": "stdout",
          "text": [
            "Training loss at epoch 19: 1.99531\n"
          ]
        },
        {
          "output_type": "stream",
          "name": "stderr",
          "text": [
            "100%|██████████| 391/391 [00:05<00:00, 66.25it/s]\n"
          ]
        },
        {
          "output_type": "stream",
          "name": "stdout",
          "text": [
            "Training loss at epoch 20: 1.98299\n"
          ]
        },
        {
          "output_type": "stream",
          "name": "stderr",
          "text": [
            "100%|██████████| 391/391 [00:05<00:00, 66.62it/s]\n"
          ]
        },
        {
          "output_type": "stream",
          "name": "stdout",
          "text": [
            "Training loss at epoch 21: 1.97227\n"
          ]
        },
        {
          "output_type": "stream",
          "name": "stderr",
          "text": [
            "100%|██████████| 391/391 [00:05<00:00, 66.06it/s]\n"
          ]
        },
        {
          "output_type": "stream",
          "name": "stdout",
          "text": [
            "Training loss at epoch 22: 1.96164\n"
          ]
        },
        {
          "output_type": "stream",
          "name": "stderr",
          "text": [
            "100%|██████████| 391/391 [00:05<00:00, 65.37it/s]\n"
          ]
        },
        {
          "output_type": "stream",
          "name": "stdout",
          "text": [
            "Training loss at epoch 23: 1.95202\n"
          ]
        },
        {
          "output_type": "stream",
          "name": "stderr",
          "text": [
            "100%|██████████| 391/391 [00:05<00:00, 66.65it/s]\n"
          ]
        },
        {
          "output_type": "stream",
          "name": "stdout",
          "text": [
            "Training loss at epoch 24: 1.94198\n"
          ]
        },
        {
          "output_type": "stream",
          "name": "stderr",
          "text": [
            "100%|██████████| 391/391 [00:05<00:00, 65.38it/s]\n"
          ]
        },
        {
          "output_type": "stream",
          "name": "stdout",
          "text": [
            "Training loss at epoch 25: 1.93309\n",
            "* Testing loss: 1.93740\n",
            "==============\n",
            "\n",
            "> Starting trial 6\n",
            "Chosen hyperparams: {'lr': 0.1, 'momentum': 0.7}\n",
            "\n"
          ]
        },
        {
          "output_type": "stream",
          "name": "stderr",
          "text": [
            "100%|██████████| 391/391 [00:05<00:00, 66.08it/s]\n"
          ]
        },
        {
          "output_type": "stream",
          "name": "stdout",
          "text": [
            "Training loss at epoch 1: 1.89762\n"
          ]
        },
        {
          "output_type": "stream",
          "name": "stderr",
          "text": [
            "100%|██████████| 391/391 [00:05<00:00, 65.89it/s]\n"
          ]
        },
        {
          "output_type": "stream",
          "name": "stdout",
          "text": [
            "Training loss at epoch 2: 1.45207\n"
          ]
        },
        {
          "output_type": "stream",
          "name": "stderr",
          "text": [
            "100%|██████████| 391/391 [00:05<00:00, 66.09it/s]\n"
          ]
        },
        {
          "output_type": "stream",
          "name": "stdout",
          "text": [
            "Training loss at epoch 3: 1.23756\n"
          ]
        },
        {
          "output_type": "stream",
          "name": "stderr",
          "text": [
            "100%|██████████| 391/391 [00:05<00:00, 66.20it/s]\n"
          ]
        },
        {
          "output_type": "stream",
          "name": "stdout",
          "text": [
            "Training loss at epoch 4: 1.06930\n"
          ]
        },
        {
          "output_type": "stream",
          "name": "stderr",
          "text": [
            "100%|██████████| 391/391 [00:06<00:00, 64.65it/s]\n"
          ]
        },
        {
          "output_type": "stream",
          "name": "stdout",
          "text": [
            "Training loss at epoch 5: 0.89744\n"
          ]
        },
        {
          "output_type": "stream",
          "name": "stderr",
          "text": [
            "100%|██████████| 391/391 [00:05<00:00, 66.01it/s]\n"
          ]
        },
        {
          "output_type": "stream",
          "name": "stdout",
          "text": [
            "Training loss at epoch 6: 0.71337\n"
          ]
        },
        {
          "output_type": "stream",
          "name": "stderr",
          "text": [
            "100%|██████████| 391/391 [00:05<00:00, 66.57it/s]\n"
          ]
        },
        {
          "output_type": "stream",
          "name": "stdout",
          "text": [
            "Training loss at epoch 7: 0.56002\n"
          ]
        },
        {
          "output_type": "stream",
          "name": "stderr",
          "text": [
            "100%|██████████| 391/391 [00:06<00:00, 65.11it/s]\n"
          ]
        },
        {
          "output_type": "stream",
          "name": "stdout",
          "text": [
            "Training loss at epoch 8: 0.43558\n"
          ]
        },
        {
          "output_type": "stream",
          "name": "stderr",
          "text": [
            "100%|██████████| 391/391 [00:05<00:00, 65.47it/s]\n"
          ]
        },
        {
          "output_type": "stream",
          "name": "stdout",
          "text": [
            "Training loss at epoch 9: 0.35180\n"
          ]
        },
        {
          "output_type": "stream",
          "name": "stderr",
          "text": [
            "100%|██████████| 391/391 [00:05<00:00, 65.18it/s]\n"
          ]
        },
        {
          "output_type": "stream",
          "name": "stdout",
          "text": [
            "Training loss at epoch 10: 0.26690\n",
            "* Testing loss: 2.10127\n",
            "==============\n",
            "\n",
            "> Starting trial 7\n",
            "Chosen hyperparams: {'lr': 0.001, 'momentum': 0.9}\n",
            "\n"
          ]
        },
        {
          "output_type": "stream",
          "name": "stderr",
          "text": [
            "100%|██████████| 391/391 [00:05<00:00, 65.97it/s]\n"
          ]
        },
        {
          "output_type": "stream",
          "name": "stdout",
          "text": [
            "Training loss at epoch 1: 2.26492\n"
          ]
        },
        {
          "output_type": "stream",
          "name": "stderr",
          "text": [
            "100%|██████████| 391/391 [00:05<00:00, 65.45it/s]\n"
          ]
        },
        {
          "output_type": "stream",
          "name": "stdout",
          "text": [
            "Training loss at epoch 2: 2.09275\n"
          ]
        },
        {
          "output_type": "stream",
          "name": "stderr",
          "text": [
            "100%|██████████| 391/391 [00:06<00:00, 65.11it/s]\n"
          ]
        },
        {
          "output_type": "stream",
          "name": "stdout",
          "text": [
            "Training loss at epoch 3: 1.94584\n"
          ]
        },
        {
          "output_type": "stream",
          "name": "stderr",
          "text": [
            "100%|██████████| 391/391 [00:05<00:00, 65.58it/s]\n"
          ]
        },
        {
          "output_type": "stream",
          "name": "stdout",
          "text": [
            "Training loss at epoch 4: 1.87886\n"
          ]
        },
        {
          "output_type": "stream",
          "name": "stderr",
          "text": [
            "100%|██████████| 391/391 [00:06<00:00, 64.82it/s]\n"
          ]
        },
        {
          "output_type": "stream",
          "name": "stdout",
          "text": [
            "Training loss at epoch 5: 1.80918\n"
          ]
        },
        {
          "output_type": "stream",
          "name": "stderr",
          "text": [
            "100%|██████████| 391/391 [00:05<00:00, 65.91it/s]\n"
          ]
        },
        {
          "output_type": "stream",
          "name": "stdout",
          "text": [
            "Training loss at epoch 6: 1.74486\n"
          ]
        },
        {
          "output_type": "stream",
          "name": "stderr",
          "text": [
            "100%|██████████| 391/391 [00:06<00:00, 65.12it/s]\n"
          ]
        },
        {
          "output_type": "stream",
          "name": "stdout",
          "text": [
            "Training loss at epoch 7: 1.67231\n"
          ]
        },
        {
          "output_type": "stream",
          "name": "stderr",
          "text": [
            "100%|██████████| 391/391 [00:05<00:00, 65.90it/s]\n"
          ]
        },
        {
          "output_type": "stream",
          "name": "stdout",
          "text": [
            "Training loss at epoch 8: 1.61090\n"
          ]
        },
        {
          "output_type": "stream",
          "name": "stderr",
          "text": [
            "100%|██████████| 391/391 [00:05<00:00, 66.00it/s]\n"
          ]
        },
        {
          "output_type": "stream",
          "name": "stdout",
          "text": [
            "Training loss at epoch 9: 1.55943\n"
          ]
        },
        {
          "output_type": "stream",
          "name": "stderr",
          "text": [
            "100%|██████████| 391/391 [00:05<00:00, 65.76it/s]\n"
          ]
        },
        {
          "output_type": "stream",
          "name": "stdout",
          "text": [
            "Training loss at epoch 10: 1.50129\n"
          ]
        },
        {
          "output_type": "stream",
          "name": "stderr",
          "text": [
            "100%|██████████| 391/391 [00:05<00:00, 65.82it/s]\n"
          ]
        },
        {
          "output_type": "stream",
          "name": "stdout",
          "text": [
            "Training loss at epoch 11: 1.45969\n"
          ]
        },
        {
          "output_type": "stream",
          "name": "stderr",
          "text": [
            "100%|██████████| 391/391 [00:05<00:00, 65.42it/s]\n"
          ]
        },
        {
          "output_type": "stream",
          "name": "stdout",
          "text": [
            "Training loss at epoch 12: 1.41071\n"
          ]
        },
        {
          "output_type": "stream",
          "name": "stderr",
          "text": [
            "100%|██████████| 391/391 [00:05<00:00, 65.49it/s]\n"
          ]
        },
        {
          "output_type": "stream",
          "name": "stdout",
          "text": [
            "Training loss at epoch 13: 1.36503\n"
          ]
        },
        {
          "output_type": "stream",
          "name": "stderr",
          "text": [
            "100%|██████████| 391/391 [00:05<00:00, 65.33it/s]\n"
          ]
        },
        {
          "output_type": "stream",
          "name": "stdout",
          "text": [
            "Training loss at epoch 14: 1.32665\n"
          ]
        },
        {
          "output_type": "stream",
          "name": "stderr",
          "text": [
            "100%|██████████| 391/391 [00:05<00:00, 66.06it/s]\n"
          ]
        },
        {
          "output_type": "stream",
          "name": "stdout",
          "text": [
            "Training loss at epoch 15: 1.29513\n"
          ]
        },
        {
          "output_type": "stream",
          "name": "stderr",
          "text": [
            "100%|██████████| 391/391 [00:05<00:00, 65.87it/s]\n"
          ]
        },
        {
          "output_type": "stream",
          "name": "stdout",
          "text": [
            "Training loss at epoch 16: 1.25857\n"
          ]
        },
        {
          "output_type": "stream",
          "name": "stderr",
          "text": [
            "100%|██████████| 391/391 [00:05<00:00, 65.18it/s]\n"
          ]
        },
        {
          "output_type": "stream",
          "name": "stdout",
          "text": [
            "Training loss at epoch 17: 1.23500\n"
          ]
        },
        {
          "output_type": "stream",
          "name": "stderr",
          "text": [
            "100%|██████████| 391/391 [00:06<00:00, 65.10it/s]\n"
          ]
        },
        {
          "output_type": "stream",
          "name": "stdout",
          "text": [
            "Training loss at epoch 18: 1.20563\n"
          ]
        },
        {
          "output_type": "stream",
          "name": "stderr",
          "text": [
            "100%|██████████| 391/391 [00:06<00:00, 65.12it/s]\n"
          ]
        },
        {
          "output_type": "stream",
          "name": "stdout",
          "text": [
            "Training loss at epoch 19: 1.17676\n"
          ]
        },
        {
          "output_type": "stream",
          "name": "stderr",
          "text": [
            "100%|██████████| 391/391 [00:05<00:00, 65.80it/s]\n"
          ]
        },
        {
          "output_type": "stream",
          "name": "stdout",
          "text": [
            "Training loss at epoch 20: 1.15048\n",
            "* Testing loss: 1.22004\n",
            "\n",
            "* Best params updated!: {'lr': 0.001, 'momentum': 0.9}\n",
            "==============\n",
            "\n",
            "> Starting trial 8\n",
            "Chosen hyperparams: {'lr': 0.001, 'momentum': 0.7}\n",
            "\n"
          ]
        },
        {
          "output_type": "stream",
          "name": "stderr",
          "text": [
            "100%|██████████| 391/391 [00:05<00:00, 65.71it/s]\n"
          ]
        },
        {
          "output_type": "stream",
          "name": "stdout",
          "text": [
            "Training loss at epoch 1: 2.29130\n"
          ]
        },
        {
          "output_type": "stream",
          "name": "stderr",
          "text": [
            "100%|██████████| 391/391 [00:05<00:00, 65.19it/s]\n"
          ]
        },
        {
          "output_type": "stream",
          "name": "stdout",
          "text": [
            "Training loss at epoch 2: 2.26512\n"
          ]
        },
        {
          "output_type": "stream",
          "name": "stderr",
          "text": [
            "100%|██████████| 391/391 [00:05<00:00, 65.47it/s]\n"
          ]
        },
        {
          "output_type": "stream",
          "name": "stdout",
          "text": [
            "Training loss at epoch 3: 2.21600\n"
          ]
        },
        {
          "output_type": "stream",
          "name": "stderr",
          "text": [
            "100%|██████████| 391/391 [00:05<00:00, 66.28it/s]\n"
          ]
        },
        {
          "output_type": "stream",
          "name": "stdout",
          "text": [
            "Training loss at epoch 4: 2.13372\n"
          ]
        },
        {
          "output_type": "stream",
          "name": "stderr",
          "text": [
            "100%|██████████| 391/391 [00:05<00:00, 65.62it/s]\n"
          ]
        },
        {
          "output_type": "stream",
          "name": "stdout",
          "text": [
            "Training loss at epoch 5: 2.05013\n"
          ]
        },
        {
          "output_type": "stream",
          "name": "stderr",
          "text": [
            "100%|██████████| 391/391 [00:05<00:00, 66.24it/s]\n"
          ]
        },
        {
          "output_type": "stream",
          "name": "stdout",
          "text": [
            "Training loss at epoch 6: 1.99049\n"
          ]
        },
        {
          "output_type": "stream",
          "name": "stderr",
          "text": [
            "100%|██████████| 391/391 [00:05<00:00, 65.20it/s]\n"
          ]
        },
        {
          "output_type": "stream",
          "name": "stdout",
          "text": [
            "Training loss at epoch 7: 1.95118\n"
          ]
        },
        {
          "output_type": "stream",
          "name": "stderr",
          "text": [
            "100%|██████████| 391/391 [00:05<00:00, 65.83it/s]\n"
          ]
        },
        {
          "output_type": "stream",
          "name": "stdout",
          "text": [
            "Training loss at epoch 8: 1.92416\n"
          ]
        },
        {
          "output_type": "stream",
          "name": "stderr",
          "text": [
            "100%|██████████| 391/391 [00:06<00:00, 64.71it/s]\n"
          ]
        },
        {
          "output_type": "stream",
          "name": "stdout",
          "text": [
            "Training loss at epoch 9: 1.90192\n"
          ]
        },
        {
          "output_type": "stream",
          "name": "stderr",
          "text": [
            "100%|██████████| 391/391 [00:05<00:00, 65.53it/s]\n"
          ]
        },
        {
          "output_type": "stream",
          "name": "stdout",
          "text": [
            "Training loss at epoch 10: 1.88203\n"
          ]
        },
        {
          "output_type": "stream",
          "name": "stderr",
          "text": [
            "100%|██████████| 391/391 [00:05<00:00, 65.79it/s]\n"
          ]
        },
        {
          "output_type": "stream",
          "name": "stdout",
          "text": [
            "Training loss at epoch 11: 1.86235\n"
          ]
        },
        {
          "output_type": "stream",
          "name": "stderr",
          "text": [
            "100%|██████████| 391/391 [00:05<00:00, 65.85it/s]\n"
          ]
        },
        {
          "output_type": "stream",
          "name": "stdout",
          "text": [
            "Training loss at epoch 12: 1.84268\n"
          ]
        },
        {
          "output_type": "stream",
          "name": "stderr",
          "text": [
            "100%|██████████| 391/391 [00:05<00:00, 65.54it/s]\n"
          ]
        },
        {
          "output_type": "stream",
          "name": "stdout",
          "text": [
            "Training loss at epoch 13: 1.82114\n"
          ]
        },
        {
          "output_type": "stream",
          "name": "stderr",
          "text": [
            "100%|██████████| 391/391 [00:05<00:00, 65.24it/s]\n"
          ]
        },
        {
          "output_type": "stream",
          "name": "stdout",
          "text": [
            "Training loss at epoch 14: 1.79828\n"
          ]
        },
        {
          "output_type": "stream",
          "name": "stderr",
          "text": [
            "100%|██████████| 391/391 [00:05<00:00, 65.56it/s]\n"
          ]
        },
        {
          "output_type": "stream",
          "name": "stdout",
          "text": [
            "Training loss at epoch 15: 1.77459\n"
          ]
        },
        {
          "output_type": "stream",
          "name": "stderr",
          "text": [
            "100%|██████████| 391/391 [00:05<00:00, 66.06it/s]\n"
          ]
        },
        {
          "output_type": "stream",
          "name": "stdout",
          "text": [
            "Training loss at epoch 16: 1.75216\n"
          ]
        },
        {
          "output_type": "stream",
          "name": "stderr",
          "text": [
            "100%|██████████| 391/391 [00:05<00:00, 65.21it/s]\n"
          ]
        },
        {
          "output_type": "stream",
          "name": "stdout",
          "text": [
            "Training loss at epoch 17: 1.72745\n"
          ]
        },
        {
          "output_type": "stream",
          "name": "stderr",
          "text": [
            "100%|██████████| 391/391 [00:05<00:00, 65.67it/s]\n"
          ]
        },
        {
          "output_type": "stream",
          "name": "stdout",
          "text": [
            "Training loss at epoch 18: 1.70349\n"
          ]
        },
        {
          "output_type": "stream",
          "name": "stderr",
          "text": [
            "100%|██████████| 391/391 [00:06<00:00, 65.07it/s]\n"
          ]
        },
        {
          "output_type": "stream",
          "name": "stdout",
          "text": [
            "Training loss at epoch 19: 1.67953\n"
          ]
        },
        {
          "output_type": "stream",
          "name": "stderr",
          "text": [
            "100%|██████████| 391/391 [00:05<00:00, 66.42it/s]\n"
          ]
        },
        {
          "output_type": "stream",
          "name": "stdout",
          "text": [
            "Training loss at epoch 20: 1.65778\n",
            "* Testing loss: 1.64070\n",
            "==============\n",
            "\n",
            "> Starting trial 9\n",
            "Chosen hyperparams: {'lr': 0.001, 'momentum': 0.7}\n",
            "\n"
          ]
        },
        {
          "output_type": "stream",
          "name": "stderr",
          "text": [
            "100%|██████████| 391/391 [00:05<00:00, 65.86it/s]\n"
          ]
        },
        {
          "output_type": "stream",
          "name": "stdout",
          "text": [
            "Training loss at epoch 1: 2.29263\n"
          ]
        },
        {
          "output_type": "stream",
          "name": "stderr",
          "text": [
            "100%|██████████| 391/391 [00:05<00:00, 66.60it/s]\n"
          ]
        },
        {
          "output_type": "stream",
          "name": "stdout",
          "text": [
            "Training loss at epoch 2: 2.26755\n"
          ]
        },
        {
          "output_type": "stream",
          "name": "stderr",
          "text": [
            "100%|██████████| 391/391 [00:05<00:00, 66.23it/s]\n"
          ]
        },
        {
          "output_type": "stream",
          "name": "stdout",
          "text": [
            "Training loss at epoch 3: 2.22112\n"
          ]
        },
        {
          "output_type": "stream",
          "name": "stderr",
          "text": [
            "100%|██████████| 391/391 [00:05<00:00, 65.48it/s]\n"
          ]
        },
        {
          "output_type": "stream",
          "name": "stdout",
          "text": [
            "Training loss at epoch 4: 2.14592\n"
          ]
        },
        {
          "output_type": "stream",
          "name": "stderr",
          "text": [
            "100%|██████████| 391/391 [00:05<00:00, 66.25it/s]\n"
          ]
        },
        {
          "output_type": "stream",
          "name": "stdout",
          "text": [
            "Training loss at epoch 5: 2.07001\n"
          ]
        },
        {
          "output_type": "stream",
          "name": "stderr",
          "text": [
            "100%|██████████| 391/391 [00:05<00:00, 66.09it/s]\n"
          ]
        },
        {
          "output_type": "stream",
          "name": "stdout",
          "text": [
            "Training loss at epoch 6: 2.00663\n"
          ]
        },
        {
          "output_type": "stream",
          "name": "stderr",
          "text": [
            "100%|██████████| 391/391 [00:05<00:00, 66.08it/s]\n"
          ]
        },
        {
          "output_type": "stream",
          "name": "stdout",
          "text": [
            "Training loss at epoch 7: 1.96398\n"
          ]
        },
        {
          "output_type": "stream",
          "name": "stderr",
          "text": [
            "100%|██████████| 391/391 [00:05<00:00, 66.13it/s]\n"
          ]
        },
        {
          "output_type": "stream",
          "name": "stdout",
          "text": [
            "Training loss at epoch 8: 1.93079\n"
          ]
        },
        {
          "output_type": "stream",
          "name": "stderr",
          "text": [
            "100%|██████████| 391/391 [00:05<00:00, 67.18it/s]\n"
          ]
        },
        {
          "output_type": "stream",
          "name": "stdout",
          "text": [
            "Training loss at epoch 9: 1.90459\n"
          ]
        },
        {
          "output_type": "stream",
          "name": "stderr",
          "text": [
            "100%|██████████| 391/391 [00:05<00:00, 66.13it/s]\n"
          ]
        },
        {
          "output_type": "stream",
          "name": "stdout",
          "text": [
            "Training loss at epoch 10: 1.88072\n"
          ]
        },
        {
          "output_type": "stream",
          "name": "stderr",
          "text": [
            "100%|██████████| 391/391 [00:05<00:00, 66.28it/s]\n"
          ]
        },
        {
          "output_type": "stream",
          "name": "stdout",
          "text": [
            "Training loss at epoch 11: 1.86110\n"
          ]
        },
        {
          "output_type": "stream",
          "name": "stderr",
          "text": [
            "100%|██████████| 391/391 [00:05<00:00, 66.71it/s]\n"
          ]
        },
        {
          "output_type": "stream",
          "name": "stdout",
          "text": [
            "Training loss at epoch 12: 1.83720\n"
          ]
        },
        {
          "output_type": "stream",
          "name": "stderr",
          "text": [
            "100%|██████████| 391/391 [00:05<00:00, 66.53it/s]\n"
          ]
        },
        {
          "output_type": "stream",
          "name": "stdout",
          "text": [
            "Training loss at epoch 13: 1.81529\n"
          ]
        },
        {
          "output_type": "stream",
          "name": "stderr",
          "text": [
            "100%|██████████| 391/391 [00:05<00:00, 66.25it/s]\n"
          ]
        },
        {
          "output_type": "stream",
          "name": "stdout",
          "text": [
            "Training loss at epoch 14: 1.78890\n"
          ]
        },
        {
          "output_type": "stream",
          "name": "stderr",
          "text": [
            "100%|██████████| 391/391 [00:05<00:00, 65.45it/s]\n"
          ]
        },
        {
          "output_type": "stream",
          "name": "stdout",
          "text": [
            "Training loss at epoch 15: 1.76385\n"
          ]
        },
        {
          "output_type": "stream",
          "name": "stderr",
          "text": [
            "100%|██████████| 391/391 [00:05<00:00, 65.60it/s]\n"
          ]
        },
        {
          "output_type": "stream",
          "name": "stdout",
          "text": [
            "Training loss at epoch 16: 1.73590\n"
          ]
        },
        {
          "output_type": "stream",
          "name": "stderr",
          "text": [
            "100%|██████████| 391/391 [00:05<00:00, 66.61it/s]\n"
          ]
        },
        {
          "output_type": "stream",
          "name": "stdout",
          "text": [
            "Training loss at epoch 17: 1.70982\n"
          ]
        },
        {
          "output_type": "stream",
          "name": "stderr",
          "text": [
            "100%|██████████| 391/391 [00:05<00:00, 66.37it/s]\n"
          ]
        },
        {
          "output_type": "stream",
          "name": "stdout",
          "text": [
            "Training loss at epoch 18: 1.68415\n"
          ]
        },
        {
          "output_type": "stream",
          "name": "stderr",
          "text": [
            "100%|██████████| 391/391 [00:05<00:00, 65.89it/s]\n"
          ]
        },
        {
          "output_type": "stream",
          "name": "stdout",
          "text": [
            "Training loss at epoch 19: 1.65952\n"
          ]
        },
        {
          "output_type": "stream",
          "name": "stderr",
          "text": [
            "100%|██████████| 391/391 [00:05<00:00, 66.61it/s]\n"
          ]
        },
        {
          "output_type": "stream",
          "name": "stdout",
          "text": [
            "Training loss at epoch 20: 1.63875\n",
            "* Testing loss: 1.67611\n",
            "==============\n",
            "\n",
            "> Starting trial 10\n",
            "Chosen hyperparams: {'lr': 0.0001, 'momentum': 0.99}\n",
            "\n"
          ]
        },
        {
          "output_type": "stream",
          "name": "stderr",
          "text": [
            "100%|██████████| 391/391 [00:05<00:00, 65.73it/s]\n"
          ]
        },
        {
          "output_type": "stream",
          "name": "stdout",
          "text": [
            "Training loss at epoch 1: 2.28983\n"
          ]
        },
        {
          "output_type": "stream",
          "name": "stderr",
          "text": [
            "100%|██████████| 391/391 [00:05<00:00, 66.27it/s]\n"
          ]
        },
        {
          "output_type": "stream",
          "name": "stdout",
          "text": [
            "Training loss at epoch 2: 2.21911\n"
          ]
        },
        {
          "output_type": "stream",
          "name": "stderr",
          "text": [
            "100%|██████████| 391/391 [00:05<00:00, 65.22it/s]\n"
          ]
        },
        {
          "output_type": "stream",
          "name": "stdout",
          "text": [
            "Training loss at epoch 3: 2.08409\n"
          ]
        },
        {
          "output_type": "stream",
          "name": "stderr",
          "text": [
            "100%|██████████| 391/391 [00:05<00:00, 66.16it/s]\n"
          ]
        },
        {
          "output_type": "stream",
          "name": "stdout",
          "text": [
            "Training loss at epoch 4: 1.94989\n"
          ]
        },
        {
          "output_type": "stream",
          "name": "stderr",
          "text": [
            "100%|██████████| 391/391 [00:05<00:00, 65.79it/s]\n"
          ]
        },
        {
          "output_type": "stream",
          "name": "stdout",
          "text": [
            "Training loss at epoch 5: 1.88122\n"
          ]
        },
        {
          "output_type": "stream",
          "name": "stderr",
          "text": [
            "100%|██████████| 391/391 [00:05<00:00, 65.96it/s]\n"
          ]
        },
        {
          "output_type": "stream",
          "name": "stdout",
          "text": [
            "Training loss at epoch 6: 1.82952\n"
          ]
        },
        {
          "output_type": "stream",
          "name": "stderr",
          "text": [
            "100%|██████████| 391/391 [00:05<00:00, 67.41it/s]\n"
          ]
        },
        {
          "output_type": "stream",
          "name": "stdout",
          "text": [
            "Training loss at epoch 7: 1.76721\n"
          ]
        },
        {
          "output_type": "stream",
          "name": "stderr",
          "text": [
            "100%|██████████| 391/391 [00:05<00:00, 65.73it/s]\n"
          ]
        },
        {
          "output_type": "stream",
          "name": "stdout",
          "text": [
            "Training loss at epoch 8: 1.70410\n"
          ]
        },
        {
          "output_type": "stream",
          "name": "stderr",
          "text": [
            "100%|██████████| 391/391 [00:05<00:00, 66.70it/s]\n"
          ]
        },
        {
          "output_type": "stream",
          "name": "stdout",
          "text": [
            "Training loss at epoch 9: 1.63860\n"
          ]
        },
        {
          "output_type": "stream",
          "name": "stderr",
          "text": [
            "100%|██████████| 391/391 [00:05<00:00, 66.32it/s]\n"
          ]
        },
        {
          "output_type": "stream",
          "name": "stdout",
          "text": [
            "Training loss at epoch 10: 1.58599\n"
          ]
        },
        {
          "output_type": "stream",
          "name": "stderr",
          "text": [
            "100%|██████████| 391/391 [00:05<00:00, 65.87it/s]\n"
          ]
        },
        {
          "output_type": "stream",
          "name": "stdout",
          "text": [
            "Training loss at epoch 11: 1.54442\n"
          ]
        },
        {
          "output_type": "stream",
          "name": "stderr",
          "text": [
            "100%|██████████| 391/391 [00:06<00:00, 65.10it/s]\n"
          ]
        },
        {
          "output_type": "stream",
          "name": "stdout",
          "text": [
            "Training loss at epoch 12: 1.49596\n"
          ]
        },
        {
          "output_type": "stream",
          "name": "stderr",
          "text": [
            "100%|██████████| 391/391 [00:06<00:00, 64.93it/s]\n"
          ]
        },
        {
          "output_type": "stream",
          "name": "stdout",
          "text": [
            "Training loss at epoch 13: 1.45026\n"
          ]
        },
        {
          "output_type": "stream",
          "name": "stderr",
          "text": [
            "100%|██████████| 391/391 [00:05<00:00, 65.74it/s]\n"
          ]
        },
        {
          "output_type": "stream",
          "name": "stdout",
          "text": [
            "Training loss at epoch 14: 1.41016\n"
          ]
        },
        {
          "output_type": "stream",
          "name": "stderr",
          "text": [
            "100%|██████████| 391/391 [00:05<00:00, 65.50it/s]\n"
          ]
        },
        {
          "output_type": "stream",
          "name": "stdout",
          "text": [
            "Training loss at epoch 15: 1.38189\n"
          ]
        },
        {
          "output_type": "stream",
          "name": "stderr",
          "text": [
            "100%|██████████| 391/391 [00:05<00:00, 65.30it/s]\n"
          ]
        },
        {
          "output_type": "stream",
          "name": "stdout",
          "text": [
            "Training loss at epoch 16: 1.33615\n"
          ]
        },
        {
          "output_type": "stream",
          "name": "stderr",
          "text": [
            "100%|██████████| 391/391 [00:05<00:00, 66.08it/s]\n"
          ]
        },
        {
          "output_type": "stream",
          "name": "stdout",
          "text": [
            "Training loss at epoch 17: 1.29819\n"
          ]
        },
        {
          "output_type": "stream",
          "name": "stderr",
          "text": [
            "100%|██████████| 391/391 [00:06<00:00, 64.95it/s]\n"
          ]
        },
        {
          "output_type": "stream",
          "name": "stdout",
          "text": [
            "Training loss at epoch 18: 1.27911\n"
          ]
        },
        {
          "output_type": "stream",
          "name": "stderr",
          "text": [
            "100%|██████████| 391/391 [00:05<00:00, 65.66it/s]\n"
          ]
        },
        {
          "output_type": "stream",
          "name": "stdout",
          "text": [
            "Training loss at epoch 19: 1.24908\n"
          ]
        },
        {
          "output_type": "stream",
          "name": "stderr",
          "text": [
            "100%|██████████| 391/391 [00:05<00:00, 65.65it/s]\n"
          ]
        },
        {
          "output_type": "stream",
          "name": "stdout",
          "text": [
            "Training loss at epoch 20: 1.22120\n"
          ]
        },
        {
          "output_type": "stream",
          "name": "stderr",
          "text": [
            "100%|██████████| 391/391 [00:05<00:00, 66.09it/s]\n"
          ]
        },
        {
          "output_type": "stream",
          "name": "stdout",
          "text": [
            "Training loss at epoch 21: 1.19508\n"
          ]
        },
        {
          "output_type": "stream",
          "name": "stderr",
          "text": [
            "100%|██████████| 391/391 [00:05<00:00, 65.63it/s]\n"
          ]
        },
        {
          "output_type": "stream",
          "name": "stdout",
          "text": [
            "Training loss at epoch 22: 1.17442\n"
          ]
        },
        {
          "output_type": "stream",
          "name": "stderr",
          "text": [
            "100%|██████████| 391/391 [00:05<00:00, 65.29it/s]\n"
          ]
        },
        {
          "output_type": "stream",
          "name": "stdout",
          "text": [
            "Training loss at epoch 23: 1.14983\n"
          ]
        },
        {
          "output_type": "stream",
          "name": "stderr",
          "text": [
            "100%|██████████| 391/391 [00:05<00:00, 65.58it/s]\n"
          ]
        },
        {
          "output_type": "stream",
          "name": "stdout",
          "text": [
            "Training loss at epoch 24: 1.11535\n"
          ]
        },
        {
          "output_type": "stream",
          "name": "stderr",
          "text": [
            "100%|██████████| 391/391 [00:06<00:00, 64.67it/s]"
          ]
        },
        {
          "output_type": "stream",
          "name": "stdout",
          "text": [
            "Training loss at epoch 25: 1.09177\n",
            "* Testing loss: 1.20475\n",
            "\n",
            "* Best params updated!: {'lr': 0.0001, 'momentum': 0.99}\n",
            "==============\n"
          ]
        },
        {
          "output_type": "stream",
          "name": "stderr",
          "text": [
            "\n"
          ]
        }
      ]
    },
    {
      "cell_type": "markdown",
      "source": [
        "### Training with the best hyperparameters"
      ],
      "metadata": {
        "id": "lvFWDJ5PMs8m"
      }
    },
    {
      "cell_type": "code",
      "source": [
        "best_params"
      ],
      "metadata": {
        "colab": {
          "base_uri": "https://localhost:8080/"
        },
        "id": "-wExKj7yMt54",
        "outputId": "731ddcf3-7135-4954-926c-08ca509159a0"
      },
      "execution_count": null,
      "outputs": [
        {
          "output_type": "execute_result",
          "data": {
            "text/plain": [
              "{'lr': 0.0001, 'momentum': 0.99}"
            ]
          },
          "metadata": {},
          "execution_count": 26
        }
      ]
    },
    {
      "cell_type": "code",
      "source": [
        "model = CNN()\n",
        "model.to(device)\n",
        "error = nn.NLLLoss()\n",
        "optimizer = torch.optim.SGD(model.parameters(), lr=best_params['lr'], momentum=best_params['momentum'])"
      ],
      "metadata": {
        "id": "3WPEijcYMvcC"
      },
      "execution_count": null,
      "outputs": []
    },
    {
      "cell_type": "code",
      "source": [
        "DISPLAY_INTERVAL = 1\n",
        "train_loss, test_loss = [], [] # denotes the mean loss over all samples\n",
        "train_acc, test_acc = [], []\n",
        "for epoch in range(1, NUM_EPOCHS + 1):\n",
        "  total_loss = 0\n",
        "  correct, total = 0, 0\n",
        "  for images, labels in tqdm(train_loader):\n",
        "    # forward + backward + step\n",
        "    optimizer.zero_grad()\n",
        "    images, labels = images.to(device), labels.to(device)\n",
        "    outputs = model(images)\n",
        "    loss = error(outputs, labels)\n",
        "    total_loss += loss.item() * len(outputs)\n",
        "    loss.backward()\n",
        "    optimizer.step()\n",
        "    # accuracy calculation\n",
        "    correct += (torch.argmax(outputs, dim=1) == labels).sum()\n",
        "    total += len(labels)\n",
        "  train_loss.append(total_loss / total)\n",
        "  train_acc.append(correct / total)\n",
        "  # testing loss\n",
        "  with torch.no_grad():\n",
        "    predicted = model(test_X)\n",
        "    loss = error(predicted, test_Y)\n",
        "    test_loss.append(loss.item())\n",
        "    test_acc.append((torch.argmax(predicted, dim=1) == test_Y).sum() / len(test_Y))\n",
        "\n",
        "  if epoch % DISPLAY_INTERVAL == 0:\n",
        "      print(f'Performace at epoch {epoch}')\n",
        "      print(f'Train Loss: {train_loss[-1]:.5f} ; Train Acc: {train_acc[-1]:.5f}')\n",
        "      print(f'Test Loss: {test_loss[-1]:.5f} ; Test Acc: {test_acc[-1]:.5f}')\n",
        "      print('==============')"
      ],
      "metadata": {
        "colab": {
          "base_uri": "https://localhost:8080/"
        },
        "id": "JRkfDlJPM1dY",
        "outputId": "4d08d5e2-638a-4d5b-b5cf-98bccd0a0ebb"
      },
      "execution_count": null,
      "outputs": [
        {
          "output_type": "stream",
          "name": "stderr",
          "text": [
            "100%|██████████| 391/391 [00:05<00:00, 66.26it/s]\n"
          ]
        },
        {
          "output_type": "stream",
          "name": "stdout",
          "text": [
            "Performace at epoch 1\n",
            "Train Loss: 2.28690 ; Train Acc: 0.14908\n",
            "Test Loss: 2.26182 ; Test Acc: 0.15916\n",
            "==============\n"
          ]
        },
        {
          "output_type": "stream",
          "name": "stderr",
          "text": [
            "100%|██████████| 391/391 [00:05<00:00, 66.71it/s]\n"
          ]
        },
        {
          "output_type": "stream",
          "name": "stdout",
          "text": [
            "Performace at epoch 2\n",
            "Train Loss: 2.19164 ; Train Acc: 0.22460\n",
            "Test Loss: 2.10811 ; Test Acc: 0.25766\n",
            "==============\n"
          ]
        },
        {
          "output_type": "stream",
          "name": "stderr",
          "text": [
            "100%|██████████| 391/391 [00:05<00:00, 66.22it/s]\n"
          ]
        },
        {
          "output_type": "stream",
          "name": "stdout",
          "text": [
            "Performace at epoch 3\n",
            "Train Loss: 2.02410 ; Train Acc: 0.27676\n",
            "Test Loss: 1.96684 ; Test Acc: 0.30180\n",
            "==============\n"
          ]
        },
        {
          "output_type": "stream",
          "name": "stderr",
          "text": [
            "100%|██████████| 391/391 [00:05<00:00, 67.11it/s]\n"
          ]
        },
        {
          "output_type": "stream",
          "name": "stdout",
          "text": [
            "Performace at epoch 4\n",
            "Train Loss: 1.92517 ; Train Acc: 0.31316\n",
            "Test Loss: 1.90458 ; Test Acc: 0.33303\n",
            "==============\n"
          ]
        },
        {
          "output_type": "stream",
          "name": "stderr",
          "text": [
            "100%|██████████| 391/391 [00:05<00:00, 66.77it/s]\n"
          ]
        },
        {
          "output_type": "stream",
          "name": "stdout",
          "text": [
            "Performace at epoch 5\n",
            "Train Loss: 1.87216 ; Train Acc: 0.33624\n",
            "Test Loss: 1.85890 ; Test Acc: 0.34715\n",
            "==============\n"
          ]
        },
        {
          "output_type": "stream",
          "name": "stderr",
          "text": [
            "100%|██████████| 391/391 [00:05<00:00, 66.50it/s]\n"
          ]
        },
        {
          "output_type": "stream",
          "name": "stdout",
          "text": [
            "Performace at epoch 6\n",
            "Train Loss: 1.81600 ; Train Acc: 0.35916\n",
            "Test Loss: 1.79320 ; Test Acc: 0.36066\n",
            "==============\n"
          ]
        },
        {
          "output_type": "stream",
          "name": "stderr",
          "text": [
            "100%|██████████| 391/391 [00:05<00:00, 67.10it/s]\n"
          ]
        },
        {
          "output_type": "stream",
          "name": "stdout",
          "text": [
            "Performace at epoch 7\n",
            "Train Loss: 1.75675 ; Train Acc: 0.37584\n",
            "Test Loss: 1.74586 ; Test Acc: 0.38228\n",
            "==============\n"
          ]
        },
        {
          "output_type": "stream",
          "name": "stderr",
          "text": [
            "100%|██████████| 391/391 [00:05<00:00, 67.54it/s]\n"
          ]
        },
        {
          "output_type": "stream",
          "name": "stdout",
          "text": [
            "Performace at epoch 8\n",
            "Train Loss: 1.69173 ; Train Acc: 0.39680\n",
            "Test Loss: 1.65424 ; Test Acc: 0.41592\n",
            "==============\n"
          ]
        },
        {
          "output_type": "stream",
          "name": "stderr",
          "text": [
            "100%|██████████| 391/391 [00:05<00:00, 67.34it/s]\n"
          ]
        },
        {
          "output_type": "stream",
          "name": "stdout",
          "text": [
            "Performace at epoch 9\n",
            "Train Loss: 1.62912 ; Train Acc: 0.41220\n",
            "Test Loss: 1.63046 ; Test Acc: 0.42312\n",
            "==============\n"
          ]
        },
        {
          "output_type": "stream",
          "name": "stderr",
          "text": [
            "100%|██████████| 391/391 [00:05<00:00, 66.42it/s]\n"
          ]
        },
        {
          "output_type": "stream",
          "name": "stdout",
          "text": [
            "Performace at epoch 10\n",
            "Train Loss: 1.58075 ; Train Acc: 0.42716\n",
            "Test Loss: 1.55119 ; Test Acc: 0.44685\n",
            "==============\n"
          ]
        },
        {
          "output_type": "stream",
          "name": "stderr",
          "text": [
            "100%|██████████| 391/391 [00:05<00:00, 67.06it/s]\n"
          ]
        },
        {
          "output_type": "stream",
          "name": "stdout",
          "text": [
            "Performace at epoch 11\n",
            "Train Loss: 1.52335 ; Train Acc: 0.44612\n",
            "Test Loss: 1.51576 ; Test Acc: 0.44625\n",
            "==============\n"
          ]
        },
        {
          "output_type": "stream",
          "name": "stderr",
          "text": [
            "100%|██████████| 391/391 [00:05<00:00, 67.52it/s]\n"
          ]
        },
        {
          "output_type": "stream",
          "name": "stdout",
          "text": [
            "Performace at epoch 12\n",
            "Train Loss: 1.48226 ; Train Acc: 0.46428\n",
            "Test Loss: 1.45977 ; Test Acc: 0.48529\n",
            "==============\n"
          ]
        },
        {
          "output_type": "stream",
          "name": "stderr",
          "text": [
            "100%|██████████| 391/391 [00:05<00:00, 67.13it/s]\n"
          ]
        },
        {
          "output_type": "stream",
          "name": "stdout",
          "text": [
            "Performace at epoch 13\n",
            "Train Loss: 1.44463 ; Train Acc: 0.47816\n",
            "Test Loss: 1.47225 ; Test Acc: 0.46456\n",
            "==============\n"
          ]
        },
        {
          "output_type": "stream",
          "name": "stderr",
          "text": [
            "100%|██████████| 391/391 [00:05<00:00, 66.67it/s]\n"
          ]
        },
        {
          "output_type": "stream",
          "name": "stdout",
          "text": [
            "Performace at epoch 14\n",
            "Train Loss: 1.40217 ; Train Acc: 0.49228\n",
            "Test Loss: 1.42186 ; Test Acc: 0.49459\n",
            "==============\n"
          ]
        },
        {
          "output_type": "stream",
          "name": "stderr",
          "text": [
            "100%|██████████| 391/391 [00:05<00:00, 67.03it/s]\n"
          ]
        },
        {
          "output_type": "stream",
          "name": "stdout",
          "text": [
            "Performace at epoch 15\n",
            "Train Loss: 1.36728 ; Train Acc: 0.50716\n",
            "Test Loss: 1.36426 ; Test Acc: 0.50811\n",
            "==============\n"
          ]
        },
        {
          "output_type": "stream",
          "name": "stderr",
          "text": [
            "100%|██████████| 391/391 [00:05<00:00, 67.32it/s]\n"
          ]
        },
        {
          "output_type": "stream",
          "name": "stdout",
          "text": [
            "Performace at epoch 16\n",
            "Train Loss: 1.34361 ; Train Acc: 0.51408\n",
            "Test Loss: 1.33473 ; Test Acc: 0.52553\n",
            "==============\n"
          ]
        },
        {
          "output_type": "stream",
          "name": "stderr",
          "text": [
            "100%|██████████| 391/391 [00:05<00:00, 66.52it/s]\n"
          ]
        },
        {
          "output_type": "stream",
          "name": "stdout",
          "text": [
            "Performace at epoch 17\n",
            "Train Loss: 1.28680 ; Train Acc: 0.53796\n",
            "Test Loss: 1.32590 ; Test Acc: 0.52372\n",
            "==============\n"
          ]
        },
        {
          "output_type": "stream",
          "name": "stderr",
          "text": [
            "100%|██████████| 391/391 [00:05<00:00, 66.72it/s]\n"
          ]
        },
        {
          "output_type": "stream",
          "name": "stdout",
          "text": [
            "Performace at epoch 18\n",
            "Train Loss: 1.28590 ; Train Acc: 0.53588\n",
            "Test Loss: 1.33360 ; Test Acc: 0.51982\n",
            "==============\n"
          ]
        },
        {
          "output_type": "stream",
          "name": "stderr",
          "text": [
            "100%|██████████| 391/391 [00:05<00:00, 67.12it/s]\n"
          ]
        },
        {
          "output_type": "stream",
          "name": "stdout",
          "text": [
            "Performace at epoch 19\n",
            "Train Loss: 1.23312 ; Train Acc: 0.55648\n",
            "Test Loss: 1.27513 ; Test Acc: 0.54444\n",
            "==============\n"
          ]
        },
        {
          "output_type": "stream",
          "name": "stderr",
          "text": [
            "100%|██████████| 391/391 [00:05<00:00, 67.43it/s]\n"
          ]
        },
        {
          "output_type": "stream",
          "name": "stdout",
          "text": [
            "Performace at epoch 20\n",
            "Train Loss: 1.20790 ; Train Acc: 0.56856\n",
            "Test Loss: 1.27172 ; Test Acc: 0.54715\n",
            "==============\n"
          ]
        },
        {
          "output_type": "stream",
          "name": "stderr",
          "text": [
            "100%|██████████| 391/391 [00:05<00:00, 67.75it/s]\n"
          ]
        },
        {
          "output_type": "stream",
          "name": "stdout",
          "text": [
            "Performace at epoch 21\n",
            "Train Loss: 1.18781 ; Train Acc: 0.57204\n",
            "Test Loss: 1.25986 ; Test Acc: 0.54535\n",
            "==============\n"
          ]
        },
        {
          "output_type": "stream",
          "name": "stderr",
          "text": [
            "100%|██████████| 391/391 [00:05<00:00, 67.17it/s]\n"
          ]
        },
        {
          "output_type": "stream",
          "name": "stdout",
          "text": [
            "Performace at epoch 22\n",
            "Train Loss: 1.19334 ; Train Acc: 0.57028\n",
            "Test Loss: 1.25274 ; Test Acc: 0.54444\n",
            "==============\n"
          ]
        },
        {
          "output_type": "stream",
          "name": "stderr",
          "text": [
            "100%|██████████| 391/391 [00:05<00:00, 66.29it/s]\n"
          ]
        },
        {
          "output_type": "stream",
          "name": "stdout",
          "text": [
            "Performace at epoch 23\n",
            "Train Loss: 1.14062 ; Train Acc: 0.59288\n",
            "Test Loss: 1.22736 ; Test Acc: 0.56126\n",
            "==============\n"
          ]
        },
        {
          "output_type": "stream",
          "name": "stderr",
          "text": [
            "100%|██████████| 391/391 [00:05<00:00, 67.30it/s]\n"
          ]
        },
        {
          "output_type": "stream",
          "name": "stdout",
          "text": [
            "Performace at epoch 24\n",
            "Train Loss: 1.12001 ; Train Acc: 0.60116\n",
            "Test Loss: 1.21649 ; Test Acc: 0.56336\n",
            "==============\n"
          ]
        },
        {
          "output_type": "stream",
          "name": "stderr",
          "text": [
            "100%|██████████| 391/391 [00:05<00:00, 67.90it/s]\n"
          ]
        },
        {
          "output_type": "stream",
          "name": "stdout",
          "text": [
            "Performace at epoch 25\n",
            "Train Loss: 1.09400 ; Train Acc: 0.60980\n",
            "Test Loss: 1.22328 ; Test Acc: 0.55826\n",
            "==============\n"
          ]
        },
        {
          "output_type": "stream",
          "name": "stderr",
          "text": [
            "100%|██████████| 391/391 [00:05<00:00, 67.23it/s]\n"
          ]
        },
        {
          "output_type": "stream",
          "name": "stdout",
          "text": [
            "Performace at epoch 26\n",
            "Train Loss: 1.08063 ; Train Acc: 0.61252\n",
            "Test Loss: 1.20328 ; Test Acc: 0.56396\n",
            "==============\n"
          ]
        },
        {
          "output_type": "stream",
          "name": "stderr",
          "text": [
            "100%|██████████| 391/391 [00:05<00:00, 67.67it/s]\n"
          ]
        },
        {
          "output_type": "stream",
          "name": "stdout",
          "text": [
            "Performace at epoch 27\n",
            "Train Loss: 1.05089 ; Train Acc: 0.62684\n",
            "Test Loss: 1.19528 ; Test Acc: 0.57417\n",
            "==============\n"
          ]
        },
        {
          "output_type": "stream",
          "name": "stderr",
          "text": [
            "100%|██████████| 391/391 [00:05<00:00, 67.11it/s]\n"
          ]
        },
        {
          "output_type": "stream",
          "name": "stdout",
          "text": [
            "Performace at epoch 28\n",
            "Train Loss: 1.03376 ; Train Acc: 0.62808\n",
            "Test Loss: 1.16376 ; Test Acc: 0.58679\n",
            "==============\n"
          ]
        },
        {
          "output_type": "stream",
          "name": "stderr",
          "text": [
            "100%|██████████| 391/391 [00:05<00:00, 66.46it/s]\n"
          ]
        },
        {
          "output_type": "stream",
          "name": "stdout",
          "text": [
            "Performace at epoch 29\n",
            "Train Loss: 1.01596 ; Train Acc: 0.63972\n",
            "Test Loss: 1.17718 ; Test Acc: 0.58859\n",
            "==============\n"
          ]
        },
        {
          "output_type": "stream",
          "name": "stderr",
          "text": [
            "100%|██████████| 391/391 [00:05<00:00, 66.32it/s]\n"
          ]
        },
        {
          "output_type": "stream",
          "name": "stdout",
          "text": [
            "Performace at epoch 30\n",
            "Train Loss: 0.98287 ; Train Acc: 0.65060\n",
            "Test Loss: 1.17950 ; Test Acc: 0.57958\n",
            "==============\n"
          ]
        },
        {
          "output_type": "stream",
          "name": "stderr",
          "text": [
            "100%|██████████| 391/391 [00:05<00:00, 66.96it/s]\n"
          ]
        },
        {
          "output_type": "stream",
          "name": "stdout",
          "text": [
            "Performace at epoch 31\n",
            "Train Loss: 0.94685 ; Train Acc: 0.66776\n",
            "Test Loss: 1.13936 ; Test Acc: 0.59249\n",
            "==============\n"
          ]
        },
        {
          "output_type": "stream",
          "name": "stderr",
          "text": [
            "100%|██████████| 391/391 [00:05<00:00, 66.62it/s]\n"
          ]
        },
        {
          "output_type": "stream",
          "name": "stdout",
          "text": [
            "Performace at epoch 32\n",
            "Train Loss: 0.92990 ; Train Acc: 0.67128\n",
            "Test Loss: 1.13932 ; Test Acc: 0.60030\n",
            "==============\n"
          ]
        },
        {
          "output_type": "stream",
          "name": "stderr",
          "text": [
            "100%|██████████| 391/391 [00:05<00:00, 67.53it/s]\n"
          ]
        },
        {
          "output_type": "stream",
          "name": "stdout",
          "text": [
            "Performace at epoch 33\n",
            "Train Loss: 0.91075 ; Train Acc: 0.67736\n",
            "Test Loss: 1.14498 ; Test Acc: 0.59369\n",
            "==============\n"
          ]
        },
        {
          "output_type": "stream",
          "name": "stderr",
          "text": [
            "100%|██████████| 391/391 [00:05<00:00, 67.05it/s]\n"
          ]
        },
        {
          "output_type": "stream",
          "name": "stdout",
          "text": [
            "Performace at epoch 34\n",
            "Train Loss: 0.88699 ; Train Acc: 0.68728\n",
            "Test Loss: 1.13229 ; Test Acc: 0.60571\n",
            "==============\n"
          ]
        },
        {
          "output_type": "stream",
          "name": "stderr",
          "text": [
            "100%|██████████| 391/391 [00:05<00:00, 67.64it/s]\n"
          ]
        },
        {
          "output_type": "stream",
          "name": "stdout",
          "text": [
            "Performace at epoch 35\n",
            "Train Loss: 0.84999 ; Train Acc: 0.70020\n",
            "Test Loss: 1.14628 ; Test Acc: 0.59550\n",
            "==============\n"
          ]
        },
        {
          "output_type": "stream",
          "name": "stderr",
          "text": [
            "100%|██████████| 391/391 [00:05<00:00, 67.48it/s]\n"
          ]
        },
        {
          "output_type": "stream",
          "name": "stdout",
          "text": [
            "Performace at epoch 36\n",
            "Train Loss: 0.82500 ; Train Acc: 0.71120\n",
            "Test Loss: 1.12926 ; Test Acc: 0.60300\n",
            "==============\n"
          ]
        },
        {
          "output_type": "stream",
          "name": "stderr",
          "text": [
            "100%|██████████| 391/391 [00:05<00:00, 66.27it/s]\n"
          ]
        },
        {
          "output_type": "stream",
          "name": "stdout",
          "text": [
            "Performace at epoch 37\n",
            "Train Loss: 0.78800 ; Train Acc: 0.72280\n",
            "Test Loss: 1.12491 ; Test Acc: 0.60871\n",
            "==============\n"
          ]
        },
        {
          "output_type": "stream",
          "name": "stderr",
          "text": [
            "100%|██████████| 391/391 [00:05<00:00, 66.63it/s]\n"
          ]
        },
        {
          "output_type": "stream",
          "name": "stdout",
          "text": [
            "Performace at epoch 38\n",
            "Train Loss: 0.76274 ; Train Acc: 0.73368\n",
            "Test Loss: 1.12986 ; Test Acc: 0.60511\n",
            "==============\n"
          ]
        },
        {
          "output_type": "stream",
          "name": "stderr",
          "text": [
            "100%|██████████| 391/391 [00:05<00:00, 66.92it/s]\n"
          ]
        },
        {
          "output_type": "stream",
          "name": "stdout",
          "text": [
            "Performace at epoch 39\n",
            "Train Loss: 0.73645 ; Train Acc: 0.74376\n",
            "Test Loss: 1.13796 ; Test Acc: 0.61081\n",
            "==============\n"
          ]
        },
        {
          "output_type": "stream",
          "name": "stderr",
          "text": [
            "100%|██████████| 391/391 [00:05<00:00, 67.39it/s]\n"
          ]
        },
        {
          "output_type": "stream",
          "name": "stdout",
          "text": [
            "Performace at epoch 40\n",
            "Train Loss: 0.70816 ; Train Acc: 0.75392\n",
            "Test Loss: 1.14791 ; Test Acc: 0.60270\n",
            "==============\n"
          ]
        },
        {
          "output_type": "stream",
          "name": "stderr",
          "text": [
            "100%|██████████| 391/391 [00:05<00:00, 66.97it/s]\n"
          ]
        },
        {
          "output_type": "stream",
          "name": "stdout",
          "text": [
            "Performace at epoch 41\n",
            "Train Loss: 0.67249 ; Train Acc: 0.76952\n",
            "Test Loss: 1.15019 ; Test Acc: 0.60691\n",
            "==============\n"
          ]
        },
        {
          "output_type": "stream",
          "name": "stderr",
          "text": [
            "100%|██████████| 391/391 [00:05<00:00, 65.66it/s]\n"
          ]
        },
        {
          "output_type": "stream",
          "name": "stdout",
          "text": [
            "Performace at epoch 42\n",
            "Train Loss: 0.65492 ; Train Acc: 0.77560\n",
            "Test Loss: 1.15027 ; Test Acc: 0.61471\n",
            "==============\n"
          ]
        },
        {
          "output_type": "stream",
          "name": "stderr",
          "text": [
            "100%|██████████| 391/391 [00:05<00:00, 66.22it/s]\n"
          ]
        },
        {
          "output_type": "stream",
          "name": "stdout",
          "text": [
            "Performace at epoch 43\n",
            "Train Loss: 0.62416 ; Train Acc: 0.78772\n",
            "Test Loss: 1.17013 ; Test Acc: 0.60781\n",
            "==============\n"
          ]
        },
        {
          "output_type": "stream",
          "name": "stderr",
          "text": [
            "100%|██████████| 391/391 [00:05<00:00, 65.73it/s]\n"
          ]
        },
        {
          "output_type": "stream",
          "name": "stdout",
          "text": [
            "Performace at epoch 44\n",
            "Train Loss: 0.58619 ; Train Acc: 0.80144\n",
            "Test Loss: 1.13007 ; Test Acc: 0.61772\n",
            "==============\n"
          ]
        },
        {
          "output_type": "stream",
          "name": "stderr",
          "text": [
            "100%|██████████| 391/391 [00:05<00:00, 66.00it/s]\n"
          ]
        },
        {
          "output_type": "stream",
          "name": "stdout",
          "text": [
            "Performace at epoch 45\n",
            "Train Loss: 0.54976 ; Train Acc: 0.81412\n",
            "Test Loss: 1.15984 ; Test Acc: 0.61141\n",
            "==============\n"
          ]
        },
        {
          "output_type": "stream",
          "name": "stderr",
          "text": [
            "100%|██████████| 391/391 [00:05<00:00, 66.92it/s]\n"
          ]
        },
        {
          "output_type": "stream",
          "name": "stdout",
          "text": [
            "Performace at epoch 46\n",
            "Train Loss: 0.52116 ; Train Acc: 0.82540\n",
            "Test Loss: 1.17845 ; Test Acc: 0.61441\n",
            "==============\n"
          ]
        },
        {
          "output_type": "stream",
          "name": "stderr",
          "text": [
            "100%|██████████| 391/391 [00:05<00:00, 66.21it/s]\n"
          ]
        },
        {
          "output_type": "stream",
          "name": "stdout",
          "text": [
            "Performace at epoch 47\n",
            "Train Loss: 0.48865 ; Train Acc: 0.83932\n",
            "Test Loss: 1.22397 ; Test Acc: 0.60511\n",
            "==============\n"
          ]
        },
        {
          "output_type": "stream",
          "name": "stderr",
          "text": [
            "100%|██████████| 391/391 [00:05<00:00, 65.74it/s]\n"
          ]
        },
        {
          "output_type": "stream",
          "name": "stdout",
          "text": [
            "Performace at epoch 48\n",
            "Train Loss: 0.46378 ; Train Acc: 0.84960\n",
            "Test Loss: 1.23091 ; Test Acc: 0.61141\n",
            "==============\n"
          ]
        },
        {
          "output_type": "stream",
          "name": "stderr",
          "text": [
            "100%|██████████| 391/391 [00:05<00:00, 65.41it/s]\n"
          ]
        },
        {
          "output_type": "stream",
          "name": "stdout",
          "text": [
            "Performace at epoch 49\n",
            "Train Loss: 0.43658 ; Train Acc: 0.85712\n",
            "Test Loss: 1.29757 ; Test Acc: 0.59940\n",
            "==============\n"
          ]
        },
        {
          "output_type": "stream",
          "name": "stderr",
          "text": [
            "100%|██████████| 391/391 [00:05<00:00, 65.69it/s]\n"
          ]
        },
        {
          "output_type": "stream",
          "name": "stdout",
          "text": [
            "Performace at epoch 50\n",
            "Train Loss: 0.40868 ; Train Acc: 0.86948\n",
            "Test Loss: 1.25717 ; Test Acc: 0.61201\n",
            "==============\n"
          ]
        },
        {
          "output_type": "stream",
          "name": "stderr",
          "text": [
            "100%|██████████| 391/391 [00:05<00:00, 66.00it/s]\n"
          ]
        },
        {
          "output_type": "stream",
          "name": "stdout",
          "text": [
            "Performace at epoch 51\n",
            "Train Loss: 0.37274 ; Train Acc: 0.88452\n",
            "Test Loss: 1.22995 ; Test Acc: 0.62312\n",
            "==============\n"
          ]
        },
        {
          "output_type": "stream",
          "name": "stderr",
          "text": [
            "100%|██████████| 391/391 [00:05<00:00, 66.39it/s]\n"
          ]
        },
        {
          "output_type": "stream",
          "name": "stdout",
          "text": [
            "Performace at epoch 52\n",
            "Train Loss: 0.32850 ; Train Acc: 0.90416\n",
            "Test Loss: 1.27511 ; Test Acc: 0.62372\n",
            "==============\n"
          ]
        },
        {
          "output_type": "stream",
          "name": "stderr",
          "text": [
            "100%|██████████| 391/391 [00:05<00:00, 66.26it/s]\n"
          ]
        },
        {
          "output_type": "stream",
          "name": "stdout",
          "text": [
            "Performace at epoch 53\n",
            "Train Loss: 0.29947 ; Train Acc: 0.91712\n",
            "Test Loss: 1.29901 ; Test Acc: 0.61592\n",
            "==============\n"
          ]
        },
        {
          "output_type": "stream",
          "name": "stderr",
          "text": [
            "100%|██████████| 391/391 [00:05<00:00, 65.66it/s]\n"
          ]
        },
        {
          "output_type": "stream",
          "name": "stdout",
          "text": [
            "Performace at epoch 54\n",
            "Train Loss: 0.27295 ; Train Acc: 0.92412\n",
            "Test Loss: 1.36123 ; Test Acc: 0.60511\n",
            "==============\n"
          ]
        },
        {
          "output_type": "stream",
          "name": "stderr",
          "text": [
            "100%|██████████| 391/391 [00:05<00:00, 65.92it/s]\n"
          ]
        },
        {
          "output_type": "stream",
          "name": "stdout",
          "text": [
            "Performace at epoch 55\n",
            "Train Loss: 0.24415 ; Train Acc: 0.93768\n",
            "Test Loss: 1.33188 ; Test Acc: 0.61862\n",
            "==============\n"
          ]
        },
        {
          "output_type": "stream",
          "name": "stderr",
          "text": [
            "100%|██████████| 391/391 [00:05<00:00, 66.86it/s]\n"
          ]
        },
        {
          "output_type": "stream",
          "name": "stdout",
          "text": [
            "Performace at epoch 56\n",
            "Train Loss: 0.22879 ; Train Acc: 0.94028\n",
            "Test Loss: 1.35619 ; Test Acc: 0.61952\n",
            "==============\n"
          ]
        },
        {
          "output_type": "stream",
          "name": "stderr",
          "text": [
            "100%|██████████| 391/391 [00:05<00:00, 66.08it/s]\n"
          ]
        },
        {
          "output_type": "stream",
          "name": "stdout",
          "text": [
            "Performace at epoch 57\n",
            "Train Loss: 0.20364 ; Train Acc: 0.94968\n",
            "Test Loss: 1.45558 ; Test Acc: 0.61562\n",
            "==============\n"
          ]
        },
        {
          "output_type": "stream",
          "name": "stderr",
          "text": [
            "100%|██████████| 391/391 [00:05<00:00, 66.63it/s]\n"
          ]
        },
        {
          "output_type": "stream",
          "name": "stdout",
          "text": [
            "Performace at epoch 58\n",
            "Train Loss: 0.18137 ; Train Acc: 0.95760\n",
            "Test Loss: 1.43905 ; Test Acc: 0.61351\n",
            "==============\n"
          ]
        },
        {
          "output_type": "stream",
          "name": "stderr",
          "text": [
            "100%|██████████| 391/391 [00:05<00:00, 66.84it/s]\n"
          ]
        },
        {
          "output_type": "stream",
          "name": "stdout",
          "text": [
            "Performace at epoch 59\n",
            "Train Loss: 0.15893 ; Train Acc: 0.96552\n",
            "Test Loss: 1.47264 ; Test Acc: 0.60871\n",
            "==============\n"
          ]
        },
        {
          "output_type": "stream",
          "name": "stderr",
          "text": [
            "100%|██████████| 391/391 [00:05<00:00, 66.76it/s]\n"
          ]
        },
        {
          "output_type": "stream",
          "name": "stdout",
          "text": [
            "Performace at epoch 60\n",
            "Train Loss: 0.13320 ; Train Acc: 0.97492\n",
            "Test Loss: 1.49139 ; Test Acc: 0.61832\n",
            "==============\n"
          ]
        },
        {
          "output_type": "stream",
          "name": "stderr",
          "text": [
            "100%|██████████| 391/391 [00:05<00:00, 66.49it/s]\n"
          ]
        },
        {
          "output_type": "stream",
          "name": "stdout",
          "text": [
            "Performace at epoch 61\n",
            "Train Loss: 0.11874 ; Train Acc: 0.97976\n",
            "Test Loss: 1.52301 ; Test Acc: 0.61892\n",
            "==============\n"
          ]
        },
        {
          "output_type": "stream",
          "name": "stderr",
          "text": [
            "100%|██████████| 391/391 [00:05<00:00, 66.25it/s]\n"
          ]
        },
        {
          "output_type": "stream",
          "name": "stdout",
          "text": [
            "Performace at epoch 62\n",
            "Train Loss: 0.11082 ; Train Acc: 0.98124\n",
            "Test Loss: 1.59414 ; Test Acc: 0.61351\n",
            "==============\n"
          ]
        },
        {
          "output_type": "stream",
          "name": "stderr",
          "text": [
            "100%|██████████| 391/391 [00:05<00:00, 65.76it/s]\n"
          ]
        },
        {
          "output_type": "stream",
          "name": "stdout",
          "text": [
            "Performace at epoch 63\n",
            "Train Loss: 0.09421 ; Train Acc: 0.98612\n",
            "Test Loss: 1.58797 ; Test Acc: 0.62192\n",
            "==============\n"
          ]
        },
        {
          "output_type": "stream",
          "name": "stderr",
          "text": [
            "100%|██████████| 391/391 [00:05<00:00, 65.72it/s]\n"
          ]
        },
        {
          "output_type": "stream",
          "name": "stdout",
          "text": [
            "Performace at epoch 64\n",
            "Train Loss: 0.07927 ; Train Acc: 0.98968\n",
            "Test Loss: 1.61640 ; Test Acc: 0.61802\n",
            "==============\n"
          ]
        },
        {
          "output_type": "stream",
          "name": "stderr",
          "text": [
            "100%|██████████| 391/391 [00:05<00:00, 66.36it/s]\n"
          ]
        },
        {
          "output_type": "stream",
          "name": "stdout",
          "text": [
            "Performace at epoch 65\n",
            "Train Loss: 0.06950 ; Train Acc: 0.99192\n",
            "Test Loss: 1.64555 ; Test Acc: 0.61682\n",
            "==============\n"
          ]
        },
        {
          "output_type": "stream",
          "name": "stderr",
          "text": [
            "100%|██████████| 391/391 [00:05<00:00, 67.12it/s]\n"
          ]
        },
        {
          "output_type": "stream",
          "name": "stdout",
          "text": [
            "Performace at epoch 66\n",
            "Train Loss: 0.06362 ; Train Acc: 0.99364\n",
            "Test Loss: 1.67906 ; Test Acc: 0.61802\n",
            "==============\n"
          ]
        },
        {
          "output_type": "stream",
          "name": "stderr",
          "text": [
            "100%|██████████| 391/391 [00:05<00:00, 67.26it/s]\n"
          ]
        },
        {
          "output_type": "stream",
          "name": "stdout",
          "text": [
            "Performace at epoch 67\n",
            "Train Loss: 0.05656 ; Train Acc: 0.99524\n",
            "Test Loss: 1.68964 ; Test Acc: 0.62372\n",
            "==============\n"
          ]
        },
        {
          "output_type": "stream",
          "name": "stderr",
          "text": [
            "100%|██████████| 391/391 [00:05<00:00, 66.62it/s]\n"
          ]
        },
        {
          "output_type": "stream",
          "name": "stdout",
          "text": [
            "Performace at epoch 68\n",
            "Train Loss: 0.04778 ; Train Acc: 0.99700\n",
            "Test Loss: 1.73498 ; Test Acc: 0.61141\n",
            "==============\n"
          ]
        },
        {
          "output_type": "stream",
          "name": "stderr",
          "text": [
            "100%|██████████| 391/391 [00:05<00:00, 66.12it/s]\n"
          ]
        },
        {
          "output_type": "stream",
          "name": "stdout",
          "text": [
            "Performace at epoch 69\n",
            "Train Loss: 0.04199 ; Train Acc: 0.99760\n",
            "Test Loss: 1.75901 ; Test Acc: 0.61652\n",
            "==============\n"
          ]
        },
        {
          "output_type": "stream",
          "name": "stderr",
          "text": [
            "100%|██████████| 391/391 [00:05<00:00, 65.61it/s]\n"
          ]
        },
        {
          "output_type": "stream",
          "name": "stdout",
          "text": [
            "Performace at epoch 70\n",
            "Train Loss: 0.03934 ; Train Acc: 0.99784\n",
            "Test Loss: 1.78625 ; Test Acc: 0.62583\n",
            "==============\n"
          ]
        },
        {
          "output_type": "stream",
          "name": "stderr",
          "text": [
            "100%|██████████| 391/391 [00:05<00:00, 66.09it/s]\n"
          ]
        },
        {
          "output_type": "stream",
          "name": "stdout",
          "text": [
            "Performace at epoch 71\n",
            "Train Loss: 0.03280 ; Train Acc: 0.99856\n",
            "Test Loss: 1.80743 ; Test Acc: 0.62252\n",
            "==============\n"
          ]
        },
        {
          "output_type": "stream",
          "name": "stderr",
          "text": [
            "100%|██████████| 391/391 [00:05<00:00, 66.06it/s]\n"
          ]
        },
        {
          "output_type": "stream",
          "name": "stdout",
          "text": [
            "Performace at epoch 72\n",
            "Train Loss: 0.02886 ; Train Acc: 0.99860\n",
            "Test Loss: 1.83048 ; Test Acc: 0.61592\n",
            "==============\n"
          ]
        },
        {
          "output_type": "stream",
          "name": "stderr",
          "text": [
            "100%|██████████| 391/391 [00:05<00:00, 66.09it/s]\n"
          ]
        },
        {
          "output_type": "stream",
          "name": "stdout",
          "text": [
            "Performace at epoch 73\n",
            "Train Loss: 0.02741 ; Train Acc: 0.99896\n",
            "Test Loss: 1.85006 ; Test Acc: 0.62342\n",
            "==============\n"
          ]
        },
        {
          "output_type": "stream",
          "name": "stderr",
          "text": [
            "100%|██████████| 391/391 [00:05<00:00, 66.50it/s]\n"
          ]
        },
        {
          "output_type": "stream",
          "name": "stdout",
          "text": [
            "Performace at epoch 74\n",
            "Train Loss: 0.02721 ; Train Acc: 0.99876\n",
            "Test Loss: 1.87229 ; Test Acc: 0.62252\n",
            "==============\n"
          ]
        },
        {
          "output_type": "stream",
          "name": "stderr",
          "text": [
            "100%|██████████| 391/391 [00:05<00:00, 65.72it/s]\n"
          ]
        },
        {
          "output_type": "stream",
          "name": "stdout",
          "text": [
            "Performace at epoch 75\n",
            "Train Loss: 0.02314 ; Train Acc: 0.99928\n",
            "Test Loss: 1.90629 ; Test Acc: 0.62102\n",
            "==============\n"
          ]
        },
        {
          "output_type": "stream",
          "name": "stderr",
          "text": [
            "100%|██████████| 391/391 [00:05<00:00, 66.38it/s]\n"
          ]
        },
        {
          "output_type": "stream",
          "name": "stdout",
          "text": [
            "Performace at epoch 76\n",
            "Train Loss: 0.02023 ; Train Acc: 0.99940\n",
            "Test Loss: 1.94254 ; Test Acc: 0.62192\n",
            "==============\n"
          ]
        },
        {
          "output_type": "stream",
          "name": "stderr",
          "text": [
            "100%|██████████| 391/391 [00:05<00:00, 66.14it/s]\n"
          ]
        },
        {
          "output_type": "stream",
          "name": "stdout",
          "text": [
            "Performace at epoch 77\n",
            "Train Loss: 0.01911 ; Train Acc: 0.99960\n",
            "Test Loss: 1.93341 ; Test Acc: 0.62192\n",
            "==============\n"
          ]
        },
        {
          "output_type": "stream",
          "name": "stderr",
          "text": [
            "100%|██████████| 391/391 [00:05<00:00, 66.57it/s]\n"
          ]
        },
        {
          "output_type": "stream",
          "name": "stdout",
          "text": [
            "Performace at epoch 78\n",
            "Train Loss: 0.01574 ; Train Acc: 0.99976\n",
            "Test Loss: 1.97294 ; Test Acc: 0.62162\n",
            "==============\n"
          ]
        },
        {
          "output_type": "stream",
          "name": "stderr",
          "text": [
            "100%|██████████| 391/391 [00:05<00:00, 66.38it/s]\n"
          ]
        },
        {
          "output_type": "stream",
          "name": "stdout",
          "text": [
            "Performace at epoch 79\n",
            "Train Loss: 0.01520 ; Train Acc: 0.99948\n",
            "Test Loss: 1.97751 ; Test Acc: 0.62252\n",
            "==============\n"
          ]
        },
        {
          "output_type": "stream",
          "name": "stderr",
          "text": [
            "100%|██████████| 391/391 [00:05<00:00, 66.28it/s]\n"
          ]
        },
        {
          "output_type": "stream",
          "name": "stdout",
          "text": [
            "Performace at epoch 80\n",
            "Train Loss: 0.01358 ; Train Acc: 0.99984\n",
            "Test Loss: 1.99601 ; Test Acc: 0.62252\n",
            "==============\n"
          ]
        },
        {
          "output_type": "stream",
          "name": "stderr",
          "text": [
            "100%|██████████| 391/391 [00:05<00:00, 66.08it/s]\n"
          ]
        },
        {
          "output_type": "stream",
          "name": "stdout",
          "text": [
            "Performace at epoch 81\n",
            "Train Loss: 0.01282 ; Train Acc: 0.99984\n",
            "Test Loss: 2.01386 ; Test Acc: 0.62162\n",
            "==============\n"
          ]
        },
        {
          "output_type": "stream",
          "name": "stderr",
          "text": [
            "100%|██████████| 391/391 [00:05<00:00, 66.30it/s]\n"
          ]
        },
        {
          "output_type": "stream",
          "name": "stdout",
          "text": [
            "Performace at epoch 82\n",
            "Train Loss: 0.01186 ; Train Acc: 0.99980\n",
            "Test Loss: 2.00598 ; Test Acc: 0.62312\n",
            "==============\n"
          ]
        },
        {
          "output_type": "stream",
          "name": "stderr",
          "text": [
            "100%|██████████| 391/391 [00:05<00:00, 67.09it/s]\n"
          ]
        },
        {
          "output_type": "stream",
          "name": "stdout",
          "text": [
            "Performace at epoch 83\n",
            "Train Loss: 0.01094 ; Train Acc: 0.99988\n",
            "Test Loss: 2.03594 ; Test Acc: 0.62312\n",
            "==============\n"
          ]
        },
        {
          "output_type": "stream",
          "name": "stderr",
          "text": [
            "100%|██████████| 391/391 [00:05<00:00, 66.42it/s]\n"
          ]
        },
        {
          "output_type": "stream",
          "name": "stdout",
          "text": [
            "Performace at epoch 84\n",
            "Train Loss: 0.01023 ; Train Acc: 0.99988\n",
            "Test Loss: 2.04058 ; Test Acc: 0.62162\n",
            "==============\n"
          ]
        },
        {
          "output_type": "stream",
          "name": "stderr",
          "text": [
            "100%|██████████| 391/391 [00:05<00:00, 66.48it/s]\n"
          ]
        },
        {
          "output_type": "stream",
          "name": "stdout",
          "text": [
            "Performace at epoch 85\n",
            "Train Loss: 0.01044 ; Train Acc: 0.99988\n",
            "Test Loss: 2.06681 ; Test Acc: 0.62492\n",
            "==============\n"
          ]
        },
        {
          "output_type": "stream",
          "name": "stderr",
          "text": [
            "100%|██████████| 391/391 [00:05<00:00, 66.25it/s]\n"
          ]
        },
        {
          "output_type": "stream",
          "name": "stdout",
          "text": [
            "Performace at epoch 86\n",
            "Train Loss: 0.00947 ; Train Acc: 0.99988\n",
            "Test Loss: 2.07938 ; Test Acc: 0.62102\n",
            "==============\n"
          ]
        },
        {
          "output_type": "stream",
          "name": "stderr",
          "text": [
            "100%|██████████| 391/391 [00:05<00:00, 65.32it/s]\n"
          ]
        },
        {
          "output_type": "stream",
          "name": "stdout",
          "text": [
            "Performace at epoch 87\n",
            "Train Loss: 0.00888 ; Train Acc: 0.99996\n",
            "Test Loss: 2.07962 ; Test Acc: 0.62342\n",
            "==============\n"
          ]
        },
        {
          "output_type": "stream",
          "name": "stderr",
          "text": [
            "100%|██████████| 391/391 [00:05<00:00, 65.60it/s]\n"
          ]
        },
        {
          "output_type": "stream",
          "name": "stdout",
          "text": [
            "Performace at epoch 88\n",
            "Train Loss: 0.00857 ; Train Acc: 0.99988\n",
            "Test Loss: 2.09750 ; Test Acc: 0.61982\n",
            "==============\n"
          ]
        },
        {
          "output_type": "stream",
          "name": "stderr",
          "text": [
            "100%|██████████| 391/391 [00:05<00:00, 65.70it/s]\n"
          ]
        },
        {
          "output_type": "stream",
          "name": "stdout",
          "text": [
            "Performace at epoch 89\n",
            "Train Loss: 0.00813 ; Train Acc: 0.99992\n",
            "Test Loss: 2.10536 ; Test Acc: 0.62282\n",
            "==============\n"
          ]
        },
        {
          "output_type": "stream",
          "name": "stderr",
          "text": [
            "100%|██████████| 391/391 [00:05<00:00, 65.81it/s]\n"
          ]
        },
        {
          "output_type": "stream",
          "name": "stdout",
          "text": [
            "Performace at epoch 90\n",
            "Train Loss: 0.00770 ; Train Acc: 0.99996\n",
            "Test Loss: 2.13084 ; Test Acc: 0.62102\n",
            "==============\n"
          ]
        },
        {
          "output_type": "stream",
          "name": "stderr",
          "text": [
            "100%|██████████| 391/391 [00:05<00:00, 65.37it/s]\n"
          ]
        },
        {
          "output_type": "stream",
          "name": "stdout",
          "text": [
            "Performace at epoch 91\n",
            "Train Loss: 0.00723 ; Train Acc: 1.00000\n",
            "Test Loss: 2.14258 ; Test Acc: 0.62072\n",
            "==============\n"
          ]
        },
        {
          "output_type": "stream",
          "name": "stderr",
          "text": [
            "100%|██████████| 391/391 [00:06<00:00, 64.90it/s]\n"
          ]
        },
        {
          "output_type": "stream",
          "name": "stdout",
          "text": [
            "Performace at epoch 92\n",
            "Train Loss: 0.00702 ; Train Acc: 0.99988\n",
            "Test Loss: 2.15701 ; Test Acc: 0.62252\n",
            "==============\n"
          ]
        },
        {
          "output_type": "stream",
          "name": "stderr",
          "text": [
            "100%|██████████| 391/391 [00:06<00:00, 65.04it/s]\n"
          ]
        },
        {
          "output_type": "stream",
          "name": "stdout",
          "text": [
            "Performace at epoch 93\n",
            "Train Loss: 0.00659 ; Train Acc: 0.99996\n",
            "Test Loss: 2.15011 ; Test Acc: 0.62432\n",
            "==============\n"
          ]
        },
        {
          "output_type": "stream",
          "name": "stderr",
          "text": [
            "100%|██████████| 391/391 [00:06<00:00, 65.00it/s]\n"
          ]
        },
        {
          "output_type": "stream",
          "name": "stdout",
          "text": [
            "Performace at epoch 94\n",
            "Train Loss: 0.00632 ; Train Acc: 0.99996\n",
            "Test Loss: 2.16115 ; Test Acc: 0.62342\n",
            "==============\n"
          ]
        },
        {
          "output_type": "stream",
          "name": "stderr",
          "text": [
            "100%|██████████| 391/391 [00:05<00:00, 65.52it/s]\n"
          ]
        },
        {
          "output_type": "stream",
          "name": "stdout",
          "text": [
            "Performace at epoch 95\n",
            "Train Loss: 0.00599 ; Train Acc: 0.99996\n",
            "Test Loss: 2.16495 ; Test Acc: 0.62342\n",
            "==============\n"
          ]
        },
        {
          "output_type": "stream",
          "name": "stderr",
          "text": [
            "100%|██████████| 391/391 [00:05<00:00, 66.73it/s]\n"
          ]
        },
        {
          "output_type": "stream",
          "name": "stdout",
          "text": [
            "Performace at epoch 96\n",
            "Train Loss: 0.00593 ; Train Acc: 1.00000\n",
            "Test Loss: 2.18063 ; Test Acc: 0.62523\n",
            "==============\n"
          ]
        },
        {
          "output_type": "stream",
          "name": "stderr",
          "text": [
            "100%|██████████| 391/391 [00:06<00:00, 64.68it/s]\n"
          ]
        },
        {
          "output_type": "stream",
          "name": "stdout",
          "text": [
            "Performace at epoch 97\n",
            "Train Loss: 0.00560 ; Train Acc: 0.99992\n",
            "Test Loss: 2.19803 ; Test Acc: 0.62342\n",
            "==============\n"
          ]
        },
        {
          "output_type": "stream",
          "name": "stderr",
          "text": [
            "100%|██████████| 391/391 [00:06<00:00, 62.59it/s]\n"
          ]
        },
        {
          "output_type": "stream",
          "name": "stdout",
          "text": [
            "Performace at epoch 98\n",
            "Train Loss: 0.00536 ; Train Acc: 1.00000\n",
            "Test Loss: 2.20077 ; Test Acc: 0.62432\n",
            "==============\n"
          ]
        },
        {
          "output_type": "stream",
          "name": "stderr",
          "text": [
            "100%|██████████| 391/391 [00:05<00:00, 65.17it/s]\n"
          ]
        },
        {
          "output_type": "stream",
          "name": "stdout",
          "text": [
            "Performace at epoch 99\n",
            "Train Loss: 0.00516 ; Train Acc: 1.00000\n",
            "Test Loss: 2.20935 ; Test Acc: 0.61742\n",
            "==============\n"
          ]
        },
        {
          "output_type": "stream",
          "name": "stderr",
          "text": [
            "100%|██████████| 391/391 [00:06<00:00, 64.49it/s]\n"
          ]
        },
        {
          "output_type": "stream",
          "name": "stdout",
          "text": [
            "Performace at epoch 100\n",
            "Train Loss: 0.00507 ; Train Acc: 0.99996\n",
            "Test Loss: 2.21832 ; Test Acc: 0.61922\n",
            "==============\n"
          ]
        }
      ]
    },
    {
      "cell_type": "code",
      "source": [
        "# plot loss\n",
        "plt.plot(range(1, len(train_loss) + 1), train_loss, label='train loss')\n",
        "plt.plot(range(1, len(test_loss) + 1), test_loss, label='test loss')\n",
        "plt.xlabel('epochs')\n",
        "plt.ylabel('loss')\n",
        "plt.title('loss vs epochs')\n",
        "plt.legend()\n",
        "plt.show()"
      ],
      "metadata": {
        "colab": {
          "base_uri": "https://localhost:8080/",
          "height": 295
        },
        "id": "W-fYJaalM5zC",
        "outputId": "d62b0244-91c3-4a41-a0ac-05f13d1382c6"
      },
      "execution_count": null,
      "outputs": [
        {
          "output_type": "display_data",
          "data": {
            "image/png": "[encoded data removed]",
            "text/plain": [
              "<Figure size 432x288 with 1 Axes>"
            ]
          },
          "metadata": {
            "needs_background": "light"
          }
        }
      ]
    },
    {
      "cell_type": "code",
      "source": [
        "# plot acc\n",
        "plt.plot(range(1, NUM_EPOCHS + 1), train_acc, label='train acc')\n",
        "plt.plot(range(1, NUM_EPOCHS + 1), test_acc, label='test acc')\n",
        "plt.xlabel('epochs')\n",
        "plt.ylabel('acc')\n",
        "plt.title('acc vs epochs')\n",
        "plt.legend()\n",
        "plt.show()"
      ],
      "metadata": {
        "colab": {
          "base_uri": "https://localhost:8080/",
          "height": 295
        },
        "id": "AkuFpoevM6mW",
        "outputId": "9b2db33a-e0f7-4595-f4b4-9a3e720e1d8c"
      },
      "execution_count": null,
      "outputs": [
        {
          "output_type": "display_data",
          "data": {
            "image/png": "[encoded data removed]",
            "text/plain": [
              "<Figure size 432x288 with 1 Axes>"
            ]
          },
          "metadata": {
            "needs_background": "light"
          }
        }
      ]
    }
  ]
}